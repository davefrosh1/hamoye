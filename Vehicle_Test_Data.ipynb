{
 "cells": [
  {
   "cell_type": "code",
   "execution_count": 181,
   "id": "9e1781ae",
   "metadata": {},
   "outputs": [],
   "source": [
    "import pandas as pd\n",
    "import seaborn as sns"
   ]
  },
  {
   "cell_type": "code",
   "execution_count": 73,
   "id": "6082c7fe",
   "metadata": {},
   "outputs": [],
   "source": [
    "test=pd.read_csv('tevhe.csv')"
   ]
  },
  {
   "cell_type": "code",
   "execution_count": 74,
   "id": "5f66d3bb",
   "metadata": {},
   "outputs": [],
   "source": [
    "te_st=pd.to_datetime(test['Policy Start Date'])\n",
    "te_end=pd.to_datetime(test['Policy End Date'])"
   ]
  },
  {
   "cell_type": "code",
   "execution_count": 75,
   "id": "6006dc5b",
   "metadata": {},
   "outputs": [],
   "source": [
    "test['Pol_start']= te_st.dt.year\n",
    "test['Pol_end']= te_end.dt.year"
   ]
  },
  {
   "cell_type": "code",
   "execution_count": 76,
   "id": "59e26dd0",
   "metadata": {},
   "outputs": [],
   "source": [
    "Sub_time=te_end-te_st\n",
    "test['Sub-time']=Sub_time"
   ]
  },
  {
   "cell_type": "code",
   "execution_count": 77,
   "id": "47158cf8",
   "metadata": {},
   "outputs": [],
   "source": [
    "X_test=test.drop(['Policy Start Date','Policy End Date','First Transaction Date','ID'],axis=1)"
   ]
  },
  {
   "cell_type": "code",
   "execution_count": 78,
   "id": "6882340c",
   "metadata": {},
   "outputs": [
    {
     "data": {
      "text/html": [
       "<div>\n",
       "<style scoped>\n",
       "    .dataframe tbody tr th:only-of-type {\n",
       "        vertical-align: middle;\n",
       "    }\n",
       "\n",
       "    .dataframe tbody tr th {\n",
       "        vertical-align: top;\n",
       "    }\n",
       "\n",
       "    .dataframe thead th {\n",
       "        text-align: right;\n",
       "    }\n",
       "</style>\n",
       "<table border=\"1\" class=\"dataframe\">\n",
       "  <thead>\n",
       "    <tr style=\"text-align: right;\">\n",
       "      <th></th>\n",
       "      <th>Gender</th>\n",
       "      <th>Age</th>\n",
       "      <th>No_Pol</th>\n",
       "      <th>Car_Category</th>\n",
       "      <th>Subject_Car_Colour</th>\n",
       "      <th>Subject_Car_Make</th>\n",
       "      <th>LGA_Name</th>\n",
       "      <th>State</th>\n",
       "      <th>ProductName</th>\n",
       "      <th>Pol_start</th>\n",
       "      <th>Pol_end</th>\n",
       "      <th>Sub-time</th>\n",
       "    </tr>\n",
       "  </thead>\n",
       "  <tbody>\n",
       "    <tr>\n",
       "      <th>0</th>\n",
       "      <td>Female</td>\n",
       "      <td>46</td>\n",
       "      <td>1</td>\n",
       "      <td>NaN</td>\n",
       "      <td>NaN</td>\n",
       "      <td>Ford</td>\n",
       "      <td>Abuja Municipal</td>\n",
       "      <td>Abuja-Municipal</td>\n",
       "      <td>Car Classic</td>\n",
       "      <td>2010</td>\n",
       "      <td>2011</td>\n",
       "      <td>364 days</td>\n",
       "    </tr>\n",
       "    <tr>\n",
       "      <th>1</th>\n",
       "      <td>Male</td>\n",
       "      <td>32</td>\n",
       "      <td>1</td>\n",
       "      <td>NaN</td>\n",
       "      <td>NaN</td>\n",
       "      <td>NaN</td>\n",
       "      <td>Kosofe</td>\n",
       "      <td>Benue</td>\n",
       "      <td>Car Classic</td>\n",
       "      <td>2010</td>\n",
       "      <td>2011</td>\n",
       "      <td>364 days</td>\n",
       "    </tr>\n",
       "    <tr>\n",
       "      <th>2</th>\n",
       "      <td>Female</td>\n",
       "      <td>45</td>\n",
       "      <td>2</td>\n",
       "      <td>Saloon</td>\n",
       "      <td>Black</td>\n",
       "      <td>Honda</td>\n",
       "      <td>Wuse 11</td>\n",
       "      <td>Abuja</td>\n",
       "      <td>Car Classic</td>\n",
       "      <td>2010</td>\n",
       "      <td>2011</td>\n",
       "      <td>364 days</td>\n",
       "    </tr>\n",
       "    <tr>\n",
       "      <th>3</th>\n",
       "      <td>Female</td>\n",
       "      <td>58</td>\n",
       "      <td>1</td>\n",
       "      <td>Saloon</td>\n",
       "      <td>NaN</td>\n",
       "      <td>TOYOTA</td>\n",
       "      <td>NaN</td>\n",
       "      <td>NaN</td>\n",
       "      <td>CarSafe</td>\n",
       "      <td>2010</td>\n",
       "      <td>2011</td>\n",
       "      <td>364 days</td>\n",
       "    </tr>\n",
       "    <tr>\n",
       "      <th>4</th>\n",
       "      <td>NaN</td>\n",
       "      <td>120</td>\n",
       "      <td>1</td>\n",
       "      <td>Saloon</td>\n",
       "      <td>Red</td>\n",
       "      <td>Hyundai</td>\n",
       "      <td>Victoria Island</td>\n",
       "      <td>Lagos</td>\n",
       "      <td>Car Classic</td>\n",
       "      <td>2010</td>\n",
       "      <td>2011</td>\n",
       "      <td>364 days</td>\n",
       "    </tr>\n",
       "  </tbody>\n",
       "</table>\n",
       "</div>"
      ],
      "text/plain": [
       "   Gender  Age  No_Pol Car_Category Subject_Car_Colour Subject_Car_Make  \\\n",
       "0  Female   46       1          NaN                NaN             Ford   \n",
       "1    Male   32       1          NaN                NaN              NaN   \n",
       "2  Female   45       2       Saloon              Black            Honda   \n",
       "3  Female   58       1       Saloon                NaN           TOYOTA   \n",
       "4     NaN  120       1       Saloon                Red          Hyundai   \n",
       "\n",
       "          LGA_Name            State  ProductName  Pol_start  Pol_end Sub-time  \n",
       "0  Abuja Municipal  Abuja-Municipal  Car Classic       2010     2011 364 days  \n",
       "1           Kosofe            Benue  Car Classic       2010     2011 364 days  \n",
       "2          Wuse 11            Abuja  Car Classic       2010     2011 364 days  \n",
       "3              NaN              NaN      CarSafe       2010     2011 364 days  \n",
       "4  Victoria Island            Lagos  Car Classic       2010     2011 364 days  "
      ]
     },
     "execution_count": 78,
     "metadata": {},
     "output_type": "execute_result"
    }
   ],
   "source": [
    "X_test.head()"
   ]
  },
  {
   "cell_type": "code",
   "execution_count": 79,
   "id": "e299c302",
   "metadata": {},
   "outputs": [
    {
     "data": {
      "text/plain": [
       "Gender                 41\n",
       "Age                     0\n",
       "No_Pol                  0\n",
       "Car_Category          372\n",
       "Subject_Car_Colour    697\n",
       "Subject_Car_Make      248\n",
       "LGA_Name              656\n",
       "State                 656\n",
       "ProductName             0\n",
       "Pol_start               0\n",
       "Pol_end                 0\n",
       "Sub-time                0\n",
       "dtype: int64"
      ]
     },
     "execution_count": 79,
     "metadata": {},
     "output_type": "execute_result"
    }
   ],
   "source": [
    "X_test.isnull().sum()"
   ]
  },
  {
   "cell_type": "code",
   "execution_count": 80,
   "id": "9a2016e8",
   "metadata": {},
   "outputs": [
    {
     "name": "stdout",
     "output_type": "stream",
     "text": [
      "<class 'pandas.core.frame.DataFrame'>\n",
      "RangeIndex: 1202 entries, 0 to 1201\n",
      "Data columns (total 12 columns):\n",
      " #   Column              Non-Null Count  Dtype          \n",
      "---  ------              --------------  -----          \n",
      " 0   Gender              1161 non-null   object         \n",
      " 1   Age                 1202 non-null   int64          \n",
      " 2   No_Pol              1202 non-null   int64          \n",
      " 3   Car_Category        830 non-null    object         \n",
      " 4   Subject_Car_Colour  505 non-null    object         \n",
      " 5   Subject_Car_Make    954 non-null    object         \n",
      " 6   LGA_Name            546 non-null    object         \n",
      " 7   State               546 non-null    object         \n",
      " 8   ProductName         1202 non-null   object         \n",
      " 9   Pol_start           1202 non-null   int64          \n",
      " 10  Pol_end             1202 non-null   int64          \n",
      " 11  Sub-time            1202 non-null   timedelta64[ns]\n",
      "dtypes: int64(4), object(7), timedelta64[ns](1)\n",
      "memory usage: 112.8+ KB\n"
     ]
    }
   ],
   "source": [
    "X_test.info()"
   ]
  },
  {
   "cell_type": "code",
   "execution_count": 81,
   "id": "e00953ca",
   "metadata": {},
   "outputs": [],
   "source": [
    "from feature_engine import imputation"
   ]
  },
  {
   "cell_type": "code",
   "execution_count": 82,
   "id": "0b231d6d",
   "metadata": {},
   "outputs": [],
   "source": [
    "mdi=imputation.CategoricalImputer(imputation_method='frequent',variables='Gender')"
   ]
  },
  {
   "cell_type": "code",
   "execution_count": 83,
   "id": "888ceaf2",
   "metadata": {},
   "outputs": [],
   "source": [
    "X_test=mdi.fit_transform(X_test)"
   ]
  },
  {
   "cell_type": "markdown",
   "id": "14dafa9f",
   "metadata": {},
   "source": [
    "### MISSING DATA FOR CAR CATEGORY"
   ]
  },
  {
   "cell_type": "code",
   "execution_count": 84,
   "id": "6ec81e87",
   "metadata": {},
   "outputs": [
    {
     "data": {
      "text/plain": [
       "372"
      ]
     },
     "execution_count": 84,
     "metadata": {},
     "output_type": "execute_result"
    }
   ],
   "source": [
    "X_test['Car_Category'].isnull().sum()"
   ]
  },
  {
   "cell_type": "code",
   "execution_count": 85,
   "id": "71271bcb",
   "metadata": {},
   "outputs": [
    {
     "data": {
      "text/plain": [
       "Saloon              599\n",
       "JEEP                202\n",
       "Truck                11\n",
       "Mini Bus              9\n",
       "Bus                   2\n",
       "Sedan                 2\n",
       "Pick Up               2\n",
       "Motorcycle            1\n",
       "Pick Up > 3 Tons      1\n",
       "Station 4 Wheel       1\n",
       "Name: Car_Category, dtype: int64"
      ]
     },
     "execution_count": 85,
     "metadata": {},
     "output_type": "execute_result"
    }
   ],
   "source": [
    "X_test['Car_Category'].value_counts()"
   ]
  },
  {
   "cell_type": "code",
   "execution_count": 86,
   "id": "e7763cde",
   "metadata": {},
   "outputs": [],
   "source": [
    "mdi2=imputation.CategoricalImputer(imputation_method='missing',variables='Car_Category')"
   ]
  },
  {
   "cell_type": "code",
   "execution_count": 87,
   "id": "5a1c6861",
   "metadata": {},
   "outputs": [],
   "source": [
    "X_test=mdi2.fit_transform(X_test)"
   ]
  },
  {
   "cell_type": "markdown",
   "id": "d070d257",
   "metadata": {},
   "source": [
    "## MISSING DATA FOR CAR COLOUR"
   ]
  },
  {
   "cell_type": "code",
   "execution_count": 88,
   "id": "b0d7c58a",
   "metadata": {},
   "outputs": [
    {
     "data": {
      "text/plain": [
       "0.5798668885191348"
      ]
     },
     "execution_count": 88,
     "metadata": {},
     "output_type": "execute_result"
    }
   ],
   "source": [
    "X_test['Subject_Car_Colour'].isnull().mean()"
   ]
  },
  {
   "cell_type": "code",
   "execution_count": 89,
   "id": "3159d922",
   "metadata": {},
   "outputs": [
    {
     "data": {
      "text/plain": [
       "697"
      ]
     },
     "execution_count": 89,
     "metadata": {},
     "output_type": "execute_result"
    }
   ],
   "source": [
    "X_test['Subject_Car_Colour'].isnull().sum()"
   ]
  },
  {
   "cell_type": "code",
   "execution_count": 90,
   "id": "0c8b3d79",
   "metadata": {},
   "outputs": [],
   "source": [
    "mdi3=imputation.CategoricalImputer(imputation_method='missing',variables='Subject_Car_Colour')"
   ]
  },
  {
   "cell_type": "code",
   "execution_count": 91,
   "id": "1ee47212",
   "metadata": {},
   "outputs": [],
   "source": [
    "X_test=mdi3.fit_transform(X_test)"
   ]
  },
  {
   "cell_type": "markdown",
   "id": "1f794e53",
   "metadata": {},
   "source": [
    "## MISSING DATA FOR CAR MAKE"
   ]
  },
  {
   "cell_type": "code",
   "execution_count": 92,
   "id": "5cfa83a3",
   "metadata": {},
   "outputs": [
    {
     "data": {
      "text/plain": [
       "0.20632279534109818"
      ]
     },
     "execution_count": 92,
     "metadata": {},
     "output_type": "execute_result"
    }
   ],
   "source": [
    "X_test['Subject_Car_Make'].isnull().mean()"
   ]
  },
  {
   "cell_type": "code",
   "execution_count": 93,
   "id": "3fdb4e9d",
   "metadata": {},
   "outputs": [
    {
     "data": {
      "text/plain": [
       "248"
      ]
     },
     "execution_count": 93,
     "metadata": {},
     "output_type": "execute_result"
    }
   ],
   "source": [
    "X_test['Subject_Car_Make'].isnull().sum()"
   ]
  },
  {
   "cell_type": "code",
   "execution_count": 94,
   "id": "6347abcb",
   "metadata": {},
   "outputs": [
    {
     "data": {
      "text/plain": [
       "TOYOTA         491\n",
       "Honda          103\n",
       "Mercedes        56\n",
       "Hyundai         55\n",
       "Lexus           50\n",
       "Kia             34\n",
       "Nissan          26\n",
       "Ford            24\n",
       "Mitsubishi      12\n",
       "Range Rover     12\n",
       "Volkswagen      11\n",
       "Land Rover       9\n",
       "Iveco            9\n",
       "Volvo            6\n",
       "BMW              5\n",
       "Pontiac          5\n",
       "ACURA            4\n",
       "Peugeot          4\n",
       "Audi             3\n",
       "Chevrolet        3\n",
       "As Attached      3\n",
       ".                3\n",
       "Porsche          3\n",
       "Infiniti         3\n",
       "Mack             3\n",
       "Mazda            2\n",
       "Renault          2\n",
       "Subaru           2\n",
       "LIBERTY          2\n",
       "MINI COOPER      2\n",
       "GMC              1\n",
       "Suzuki           1\n",
       "Dodge            1\n",
       "Skoda            1\n",
       "DAF              1\n",
       "Opel             1\n",
       "Datsun           1\n",
       "Name: Subject_Car_Make, dtype: int64"
      ]
     },
     "execution_count": 94,
     "metadata": {},
     "output_type": "execute_result"
    }
   ],
   "source": [
    "X_test['Subject_Car_Make'].value_counts()"
   ]
  },
  {
   "cell_type": "code",
   "execution_count": 95,
   "id": "9d9c78bc",
   "metadata": {},
   "outputs": [],
   "source": [
    "mdi4=imputation.CategoricalImputer(imputation_method='missing',variables='Subject_Car_Make')\n",
    "X_test=mdi4.fit_transform(X_test)"
   ]
  },
  {
   "cell_type": "markdown",
   "id": "349b4c95",
   "metadata": {},
   "source": [
    "## MISSING DATA FOR LGA NAME"
   ]
  },
  {
   "cell_type": "code",
   "execution_count": 96,
   "id": "2d0b3d07",
   "metadata": {},
   "outputs": [
    {
     "data": {
      "text/plain": [
       "0.5457570715474209"
      ]
     },
     "execution_count": 96,
     "metadata": {},
     "output_type": "execute_result"
    }
   ],
   "source": [
    "X_test['LGA_Name'].isnull().mean()"
   ]
  },
  {
   "cell_type": "code",
   "execution_count": 97,
   "id": "d9472a8e",
   "metadata": {},
   "outputs": [
    {
     "data": {
      "text/plain": [
       "656"
      ]
     },
     "execution_count": 97,
     "metadata": {},
     "output_type": "execute_result"
    }
   ],
   "source": [
    "X_test['LGA_Name'].isnull().sum()"
   ]
  },
  {
   "cell_type": "code",
   "execution_count": 98,
   "id": "73fd010e",
   "metadata": {},
   "outputs": [
    {
     "data": {
      "text/plain": [
       "Victoria Island    122\n",
       "Ikeja               37\n",
       "Abuja Municipal     25\n",
       "Eti-Osa             24\n",
       "Lagos Mainland      23\n",
       "                  ... \n",
       "Jos North            1\n",
       "Oshodi               1\n",
       "Biase                1\n",
       "ENUGU EAST           1\n",
       "Egbeda               1\n",
       "Name: LGA_Name, Length: 115, dtype: int64"
      ]
     },
     "execution_count": 98,
     "metadata": {},
     "output_type": "execute_result"
    }
   ],
   "source": [
    "X_test['LGA_Name'].value_counts()"
   ]
  },
  {
   "cell_type": "code",
   "execution_count": 99,
   "id": "ae903aa5",
   "metadata": {},
   "outputs": [],
   "source": [
    "mdi5=imputation.CategoricalImputer(imputation_method='missing',variables='LGA_Name')\n",
    "X_test=mdi5.fit_transform(X_test)"
   ]
  },
  {
   "cell_type": "markdown",
   "id": "9ac39e38",
   "metadata": {},
   "source": [
    "## MISSING DATA FOR STATE"
   ]
  },
  {
   "cell_type": "code",
   "execution_count": 100,
   "id": "8bd71bc7",
   "metadata": {},
   "outputs": [
    {
     "data": {
      "text/plain": [
       "0.5457570715474209"
      ]
     },
     "execution_count": 100,
     "metadata": {},
     "output_type": "execute_result"
    }
   ],
   "source": [
    "X_test['State'].isnull().mean()"
   ]
  },
  {
   "cell_type": "code",
   "execution_count": 101,
   "id": "6c0b4a2e",
   "metadata": {},
   "outputs": [],
   "source": [
    "mdi6=imputation.CategoricalImputer(imputation_method='missing',variables='State')\n",
    "X_test=mdi6.fit_transform(X_test)"
   ]
  },
  {
   "cell_type": "code",
   "execution_count": 102,
   "id": "2d9d0832",
   "metadata": {},
   "outputs": [
    {
     "data": {
      "text/plain": [
       "Gender                0\n",
       "Age                   0\n",
       "No_Pol                0\n",
       "Car_Category          0\n",
       "Subject_Car_Colour    0\n",
       "Subject_Car_Make      0\n",
       "LGA_Name              0\n",
       "State                 0\n",
       "ProductName           0\n",
       "Pol_start             0\n",
       "Pol_end               0\n",
       "Sub-time              0\n",
       "dtype: int64"
      ]
     },
     "execution_count": 102,
     "metadata": {},
     "output_type": "execute_result"
    }
   ],
   "source": [
    "X_test.isnull().sum()"
   ]
  },
  {
   "cell_type": "code",
   "execution_count": 103,
   "id": "e808cde3",
   "metadata": {},
   "outputs": [],
   "source": [
    "X_test['Sub-time']=pd.to_numeric(X_test['Sub-time'].dt.days, downcast='integer')"
   ]
  },
  {
   "cell_type": "code",
   "execution_count": 104,
   "id": "04dbadd5",
   "metadata": {},
   "outputs": [
    {
     "data": {
      "text/html": [
       "<div>\n",
       "<style scoped>\n",
       "    .dataframe tbody tr th:only-of-type {\n",
       "        vertical-align: middle;\n",
       "    }\n",
       "\n",
       "    .dataframe tbody tr th {\n",
       "        vertical-align: top;\n",
       "    }\n",
       "\n",
       "    .dataframe thead th {\n",
       "        text-align: right;\n",
       "    }\n",
       "</style>\n",
       "<table border=\"1\" class=\"dataframe\">\n",
       "  <thead>\n",
       "    <tr style=\"text-align: right;\">\n",
       "      <th></th>\n",
       "      <th>Gender</th>\n",
       "      <th>Age</th>\n",
       "      <th>No_Pol</th>\n",
       "      <th>Car_Category</th>\n",
       "      <th>Subject_Car_Colour</th>\n",
       "      <th>Subject_Car_Make</th>\n",
       "      <th>LGA_Name</th>\n",
       "      <th>State</th>\n",
       "      <th>ProductName</th>\n",
       "      <th>Pol_start</th>\n",
       "      <th>Pol_end</th>\n",
       "      <th>Sub-time</th>\n",
       "    </tr>\n",
       "  </thead>\n",
       "  <tbody>\n",
       "    <tr>\n",
       "      <th>0</th>\n",
       "      <td>Female</td>\n",
       "      <td>46</td>\n",
       "      <td>1</td>\n",
       "      <td>Missing</td>\n",
       "      <td>Missing</td>\n",
       "      <td>Ford</td>\n",
       "      <td>Abuja Municipal</td>\n",
       "      <td>Abuja-Municipal</td>\n",
       "      <td>Car Classic</td>\n",
       "      <td>2010</td>\n",
       "      <td>2011</td>\n",
       "      <td>364</td>\n",
       "    </tr>\n",
       "    <tr>\n",
       "      <th>1</th>\n",
       "      <td>Male</td>\n",
       "      <td>32</td>\n",
       "      <td>1</td>\n",
       "      <td>Missing</td>\n",
       "      <td>Missing</td>\n",
       "      <td>Missing</td>\n",
       "      <td>Kosofe</td>\n",
       "      <td>Benue</td>\n",
       "      <td>Car Classic</td>\n",
       "      <td>2010</td>\n",
       "      <td>2011</td>\n",
       "      <td>364</td>\n",
       "    </tr>\n",
       "    <tr>\n",
       "      <th>2</th>\n",
       "      <td>Female</td>\n",
       "      <td>45</td>\n",
       "      <td>2</td>\n",
       "      <td>Saloon</td>\n",
       "      <td>Black</td>\n",
       "      <td>Honda</td>\n",
       "      <td>Wuse 11</td>\n",
       "      <td>Abuja</td>\n",
       "      <td>Car Classic</td>\n",
       "      <td>2010</td>\n",
       "      <td>2011</td>\n",
       "      <td>364</td>\n",
       "    </tr>\n",
       "    <tr>\n",
       "      <th>3</th>\n",
       "      <td>Female</td>\n",
       "      <td>58</td>\n",
       "      <td>1</td>\n",
       "      <td>Saloon</td>\n",
       "      <td>Missing</td>\n",
       "      <td>TOYOTA</td>\n",
       "      <td>Missing</td>\n",
       "      <td>Missing</td>\n",
       "      <td>CarSafe</td>\n",
       "      <td>2010</td>\n",
       "      <td>2011</td>\n",
       "      <td>364</td>\n",
       "    </tr>\n",
       "    <tr>\n",
       "      <th>4</th>\n",
       "      <td>Male</td>\n",
       "      <td>120</td>\n",
       "      <td>1</td>\n",
       "      <td>Saloon</td>\n",
       "      <td>Red</td>\n",
       "      <td>Hyundai</td>\n",
       "      <td>Victoria Island</td>\n",
       "      <td>Lagos</td>\n",
       "      <td>Car Classic</td>\n",
       "      <td>2010</td>\n",
       "      <td>2011</td>\n",
       "      <td>364</td>\n",
       "    </tr>\n",
       "  </tbody>\n",
       "</table>\n",
       "</div>"
      ],
      "text/plain": [
       "   Gender  Age  No_Pol Car_Category Subject_Car_Colour Subject_Car_Make  \\\n",
       "0  Female   46       1      Missing            Missing             Ford   \n",
       "1    Male   32       1      Missing            Missing          Missing   \n",
       "2  Female   45       2       Saloon              Black            Honda   \n",
       "3  Female   58       1       Saloon            Missing           TOYOTA   \n",
       "4    Male  120       1       Saloon                Red          Hyundai   \n",
       "\n",
       "          LGA_Name            State  ProductName  Pol_start  Pol_end  Sub-time  \n",
       "0  Abuja Municipal  Abuja-Municipal  Car Classic       2010     2011       364  \n",
       "1           Kosofe            Benue  Car Classic       2010     2011       364  \n",
       "2          Wuse 11            Abuja  Car Classic       2010     2011       364  \n",
       "3          Missing          Missing      CarSafe       2010     2011       364  \n",
       "4  Victoria Island            Lagos  Car Classic       2010     2011       364  "
      ]
     },
     "execution_count": 104,
     "metadata": {},
     "output_type": "execute_result"
    }
   ],
   "source": [
    "X_test.head()"
   ]
  },
  {
   "cell_type": "markdown",
   "id": "65f451f3",
   "metadata": {},
   "source": [
    "## Feature Enginnering"
   ]
  },
  {
   "cell_type": "markdown",
   "id": "298d14cd",
   "metadata": {},
   "source": [
    "# Feature engine for Gender column"
   ]
  },
  {
   "cell_type": "code",
   "execution_count": 105,
   "id": "14928645",
   "metadata": {},
   "outputs": [
    {
     "data": {
      "text/plain": [
       "Male            780\n",
       "Female          352\n",
       "Entity           23\n",
       "Joint Gender     15\n",
       "NOT STATED       15\n",
       "NO GENDER        10\n",
       "SEX               7\n",
       "Name: Gender, dtype: int64"
      ]
     },
     "execution_count": 105,
     "metadata": {},
     "output_type": "execute_result"
    }
   ],
   "source": [
    "X_test['Gender'].value_counts()"
   ]
  },
  {
   "cell_type": "code",
   "execution_count": 106,
   "id": "999bde02",
   "metadata": {},
   "outputs": [
    {
     "data": {
      "text/plain": [
       "Male            0.648918\n",
       "Female          0.292845\n",
       "Entity          0.019135\n",
       "Joint Gender    0.012479\n",
       "NOT STATED      0.012479\n",
       "NO GENDER       0.008319\n",
       "SEX             0.005824\n",
       "Name: Gender, dtype: float64"
      ]
     },
     "execution_count": 106,
     "metadata": {},
     "output_type": "execute_result"
    }
   ],
   "source": [
    "X_test['Gender'].value_counts()/len(X_test)"
   ]
  },
  {
   "cell_type": "code",
   "execution_count": 107,
   "id": "b82b3d29",
   "metadata": {},
   "outputs": [],
   "source": [
    "from feature_engine.encoding import RareLabelEncoder"
   ]
  },
  {
   "cell_type": "code",
   "execution_count": 108,
   "id": "bc7e64ec",
   "metadata": {},
   "outputs": [],
   "source": [
    "rare_enc1=RareLabelEncoder(tol=0.05,n_categories=4,variables=['Gender'])"
   ]
  },
  {
   "cell_type": "code",
   "execution_count": 109,
   "id": "b169732b",
   "metadata": {},
   "outputs": [],
   "source": [
    "X_test=rare_enc1.fit_transform(X_test)"
   ]
  },
  {
   "cell_type": "code",
   "execution_count": 110,
   "id": "e27e977e",
   "metadata": {},
   "outputs": [
    {
     "data": {
      "text/plain": [
       "Male      780\n",
       "Female    352\n",
       "Rare       70\n",
       "Name: Gender, dtype: int64"
      ]
     },
     "execution_count": 110,
     "metadata": {},
     "output_type": "execute_result"
    }
   ],
   "source": [
    "X_test['Gender'].value_counts()"
   ]
  },
  {
   "cell_type": "code",
   "execution_count": 111,
   "id": "c92fc813",
   "metadata": {},
   "outputs": [],
   "source": [
    "from feature_engine.encoding import OneHotEncoder"
   ]
  },
  {
   "cell_type": "code",
   "execution_count": 112,
   "id": "981bdd76",
   "metadata": {},
   "outputs": [],
   "source": [
    "ohe1=OneHotEncoder(top_categories=4,variables=['Gender'],drop_last=False)\n",
    "X_test=ohe1.fit_transform(X_test)"
   ]
  },
  {
   "cell_type": "markdown",
   "id": "d62b89ee",
   "metadata": {},
   "source": [
    "## Feature Eng for No Pol"
   ]
  },
  {
   "cell_type": "code",
   "execution_count": 113,
   "id": "e4934684",
   "metadata": {},
   "outputs": [
    {
     "data": {
      "text/plain": [
       "1    0.808652\n",
       "2    0.139767\n",
       "3    0.042429\n",
       "4    0.006656\n",
       "7    0.001664\n",
       "5    0.000832\n",
       "Name: No_Pol, dtype: float64"
      ]
     },
     "execution_count": 113,
     "metadata": {},
     "output_type": "execute_result"
    }
   ],
   "source": [
    "X_test['No_Pol'].value_counts()/len(X_test)"
   ]
  },
  {
   "cell_type": "code",
   "execution_count": 114,
   "id": "3e640c8c",
   "metadata": {},
   "outputs": [],
   "source": [
    "X_test['No_Pol']=X_test['No_Pol'].map({1:1,2:2,3:3,4:3,5:3,7:3})"
   ]
  },
  {
   "cell_type": "code",
   "execution_count": 115,
   "id": "5a158863",
   "metadata": {},
   "outputs": [
    {
     "data": {
      "text/plain": [
       "1    972\n",
       "2    168\n",
       "3     62\n",
       "Name: No_Pol, dtype: int64"
      ]
     },
     "execution_count": 115,
     "metadata": {},
     "output_type": "execute_result"
    }
   ],
   "source": [
    "X_test['No_Pol'].value_counts()"
   ]
  },
  {
   "cell_type": "markdown",
   "id": "09de37c1",
   "metadata": {},
   "source": [
    "# Car_Cate Feature eng"
   ]
  },
  {
   "cell_type": "code",
   "execution_count": 116,
   "id": "1666929d",
   "metadata": {},
   "outputs": [
    {
     "data": {
      "text/plain": [
       "Saloon              0.498336\n",
       "Missing             0.309484\n",
       "JEEP                0.168053\n",
       "Truck               0.009151\n",
       "Mini Bus            0.007488\n",
       "Bus                 0.001664\n",
       "Sedan               0.001664\n",
       "Pick Up             0.001664\n",
       "Motorcycle          0.000832\n",
       "Pick Up > 3 Tons    0.000832\n",
       "Station 4 Wheel     0.000832\n",
       "Name: Car_Category, dtype: float64"
      ]
     },
     "execution_count": 116,
     "metadata": {},
     "output_type": "execute_result"
    }
   ],
   "source": [
    "X_test['Car_Category'].value_counts()/len(X_test)"
   ]
  },
  {
   "cell_type": "code",
   "execution_count": 117,
   "id": "322c3249",
   "metadata": {},
   "outputs": [],
   "source": [
    "rare_enc2=RareLabelEncoder(tol=0.05,n_categories=4,variables=['Car_Category'])\n",
    "X_test=rare_enc2.fit_transform(X_test)"
   ]
  },
  {
   "cell_type": "code",
   "execution_count": 118,
   "id": "1f651ed3",
   "metadata": {},
   "outputs": [
    {
     "data": {
      "text/plain": [
       "Saloon     0.498336\n",
       "Missing    0.309484\n",
       "JEEP       0.168053\n",
       "Rare       0.024126\n",
       "Name: Car_Category, dtype: float64"
      ]
     },
     "execution_count": 118,
     "metadata": {},
     "output_type": "execute_result"
    }
   ],
   "source": [
    "X_test.Car_Category.value_counts()/len(X_test)"
   ]
  },
  {
   "cell_type": "code",
   "execution_count": 119,
   "id": "19a93ee7",
   "metadata": {},
   "outputs": [],
   "source": [
    "ohe2=OneHotEncoder(top_categories=4,variables=['Car_Category'],drop_last=False)\n",
    "X_test=ohe2.fit_transform(X_test)"
   ]
  },
  {
   "cell_type": "markdown",
   "id": "b8bb80ab",
   "metadata": {},
   "source": [
    "## Subject Car Col Feat_Eng"
   ]
  },
  {
   "cell_type": "code",
   "execution_count": 120,
   "id": "0dd61123",
   "metadata": {},
   "outputs": [
    {
     "data": {
      "text/plain": [
       "Missing        697\n",
       "Black          177\n",
       "As Attached     57\n",
       "Grey            51\n",
       "Silver          51\n",
       "Blue            37\n",
       "White           28\n",
       "Green           26\n",
       "Red             23\n",
       "Gold            19\n",
       "Wine            12\n",
       "Ash              9\n",
       "Brown            7\n",
       "B.Silver         2\n",
       "Dark Gray        2\n",
       "Cream            2\n",
       "Dark Grey        1\n",
       "Red Maroon       1\n",
       "Name: Subject_Car_Colour, dtype: int64"
      ]
     },
     "execution_count": 120,
     "metadata": {},
     "output_type": "execute_result"
    }
   ],
   "source": [
    "X_test.Subject_Car_Colour.value_counts()"
   ]
  },
  {
   "cell_type": "code",
   "execution_count": 121,
   "id": "76a2de4e",
   "metadata": {},
   "outputs": [
    {
     "data": {
      "text/plain": [
       "Missing        0.579867\n",
       "Black          0.147255\n",
       "As Attached    0.047421\n",
       "Grey           0.042429\n",
       "Silver         0.042429\n",
       "Blue           0.030782\n",
       "White          0.023295\n",
       "Green          0.021631\n",
       "Red            0.019135\n",
       "Gold           0.015807\n",
       "Wine           0.009983\n",
       "Ash            0.007488\n",
       "Brown          0.005824\n",
       "B.Silver       0.001664\n",
       "Dark Gray      0.001664\n",
       "Cream          0.001664\n",
       "Dark Grey      0.000832\n",
       "Red Maroon     0.000832\n",
       "Name: Subject_Car_Colour, dtype: float64"
      ]
     },
     "execution_count": 121,
     "metadata": {},
     "output_type": "execute_result"
    }
   ],
   "source": [
    "X_test.Subject_Car_Colour.value_counts()/len(X_test)"
   ]
  },
  {
   "cell_type": "code",
   "execution_count": 122,
   "id": "8ae280dd",
   "metadata": {},
   "outputs": [],
   "source": [
    "rare_enc3=RareLabelEncoder(tol=0.05,n_categories=4,variables=['Subject_Car_Colour'])\n",
    "X_test=rare_enc3.fit_transform(X_test)"
   ]
  },
  {
   "cell_type": "code",
   "execution_count": 123,
   "id": "1771a326",
   "metadata": {},
   "outputs": [
    {
     "data": {
      "text/plain": [
       "Missing    697\n",
       "Rare       328\n",
       "Black      177\n",
       "Name: Subject_Car_Colour, dtype: int64"
      ]
     },
     "execution_count": 123,
     "metadata": {},
     "output_type": "execute_result"
    }
   ],
   "source": [
    "X_test.Subject_Car_Colour.value_counts()"
   ]
  },
  {
   "cell_type": "code",
   "execution_count": 124,
   "id": "f0470b9f",
   "metadata": {},
   "outputs": [],
   "source": [
    "ohe3=OneHotEncoder(top_categories=4,variables=['Subject_Car_Colour'],drop_last=False)\n",
    "X_test=ohe3.fit_transform(X_test)"
   ]
  },
  {
   "cell_type": "markdown",
   "id": "373af6b7",
   "metadata": {},
   "source": [
    "## Subject Car make"
   ]
  },
  {
   "cell_type": "code",
   "execution_count": 125,
   "id": "f9ff777c",
   "metadata": {},
   "outputs": [
    {
     "data": {
      "text/plain": [
       "array(['Ford', 'Missing', 'Honda', 'TOYOTA', 'Hyundai', 'ACURA', 'Kia',\n",
       "       'Nissan', 'Chevrolet', 'Range Rover', 'Mercedes', 'Infiniti',\n",
       "       'Renault', 'Mazda', 'Iveco', 'Volkswagen', 'Mitsubishi', 'Suzuki',\n",
       "       'Lexus', 'Skoda', 'As Attached', 'Dodge', 'Pontiac', 'Subaru',\n",
       "       'Peugeot', 'Volvo', 'Land Rover', '.', 'BMW', 'MINI COOPER',\n",
       "       'Mack', 'LIBERTY', 'DAF', 'GMC', 'Datsun', 'Porsche', 'Audi',\n",
       "       'Opel'], dtype=object)"
      ]
     },
     "execution_count": 125,
     "metadata": {},
     "output_type": "execute_result"
    }
   ],
   "source": [
    "X_test['Subject_Car_Make'].unique()"
   ]
  },
  {
   "cell_type": "code",
   "execution_count": 126,
   "id": "fb2a66e2",
   "metadata": {},
   "outputs": [
    {
     "data": {
      "text/plain": [
       "TOYOTA         491\n",
       "Missing        248\n",
       "Honda          103\n",
       "Mercedes        56\n",
       "Hyundai         55\n",
       "Lexus           50\n",
       "Kia             34\n",
       "Nissan          26\n",
       "Ford            24\n",
       "Mitsubishi      12\n",
       "Range Rover     12\n",
       "Volkswagen      11\n",
       "Land Rover       9\n",
       "Iveco            9\n",
       "Volvo            6\n",
       "BMW              5\n",
       "Pontiac          5\n",
       "ACURA            4\n",
       "Peugeot          4\n",
       "Chevrolet        3\n",
       "Audi             3\n",
       "As Attached      3\n",
       ".                3\n",
       "Porsche          3\n",
       "Infiniti         3\n",
       "Mack             3\n",
       "Mazda            2\n",
       "Renault          2\n",
       "Subaru           2\n",
       "LIBERTY          2\n",
       "MINI COOPER      2\n",
       "GMC              1\n",
       "Suzuki           1\n",
       "Dodge            1\n",
       "Skoda            1\n",
       "DAF              1\n",
       "Opel             1\n",
       "Datsun           1\n",
       "Name: Subject_Car_Make, dtype: int64"
      ]
     },
     "execution_count": 126,
     "metadata": {},
     "output_type": "execute_result"
    }
   ],
   "source": [
    "X_test['Subject_Car_Make'].value_counts()"
   ]
  },
  {
   "cell_type": "code",
   "execution_count": 67,
   "id": "3b59e0e4",
   "metadata": {},
   "outputs": [
    {
     "data": {
      "text/plain": [
       "TOYOTA         0.408486\n",
       "Missing        0.206323\n",
       "Honda          0.085691\n",
       "Mercedes       0.046589\n",
       "Hyundai        0.045757\n",
       "Lexus          0.041597\n",
       "Kia            0.028286\n",
       "Nissan         0.021631\n",
       "Ford           0.019967\n",
       "Mitsubishi     0.009983\n",
       "Range Rover    0.009983\n",
       "Volkswagen     0.009151\n",
       "Land Rover     0.007488\n",
       "Iveco          0.007488\n",
       "Volvo          0.004992\n",
       "BMW            0.004160\n",
       "Pontiac        0.004160\n",
       "ACURA          0.003328\n",
       "Peugeot        0.003328\n",
       "Chevrolet      0.002496\n",
       "Audi           0.002496\n",
       "As Attached    0.002496\n",
       ".              0.002496\n",
       "Porsche        0.002496\n",
       "Infiniti       0.002496\n",
       "Mack           0.002496\n",
       "Mazda          0.001664\n",
       "Renault        0.001664\n",
       "Subaru         0.001664\n",
       "LIBERTY        0.001664\n",
       "MINI COOPER    0.001664\n",
       "GMC            0.000832\n",
       "Suzuki         0.000832\n",
       "Dodge          0.000832\n",
       "Skoda          0.000832\n",
       "DAF            0.000832\n",
       "Opel           0.000832\n",
       "Datsun         0.000832\n",
       "Name: Subject_Car_Make, dtype: float64"
      ]
     },
     "execution_count": 67,
     "metadata": {},
     "output_type": "execute_result"
    }
   ],
   "source": [
    "X_test['Subject_Car_Make'].value_counts()/len(X_test)"
   ]
  },
  {
   "cell_type": "code",
   "execution_count": 127,
   "id": "6a5c251d",
   "metadata": {},
   "outputs": [],
   "source": [
    "rare_enc4=RareLabelEncoder(tol=0.039,n_categories=4,variables=['Subject_Car_Make'])\n",
    "X_test=rare_enc4.fit_transform(X_test)"
   ]
  },
  {
   "cell_type": "code",
   "execution_count": 128,
   "id": "ef60fae4",
   "metadata": {},
   "outputs": [
    {
     "data": {
      "text/plain": [
       "TOYOTA      491\n",
       "Missing     248\n",
       "Rare        199\n",
       "Honda       103\n",
       "Mercedes     56\n",
       "Hyundai      55\n",
       "Lexus        50\n",
       "Name: Subject_Car_Make, dtype: int64"
      ]
     },
     "execution_count": 128,
     "metadata": {},
     "output_type": "execute_result"
    }
   ],
   "source": [
    "X_test['Subject_Car_Make'].value_counts()"
   ]
  },
  {
   "cell_type": "code",
   "execution_count": 130,
   "id": "b383fd30",
   "metadata": {},
   "outputs": [],
   "source": [
    "X_test['Subject_Car_Make']=X_test['Subject_Car_Make'].map({'TOYOTA':'TOYOTA','Hyundai':'Rare','Missing':'Missing','Rare':'Rare',\n",
    "                                                          'Honda':'Honda','Mercedes':'Mercedes','Lexus':'Lexus'})"
   ]
  },
  {
   "cell_type": "code",
   "execution_count": 131,
   "id": "11a3f482",
   "metadata": {},
   "outputs": [
    {
     "data": {
      "text/plain": [
       "TOYOTA      491\n",
       "Rare        254\n",
       "Missing     248\n",
       "Honda       103\n",
       "Mercedes     56\n",
       "Lexus        50\n",
       "Name: Subject_Car_Make, dtype: int64"
      ]
     },
     "execution_count": 131,
     "metadata": {},
     "output_type": "execute_result"
    }
   ],
   "source": [
    "X_test['Subject_Car_Make'].value_counts()"
   ]
  },
  {
   "cell_type": "code",
   "execution_count": 132,
   "id": "8cfc94db",
   "metadata": {},
   "outputs": [],
   "source": [
    "ohe4=OneHotEncoder(top_categories=6,variables=['Subject_Car_Make'],drop_last=False)\n",
    "X_test=ohe4.fit_transform(X_test)"
   ]
  },
  {
   "cell_type": "markdown",
   "id": "6b29fe2d",
   "metadata": {},
   "source": [
    "## LGA name feat_eng"
   ]
  },
  {
   "cell_type": "code",
   "execution_count": 141,
   "id": "49bbf4c7",
   "metadata": {},
   "outputs": [],
   "source": [
    "import pandas"
   ]
  },
  {
   "cell_type": "code",
   "execution_count": 144,
   "id": "c937484b",
   "metadata": {},
   "outputs": [],
   "source": [
    "pandas.set_option('display.max_rows',lgap.shape[0]+1)"
   ]
  },
  {
   "cell_type": "code",
   "execution_count": 145,
   "id": "3135aff2",
   "metadata": {},
   "outputs": [],
   "source": [
    "lgap=X_test['LGA_Name'].value_counts()/len(X_test)\n",
    "lgap=pd.DataFrame(lgap)"
   ]
  },
  {
   "cell_type": "code",
   "execution_count": 147,
   "id": "b0882386",
   "metadata": {},
   "outputs": [
    {
     "name": "stdout",
     "output_type": "stream",
     "text": [
      "                        LGA_Name\n",
      "Missing                 0.545757\n",
      "Victoria Island         0.101498\n",
      "Ikeja                   0.030782\n",
      "Abuja Municipal         0.020799\n",
      "Eti-Osa                 0.019967\n",
      "Lekki                   0.019135\n",
      "Lagos Mainland          0.019135\n",
      "Lagos Island            0.018303\n",
      "Surulere                0.014975\n",
      "Lagos                   0.009983\n",
      "Obia/Akpor              0.008319\n",
      "Port-Harcourt           0.008319\n",
      "Kosofe                  0.008319\n",
      "Abuja                   0.006656\n",
      "Shomolu                 0.005824\n",
      "Amuwo-Odofin            0.005824\n",
      "Alimosho                0.004992\n",
      "Ibeju/Lekki             0.004992\n",
      "Ikoyi                   0.004992\n",
      "Warri Central           0.004160\n",
      "Oshodi-Isolo            0.004160\n",
      "Port Harcourt           0.004160\n",
      "Festac                  0.004160\n",
      "Yaba                    0.004160\n",
      "Apapa                   0.004160\n",
      "GBAGADA                 0.004160\n",
      "Ibadan North West       0.003328\n",
      "Ketu                    0.003328\n",
      "Ajah                    0.002496\n",
      "Warri                   0.002496\n",
      "Lagelu Ogbomosho North  0.002496\n",
      "Ipaja                   0.002496\n",
      "Agege                   0.002496\n",
      "Ikorodu                 0.002496\n",
      "OGUN                    0.002496\n",
      "Benin                   0.002496\n",
      "Ojodu                   0.002496\n",
      "Ilupeju                 0.002496\n",
      "Nnewi                   0.002496\n",
      "Ifako-Ijaye             0.002496\n",
      "Oredo                   0.002496\n",
      "Enugu North             0.001664\n",
      "Nnewi North             0.001664\n",
      "Central                 0.001664\n",
      "SANGOTEDO               0.001664\n",
      "Ibadan North            0.001664\n",
      "Uyo                     0.001664\n",
      "Ifo                     0.001664\n",
      "Oguta                   0.001664\n",
      "Ikotun                  0.001664\n",
      "Isolo                   0.001664\n",
      "Ikeja G.R.A             0.001664\n",
      "Owerri                  0.001664\n",
      "Asaba                   0.001664\n",
      "Ilesha West             0.000832\n",
      "Hong                    0.000832\n",
      "Ankpa                   0.000832\n",
      " IFAKO                  0.000832\n",
      "Garko                   0.000832\n",
      "ISHERI                  0.000832\n",
      "Idemili south           0.000832\n",
      "Aba North               0.000832\n",
      "Wuse 11                 0.000832\n",
      "IBADAN NORTH EAST       0.000832\n",
      "Ekwusigo                0.000832\n",
      "Abeokuta                0.000832\n",
      "AKOWONJO                0.000832\n",
      "Awka                    0.000832\n",
      "Ojo                     0.000832\n",
      "Kaduna North            0.000832\n",
      "Akoka                   0.000832\n",
      "Idanre                  0.000832\n",
      "Ile-Ife                 0.000832\n",
      "Marina                  0.000832\n",
      "Kaduna                  0.000832\n",
      "Onitsha North           0.000832\n",
      "Gombe                   0.000832\n",
      "Irepodun                0.000832\n",
      "Anthony Village         0.000832\n",
      "Ogbmosho South          0.000832\n",
      "Benue                   0.000832\n",
      "Ilorin West             0.000832\n",
      "Ebute-Metta             0.000832\n",
      "IbadanCentral           0.000832\n",
      "Ijebu Ode               0.000832\n",
      "Akure South             0.000832\n",
      "Kano                    0.000832\n",
      "Oluyole                 0.000832\n",
      "Onitsha South           0.000832\n",
      "VGC                     0.000832\n",
      "Ifako-Agege             0.000832\n",
      "SANGO OTTA              0.000832\n",
      "Onitsha                 0.000832\n",
      "Okpokwu                 0.000832\n",
      "MAGODO                  0.000832\n",
      "OGBA                    0.000832\n",
      "AGBARA                  0.000832\n",
      "Abeokuta South          0.000832\n",
      "Maryland                0.000832\n",
      "Ngor-Okpala             0.000832\n",
      "Abeokuta North          0.000832\n",
      "Mushin                  0.000832\n",
      "ISHAGA                  0.000832\n",
      "Oyo                     0.000832\n",
      "Ilorin                  0.000832\n",
      "AJAO ESTATE             0.000832\n",
      "Ibadan South West       0.000832\n",
      "OGUDU                   0.000832\n",
      "Zaria                   0.000832\n",
      "Oshimili                0.000832\n",
      "Jibia                   0.000832\n",
      "Jos North               0.000832\n",
      "Oshodi                  0.000832\n",
      "Biase                   0.000832\n",
      "ENUGU EAST              0.000832\n",
      "Egbeda                  0.000832\n"
     ]
    }
   ],
   "source": [
    "print(lgap)"
   ]
  },
  {
   "cell_type": "code",
   "execution_count": 134,
   "id": "f3f250e7",
   "metadata": {},
   "outputs": [
    {
     "data": {
      "text/plain": [
       "116"
      ]
     },
     "execution_count": 134,
     "metadata": {},
     "output_type": "execute_result"
    }
   ],
   "source": [
    "X_test['LGA_Name'].nunique()"
   ]
  },
  {
   "cell_type": "code",
   "execution_count": 156,
   "id": "b6a94139",
   "metadata": {},
   "outputs": [],
   "source": [
    "rare_enc5=RareLabelEncoder(tol=0.011,n_categories=5,variables=['LGA_Name'])\n",
    "X_test=rare_enc5.fit_transform(X_test)"
   ]
  },
  {
   "cell_type": "code",
   "execution_count": 157,
   "id": "515ad4a5",
   "metadata": {},
   "outputs": [
    {
     "data": {
      "text/plain": [
       "Missing            656\n",
       "Rare               252\n",
       "Victoria Island    122\n",
       "Ikeja               37\n",
       "Abuja Municipal     25\n",
       "Eti-Osa             24\n",
       "Lagos Mainland      23\n",
       "Lekki               23\n",
       "Lagos Island        22\n",
       "Surulere            18\n",
       "Name: LGA_Name, dtype: int64"
      ]
     },
     "execution_count": 157,
     "metadata": {},
     "output_type": "execute_result"
    }
   ],
   "source": [
    "X_test['LGA_Name'].value_counts()"
   ]
  },
  {
   "cell_type": "code",
   "execution_count": 158,
   "id": "24b5be37",
   "metadata": {},
   "outputs": [],
   "source": [
    "ohe5=OneHotEncoder(top_categories=10,variables=['LGA_Name'],drop_last=False)\n",
    "X_test=ohe5.fit_transform(X_test)"
   ]
  },
  {
   "cell_type": "markdown",
   "id": "5a4db954",
   "metadata": {},
   "source": [
    "## State Feat_eng"
   ]
  },
  {
   "cell_type": "code",
   "execution_count": 160,
   "id": "d205ff5e",
   "metadata": {},
   "outputs": [
    {
     "data": {
      "text/plain": [
       "Missing            0.545757\n",
       "Lagos              0.256240\n",
       "Benue              0.055740\n",
       "Abuja-Municipal    0.020799\n",
       "Eti-Osa            0.019967\n",
       "Obia-Akpor         0.008319\n",
       "Port-Harcourt      0.008319\n",
       "Abuja              0.007488\n",
       "Amuwo-Odofin       0.005824\n",
       "Ogun               0.005824\n",
       "Ibeju-Lekki        0.004992\n",
       "Rivers             0.004160\n",
       "Delta              0.004160\n",
       "Oshodi-Isolo       0.004160\n",
       "Anambra            0.004160\n",
       "Warri-Central      0.004160\n",
       "Ibadan-West        0.004160\n",
       "Imo                0.003328\n",
       "Edo                0.002496\n",
       "Ifako-Ijaye        0.002496\n",
       "Lagelu-North       0.002496\n",
       "Ibadan-North       0.001664\n",
       "Akwa-Ibom          0.001664\n",
       "Oyo                0.001664\n",
       "Nnewi-North        0.001664\n",
       "Kaduna             0.001664\n",
       "Enugu-North        0.001664\n",
       "Osun               0.000832\n",
       "Kwara              0.000832\n",
       "Ogbmosho-South     0.000832\n",
       "Ondo               0.000832\n",
       "Idemili-south      0.000832\n",
       "Kaduna-North       0.000832\n",
       "ENUGU-EAST         0.000832\n",
       "Ijebu-Ode          0.000832\n",
       "Gombe              0.000832\n",
       "Jos-North          0.000832\n",
       "AJAO-ESTATE        0.000832\n",
       "Onitsha-North      0.000832\n",
       "Onitsha-South      0.000832\n",
       "Ilorin-West        0.000832\n",
       "Ngor-Okpala        0.000832\n",
       "Kano               0.000832\n",
       "Ilesha-West        0.000832\n",
       "Aba-North          0.000832\n",
       "Name: State, dtype: float64"
      ]
     },
     "execution_count": 160,
     "metadata": {},
     "output_type": "execute_result"
    }
   ],
   "source": [
    "X_test['State'].value_counts()/len(X_test)"
   ]
  },
  {
   "cell_type": "code",
   "execution_count": 161,
   "id": "68882f5a",
   "metadata": {},
   "outputs": [],
   "source": [
    "rare_enc6=RareLabelEncoder(tol=0.0160,n_categories=4,variables=['State'])\n",
    "X_test=rare_enc6.fit_transform(X_test)"
   ]
  },
  {
   "cell_type": "code",
   "execution_count": 162,
   "id": "97450d2f",
   "metadata": {},
   "outputs": [
    {
     "data": {
      "text/plain": [
       "Missing            656\n",
       "Lagos              308\n",
       "Rare               122\n",
       "Benue               67\n",
       "Abuja-Municipal     25\n",
       "Eti-Osa             24\n",
       "Name: State, dtype: int64"
      ]
     },
     "execution_count": 162,
     "metadata": {},
     "output_type": "execute_result"
    }
   ],
   "source": [
    "X_test['State'].value_counts()"
   ]
  },
  {
   "cell_type": "code",
   "execution_count": 163,
   "id": "79d75b6a",
   "metadata": {},
   "outputs": [],
   "source": [
    "ohe6=OneHotEncoder(top_categories=6,variables=['State'],drop_last=False)\n",
    "X_test=ohe6.fit_transform(X_test)"
   ]
  },
  {
   "cell_type": "markdown",
   "id": "b481c935",
   "metadata": {},
   "source": [
    "## Prod Name Feat_eng"
   ]
  },
  {
   "cell_type": "code",
   "execution_count": 164,
   "id": "8dce9177",
   "metadata": {},
   "outputs": [
    {
     "data": {
      "text/plain": [
       "Car Classic         657\n",
       "CarSafe             380\n",
       "Customized Motor     60\n",
       "CVTP                 40\n",
       "Car Plus             37\n",
       "CarFlex              18\n",
       "Muuve                 7\n",
       "Motor Cycle           3\n",
       "Name: ProductName, dtype: int64"
      ]
     },
     "execution_count": 164,
     "metadata": {},
     "output_type": "execute_result"
    }
   ],
   "source": [
    "X_test['ProductName'].value_counts()"
   ]
  },
  {
   "cell_type": "code",
   "execution_count": 165,
   "id": "1629a129",
   "metadata": {},
   "outputs": [
    {
     "data": {
      "text/plain": [
       "Car Classic         0.546589\n",
       "CarSafe             0.316140\n",
       "Customized Motor    0.049917\n",
       "CVTP                0.033278\n",
       "Car Plus            0.030782\n",
       "CarFlex             0.014975\n",
       "Muuve               0.005824\n",
       "Motor Cycle         0.002496\n",
       "Name: ProductName, dtype: float64"
      ]
     },
     "execution_count": 165,
     "metadata": {},
     "output_type": "execute_result"
    }
   ],
   "source": [
    "X_test['ProductName'].value_counts()/len(X_test)"
   ]
  },
  {
   "cell_type": "code",
   "execution_count": 166,
   "id": "f467d77c",
   "metadata": {},
   "outputs": [],
   "source": [
    "rare_enc7=RareLabelEncoder(tol=0.05,n_categories=4,variables=['ProductName'])\n",
    "X_test=rare_enc7.fit_transform(X_test)"
   ]
  },
  {
   "cell_type": "code",
   "execution_count": 167,
   "id": "e70d2d01",
   "metadata": {},
   "outputs": [],
   "source": [
    "ohe7=OneHotEncoder(top_categories=4,variables=['ProductName'],drop_last=False)\n",
    "X_test=ohe7.fit_transform(X_test)"
   ]
  },
  {
   "cell_type": "code",
   "execution_count": 169,
   "id": "cd92a695",
   "metadata": {},
   "outputs": [
    {
     "data": {
      "text/html": [
       "<div>\n",
       "<style scoped>\n",
       "    .dataframe tbody tr th:only-of-type {\n",
       "        vertical-align: middle;\n",
       "    }\n",
       "\n",
       "    .dataframe tbody tr th {\n",
       "        vertical-align: top;\n",
       "    }\n",
       "\n",
       "    .dataframe thead th {\n",
       "        text-align: right;\n",
       "    }\n",
       "</style>\n",
       "<table border=\"1\" class=\"dataframe\">\n",
       "  <thead>\n",
       "    <tr style=\"text-align: right;\">\n",
       "      <th></th>\n",
       "      <th>Age</th>\n",
       "      <th>No_Pol</th>\n",
       "      <th>Pol_start</th>\n",
       "      <th>Pol_end</th>\n",
       "      <th>Sub-time</th>\n",
       "      <th>Gender_Male</th>\n",
       "      <th>Gender_Female</th>\n",
       "      <th>Gender_Rare</th>\n",
       "      <th>Car_Category_Saloon</th>\n",
       "      <th>Car_Category_Missing</th>\n",
       "      <th>...</th>\n",
       "      <th>LGA_Name_Surulere</th>\n",
       "      <th>State_Missing</th>\n",
       "      <th>State_Lagos</th>\n",
       "      <th>State_Rare</th>\n",
       "      <th>State_Benue</th>\n",
       "      <th>State_Abuja-Municipal</th>\n",
       "      <th>State_Eti-Osa</th>\n",
       "      <th>ProductName_Car Classic</th>\n",
       "      <th>ProductName_CarSafe</th>\n",
       "      <th>ProductName_Rare</th>\n",
       "    </tr>\n",
       "  </thead>\n",
       "  <tbody>\n",
       "    <tr>\n",
       "      <th>0</th>\n",
       "      <td>46</td>\n",
       "      <td>1</td>\n",
       "      <td>2010</td>\n",
       "      <td>2011</td>\n",
       "      <td>364</td>\n",
       "      <td>0</td>\n",
       "      <td>1</td>\n",
       "      <td>0</td>\n",
       "      <td>0</td>\n",
       "      <td>1</td>\n",
       "      <td>...</td>\n",
       "      <td>0</td>\n",
       "      <td>0</td>\n",
       "      <td>0</td>\n",
       "      <td>0</td>\n",
       "      <td>0</td>\n",
       "      <td>1</td>\n",
       "      <td>0</td>\n",
       "      <td>1</td>\n",
       "      <td>0</td>\n",
       "      <td>0</td>\n",
       "    </tr>\n",
       "    <tr>\n",
       "      <th>1</th>\n",
       "      <td>32</td>\n",
       "      <td>1</td>\n",
       "      <td>2010</td>\n",
       "      <td>2011</td>\n",
       "      <td>364</td>\n",
       "      <td>1</td>\n",
       "      <td>0</td>\n",
       "      <td>0</td>\n",
       "      <td>0</td>\n",
       "      <td>1</td>\n",
       "      <td>...</td>\n",
       "      <td>0</td>\n",
       "      <td>0</td>\n",
       "      <td>0</td>\n",
       "      <td>0</td>\n",
       "      <td>1</td>\n",
       "      <td>0</td>\n",
       "      <td>0</td>\n",
       "      <td>1</td>\n",
       "      <td>0</td>\n",
       "      <td>0</td>\n",
       "    </tr>\n",
       "    <tr>\n",
       "      <th>2</th>\n",
       "      <td>45</td>\n",
       "      <td>2</td>\n",
       "      <td>2010</td>\n",
       "      <td>2011</td>\n",
       "      <td>364</td>\n",
       "      <td>0</td>\n",
       "      <td>1</td>\n",
       "      <td>0</td>\n",
       "      <td>1</td>\n",
       "      <td>0</td>\n",
       "      <td>...</td>\n",
       "      <td>0</td>\n",
       "      <td>0</td>\n",
       "      <td>0</td>\n",
       "      <td>1</td>\n",
       "      <td>0</td>\n",
       "      <td>0</td>\n",
       "      <td>0</td>\n",
       "      <td>1</td>\n",
       "      <td>0</td>\n",
       "      <td>0</td>\n",
       "    </tr>\n",
       "    <tr>\n",
       "      <th>3</th>\n",
       "      <td>58</td>\n",
       "      <td>1</td>\n",
       "      <td>2010</td>\n",
       "      <td>2011</td>\n",
       "      <td>364</td>\n",
       "      <td>0</td>\n",
       "      <td>1</td>\n",
       "      <td>0</td>\n",
       "      <td>1</td>\n",
       "      <td>0</td>\n",
       "      <td>...</td>\n",
       "      <td>0</td>\n",
       "      <td>1</td>\n",
       "      <td>0</td>\n",
       "      <td>0</td>\n",
       "      <td>0</td>\n",
       "      <td>0</td>\n",
       "      <td>0</td>\n",
       "      <td>0</td>\n",
       "      <td>1</td>\n",
       "      <td>0</td>\n",
       "    </tr>\n",
       "    <tr>\n",
       "      <th>4</th>\n",
       "      <td>120</td>\n",
       "      <td>1</td>\n",
       "      <td>2010</td>\n",
       "      <td>2011</td>\n",
       "      <td>364</td>\n",
       "      <td>1</td>\n",
       "      <td>0</td>\n",
       "      <td>0</td>\n",
       "      <td>1</td>\n",
       "      <td>0</td>\n",
       "      <td>...</td>\n",
       "      <td>0</td>\n",
       "      <td>0</td>\n",
       "      <td>1</td>\n",
       "      <td>0</td>\n",
       "      <td>0</td>\n",
       "      <td>0</td>\n",
       "      <td>0</td>\n",
       "      <td>1</td>\n",
       "      <td>0</td>\n",
       "      <td>0</td>\n",
       "    </tr>\n",
       "  </tbody>\n",
       "</table>\n",
       "<p>5 rows × 40 columns</p>\n",
       "</div>"
      ],
      "text/plain": [
       "   Age  No_Pol  Pol_start  Pol_end  Sub-time  Gender_Male  Gender_Female  \\\n",
       "0   46       1       2010     2011       364            0              1   \n",
       "1   32       1       2010     2011       364            1              0   \n",
       "2   45       2       2010     2011       364            0              1   \n",
       "3   58       1       2010     2011       364            0              1   \n",
       "4  120       1       2010     2011       364            1              0   \n",
       "\n",
       "   Gender_Rare  Car_Category_Saloon  Car_Category_Missing  ...  \\\n",
       "0            0                    0                     1  ...   \n",
       "1            0                    0                     1  ...   \n",
       "2            0                    1                     0  ...   \n",
       "3            0                    1                     0  ...   \n",
       "4            0                    1                     0  ...   \n",
       "\n",
       "   LGA_Name_Surulere  State_Missing  State_Lagos  State_Rare  State_Benue  \\\n",
       "0                  0              0            0           0            0   \n",
       "1                  0              0            0           0            1   \n",
       "2                  0              0            0           1            0   \n",
       "3                  0              1            0           0            0   \n",
       "4                  0              0            1           0            0   \n",
       "\n",
       "   State_Abuja-Municipal  State_Eti-Osa  ProductName_Car Classic  \\\n",
       "0                      1              0                        1   \n",
       "1                      0              0                        1   \n",
       "2                      0              0                        1   \n",
       "3                      0              0                        0   \n",
       "4                      0              0                        1   \n",
       "\n",
       "   ProductName_CarSafe  ProductName_Rare  \n",
       "0                    0                 0  \n",
       "1                    0                 0  \n",
       "2                    0                 0  \n",
       "3                    1                 0  \n",
       "4                    0                 0  \n",
       "\n",
       "[5 rows x 40 columns]"
      ]
     },
     "execution_count": 169,
     "metadata": {},
     "output_type": "execute_result"
    }
   ],
   "source": [
    "X_test.head()"
   ]
  },
  {
   "cell_type": "markdown",
   "id": "26439786",
   "metadata": {},
   "source": [
    "## Outlier treatment"
   ]
  },
  {
   "cell_type": "code",
   "execution_count": 171,
   "id": "4cdbfb8b",
   "metadata": {},
   "outputs": [
    {
     "data": {
      "text/plain": [
       "<AxesSubplot:ylabel='Age'>"
      ]
     },
     "execution_count": 171,
     "metadata": {},
     "output_type": "execute_result"
    },
    {
     "data": {
      "image/png": "[encoded data removed]",
      "text/plain": [
       "<Figure size 432x288 with 1 Axes>"
      ]
     },
     "metadata": {
      "needs_background": "light"
     },
     "output_type": "display_data"
    }
   ],
   "source": [
    "sns.boxplot(y=X_test['Age'])"
   ]
  },
  {
   "cell_type": "code",
   "execution_count": 172,
   "id": "3411b61c",
   "metadata": {},
   "outputs": [],
   "source": [
    "from feature_engine.outliers import Winsorizer\n",
    "windsoriser = Winsorizer(capping_method='iqr', # choose iqr for skewed or gaussian\n",
    "                          tail='both', # cap left, right or both tails \n",
    "                          fold=1.5,\n",
    "                          variables=['Age'])"
   ]
  },
  {
   "cell_type": "code",
   "execution_count": 173,
   "id": "712f9a18",
   "metadata": {},
   "outputs": [],
   "source": [
    "X_test=windsoriser.fit_transform(X_test)"
   ]
  },
  {
   "cell_type": "code",
   "execution_count": 174,
   "id": "3b8a276b",
   "metadata": {},
   "outputs": [
    {
     "name": "stdout",
     "output_type": "stream",
     "text": [
      "<class 'pandas.core.frame.DataFrame'>\n",
      "RangeIndex: 1202 entries, 0 to 1201\n",
      "Data columns (total 40 columns):\n",
      " #   Column                      Non-Null Count  Dtype  \n",
      "---  ------                      --------------  -----  \n",
      " 0   Age                         1202 non-null   float64\n",
      " 1   No_Pol                      1202 non-null   int64  \n",
      " 2   Pol_start                   1202 non-null   int64  \n",
      " 3   Pol_end                     1202 non-null   int64  \n",
      " 4   Sub-time                    1202 non-null   int16  \n",
      " 5   Gender_Male                 1202 non-null   int32  \n",
      " 6   Gender_Female               1202 non-null   int32  \n",
      " 7   Gender_Rare                 1202 non-null   int32  \n",
      " 8   Car_Category_Saloon         1202 non-null   int32  \n",
      " 9   Car_Category_Missing        1202 non-null   int32  \n",
      " 10  Car_Category_JEEP           1202 non-null   int32  \n",
      " 11  Car_Category_Rare           1202 non-null   int32  \n",
      " 12  Subject_Car_Colour_Missing  1202 non-null   int32  \n",
      " 13  Subject_Car_Colour_Rare     1202 non-null   int32  \n",
      " 14  Subject_Car_Colour_Black    1202 non-null   int32  \n",
      " 15  Subject_Car_Make_TOYOTA     1202 non-null   int32  \n",
      " 16  Subject_Car_Make_Rare       1202 non-null   int32  \n",
      " 17  Subject_Car_Make_Missing    1202 non-null   int32  \n",
      " 18  Subject_Car_Make_Honda      1202 non-null   int32  \n",
      " 19  Subject_Car_Make_Mercedes   1202 non-null   int32  \n",
      " 20  Subject_Car_Make_Lexus      1202 non-null   int32  \n",
      " 21  LGA_Name_Missing            1202 non-null   int32  \n",
      " 22  LGA_Name_Rare               1202 non-null   int32  \n",
      " 23  LGA_Name_Victoria Island    1202 non-null   int32  \n",
      " 24  LGA_Name_Ikeja              1202 non-null   int32  \n",
      " 25  LGA_Name_Abuja Municipal    1202 non-null   int32  \n",
      " 26  LGA_Name_Eti-Osa            1202 non-null   int32  \n",
      " 27  LGA_Name_Lagos Mainland     1202 non-null   int32  \n",
      " 28  LGA_Name_Lekki              1202 non-null   int32  \n",
      " 29  LGA_Name_Lagos Island       1202 non-null   int32  \n",
      " 30  LGA_Name_Surulere           1202 non-null   int32  \n",
      " 31  State_Missing               1202 non-null   int32  \n",
      " 32  State_Lagos                 1202 non-null   int32  \n",
      " 33  State_Rare                  1202 non-null   int32  \n",
      " 34  State_Benue                 1202 non-null   int32  \n",
      " 35  State_Abuja-Municipal       1202 non-null   int32  \n",
      " 36  State_Eti-Osa               1202 non-null   int32  \n",
      " 37  ProductName_Car Classic     1202 non-null   int32  \n",
      " 38  ProductName_CarSafe         1202 non-null   int32  \n",
      " 39  ProductName_Rare            1202 non-null   int32  \n",
      "dtypes: float64(1), int16(1), int32(35), int64(3)\n",
      "memory usage: 204.4 KB\n"
     ]
    }
   ],
   "source": [
    "X_test.info()"
   ]
  },
  {
   "cell_type": "code",
   "execution_count": 175,
   "id": "e8dd3210",
   "metadata": {},
   "outputs": [],
   "source": [
    "X_test.to_csv('lkgood.csv')"
   ]
  },
  {
   "cell_type": "markdown",
   "id": "ae9d8434",
   "metadata": {},
   "source": [
    "## Merging"
   ]
  },
  {
   "cell_type": "code",
   "execution_count": 229,
   "id": "4c36813b",
   "metadata": {},
   "outputs": [],
   "source": [
    "tested=pd.read_csv('tevhe.csv')\n",
    "submit=pd.read_csv('arsenal.csv')"
   ]
  },
  {
   "cell_type": "code",
   "execution_count": 230,
   "id": "ddf035d6",
   "metadata": {},
   "outputs": [],
   "source": [
    "ID=tested['ID']"
   ]
  },
  {
   "cell_type": "code",
   "execution_count": 231,
   "id": "62b1d5af",
   "metadata": {},
   "outputs": [],
   "source": [
    "ID=pd.DataFrame(ID)"
   ]
  },
  {
   "cell_type": "code",
   "execution_count": 232,
   "id": "6c6b9eb9",
   "metadata": {},
   "outputs": [],
   "source": [
    "Ov_submission=pd.concat([ID,submit],axis=1)"
   ]
  },
  {
   "cell_type": "code",
   "execution_count": 233,
   "id": "a2eca854",
   "metadata": {},
   "outputs": [
    {
     "data": {
      "text/plain": [
       "0    929\n",
       "1    273\n",
       "Name: target, dtype: int64"
      ]
     },
     "execution_count": 233,
     "metadata": {},
     "output_type": "execute_result"
    }
   ],
   "source": [
    "Ov_submission['target'].value_counts()"
   ]
  },
  {
   "cell_type": "code",
   "execution_count": 234,
   "id": "f1ca92da",
   "metadata": {},
   "outputs": [],
   "source": [
    "Ov_submission=Ov_submission.iloc[:,[0,1]]"
   ]
  },
  {
   "cell_type": "code",
   "execution_count": 235,
   "id": "735db628",
   "metadata": {},
   "outputs": [],
   "source": [
    "Ov_submission.to_csv('emirates.csv',index=False)"
   ]
  },
  {
   "cell_type": "code",
   "execution_count": 236,
   "id": "b464a60b",
   "metadata": {},
   "outputs": [
    {
     "data": {
      "text/html": [
       "<div>\n",
       "<style scoped>\n",
       "    .dataframe tbody tr th:only-of-type {\n",
       "        vertical-align: middle;\n",
       "    }\n",
       "\n",
       "    .dataframe tbody tr th {\n",
       "        vertical-align: top;\n",
       "    }\n",
       "\n",
       "    .dataframe thead th {\n",
       "        text-align: right;\n",
       "    }\n",
       "</style>\n",
       "<table border=\"1\" class=\"dataframe\">\n",
       "  <thead>\n",
       "    <tr style=\"text-align: right;\">\n",
       "      <th></th>\n",
       "      <th>ID</th>\n",
       "      <th>target</th>\n",
       "    </tr>\n",
       "  </thead>\n",
       "  <tbody>\n",
       "    <tr>\n",
       "      <th>0</th>\n",
       "      <td>ID_01QM0NU</td>\n",
       "      <td>0</td>\n",
       "    </tr>\n",
       "    <tr>\n",
       "      <th>1</th>\n",
       "      <td>ID_024NJLZ</td>\n",
       "      <td>1</td>\n",
       "    </tr>\n",
       "    <tr>\n",
       "      <th>2</th>\n",
       "      <td>ID_02NOVWQ</td>\n",
       "      <td>1</td>\n",
       "    </tr>\n",
       "    <tr>\n",
       "      <th>3</th>\n",
       "      <td>ID_02VSP68</td>\n",
       "      <td>0</td>\n",
       "    </tr>\n",
       "    <tr>\n",
       "      <th>4</th>\n",
       "      <td>ID_02YB37K</td>\n",
       "      <td>0</td>\n",
       "    </tr>\n",
       "    <tr>\n",
       "      <th>5</th>\n",
       "      <td>ID_04OFD80</td>\n",
       "      <td>0</td>\n",
       "    </tr>\n",
       "    <tr>\n",
       "      <th>6</th>\n",
       "      <td>ID_04UA1UO</td>\n",
       "      <td>0</td>\n",
       "    </tr>\n",
       "    <tr>\n",
       "      <th>7</th>\n",
       "      <td>ID_06QWOUO</td>\n",
       "      <td>1</td>\n",
       "    </tr>\n",
       "    <tr>\n",
       "      <th>8</th>\n",
       "      <td>ID_06SOU7C</td>\n",
       "      <td>0</td>\n",
       "    </tr>\n",
       "    <tr>\n",
       "      <th>9</th>\n",
       "      <td>ID_0CRE393</td>\n",
       "      <td>0</td>\n",
       "    </tr>\n",
       "  </tbody>\n",
       "</table>\n",
       "</div>"
      ],
      "text/plain": [
       "           ID  target\n",
       "0  ID_01QM0NU       0\n",
       "1  ID_024NJLZ       1\n",
       "2  ID_02NOVWQ       1\n",
       "3  ID_02VSP68       0\n",
       "4  ID_02YB37K       0\n",
       "5  ID_04OFD80       0\n",
       "6  ID_04UA1UO       0\n",
       "7  ID_06QWOUO       1\n",
       "8  ID_06SOU7C       0\n",
       "9  ID_0CRE393       0"
      ]
     },
     "execution_count": 236,
     "metadata": {},
     "output_type": "execute_result"
    }
   ],
   "source": [
    "Ov_submission.head(10)"
   ]
  },
  {
   "cell_type": "code",
   "execution_count": 193,
   "id": "63367959",
   "metadata": {},
   "outputs": [
    {
     "data": {
      "text/html": [
       "<div>\n",
       "<style scoped>\n",
       "    .dataframe tbody tr th:only-of-type {\n",
       "        vertical-align: middle;\n",
       "    }\n",
       "\n",
       "    .dataframe tbody tr th {\n",
       "        vertical-align: top;\n",
       "    }\n",
       "\n",
       "    .dataframe thead th {\n",
       "        text-align: right;\n",
       "    }\n",
       "</style>\n",
       "<table border=\"1\" class=\"dataframe\">\n",
       "  <thead>\n",
       "    <tr style=\"text-align: right;\">\n",
       "      <th></th>\n",
       "      <th>ID</th>\n",
       "      <th>target</th>\n",
       "    </tr>\n",
       "  </thead>\n",
       "  <tbody>\n",
       "    <tr>\n",
       "      <th>1</th>\n",
       "      <td>ID_024NJLZ</td>\n",
       "      <td>0</td>\n",
       "    </tr>\n",
       "  </tbody>\n",
       "</table>\n",
       "</div>"
      ],
      "text/plain": [
       "           ID  target\n",
       "1  ID_024NJLZ       0"
      ]
     },
     "execution_count": 193,
     "metadata": {},
     "output_type": "execute_result"
    }
   ],
   "source": [
    "Ov_submission[Ov_submission['ID']=='ID_024NJLZ']"
   ]
  },
  {
   "cell_type": "code",
   "execution_count": 228,
   "id": "c43e6202",
   "metadata": {},
   "outputs": [
    {
     "data": {
      "text/plain": [
       "1202"
      ]
     },
     "execution_count": 228,
     "metadata": {},
     "output_type": "execute_result"
    }
   ],
   "source": [
    "len(Ov_submission)"
   ]
  },
  {
   "cell_type": "code",
   "execution_count": 216,
   "id": "53036db9",
   "metadata": {},
   "outputs": [],
   "source": [
    "sample=pd.read_csv('Suya.csv')"
   ]
  },
  {
   "cell_type": "code",
   "execution_count": 217,
   "id": "2df1c166",
   "metadata": {},
   "outputs": [
    {
     "data": {
      "text/html": [
       "<div>\n",
       "<style scoped>\n",
       "    .dataframe tbody tr th:only-of-type {\n",
       "        vertical-align: middle;\n",
       "    }\n",
       "\n",
       "    .dataframe tbody tr th {\n",
       "        vertical-align: top;\n",
       "    }\n",
       "\n",
       "    .dataframe thead th {\n",
       "        text-align: right;\n",
       "    }\n",
       "</style>\n",
       "<table border=\"1\" class=\"dataframe\">\n",
       "  <thead>\n",
       "    <tr style=\"text-align: right;\">\n",
       "      <th></th>\n",
       "      <th>ID</th>\n",
       "      <th>target</th>\n",
       "    </tr>\n",
       "  </thead>\n",
       "  <tbody>\n",
       "    <tr>\n",
       "      <th>0</th>\n",
       "      <td>ID_01QM0NU</td>\n",
       "      <td>0</td>\n",
       "    </tr>\n",
       "    <tr>\n",
       "      <th>1</th>\n",
       "      <td>ID_024NJLZ</td>\n",
       "      <td>0</td>\n",
       "    </tr>\n",
       "    <tr>\n",
       "      <th>2</th>\n",
       "      <td>ID_02NOVWQ</td>\n",
       "      <td>0</td>\n",
       "    </tr>\n",
       "    <tr>\n",
       "      <th>3</th>\n",
       "      <td>ID_02VSP68</td>\n",
       "      <td>0</td>\n",
       "    </tr>\n",
       "    <tr>\n",
       "      <th>4</th>\n",
       "      <td>ID_02YB37K</td>\n",
       "      <td>0</td>\n",
       "    </tr>\n",
       "    <tr>\n",
       "      <th>5</th>\n",
       "      <td>ID_04OFD80</td>\n",
       "      <td>0</td>\n",
       "    </tr>\n",
       "    <tr>\n",
       "      <th>6</th>\n",
       "      <td>ID_04UA1UO</td>\n",
       "      <td>0</td>\n",
       "    </tr>\n",
       "    <tr>\n",
       "      <th>7</th>\n",
       "      <td>ID_06QWOUO</td>\n",
       "      <td>0</td>\n",
       "    </tr>\n",
       "    <tr>\n",
       "      <th>8</th>\n",
       "      <td>ID_06SOU7C</td>\n",
       "      <td>0</td>\n",
       "    </tr>\n",
       "    <tr>\n",
       "      <th>9</th>\n",
       "      <td>ID_0CRE393</td>\n",
       "      <td>0</td>\n",
       "    </tr>\n",
       "  </tbody>\n",
       "</table>\n",
       "</div>"
      ],
      "text/plain": [
       "           ID  target\n",
       "0  ID_01QM0NU       0\n",
       "1  ID_024NJLZ       0\n",
       "2  ID_02NOVWQ       0\n",
       "3  ID_02VSP68       0\n",
       "4  ID_02YB37K       0\n",
       "5  ID_04OFD80       0\n",
       "6  ID_04UA1UO       0\n",
       "7  ID_06QWOUO       0\n",
       "8  ID_06SOU7C       0\n",
       "9  ID_0CRE393       0"
      ]
     },
     "execution_count": 217,
     "metadata": {},
     "output_type": "execute_result"
    }
   ],
   "source": [
    "sample.head(10)"
   ]
  },
  {
   "cell_type": "code",
   "execution_count": 199,
   "id": "e220a51d",
   "metadata": {},
   "outputs": [],
   "source": [
    "suya=pd.read_csv('Submission.csv')"
   ]
  },
  {
   "cell_type": "code",
   "execution_count": 200,
   "id": "3358c68f",
   "metadata": {},
   "outputs": [
    {
     "data": {
      "text/html": [
       "<div>\n",
       "<style scoped>\n",
       "    .dataframe tbody tr th:only-of-type {\n",
       "        vertical-align: middle;\n",
       "    }\n",
       "\n",
       "    .dataframe tbody tr th {\n",
       "        vertical-align: top;\n",
       "    }\n",
       "\n",
       "    .dataframe thead th {\n",
       "        text-align: right;\n",
       "    }\n",
       "</style>\n",
       "<table border=\"1\" class=\"dataframe\">\n",
       "  <thead>\n",
       "    <tr style=\"text-align: right;\">\n",
       "      <th></th>\n",
       "      <th>Unnamed: 0</th>\n",
       "      <th>ID</th>\n",
       "      <th>target</th>\n",
       "    </tr>\n",
       "  </thead>\n",
       "  <tbody>\n",
       "    <tr>\n",
       "      <th>0</th>\n",
       "      <td>0</td>\n",
       "      <td>ID_01QM0NU</td>\n",
       "      <td>0</td>\n",
       "    </tr>\n",
       "    <tr>\n",
       "      <th>1</th>\n",
       "      <td>1</td>\n",
       "      <td>ID_024NJLZ</td>\n",
       "      <td>0</td>\n",
       "    </tr>\n",
       "    <tr>\n",
       "      <th>2</th>\n",
       "      <td>2</td>\n",
       "      <td>ID_02NOVWQ</td>\n",
       "      <td>0</td>\n",
       "    </tr>\n",
       "    <tr>\n",
       "      <th>3</th>\n",
       "      <td>3</td>\n",
       "      <td>ID_02VSP68</td>\n",
       "      <td>0</td>\n",
       "    </tr>\n",
       "    <tr>\n",
       "      <th>4</th>\n",
       "      <td>4</td>\n",
       "      <td>ID_02YB37K</td>\n",
       "      <td>0</td>\n",
       "    </tr>\n",
       "  </tbody>\n",
       "</table>\n",
       "</div>"
      ],
      "text/plain": [
       "   Unnamed: 0          ID  target\n",
       "0           0  ID_01QM0NU       0\n",
       "1           1  ID_024NJLZ       0\n",
       "2           2  ID_02NOVWQ       0\n",
       "3           3  ID_02VSP68       0\n",
       "4           4  ID_02YB37K       0"
      ]
     },
     "execution_count": 200,
     "metadata": {},
     "output_type": "execute_result"
    }
   ],
   "source": [
    "suya.head()"
   ]
  },
  {
   "cell_type": "code",
   "execution_count": 218,
   "id": "c8bc7171",
   "metadata": {},
   "outputs": [],
   "source": [
    "from sklearn.model_selection import  train_test_split"
   ]
  }
 ],
 "metadata": {
  "kernelspec": {
   "display_name": "Python 3 (ipykernel)",
   "language": "python",
   "name": "python3"
  },
  "language_info": {
   "codemirror_mode": {
    "name": "ipython",
    "version": 3
   },
   "file_extension": ".py",
   "mimetype": "text/x-python",
   "name": "python",
   "nbconvert_exporter": "python",
   "pygments_lexer": "ipython3",
   "version": "3.7.16"
  }
 },
 "nbformat": 4,
 "nbformat_minor": 5
}
