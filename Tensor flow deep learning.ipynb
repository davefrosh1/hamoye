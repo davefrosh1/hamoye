{
 "cells": [
  {
   "cell_type": "code",
   "execution_count": 1,
   "metadata": {},
   "outputs": [],
   "source": [
    "import tensorflow as tf"
   ]
  },
  {
   "cell_type": "code",
   "execution_count": 2,
   "metadata": {},
   "outputs": [],
   "source": [
    "a=tf.constant(20)\n",
    "b=tf.constant(30)"
   ]
  },
  {
   "cell_type": "code",
   "execution_count": 4,
   "metadata": {},
   "outputs": [
    {
     "ename": "AttributeError",
     "evalue": "module 'tensorflow' has no attribute 'Session'",
     "output_type": "error",
     "traceback": [
      "\u001b[1;31m---------------------------------------------------------------------------\u001b[0m",
      "\u001b[1;31mAttributeError\u001b[0m                            Traceback (most recent call last)",
      "\u001b[1;32m<ipython-input-4-928bf2aa0afc>\u001b[0m in \u001b[0;36m<module>\u001b[1;34m\u001b[0m\n\u001b[1;32m----> 1\u001b[1;33m \u001b[1;32mwith\u001b[0m \u001b[0mtf\u001b[0m\u001b[1;33m.\u001b[0m\u001b[0mSession\u001b[0m\u001b[1;33m(\u001b[0m\u001b[1;33m)\u001b[0m \u001b[1;32mas\u001b[0m \u001b[0msess\u001b[0m\u001b[1;33m:\u001b[0m\u001b[1;33m\u001b[0m\u001b[1;33m\u001b[0m\u001b[0m\n\u001b[0m\u001b[0;32m      2\u001b[0m     \u001b[0mresult\u001b[0m\u001b[1;33m=\u001b[0m\u001b[0msess\u001b[0m\u001b[1;33m.\u001b[0m\u001b[0mrun\u001b[0m\u001b[1;33m(\u001b[0m\u001b[0ma\u001b[0m\u001b[1;33m*\u001b[0m\u001b[0mb\u001b[0m\u001b[1;33m)\u001b[0m\u001b[1;33m\u001b[0m\u001b[1;33m\u001b[0m\u001b[0m\n",
      "\u001b[1;31mAttributeError\u001b[0m: module 'tensorflow' has no attribute 'Session'"
     ]
    }
   ],
   "source": [
    "with tf.In as sess:\n",
    "    result=sess.run(a*b)"
   ]
  },
  {
   "cell_type": "code",
   "execution_count": 6,
   "metadata": {},
   "outputs": [
    {
     "name": "stdout",
     "output_type": "stream",
     "text": [
      "2.1.0\n"
     ]
    }
   ],
   "source": [
    "print(tf.__version__)"
   ]
  },
  {
   "cell_type": "code",
   "execution_count": 2,
   "metadata": {},
   "outputs": [
    {
     "name": "stderr",
     "output_type": "stream",
     "text": [
      "Using TensorFlow backend.\n"
     ]
    }
   ],
   "source": [
    "import keras"
   ]
  },
  {
   "cell_type": "code",
   "execution_count": 3,
   "metadata": {},
   "outputs": [],
   "source": [
    "import pandas as pd\n",
    "import numpy as np\n",
    "import seaborn as sns\n",
    "import matplotlib.pyplot as plt\n",
    "%matplotlib inline"
   ]
  },
  {
   "cell_type": "code",
   "execution_count": 9,
   "metadata": {},
   "outputs": [],
   "source": [
    "hou=pd.read_csv('california_housing_sklearn.csv')"
   ]
  },
  {
   "cell_type": "code",
   "execution_count": 10,
   "metadata": {},
   "outputs": [
    {
     "data": {
      "text/html": [
       "<div>\n",
       "<style scoped>\n",
       "    .dataframe tbody tr th:only-of-type {\n",
       "        vertical-align: middle;\n",
       "    }\n",
       "\n",
       "    .dataframe tbody tr th {\n",
       "        vertical-align: top;\n",
       "    }\n",
       "\n",
       "    .dataframe thead th {\n",
       "        text-align: right;\n",
       "    }\n",
       "</style>\n",
       "<table border=\"1\" class=\"dataframe\">\n",
       "  <thead>\n",
       "    <tr style=\"text-align: right;\">\n",
       "      <th></th>\n",
       "      <th>MedInc</th>\n",
       "      <th>HouseAge</th>\n",
       "      <th>AveRooms</th>\n",
       "      <th>AveBedrms</th>\n",
       "      <th>Population</th>\n",
       "      <th>AveOccup</th>\n",
       "      <th>Latitude</th>\n",
       "      <th>Longitude</th>\n",
       "      <th>SalePrice</th>\n",
       "    </tr>\n",
       "  </thead>\n",
       "  <tbody>\n",
       "    <tr>\n",
       "      <th>0</th>\n",
       "      <td>8.3252</td>\n",
       "      <td>41.0</td>\n",
       "      <td>6.984127</td>\n",
       "      <td>1.023810</td>\n",
       "      <td>322.0</td>\n",
       "      <td>2.555556</td>\n",
       "      <td>37.88</td>\n",
       "      <td>-122.23</td>\n",
       "      <td>4.526</td>\n",
       "    </tr>\n",
       "    <tr>\n",
       "      <th>1</th>\n",
       "      <td>8.3014</td>\n",
       "      <td>21.0</td>\n",
       "      <td>6.238137</td>\n",
       "      <td>0.971880</td>\n",
       "      <td>2401.0</td>\n",
       "      <td>2.109842</td>\n",
       "      <td>37.86</td>\n",
       "      <td>-122.22</td>\n",
       "      <td>3.585</td>\n",
       "    </tr>\n",
       "    <tr>\n",
       "      <th>2</th>\n",
       "      <td>7.2574</td>\n",
       "      <td>52.0</td>\n",
       "      <td>8.288136</td>\n",
       "      <td>1.073446</td>\n",
       "      <td>496.0</td>\n",
       "      <td>2.802260</td>\n",
       "      <td>37.85</td>\n",
       "      <td>-122.24</td>\n",
       "      <td>3.521</td>\n",
       "    </tr>\n",
       "    <tr>\n",
       "      <th>3</th>\n",
       "      <td>5.6431</td>\n",
       "      <td>52.0</td>\n",
       "      <td>5.817352</td>\n",
       "      <td>1.073059</td>\n",
       "      <td>558.0</td>\n",
       "      <td>2.547945</td>\n",
       "      <td>37.85</td>\n",
       "      <td>-122.25</td>\n",
       "      <td>3.413</td>\n",
       "    </tr>\n",
       "    <tr>\n",
       "      <th>4</th>\n",
       "      <td>3.8462</td>\n",
       "      <td>52.0</td>\n",
       "      <td>6.281853</td>\n",
       "      <td>1.081081</td>\n",
       "      <td>565.0</td>\n",
       "      <td>2.181467</td>\n",
       "      <td>37.85</td>\n",
       "      <td>-122.25</td>\n",
       "      <td>3.422</td>\n",
       "    </tr>\n",
       "  </tbody>\n",
       "</table>\n",
       "</div>"
      ],
      "text/plain": [
       "   MedInc  HouseAge  AveRooms  AveBedrms  Population  AveOccup  Latitude  \\\n",
       "0  8.3252      41.0  6.984127   1.023810       322.0  2.555556     37.88   \n",
       "1  8.3014      21.0  6.238137   0.971880      2401.0  2.109842     37.86   \n",
       "2  7.2574      52.0  8.288136   1.073446       496.0  2.802260     37.85   \n",
       "3  5.6431      52.0  5.817352   1.073059       558.0  2.547945     37.85   \n",
       "4  3.8462      52.0  6.281853   1.081081       565.0  2.181467     37.85   \n",
       "\n",
       "   Longitude  SalePrice  \n",
       "0    -122.23      4.526  \n",
       "1    -122.22      3.585  \n",
       "2    -122.24      3.521  \n",
       "3    -122.25      3.413  \n",
       "4    -122.25      3.422  "
      ]
     },
     "execution_count": 10,
     "metadata": {},
     "output_type": "execute_result"
    }
   ],
   "source": [
    "hou.head()"
   ]
  },
  {
   "cell_type": "code",
   "execution_count": 11,
   "metadata": {},
   "outputs": [],
   "source": [
    "from tensorflow.keras.callbacks import EarlyStopping"
   ]
  },
  {
   "cell_type": "code",
   "execution_count": 6,
   "metadata": {},
   "outputs": [],
   "source": [
    "loan=pd.read_csv('lending_club_loan_two.csv')"
   ]
  },
  {
   "cell_type": "code",
   "execution_count": 10,
   "metadata": {},
   "outputs": [
    {
     "data": {
      "text/plain": [
       "0          Fully Paid\n",
       "1          Fully Paid\n",
       "2          Fully Paid\n",
       "3          Fully Paid\n",
       "4         Charged Off\n",
       "             ...     \n",
       "396025     Fully Paid\n",
       "396026     Fully Paid\n",
       "396027     Fully Paid\n",
       "396028     Fully Paid\n",
       "396029     Fully Paid\n",
       "Name: loan_status, Length: 396030, dtype: object"
      ]
     },
     "execution_count": 10,
     "metadata": {},
     "output_type": "execute_result"
    }
   ],
   "source": [
    "loan['loan_status']"
   ]
  },
  {
   "cell_type": "code",
   "execution_count": 11,
   "metadata": {},
   "outputs": [
    {
     "data": {
      "text/plain": [
       "<matplotlib.axes._subplots.AxesSubplot at 0x2c50c2e5848>"
      ]
     },
     "execution_count": 11,
     "metadata": {},
     "output_type": "execute_result"
    },
    {
     "data": {
      "image/png": "[encoded data removed]",
      "text/plain": [
       "<Figure size 432x288 with 1 Axes>"
      ]
     },
     "metadata": {
      "needs_background": "light"
     },
     "output_type": "display_data"
    }
   ],
   "source": [
    "sns.countplot(x='loan_status',data=loan)"
   ]
  },
  {
   "cell_type": "code",
   "execution_count": 12,
   "metadata": {},
   "outputs": [
    {
     "data": {
      "text/plain": [
       "<matplotlib.axes._subplots.AxesSubplot at 0x2c50130bb88>"
      ]
     },
     "execution_count": 12,
     "metadata": {},
     "output_type": "execute_result"
    },
    {
     "data": {
      "image/png": "[encoded data removed]",
      "text/plain": [
       "<Figure size 432x288 with 1 Axes>"
      ]
     },
     "metadata": {
      "needs_background": "light"
     },
     "output_type": "display_data"
    }
   ],
   "source": [
    "loan['loan_amnt'].hist()"
   ]
  },
  {
   "cell_type": "code",
   "execution_count": 17,
   "metadata": {},
   "outputs": [
    {
     "data": {
      "text/html": [
       "<div>\n",
       "<style scoped>\n",
       "    .dataframe tbody tr th:only-of-type {\n",
       "        vertical-align: middle;\n",
       "    }\n",
       "\n",
       "    .dataframe tbody tr th {\n",
       "        vertical-align: top;\n",
       "    }\n",
       "\n",
       "    .dataframe thead th {\n",
       "        text-align: right;\n",
       "    }\n",
       "</style>\n",
       "<table border=\"1\" class=\"dataframe\">\n",
       "  <thead>\n",
       "    <tr style=\"text-align: right;\">\n",
       "      <th></th>\n",
       "      <th>loan_amnt</th>\n",
       "      <th>int_rate</th>\n",
       "      <th>installment</th>\n",
       "      <th>annual_inc</th>\n",
       "      <th>dti</th>\n",
       "      <th>open_acc</th>\n",
       "      <th>pub_rec</th>\n",
       "      <th>revol_bal</th>\n",
       "      <th>revol_util</th>\n",
       "      <th>total_acc</th>\n",
       "      <th>mort_acc</th>\n",
       "      <th>pub_rec_bankruptcies</th>\n",
       "    </tr>\n",
       "  </thead>\n",
       "  <tbody>\n",
       "    <tr>\n",
       "      <th>loan_amnt</th>\n",
       "      <td>1.000000</td>\n",
       "      <td>0.168921</td>\n",
       "      <td>0.953929</td>\n",
       "      <td>0.336887</td>\n",
       "      <td>0.016636</td>\n",
       "      <td>0.198556</td>\n",
       "      <td>-0.077779</td>\n",
       "      <td>0.328320</td>\n",
       "      <td>0.099911</td>\n",
       "      <td>0.223886</td>\n",
       "      <td>0.222315</td>\n",
       "      <td>-0.106539</td>\n",
       "    </tr>\n",
       "    <tr>\n",
       "      <th>int_rate</th>\n",
       "      <td>0.168921</td>\n",
       "      <td>1.000000</td>\n",
       "      <td>0.162758</td>\n",
       "      <td>-0.056771</td>\n",
       "      <td>0.079038</td>\n",
       "      <td>0.011649</td>\n",
       "      <td>0.060986</td>\n",
       "      <td>-0.011280</td>\n",
       "      <td>0.293659</td>\n",
       "      <td>-0.036404</td>\n",
       "      <td>-0.082583</td>\n",
       "      <td>0.057450</td>\n",
       "    </tr>\n",
       "    <tr>\n",
       "      <th>installment</th>\n",
       "      <td>0.953929</td>\n",
       "      <td>0.162758</td>\n",
       "      <td>1.000000</td>\n",
       "      <td>0.330381</td>\n",
       "      <td>0.015786</td>\n",
       "      <td>0.188973</td>\n",
       "      <td>-0.067892</td>\n",
       "      <td>0.316455</td>\n",
       "      <td>0.123915</td>\n",
       "      <td>0.202430</td>\n",
       "      <td>0.193694</td>\n",
       "      <td>-0.098628</td>\n",
       "    </tr>\n",
       "    <tr>\n",
       "      <th>annual_inc</th>\n",
       "      <td>0.336887</td>\n",
       "      <td>-0.056771</td>\n",
       "      <td>0.330381</td>\n",
       "      <td>1.000000</td>\n",
       "      <td>-0.081685</td>\n",
       "      <td>0.136150</td>\n",
       "      <td>-0.013720</td>\n",
       "      <td>0.299773</td>\n",
       "      <td>0.027871</td>\n",
       "      <td>0.193023</td>\n",
       "      <td>0.236320</td>\n",
       "      <td>-0.050162</td>\n",
       "    </tr>\n",
       "    <tr>\n",
       "      <th>dti</th>\n",
       "      <td>0.016636</td>\n",
       "      <td>0.079038</td>\n",
       "      <td>0.015786</td>\n",
       "      <td>-0.081685</td>\n",
       "      <td>1.000000</td>\n",
       "      <td>0.136181</td>\n",
       "      <td>-0.017639</td>\n",
       "      <td>0.063571</td>\n",
       "      <td>0.088375</td>\n",
       "      <td>0.102128</td>\n",
       "      <td>-0.025439</td>\n",
       "      <td>-0.014558</td>\n",
       "    </tr>\n",
       "    <tr>\n",
       "      <th>open_acc</th>\n",
       "      <td>0.198556</td>\n",
       "      <td>0.011649</td>\n",
       "      <td>0.188973</td>\n",
       "      <td>0.136150</td>\n",
       "      <td>0.136181</td>\n",
       "      <td>1.000000</td>\n",
       "      <td>-0.018392</td>\n",
       "      <td>0.221192</td>\n",
       "      <td>-0.131420</td>\n",
       "      <td>0.680728</td>\n",
       "      <td>0.109205</td>\n",
       "      <td>-0.027732</td>\n",
       "    </tr>\n",
       "    <tr>\n",
       "      <th>pub_rec</th>\n",
       "      <td>-0.077779</td>\n",
       "      <td>0.060986</td>\n",
       "      <td>-0.067892</td>\n",
       "      <td>-0.013720</td>\n",
       "      <td>-0.017639</td>\n",
       "      <td>-0.018392</td>\n",
       "      <td>1.000000</td>\n",
       "      <td>-0.101664</td>\n",
       "      <td>-0.075910</td>\n",
       "      <td>0.019723</td>\n",
       "      <td>0.011552</td>\n",
       "      <td>0.699408</td>\n",
       "    </tr>\n",
       "    <tr>\n",
       "      <th>revol_bal</th>\n",
       "      <td>0.328320</td>\n",
       "      <td>-0.011280</td>\n",
       "      <td>0.316455</td>\n",
       "      <td>0.299773</td>\n",
       "      <td>0.063571</td>\n",
       "      <td>0.221192</td>\n",
       "      <td>-0.101664</td>\n",
       "      <td>1.000000</td>\n",
       "      <td>0.226346</td>\n",
       "      <td>0.191616</td>\n",
       "      <td>0.194925</td>\n",
       "      <td>-0.124532</td>\n",
       "    </tr>\n",
       "    <tr>\n",
       "      <th>revol_util</th>\n",
       "      <td>0.099911</td>\n",
       "      <td>0.293659</td>\n",
       "      <td>0.123915</td>\n",
       "      <td>0.027871</td>\n",
       "      <td>0.088375</td>\n",
       "      <td>-0.131420</td>\n",
       "      <td>-0.075910</td>\n",
       "      <td>0.226346</td>\n",
       "      <td>1.000000</td>\n",
       "      <td>-0.104273</td>\n",
       "      <td>0.007514</td>\n",
       "      <td>-0.086751</td>\n",
       "    </tr>\n",
       "    <tr>\n",
       "      <th>total_acc</th>\n",
       "      <td>0.223886</td>\n",
       "      <td>-0.036404</td>\n",
       "      <td>0.202430</td>\n",
       "      <td>0.193023</td>\n",
       "      <td>0.102128</td>\n",
       "      <td>0.680728</td>\n",
       "      <td>0.019723</td>\n",
       "      <td>0.191616</td>\n",
       "      <td>-0.104273</td>\n",
       "      <td>1.000000</td>\n",
       "      <td>0.381072</td>\n",
       "      <td>0.042035</td>\n",
       "    </tr>\n",
       "    <tr>\n",
       "      <th>mort_acc</th>\n",
       "      <td>0.222315</td>\n",
       "      <td>-0.082583</td>\n",
       "      <td>0.193694</td>\n",
       "      <td>0.236320</td>\n",
       "      <td>-0.025439</td>\n",
       "      <td>0.109205</td>\n",
       "      <td>0.011552</td>\n",
       "      <td>0.194925</td>\n",
       "      <td>0.007514</td>\n",
       "      <td>0.381072</td>\n",
       "      <td>1.000000</td>\n",
       "      <td>0.027239</td>\n",
       "    </tr>\n",
       "    <tr>\n",
       "      <th>pub_rec_bankruptcies</th>\n",
       "      <td>-0.106539</td>\n",
       "      <td>0.057450</td>\n",
       "      <td>-0.098628</td>\n",
       "      <td>-0.050162</td>\n",
       "      <td>-0.014558</td>\n",
       "      <td>-0.027732</td>\n",
       "      <td>0.699408</td>\n",
       "      <td>-0.124532</td>\n",
       "      <td>-0.086751</td>\n",
       "      <td>0.042035</td>\n",
       "      <td>0.027239</td>\n",
       "      <td>1.000000</td>\n",
       "    </tr>\n",
       "  </tbody>\n",
       "</table>\n",
       "</div>"
      ],
      "text/plain": [
       "                      loan_amnt  int_rate  installment  annual_inc       dti  \\\n",
       "loan_amnt              1.000000  0.168921     0.953929    0.336887  0.016636   \n",
       "int_rate               0.168921  1.000000     0.162758   -0.056771  0.079038   \n",
       "installment            0.953929  0.162758     1.000000    0.330381  0.015786   \n",
       "annual_inc             0.336887 -0.056771     0.330381    1.000000 -0.081685   \n",
       "dti                    0.016636  0.079038     0.015786   -0.081685  1.000000   \n",
       "open_acc               0.198556  0.011649     0.188973    0.136150  0.136181   \n",
       "pub_rec               -0.077779  0.060986    -0.067892   -0.013720 -0.017639   \n",
       "revol_bal              0.328320 -0.011280     0.316455    0.299773  0.063571   \n",
       "revol_util             0.099911  0.293659     0.123915    0.027871  0.088375   \n",
       "total_acc              0.223886 -0.036404     0.202430    0.193023  0.102128   \n",
       "mort_acc               0.222315 -0.082583     0.193694    0.236320 -0.025439   \n",
       "pub_rec_bankruptcies  -0.106539  0.057450    -0.098628   -0.050162 -0.014558   \n",
       "\n",
       "                      open_acc   pub_rec  revol_bal  revol_util  total_acc  \\\n",
       "loan_amnt             0.198556 -0.077779   0.328320    0.099911   0.223886   \n",
       "int_rate              0.011649  0.060986  -0.011280    0.293659  -0.036404   \n",
       "installment           0.188973 -0.067892   0.316455    0.123915   0.202430   \n",
       "annual_inc            0.136150 -0.013720   0.299773    0.027871   0.193023   \n",
       "dti                   0.136181 -0.017639   0.063571    0.088375   0.102128   \n",
       "open_acc              1.000000 -0.018392   0.221192   -0.131420   0.680728   \n",
       "pub_rec              -0.018392  1.000000  -0.101664   -0.075910   0.019723   \n",
       "revol_bal             0.221192 -0.101664   1.000000    0.226346   0.191616   \n",
       "revol_util           -0.131420 -0.075910   0.226346    1.000000  -0.104273   \n",
       "total_acc             0.680728  0.019723   0.191616   -0.104273   1.000000   \n",
       "mort_acc              0.109205  0.011552   0.194925    0.007514   0.381072   \n",
       "pub_rec_bankruptcies -0.027732  0.699408  -0.124532   -0.086751   0.042035   \n",
       "\n",
       "                      mort_acc  pub_rec_bankruptcies  \n",
       "loan_amnt             0.222315             -0.106539  \n",
       "int_rate             -0.082583              0.057450  \n",
       "installment           0.193694             -0.098628  \n",
       "annual_inc            0.236320             -0.050162  \n",
       "dti                  -0.025439             -0.014558  \n",
       "open_acc              0.109205             -0.027732  \n",
       "pub_rec               0.011552              0.699408  \n",
       "revol_bal             0.194925             -0.124532  \n",
       "revol_util            0.007514             -0.086751  \n",
       "total_acc             0.381072              0.042035  \n",
       "mort_acc              1.000000              0.027239  \n",
       "pub_rec_bankruptcies  0.027239              1.000000  "
      ]
     },
     "execution_count": 17,
     "metadata": {},
     "output_type": "execute_result"
    },
    {
     "data": {
      "text/plain": [
       "<Figure size 360x1080 with 0 Axes>"
      ]
     },
     "metadata": {},
     "output_type": "display_data"
    }
   ],
   "source": [
    "plt.figure(figsize=(5,15))\n",
    "loan.corr()"
   ]
  },
  {
   "cell_type": "code",
   "execution_count": 20,
   "metadata": {},
   "outputs": [
    {
     "data": {
      "text/plain": [
       "<matplotlib.axes._subplots.AxesSubplot at 0x2c5039162c8>"
      ]
     },
     "execution_count": 20,
     "metadata": {},
     "output_type": "execute_result"
    },
    {
     "data": {
      "image/png": "[encoded data removed]",
      "text/plain": [
       "<Figure size 720x720 with 2 Axes>"
      ]
     },
     "metadata": {
      "needs_background": "light"
     },
     "output_type": "display_data"
    }
   ],
   "source": [
    "plt.figure(figsize=(10,10))\n",
    "sns.heatmap(loan.corr(),annot=True)"
   ]
  },
  {
   "cell_type": "code",
   "execution_count": 23,
   "metadata": {},
   "outputs": [],
   "source": [
    "loan['loan_status']=loan['loan_status'].map({'Fully Paid':1,'Charged Off':0})"
   ]
  },
  {
   "cell_type": "code",
   "execution_count": 24,
   "metadata": {},
   "outputs": [
    {
     "data": {
      "text/plain": [
       "0         1\n",
       "1         1\n",
       "2         1\n",
       "3         1\n",
       "4         0\n",
       "         ..\n",
       "396025    1\n",
       "396026    1\n",
       "396027    1\n",
       "396028    1\n",
       "396029    1\n",
       "Name: loan_status, Length: 396030, dtype: int64"
      ]
     },
     "execution_count": 24,
     "metadata": {},
     "output_type": "execute_result"
    }
   ],
   "source": [
    "loan['loan_status']"
   ]
  },
  {
   "cell_type": "code",
   "execution_count": 25,
   "metadata": {},
   "outputs": [
    {
     "data": {
      "text/html": [
       "<div>\n",
       "<style scoped>\n",
       "    .dataframe tbody tr th:only-of-type {\n",
       "        vertical-align: middle;\n",
       "    }\n",
       "\n",
       "    .dataframe tbody tr th {\n",
       "        vertical-align: top;\n",
       "    }\n",
       "\n",
       "    .dataframe thead th {\n",
       "        text-align: right;\n",
       "    }\n",
       "</style>\n",
       "<table border=\"1\" class=\"dataframe\">\n",
       "  <thead>\n",
       "    <tr style=\"text-align: right;\">\n",
       "      <th></th>\n",
       "      <th>loan_amnt</th>\n",
       "      <th>term</th>\n",
       "      <th>int_rate</th>\n",
       "      <th>installment</th>\n",
       "      <th>grade</th>\n",
       "      <th>sub_grade</th>\n",
       "      <th>emp_title</th>\n",
       "      <th>emp_length</th>\n",
       "      <th>home_ownership</th>\n",
       "      <th>annual_inc</th>\n",
       "      <th>...</th>\n",
       "      <th>open_acc</th>\n",
       "      <th>pub_rec</th>\n",
       "      <th>revol_bal</th>\n",
       "      <th>revol_util</th>\n",
       "      <th>total_acc</th>\n",
       "      <th>initial_list_status</th>\n",
       "      <th>application_type</th>\n",
       "      <th>mort_acc</th>\n",
       "      <th>pub_rec_bankruptcies</th>\n",
       "      <th>address</th>\n",
       "    </tr>\n",
       "  </thead>\n",
       "  <tbody>\n",
       "    <tr>\n",
       "      <th>0</th>\n",
       "      <td>10000.0</td>\n",
       "      <td>36 months</td>\n",
       "      <td>11.44</td>\n",
       "      <td>329.48</td>\n",
       "      <td>B</td>\n",
       "      <td>B4</td>\n",
       "      <td>Marketing</td>\n",
       "      <td>10+ years</td>\n",
       "      <td>RENT</td>\n",
       "      <td>117000.0</td>\n",
       "      <td>...</td>\n",
       "      <td>16.0</td>\n",
       "      <td>0.0</td>\n",
       "      <td>36369.0</td>\n",
       "      <td>41.8</td>\n",
       "      <td>25.0</td>\n",
       "      <td>w</td>\n",
       "      <td>INDIVIDUAL</td>\n",
       "      <td>0.0</td>\n",
       "      <td>0.0</td>\n",
       "      <td>0174 Michelle Gateway\\r\\nMendozaberg, OK 22690</td>\n",
       "    </tr>\n",
       "    <tr>\n",
       "      <th>1</th>\n",
       "      <td>8000.0</td>\n",
       "      <td>36 months</td>\n",
       "      <td>11.99</td>\n",
       "      <td>265.68</td>\n",
       "      <td>B</td>\n",
       "      <td>B5</td>\n",
       "      <td>Credit analyst</td>\n",
       "      <td>4 years</td>\n",
       "      <td>MORTGAGE</td>\n",
       "      <td>65000.0</td>\n",
       "      <td>...</td>\n",
       "      <td>17.0</td>\n",
       "      <td>0.0</td>\n",
       "      <td>20131.0</td>\n",
       "      <td>53.3</td>\n",
       "      <td>27.0</td>\n",
       "      <td>f</td>\n",
       "      <td>INDIVIDUAL</td>\n",
       "      <td>3.0</td>\n",
       "      <td>0.0</td>\n",
       "      <td>1076 Carney Fort Apt. 347\\r\\nLoganmouth, SD 05113</td>\n",
       "    </tr>\n",
       "    <tr>\n",
       "      <th>2</th>\n",
       "      <td>15600.0</td>\n",
       "      <td>36 months</td>\n",
       "      <td>10.49</td>\n",
       "      <td>506.97</td>\n",
       "      <td>B</td>\n",
       "      <td>B3</td>\n",
       "      <td>Statistician</td>\n",
       "      <td>&lt; 1 year</td>\n",
       "      <td>RENT</td>\n",
       "      <td>43057.0</td>\n",
       "      <td>...</td>\n",
       "      <td>13.0</td>\n",
       "      <td>0.0</td>\n",
       "      <td>11987.0</td>\n",
       "      <td>92.2</td>\n",
       "      <td>26.0</td>\n",
       "      <td>f</td>\n",
       "      <td>INDIVIDUAL</td>\n",
       "      <td>0.0</td>\n",
       "      <td>0.0</td>\n",
       "      <td>87025 Mark Dale Apt. 269\\r\\nNew Sabrina, WV 05113</td>\n",
       "    </tr>\n",
       "    <tr>\n",
       "      <th>3</th>\n",
       "      <td>7200.0</td>\n",
       "      <td>36 months</td>\n",
       "      <td>6.49</td>\n",
       "      <td>220.65</td>\n",
       "      <td>A</td>\n",
       "      <td>A2</td>\n",
       "      <td>Client Advocate</td>\n",
       "      <td>6 years</td>\n",
       "      <td>RENT</td>\n",
       "      <td>54000.0</td>\n",
       "      <td>...</td>\n",
       "      <td>6.0</td>\n",
       "      <td>0.0</td>\n",
       "      <td>5472.0</td>\n",
       "      <td>21.5</td>\n",
       "      <td>13.0</td>\n",
       "      <td>f</td>\n",
       "      <td>INDIVIDUAL</td>\n",
       "      <td>0.0</td>\n",
       "      <td>0.0</td>\n",
       "      <td>823 Reid Ford\\r\\nDelacruzside, MA 00813</td>\n",
       "    </tr>\n",
       "    <tr>\n",
       "      <th>4</th>\n",
       "      <td>24375.0</td>\n",
       "      <td>60 months</td>\n",
       "      <td>17.27</td>\n",
       "      <td>609.33</td>\n",
       "      <td>C</td>\n",
       "      <td>C5</td>\n",
       "      <td>Destiny Management Inc.</td>\n",
       "      <td>9 years</td>\n",
       "      <td>MORTGAGE</td>\n",
       "      <td>55000.0</td>\n",
       "      <td>...</td>\n",
       "      <td>13.0</td>\n",
       "      <td>0.0</td>\n",
       "      <td>24584.0</td>\n",
       "      <td>69.8</td>\n",
       "      <td>43.0</td>\n",
       "      <td>f</td>\n",
       "      <td>INDIVIDUAL</td>\n",
       "      <td>1.0</td>\n",
       "      <td>0.0</td>\n",
       "      <td>679 Luna Roads\\r\\nGreggshire, VA 11650</td>\n",
       "    </tr>\n",
       "  </tbody>\n",
       "</table>\n",
       "<p>5 rows × 27 columns</p>\n",
       "</div>"
      ],
      "text/plain": [
       "   loan_amnt        term  int_rate  installment grade sub_grade  \\\n",
       "0    10000.0   36 months     11.44       329.48     B        B4   \n",
       "1     8000.0   36 months     11.99       265.68     B        B5   \n",
       "2    15600.0   36 months     10.49       506.97     B        B3   \n",
       "3     7200.0   36 months      6.49       220.65     A        A2   \n",
       "4    24375.0   60 months     17.27       609.33     C        C5   \n",
       "\n",
       "                 emp_title emp_length home_ownership  annual_inc  ...  \\\n",
       "0                Marketing  10+ years           RENT    117000.0  ...   \n",
       "1          Credit analyst     4 years       MORTGAGE     65000.0  ...   \n",
       "2             Statistician   < 1 year           RENT     43057.0  ...   \n",
       "3          Client Advocate    6 years           RENT     54000.0  ...   \n",
       "4  Destiny Management Inc.    9 years       MORTGAGE     55000.0  ...   \n",
       "\n",
       "  open_acc pub_rec  revol_bal revol_util total_acc  initial_list_status  \\\n",
       "0     16.0     0.0    36369.0       41.8      25.0                    w   \n",
       "1     17.0     0.0    20131.0       53.3      27.0                    f   \n",
       "2     13.0     0.0    11987.0       92.2      26.0                    f   \n",
       "3      6.0     0.0     5472.0       21.5      13.0                    f   \n",
       "4     13.0     0.0    24584.0       69.8      43.0                    f   \n",
       "\n",
       "  application_type  mort_acc  pub_rec_bankruptcies  \\\n",
       "0       INDIVIDUAL       0.0                   0.0   \n",
       "1       INDIVIDUAL       3.0                   0.0   \n",
       "2       INDIVIDUAL       0.0                   0.0   \n",
       "3       INDIVIDUAL       0.0                   0.0   \n",
       "4       INDIVIDUAL       1.0                   0.0   \n",
       "\n",
       "                                             address  \n",
       "0     0174 Michelle Gateway\\r\\nMendozaberg, OK 22690  \n",
       "1  1076 Carney Fort Apt. 347\\r\\nLoganmouth, SD 05113  \n",
       "2  87025 Mark Dale Apt. 269\\r\\nNew Sabrina, WV 05113  \n",
       "3            823 Reid Ford\\r\\nDelacruzside, MA 00813  \n",
       "4             679 Luna Roads\\r\\nGreggshire, VA 11650  \n",
       "\n",
       "[5 rows x 27 columns]"
      ]
     },
     "execution_count": 25,
     "metadata": {},
     "output_type": "execute_result"
    }
   ],
   "source": [
    "loan.head()"
   ]
  },
  {
   "cell_type": "code",
   "execution_count": 33,
   "metadata": {},
   "outputs": [
    {
     "data": {
      "text/plain": [
       "Index(['term', 'grade', 'sub_grade', 'emp_title', 'emp_length',\n",
       "       'home_ownership', 'verification_status', 'issue_d', 'purpose', 'title',\n",
       "       'earliest_cr_line', 'initial_list_status', 'application_type',\n",
       "       'address'],\n",
       "      dtype='object')"
      ]
     },
     "execution_count": 33,
     "metadata": {},
     "output_type": "execute_result"
    }
   ],
   "source": [
    "loan.select_dtypes(['object']).columns"
   ]
  },
  {
   "cell_type": "code",
   "execution_count": 38,
   "metadata": {},
   "outputs": [],
   "source": [
    "hou=pd.read_csv('USA_Housing.csv')"
   ]
  },
  {
   "cell_type": "code",
   "execution_count": 39,
   "metadata": {},
   "outputs": [
    {
     "data": {
      "text/html": [
       "<div>\n",
       "<style scoped>\n",
       "    .dataframe tbody tr th:only-of-type {\n",
       "        vertical-align: middle;\n",
       "    }\n",
       "\n",
       "    .dataframe tbody tr th {\n",
       "        vertical-align: top;\n",
       "    }\n",
       "\n",
       "    .dataframe thead th {\n",
       "        text-align: right;\n",
       "    }\n",
       "</style>\n",
       "<table border=\"1\" class=\"dataframe\">\n",
       "  <thead>\n",
       "    <tr style=\"text-align: right;\">\n",
       "      <th></th>\n",
       "      <th>Avg. Area Income</th>\n",
       "      <th>Avg. Area House Age</th>\n",
       "      <th>Avg. Area Number of Rooms</th>\n",
       "      <th>Avg. Area Number of Bedrooms</th>\n",
       "      <th>Area Population</th>\n",
       "      <th>Price</th>\n",
       "      <th>Address</th>\n",
       "    </tr>\n",
       "  </thead>\n",
       "  <tbody>\n",
       "    <tr>\n",
       "      <th>0</th>\n",
       "      <td>79545.458574</td>\n",
       "      <td>5.682861</td>\n",
       "      <td>7.009188</td>\n",
       "      <td>4.09</td>\n",
       "      <td>23086.800503</td>\n",
       "      <td>1.059034e+06</td>\n",
       "      <td>208 Michael Ferry Apt. 674\\nLaurabury, NE 3701...</td>\n",
       "    </tr>\n",
       "    <tr>\n",
       "      <th>1</th>\n",
       "      <td>79248.642455</td>\n",
       "      <td>6.002900</td>\n",
       "      <td>6.730821</td>\n",
       "      <td>3.09</td>\n",
       "      <td>40173.072174</td>\n",
       "      <td>1.505891e+06</td>\n",
       "      <td>188 Johnson Views Suite 079\\nLake Kathleen, CA...</td>\n",
       "    </tr>\n",
       "    <tr>\n",
       "      <th>2</th>\n",
       "      <td>61287.067179</td>\n",
       "      <td>5.865890</td>\n",
       "      <td>8.512727</td>\n",
       "      <td>5.13</td>\n",
       "      <td>36882.159400</td>\n",
       "      <td>1.058988e+06</td>\n",
       "      <td>9127 Elizabeth Stravenue\\nDanieltown, WI 06482...</td>\n",
       "    </tr>\n",
       "    <tr>\n",
       "      <th>3</th>\n",
       "      <td>63345.240046</td>\n",
       "      <td>7.188236</td>\n",
       "      <td>5.586729</td>\n",
       "      <td>3.26</td>\n",
       "      <td>34310.242831</td>\n",
       "      <td>1.260617e+06</td>\n",
       "      <td>USS Barnett\\nFPO AP 44820</td>\n",
       "    </tr>\n",
       "    <tr>\n",
       "      <th>4</th>\n",
       "      <td>59982.197226</td>\n",
       "      <td>5.040555</td>\n",
       "      <td>7.839388</td>\n",
       "      <td>4.23</td>\n",
       "      <td>26354.109472</td>\n",
       "      <td>6.309435e+05</td>\n",
       "      <td>USNS Raymond\\nFPO AE 09386</td>\n",
       "    </tr>\n",
       "  </tbody>\n",
       "</table>\n",
       "</div>"
      ],
      "text/plain": [
       "   Avg. Area Income  Avg. Area House Age  Avg. Area Number of Rooms  \\\n",
       "0      79545.458574             5.682861                   7.009188   \n",
       "1      79248.642455             6.002900                   6.730821   \n",
       "2      61287.067179             5.865890                   8.512727   \n",
       "3      63345.240046             7.188236                   5.586729   \n",
       "4      59982.197226             5.040555                   7.839388   \n",
       "\n",
       "   Avg. Area Number of Bedrooms  Area Population         Price  \\\n",
       "0                          4.09     23086.800503  1.059034e+06   \n",
       "1                          3.09     40173.072174  1.505891e+06   \n",
       "2                          5.13     36882.159400  1.058988e+06   \n",
       "3                          3.26     34310.242831  1.260617e+06   \n",
       "4                          4.23     26354.109472  6.309435e+05   \n",
       "\n",
       "                                             Address  \n",
       "0  208 Michael Ferry Apt. 674\\nLaurabury, NE 3701...  \n",
       "1  188 Johnson Views Suite 079\\nLake Kathleen, CA...  \n",
       "2  9127 Elizabeth Stravenue\\nDanieltown, WI 06482...  \n",
       "3                          USS Barnett\\nFPO AP 44820  \n",
       "4                         USNS Raymond\\nFPO AE 09386  "
      ]
     },
     "execution_count": 39,
     "metadata": {},
     "output_type": "execute_result"
    }
   ],
   "source": [
    "hou.head()"
   ]
  },
  {
   "cell_type": "code",
   "execution_count": 40,
   "metadata": {},
   "outputs": [
    {
     "data": {
      "text/plain": [
       "0       208 Michael Ferry Apt. 674\\nLaurabury, NE 3701...\n",
       "1       188 Johnson Views Suite 079\\nLake Kathleen, CA...\n",
       "2       9127 Elizabeth Stravenue\\nDanieltown, WI 06482...\n",
       "3                               USS Barnett\\nFPO AP 44820\n",
       "4                              USNS Raymond\\nFPO AE 09386\n",
       "                              ...                        \n",
       "4995                     USNS Williams\\nFPO AP 30153-7653\n",
       "4996                PSC 9258, Box 8489\\nAPO AA 42991-3352\n",
       "4997    4215 Tracy Garden Suite 076\\nJoshualand, VA 01...\n",
       "4998                            USS Wallace\\nFPO AE 73316\n",
       "4999    37778 George Ridges Apt. 509\\nEast Holly, NV 2...\n",
       "Name: Address, Length: 5000, dtype: object"
      ]
     },
     "execution_count": 40,
     "metadata": {},
     "output_type": "execute_result"
    }
   ],
   "source": [
    "hou['Address']"
   ]
  },
  {
   "cell_type": "code",
   "execution_count": 122,
   "metadata": {},
   "outputs": [],
   "source": [
    "X=hou.drop(['Address','Price'],axis=1).values\n",
    "y=hou['Price'].values"
   ]
  },
  {
   "cell_type": "code",
   "execution_count": 123,
   "metadata": {},
   "outputs": [
    {
     "data": {
      "text/plain": [
       "array([[7.95454586e+04, 5.68286132e+00, 7.00918814e+00, 4.09000000e+00,\n",
       "        2.30868005e+04],\n",
       "       [7.92486425e+04, 6.00289981e+00, 6.73082102e+00, 3.09000000e+00,\n",
       "        4.01730722e+04],\n",
       "       [6.12870672e+04, 5.86588984e+00, 8.51272743e+00, 5.13000000e+00,\n",
       "        3.68821594e+04],\n",
       "       ...,\n",
       "       [6.33906869e+04, 7.25059061e+00, 4.80508098e+00, 2.13000000e+00,\n",
       "        3.32661455e+04],\n",
       "       [6.80013312e+04, 5.53438842e+00, 7.13014386e+00, 5.44000000e+00,\n",
       "        4.26256202e+04],\n",
       "       [6.55105818e+04, 5.99230531e+00, 6.79233610e+00, 4.07000000e+00,\n",
       "        4.65012838e+04]])"
      ]
     },
     "execution_count": 123,
     "metadata": {},
     "output_type": "execute_result"
    }
   ],
   "source": [
    "X"
   ]
  },
  {
   "cell_type": "code",
   "execution_count": 124,
   "metadata": {},
   "outputs": [
    {
     "data": {
      "text/plain": [
       "array([1059033.55787012, 1505890.91484695, 1058987.98787608, ...,\n",
       "       1030729.58315229, 1198656.87240769, 1298950.48026696])"
      ]
     },
     "execution_count": 124,
     "metadata": {},
     "output_type": "execute_result"
    }
   ],
   "source": [
    "y"
   ]
  },
  {
   "cell_type": "code",
   "execution_count": 125,
   "metadata": {},
   "outputs": [],
   "source": [
    "from sklearn.preprocessing import StandardScaler"
   ]
  },
  {
   "cell_type": "code",
   "execution_count": 126,
   "metadata": {},
   "outputs": [],
   "source": [
    "from sklearn.model_selection import train_test_split"
   ]
  },
  {
   "cell_type": "code",
   "execution_count": 127,
   "metadata": {},
   "outputs": [],
   "source": [
    "X_train, X_test, y_train, y_test = train_test_split(X, y, test_size=0.20, random_state=42)"
   ]
  },
  {
   "cell_type": "code",
   "execution_count": 128,
   "metadata": {},
   "outputs": [
    {
     "data": {
      "text/plain": [
       "(5000, 5)"
      ]
     },
     "execution_count": 128,
     "metadata": {},
     "output_type": "execute_result"
    }
   ],
   "source": [
    "X.shape"
   ]
  },
  {
   "cell_type": "code",
   "execution_count": 129,
   "metadata": {},
   "outputs": [],
   "source": [
    "sd=StandardScaler()"
   ]
  },
  {
   "cell_type": "code",
   "execution_count": 130,
   "metadata": {},
   "outputs": [],
   "source": [
    "X_train=sd.fit_transform(X_train)\n",
    "X_test=sd.transform(X_test)"
   ]
  },
  {
   "cell_type": "code",
   "execution_count": 131,
   "metadata": {},
   "outputs": [
    {
     "data": {
      "text/plain": [
       "array([1094879.77349138, 1300389.35082021, 1382172.29370661, ...,\n",
       "       1318597.71477866, 1708631.36537014, 1060897.6894524 ])"
      ]
     },
     "execution_count": 131,
     "metadata": {},
     "output_type": "execute_result"
    }
   ],
   "source": [
    "y_train"
   ]
  },
  {
   "cell_type": "code",
   "execution_count": 132,
   "metadata": {},
   "outputs": [],
   "source": [
    "from tensorflow.keras.models import Sequential\n",
    "from tensorflow.keras.layers import Dropout,Dense\n",
    "from tensorflow.keras.callbacks import EarlyStopping"
   ]
  },
  {
   "cell_type": "code",
   "execution_count": 140,
   "metadata": {},
   "outputs": [],
   "source": [
    "model=Sequential()\n",
    "earls=EarlyStopping(mode='min',patience=15)"
   ]
  },
  {
   "cell_type": "code",
   "execution_count": 197,
   "metadata": {},
   "outputs": [
    {
     "name": "stdout",
     "output_type": "stream",
     "text": [
      "Train on 4000 samples, validate on 1000 samples\n",
      "Epoch 1/50\n",
      "4000/4000 [==============================] - 8s 2ms/sample - loss: 1654714420756.4800 - val_loss: 1665733200445.4399\n",
      "Epoch 2/50\n",
      "4000/4000 [==============================] - 1s 227us/sample - loss: 1636903486095.3601 - val_loss: 1665732867522.5601\n",
      "Epoch 3/50\n",
      "4000/4000 [==============================] - 1s 228us/sample - loss: 1636902901514.2400 - val_loss: 1665732246241.2800\n",
      "Epoch 4/50\n",
      "4000/4000 [==============================] - 1s 217us/sample - loss: 1636902227804.1602 - val_loss: 1665731348398.0801\n",
      "Epoch 5/50\n",
      "4000/4000 [==============================] - 1s 221us/sample - loss: 1636901466767.3601 - val_loss: 1665730674688.0000\n",
      "Epoch 6/50\n",
      "4000/4000 [==============================] - 1s 217us/sample - loss: 1636900592353.2800 - val_loss: 1665729757184.0000\n",
      "Epoch 7/50\n",
      "4000/4000 [==============================] - 1s 215us/sample - loss: 1636899669934.0801 - val_loss: 1665728560496.6399\n",
      "Epoch 8/50\n",
      "4000/4000 [==============================] - 1s 220us/sample - loss: 1636898615787.5200 - val_loss: 1665727606292.4800\n",
      "Epoch 9/50\n",
      "4000/4000 [==============================] - 1s 220us/sample - loss: 1636897501675.5200 - val_loss: 1665726355865.6001\n",
      "Epoch 10/50\n",
      "4000/4000 [==============================] - 1s 226us/sample - loss: 1636896292208.6399 - val_loss: 1665725129031.6799\n",
      "Epoch 11/50\n",
      "4000/4000 [==============================] - 1s 219us/sample - loss: 1636894992629.7600 - val_loss: 1665723849768.9600\n",
      "Epoch 12/50\n",
      "4000/4000 [==============================] - 1s 214us/sample - loss: 1636893608837.1199 - val_loss: 1665722293944.3201\n",
      "Epoch 13/50\n",
      "4000/4000 [==============================] - 1s 220us/sample - loss: 1636892125757.4399 - val_loss: 1665720785305.6001\n",
      "Epoch 14/50\n",
      "4000/4000 [==============================] - 1s 219us/sample - loss: 1636890568622.0801 - val_loss: 1665719243898.8799\n",
      "Epoch 15/50\n",
      "4000/4000 [==============================] - 1s 220us/sample - loss: 1636888926945.2800 - val_loss: 1665717395783.6799\n",
      "Epoch 16/50\n",
      "4000/4000 [==============================] - 1s 229us/sample - loss: 1636887148625.9199 - val_loss: 1665715780976.6399\n",
      "Epoch 17/50\n",
      "4000/4000 [==============================] - 1s 215us/sample - loss: 1636885348352.0000 - val_loss: 1665713703485.4399\n",
      "Epoch 18/50\n",
      "4000/4000 [==============================] - 1s 211us/sample - loss: 1636883421921.2800 - val_loss: 1665711785902.0801\n",
      "Epoch 19/50\n",
      "4000/4000 [==============================] - 1s 220us/sample - loss: 1636881407672.3201 - val_loss: 1665709640253.4399\n",
      "Epoch 20/50\n",
      "4000/4000 [==============================] - 1s 220us/sample - loss: 1636879313797.1199 - val_loss: 1665707435622.3999\n",
      "Epoch 21/50\n",
      "4000/4000 [==============================] - 1s 221us/sample - loss: 1636877118341.1199 - val_loss: 1665705253273.6001\n",
      "Epoch 22/50\n",
      "4000/4000 [==============================] - 1s 224us/sample - loss: 1636874844897.2800 - val_loss: 1665703006699.5200\n",
      "Epoch 23/50\n",
      "4000/4000 [==============================] - 1s 214us/sample - loss: 1636872511160.3201 - val_loss: 1665700566138.8799\n",
      "Epoch 24/50\n",
      "4000/4000 [==============================] - 1s 221us/sample - loss: 1636870050283.5200 - val_loss: 1665698075770.8799\n",
      "Epoch 25/50\n",
      "4000/4000 [==============================] - 1s 222us/sample - loss: 1636867528130.5601 - val_loss: 1665695333744.6399\n",
      "Epoch 26/50\n",
      "4000/4000 [==============================] - 1s 220us/sample - loss: 1636864876544.0000 - val_loss: 1665692822405.1201\n",
      "Epoch 27/50\n",
      "4000/4000 [==============================] - 1s 222us/sample - loss: 1636862181703.6799 - val_loss: 1665689992560.6399\n",
      "Epoch 28/50\n",
      "4000/4000 [==============================] - 1s 220us/sample - loss: 1636859372830.7200 - val_loss: 1665686945136.6399\n",
      "Epoch 29/50\n",
      "4000/4000 [==============================] - 1s 215us/sample - loss: 1636856471552.0000 - val_loss: 1665684117913.6001\n",
      "Epoch 30/50\n",
      "4000/4000 [==============================] - 1s 229us/sample - loss: 1636853502115.8398 - val_loss: 1665681056071.6799\n",
      "Epoch 31/50\n",
      "4000/4000 [==============================] - 1s 233us/sample - loss: 1636850436997.1199 - val_loss: 1665677937868.8000\n",
      "Epoch 32/50\n",
      "4000/4000 [==============================] - 1s 236us/sample - loss: 1636847290941.4399 - val_loss: 1665674552279.0400\n",
      "Epoch 33/50\n",
      "4000/4000 [==============================] - 1s 235us/sample - loss: 1636844041011.2000 - val_loss: 1665671385579.5200\n",
      "Epoch 34/50\n",
      "4000/4000 [==============================] - 1s 231us/sample - loss: 1636840709160.9602 - val_loss: 1665667977707.5200\n",
      "Epoch 35/50\n",
      "4000/4000 [==============================] - 1s 225us/sample - loss: 1636837291130.8801 - val_loss: 1665664513474.5601\n",
      "Epoch 36/50\n",
      "4000/4000 [==============================] - 1s 239us/sample - loss: 1636833778401.2800 - val_loss: 1665660826419.2000\n",
      "Epoch 37/50\n",
      "4000/4000 [==============================] - 1s 272us/sample - loss: 1636830192271.3601 - val_loss: 1665657124945.9199\n",
      "Epoch 38/50\n",
      "4000/4000 [==============================] - 1s 219us/sample - loss: 1636826495713.2800 - val_loss: 1665653395947.5200\n",
      "Epoch 39/50\n",
      "4000/4000 [==============================] - 1s 265us/sample - loss: 1636822735585.2800 - val_loss: 1665649625006.0801\n",
      "Epoch 40/50\n",
      "4000/4000 [==============================] - 1s 245us/sample - loss: 1636818860441.6001 - val_loss: 1665645660078.0801\n",
      "Epoch 41/50\n",
      "4000/4000 [==============================] - 1s 240us/sample - loss: 1636814904033.2800 - val_loss: 1665641595535.3601\n",
      "Epoch 42/50\n",
      "4000/4000 [==============================] - 1s 239us/sample - loss: 1636810882416.6399 - val_loss: 1665637508710.3999\n",
      "Epoch 43/50\n",
      "4000/4000 [==============================] - 1s 246us/sample - loss: 1636806739886.0801 - val_loss: 1665633216102.3999\n",
      "Epoch 44/50\n",
      "4000/4000 [==============================] - 1s 248us/sample - loss: 1636802515763.2000 - val_loss: 1665628855336.9600\n",
      "Epoch 45/50\n",
      "4000/4000 [==============================] - 1s 246us/sample - loss: 1636798237245.4399 - val_loss: 1665624505057.2800\n",
      "Epoch 46/50\n",
      "4000/4000 [==============================] - 1s 251us/sample - loss: 1636793838469.1199 - val_loss: 1665620133806.0801\n",
      "Epoch 47/50\n",
      "4000/4000 [==============================] - 1s 247us/sample - loss: 1636789365637.1199 - val_loss: 1665615509585.9199\n",
      "Epoch 48/50\n",
      "4000/4000 [==============================] - 1s 253us/sample - loss: 1636784805314.5601 - val_loss: 1665610873569.2800\n",
      "Epoch 49/50\n",
      "4000/4000 [==============================] - 1s 252us/sample - loss: 1636780136529.9199 - val_loss: 1665606148423.6799\n",
      "Epoch 50/50\n",
      "4000/4000 [==============================] - 1s 253us/sample - loss: 1636775386152.9602 - val_loss: 1665601208320.0000\n"
     ]
    },
    {
     "data": {
      "text/plain": [
       "<tensorflow.python.keras.callbacks.History at 0x2c522bcb688>"
      ]
     },
     "execution_count": 197,
     "metadata": {},
     "output_type": "execute_result"
    }
   ],
   "source": [
    "model.add(Dense(5,activation='relu'))\n",
    "model.add(Dense(2,activation='relu'))\n",
    "model.add(Dense(2,activation='relu'))\n",
    "model.add(Dense(1))\n",
    "\n",
    "model.compile(loss='mse',optimizer='rmsprop')\n",
    "model.fit(x=X_train,y=y_train,epochs=50,batch_size=30,validation_data=(X_test,y_test),callbacks=[earls])"
   ]
  },
  {
   "cell_type": "code",
   "execution_count": 135,
   "metadata": {},
   "outputs": [
    {
     "name": "stdout",
     "output_type": "stream",
     "text": [
      "4000/4000 [==============================] - 0s 84us/sample - loss: 36572146663.4240\n"
     ]
    },
    {
     "data": {
      "text/plain": [
       "36572146663.424"
      ]
     },
     "execution_count": 135,
     "metadata": {},
     "output_type": "execute_result"
    }
   ],
   "source": [
    "model.evaluate(X_train,y_train)"
   ]
  },
  {
   "cell_type": "code",
   "execution_count": 198,
   "metadata": {},
   "outputs": [],
   "source": [
    "loss=pd.DataFrame(model.history.history)"
   ]
  },
  {
   "cell_type": "code",
   "execution_count": 199,
   "metadata": {},
   "outputs": [
    {
     "data": {
      "text/html": [
       "<div>\n",
       "<style scoped>\n",
       "    .dataframe tbody tr th:only-of-type {\n",
       "        vertical-align: middle;\n",
       "    }\n",
       "\n",
       "    .dataframe tbody tr th {\n",
       "        vertical-align: top;\n",
       "    }\n",
       "\n",
       "    .dataframe thead th {\n",
       "        text-align: right;\n",
       "    }\n",
       "</style>\n",
       "<table border=\"1\" class=\"dataframe\">\n",
       "  <thead>\n",
       "    <tr style=\"text-align: right;\">\n",
       "      <th></th>\n",
       "      <th>loss</th>\n",
       "      <th>val_loss</th>\n",
       "    </tr>\n",
       "  </thead>\n",
       "  <tbody>\n",
       "    <tr>\n",
       "      <th>45</th>\n",
       "      <td>1.636794e+12</td>\n",
       "      <td>1.665620e+12</td>\n",
       "    </tr>\n",
       "    <tr>\n",
       "      <th>46</th>\n",
       "      <td>1.636789e+12</td>\n",
       "      <td>1.665616e+12</td>\n",
       "    </tr>\n",
       "    <tr>\n",
       "      <th>47</th>\n",
       "      <td>1.636785e+12</td>\n",
       "      <td>1.665611e+12</td>\n",
       "    </tr>\n",
       "    <tr>\n",
       "      <th>48</th>\n",
       "      <td>1.636780e+12</td>\n",
       "      <td>1.665606e+12</td>\n",
       "    </tr>\n",
       "    <tr>\n",
       "      <th>49</th>\n",
       "      <td>1.636775e+12</td>\n",
       "      <td>1.665601e+12</td>\n",
       "    </tr>\n",
       "  </tbody>\n",
       "</table>\n",
       "</div>"
      ],
      "text/plain": [
       "            loss      val_loss\n",
       "45  1.636794e+12  1.665620e+12\n",
       "46  1.636789e+12  1.665616e+12\n",
       "47  1.636785e+12  1.665611e+12\n",
       "48  1.636780e+12  1.665606e+12\n",
       "49  1.636775e+12  1.665601e+12"
      ]
     },
     "execution_count": 199,
     "metadata": {},
     "output_type": "execute_result"
    }
   ],
   "source": [
    "loss.tail()"
   ]
  },
  {
   "cell_type": "code",
   "execution_count": 200,
   "metadata": {},
   "outputs": [
    {
     "data": {
      "text/plain": [
       "<matplotlib.axes._subplots.AxesSubplot at 0x2c5244db108>"
      ]
     },
     "execution_count": 200,
     "metadata": {},
     "output_type": "execute_result"
    },
    {
     "data": {
      "image/png": "[encoded data removed]",
      "text/plain": [
       "<Figure size 432x288 with 1 Axes>"
      ]
     },
     "metadata": {
      "needs_background": "light"
     },
     "output_type": "display_data"
    }
   ],
   "source": [
    "loss.plot()"
   ]
  },
  {
   "cell_type": "code",
   "execution_count": 195,
   "metadata": {},
   "outputs": [],
   "source": [
    "from sklearn.metrics import explained_variance_score,mean_absolute_error,mean_squared_error,r2_score"
   ]
  },
  {
   "cell_type": "code",
   "execution_count": 190,
   "metadata": {},
   "outputs": [],
   "source": [
    "preds=model.predict(X_test)"
   ]
  },
  {
   "cell_type": "code",
   "execution_count": 191,
   "metadata": {},
   "outputs": [
    {
     "data": {
      "text/plain": [
       "279176.7273053784"
      ]
     },
     "execution_count": 191,
     "metadata": {},
     "output_type": "execute_result"
    }
   ],
   "source": [
    "mean_absolute_error(y_test,preds)"
   ]
  },
  {
   "cell_type": "code",
   "execution_count": 192,
   "metadata": {},
   "outputs": [
    {
     "data": {
      "text/plain": [
       "count    5.000000e+03\n",
       "mean     1.232073e+06\n",
       "std      3.531176e+05\n",
       "min      1.593866e+04\n",
       "25%      9.975771e+05\n",
       "50%      1.232669e+06\n",
       "75%      1.471210e+06\n",
       "max      2.469066e+06\n",
       "Name: Price, dtype: float64"
      ]
     },
     "execution_count": 192,
     "metadata": {},
     "output_type": "execute_result"
    }
   ],
   "source": [
    "hou['Price'].describe()"
   ]
  },
  {
   "cell_type": "code",
   "execution_count": 193,
   "metadata": {},
   "outputs": [
    {
     "data": {
      "text/plain": [
       "0.0"
      ]
     },
     "execution_count": 193,
     "metadata": {},
     "output_type": "execute_result"
    }
   ],
   "source": [
    "explained_variance_score(y_test,preds)"
   ]
  },
  {
   "cell_type": "code",
   "execution_count": 196,
   "metadata": {},
   "outputs": [
    {
     "data": {
      "text/plain": [
       "-0.001575130464833041"
      ]
     },
     "execution_count": 196,
     "metadata": {},
     "output_type": "execute_result"
    }
   ],
   "source": [
    "r2_score(y_test,preds)"
   ]
  },
  {
   "cell_type": "code",
   "execution_count": 201,
   "metadata": {},
   "outputs": [],
   "source": [
    "churn=pd.read_csv('Churn_Modelling.csv')"
   ]
  },
  {
   "cell_type": "code",
   "execution_count": 202,
   "metadata": {},
   "outputs": [
    {
     "data": {
      "text/html": [
       "<div>\n",
       "<style scoped>\n",
       "    .dataframe tbody tr th:only-of-type {\n",
       "        vertical-align: middle;\n",
       "    }\n",
       "\n",
       "    .dataframe tbody tr th {\n",
       "        vertical-align: top;\n",
       "    }\n",
       "\n",
       "    .dataframe thead th {\n",
       "        text-align: right;\n",
       "    }\n",
       "</style>\n",
       "<table border=\"1\" class=\"dataframe\">\n",
       "  <thead>\n",
       "    <tr style=\"text-align: right;\">\n",
       "      <th></th>\n",
       "      <th>RowNumber</th>\n",
       "      <th>CustomerId</th>\n",
       "      <th>Surname</th>\n",
       "      <th>CreditScore</th>\n",
       "      <th>Geography</th>\n",
       "      <th>Gender</th>\n",
       "      <th>Age</th>\n",
       "      <th>Tenure</th>\n",
       "      <th>Balance</th>\n",
       "      <th>NumOfProducts</th>\n",
       "      <th>HasCrCard</th>\n",
       "      <th>IsActiveMember</th>\n",
       "      <th>EstimatedSalary</th>\n",
       "      <th>Exited</th>\n",
       "    </tr>\n",
       "  </thead>\n",
       "  <tbody>\n",
       "    <tr>\n",
       "      <th>0</th>\n",
       "      <td>1</td>\n",
       "      <td>15634602</td>\n",
       "      <td>Hargrave</td>\n",
       "      <td>619</td>\n",
       "      <td>France</td>\n",
       "      <td>Female</td>\n",
       "      <td>42</td>\n",
       "      <td>2</td>\n",
       "      <td>0.00</td>\n",
       "      <td>1</td>\n",
       "      <td>1</td>\n",
       "      <td>1</td>\n",
       "      <td>101348.88</td>\n",
       "      <td>1</td>\n",
       "    </tr>\n",
       "    <tr>\n",
       "      <th>1</th>\n",
       "      <td>2</td>\n",
       "      <td>15647311</td>\n",
       "      <td>Hill</td>\n",
       "      <td>608</td>\n",
       "      <td>Spain</td>\n",
       "      <td>Female</td>\n",
       "      <td>41</td>\n",
       "      <td>1</td>\n",
       "      <td>83807.86</td>\n",
       "      <td>1</td>\n",
       "      <td>0</td>\n",
       "      <td>1</td>\n",
       "      <td>112542.58</td>\n",
       "      <td>0</td>\n",
       "    </tr>\n",
       "    <tr>\n",
       "      <th>2</th>\n",
       "      <td>3</td>\n",
       "      <td>15619304</td>\n",
       "      <td>Onio</td>\n",
       "      <td>502</td>\n",
       "      <td>France</td>\n",
       "      <td>Female</td>\n",
       "      <td>42</td>\n",
       "      <td>8</td>\n",
       "      <td>159660.80</td>\n",
       "      <td>3</td>\n",
       "      <td>1</td>\n",
       "      <td>0</td>\n",
       "      <td>113931.57</td>\n",
       "      <td>1</td>\n",
       "    </tr>\n",
       "    <tr>\n",
       "      <th>3</th>\n",
       "      <td>4</td>\n",
       "      <td>15701354</td>\n",
       "      <td>Boni</td>\n",
       "      <td>699</td>\n",
       "      <td>France</td>\n",
       "      <td>Female</td>\n",
       "      <td>39</td>\n",
       "      <td>1</td>\n",
       "      <td>0.00</td>\n",
       "      <td>2</td>\n",
       "      <td>0</td>\n",
       "      <td>0</td>\n",
       "      <td>93826.63</td>\n",
       "      <td>0</td>\n",
       "    </tr>\n",
       "    <tr>\n",
       "      <th>4</th>\n",
       "      <td>5</td>\n",
       "      <td>15737888</td>\n",
       "      <td>Mitchell</td>\n",
       "      <td>850</td>\n",
       "      <td>Spain</td>\n",
       "      <td>Female</td>\n",
       "      <td>43</td>\n",
       "      <td>2</td>\n",
       "      <td>125510.82</td>\n",
       "      <td>1</td>\n",
       "      <td>1</td>\n",
       "      <td>1</td>\n",
       "      <td>79084.10</td>\n",
       "      <td>0</td>\n",
       "    </tr>\n",
       "  </tbody>\n",
       "</table>\n",
       "</div>"
      ],
      "text/plain": [
       "   RowNumber  CustomerId   Surname  CreditScore Geography  Gender  Age  \\\n",
       "0          1    15634602  Hargrave          619    France  Female   42   \n",
       "1          2    15647311      Hill          608     Spain  Female   41   \n",
       "2          3    15619304      Onio          502    France  Female   42   \n",
       "3          4    15701354      Boni          699    France  Female   39   \n",
       "4          5    15737888  Mitchell          850     Spain  Female   43   \n",
       "\n",
       "   Tenure    Balance  NumOfProducts  HasCrCard  IsActiveMember  \\\n",
       "0       2       0.00              1          1               1   \n",
       "1       1   83807.86              1          0               1   \n",
       "2       8  159660.80              3          1               0   \n",
       "3       1       0.00              2          0               0   \n",
       "4       2  125510.82              1          1               1   \n",
       "\n",
       "   EstimatedSalary  Exited  \n",
       "0        101348.88       1  \n",
       "1        112542.58       0  \n",
       "2        113931.57       1  \n",
       "3         93826.63       0  \n",
       "4         79084.10       0  "
      ]
     },
     "execution_count": 202,
     "metadata": {},
     "output_type": "execute_result"
    }
   ],
   "source": [
    "churn.head()"
   ]
  },
  {
   "cell_type": "code",
   "execution_count": 205,
   "metadata": {},
   "outputs": [
    {
     "data": {
      "text/plain": [
       "array([1, 3, 2, 4], dtype=int64)"
      ]
     },
     "execution_count": 205,
     "metadata": {},
     "output_type": "execute_result"
    }
   ],
   "source": [
    "churn['NumOfProducts'].unique()"
   ]
  },
  {
   "cell_type": "code",
   "execution_count": 206,
   "metadata": {},
   "outputs": [],
   "source": [
    "churn=churn.drop(['RowNumber','CustomerId','Surname'],axis=1)"
   ]
  },
  {
   "cell_type": "code",
   "execution_count": 207,
   "metadata": {},
   "outputs": [
    {
     "data": {
      "text/html": [
       "<div>\n",
       "<style scoped>\n",
       "    .dataframe tbody tr th:only-of-type {\n",
       "        vertical-align: middle;\n",
       "    }\n",
       "\n",
       "    .dataframe tbody tr th {\n",
       "        vertical-align: top;\n",
       "    }\n",
       "\n",
       "    .dataframe thead th {\n",
       "        text-align: right;\n",
       "    }\n",
       "</style>\n",
       "<table border=\"1\" class=\"dataframe\">\n",
       "  <thead>\n",
       "    <tr style=\"text-align: right;\">\n",
       "      <th></th>\n",
       "      <th>CreditScore</th>\n",
       "      <th>Geography</th>\n",
       "      <th>Gender</th>\n",
       "      <th>Age</th>\n",
       "      <th>Tenure</th>\n",
       "      <th>Balance</th>\n",
       "      <th>NumOfProducts</th>\n",
       "      <th>HasCrCard</th>\n",
       "      <th>IsActiveMember</th>\n",
       "      <th>EstimatedSalary</th>\n",
       "      <th>Exited</th>\n",
       "    </tr>\n",
       "  </thead>\n",
       "  <tbody>\n",
       "    <tr>\n",
       "      <th>0</th>\n",
       "      <td>619</td>\n",
       "      <td>France</td>\n",
       "      <td>Female</td>\n",
       "      <td>42</td>\n",
       "      <td>2</td>\n",
       "      <td>0.00</td>\n",
       "      <td>1</td>\n",
       "      <td>1</td>\n",
       "      <td>1</td>\n",
       "      <td>101348.88</td>\n",
       "      <td>1</td>\n",
       "    </tr>\n",
       "    <tr>\n",
       "      <th>1</th>\n",
       "      <td>608</td>\n",
       "      <td>Spain</td>\n",
       "      <td>Female</td>\n",
       "      <td>41</td>\n",
       "      <td>1</td>\n",
       "      <td>83807.86</td>\n",
       "      <td>1</td>\n",
       "      <td>0</td>\n",
       "      <td>1</td>\n",
       "      <td>112542.58</td>\n",
       "      <td>0</td>\n",
       "    </tr>\n",
       "    <tr>\n",
       "      <th>2</th>\n",
       "      <td>502</td>\n",
       "      <td>France</td>\n",
       "      <td>Female</td>\n",
       "      <td>42</td>\n",
       "      <td>8</td>\n",
       "      <td>159660.80</td>\n",
       "      <td>3</td>\n",
       "      <td>1</td>\n",
       "      <td>0</td>\n",
       "      <td>113931.57</td>\n",
       "      <td>1</td>\n",
       "    </tr>\n",
       "    <tr>\n",
       "      <th>3</th>\n",
       "      <td>699</td>\n",
       "      <td>France</td>\n",
       "      <td>Female</td>\n",
       "      <td>39</td>\n",
       "      <td>1</td>\n",
       "      <td>0.00</td>\n",
       "      <td>2</td>\n",
       "      <td>0</td>\n",
       "      <td>0</td>\n",
       "      <td>93826.63</td>\n",
       "      <td>0</td>\n",
       "    </tr>\n",
       "    <tr>\n",
       "      <th>4</th>\n",
       "      <td>850</td>\n",
       "      <td>Spain</td>\n",
       "      <td>Female</td>\n",
       "      <td>43</td>\n",
       "      <td>2</td>\n",
       "      <td>125510.82</td>\n",
       "      <td>1</td>\n",
       "      <td>1</td>\n",
       "      <td>1</td>\n",
       "      <td>79084.10</td>\n",
       "      <td>0</td>\n",
       "    </tr>\n",
       "  </tbody>\n",
       "</table>\n",
       "</div>"
      ],
      "text/plain": [
       "   CreditScore Geography  Gender  Age  Tenure    Balance  NumOfProducts  \\\n",
       "0          619    France  Female   42       2       0.00              1   \n",
       "1          608     Spain  Female   41       1   83807.86              1   \n",
       "2          502    France  Female   42       8  159660.80              3   \n",
       "3          699    France  Female   39       1       0.00              2   \n",
       "4          850     Spain  Female   43       2  125510.82              1   \n",
       "\n",
       "   HasCrCard  IsActiveMember  EstimatedSalary  Exited  \n",
       "0          1               1        101348.88       1  \n",
       "1          0               1        112542.58       0  \n",
       "2          1               0        113931.57       1  \n",
       "3          0               0         93826.63       0  \n",
       "4          1               1         79084.10       0  "
      ]
     },
     "execution_count": 207,
     "metadata": {},
     "output_type": "execute_result"
    }
   ],
   "source": [
    "churn.head()"
   ]
  },
  {
   "cell_type": "code",
   "execution_count": 209,
   "metadata": {},
   "outputs": [
    {
     "data": {
      "text/plain": [
       "3"
      ]
     },
     "execution_count": 209,
     "metadata": {},
     "output_type": "execute_result"
    }
   ],
   "source": [
    "churn['Geography'].nunique()"
   ]
  },
  {
   "cell_type": "code",
   "execution_count": 213,
   "metadata": {},
   "outputs": [],
   "source": [
    "from feature_engine.categorical_encoders import OneHotCategoricalEncoder"
   ]
  },
  {
   "cell_type": "code",
   "execution_count": 214,
   "metadata": {},
   "outputs": [],
   "source": [
    "onc=OneHotCategoricalEncoder(variables=['Gender','Geography'])"
   ]
  },
  {
   "cell_type": "code",
   "execution_count": 215,
   "metadata": {},
   "outputs": [],
   "source": [
    "churn=onc.fit_transform(churn)"
   ]
  },
  {
   "cell_type": "code",
   "execution_count": 216,
   "metadata": {},
   "outputs": [
    {
     "data": {
      "text/html": [
       "<div>\n",
       "<style scoped>\n",
       "    .dataframe tbody tr th:only-of-type {\n",
       "        vertical-align: middle;\n",
       "    }\n",
       "\n",
       "    .dataframe tbody tr th {\n",
       "        vertical-align: top;\n",
       "    }\n",
       "\n",
       "    .dataframe thead th {\n",
       "        text-align: right;\n",
       "    }\n",
       "</style>\n",
       "<table border=\"1\" class=\"dataframe\">\n",
       "  <thead>\n",
       "    <tr style=\"text-align: right;\">\n",
       "      <th></th>\n",
       "      <th>CreditScore</th>\n",
       "      <th>Age</th>\n",
       "      <th>Tenure</th>\n",
       "      <th>Balance</th>\n",
       "      <th>NumOfProducts</th>\n",
       "      <th>HasCrCard</th>\n",
       "      <th>IsActiveMember</th>\n",
       "      <th>EstimatedSalary</th>\n",
       "      <th>Exited</th>\n",
       "      <th>Gender_Female</th>\n",
       "      <th>Gender_Male</th>\n",
       "      <th>Geography_France</th>\n",
       "      <th>Geography_Spain</th>\n",
       "      <th>Geography_Germany</th>\n",
       "    </tr>\n",
       "  </thead>\n",
       "  <tbody>\n",
       "    <tr>\n",
       "      <th>0</th>\n",
       "      <td>619</td>\n",
       "      <td>42</td>\n",
       "      <td>2</td>\n",
       "      <td>0.00</td>\n",
       "      <td>1</td>\n",
       "      <td>1</td>\n",
       "      <td>1</td>\n",
       "      <td>101348.88</td>\n",
       "      <td>1</td>\n",
       "      <td>1</td>\n",
       "      <td>0</td>\n",
       "      <td>1</td>\n",
       "      <td>0</td>\n",
       "      <td>0</td>\n",
       "    </tr>\n",
       "    <tr>\n",
       "      <th>1</th>\n",
       "      <td>608</td>\n",
       "      <td>41</td>\n",
       "      <td>1</td>\n",
       "      <td>83807.86</td>\n",
       "      <td>1</td>\n",
       "      <td>0</td>\n",
       "      <td>1</td>\n",
       "      <td>112542.58</td>\n",
       "      <td>0</td>\n",
       "      <td>1</td>\n",
       "      <td>0</td>\n",
       "      <td>0</td>\n",
       "      <td>1</td>\n",
       "      <td>0</td>\n",
       "    </tr>\n",
       "    <tr>\n",
       "      <th>2</th>\n",
       "      <td>502</td>\n",
       "      <td>42</td>\n",
       "      <td>8</td>\n",
       "      <td>159660.80</td>\n",
       "      <td>3</td>\n",
       "      <td>1</td>\n",
       "      <td>0</td>\n",
       "      <td>113931.57</td>\n",
       "      <td>1</td>\n",
       "      <td>1</td>\n",
       "      <td>0</td>\n",
       "      <td>1</td>\n",
       "      <td>0</td>\n",
       "      <td>0</td>\n",
       "    </tr>\n",
       "    <tr>\n",
       "      <th>3</th>\n",
       "      <td>699</td>\n",
       "      <td>39</td>\n",
       "      <td>1</td>\n",
       "      <td>0.00</td>\n",
       "      <td>2</td>\n",
       "      <td>0</td>\n",
       "      <td>0</td>\n",
       "      <td>93826.63</td>\n",
       "      <td>0</td>\n",
       "      <td>1</td>\n",
       "      <td>0</td>\n",
       "      <td>1</td>\n",
       "      <td>0</td>\n",
       "      <td>0</td>\n",
       "    </tr>\n",
       "    <tr>\n",
       "      <th>4</th>\n",
       "      <td>850</td>\n",
       "      <td>43</td>\n",
       "      <td>2</td>\n",
       "      <td>125510.82</td>\n",
       "      <td>1</td>\n",
       "      <td>1</td>\n",
       "      <td>1</td>\n",
       "      <td>79084.10</td>\n",
       "      <td>0</td>\n",
       "      <td>1</td>\n",
       "      <td>0</td>\n",
       "      <td>0</td>\n",
       "      <td>1</td>\n",
       "      <td>0</td>\n",
       "    </tr>\n",
       "  </tbody>\n",
       "</table>\n",
       "</div>"
      ],
      "text/plain": [
       "   CreditScore  Age  Tenure    Balance  NumOfProducts  HasCrCard  \\\n",
       "0          619   42       2       0.00              1          1   \n",
       "1          608   41       1   83807.86              1          0   \n",
       "2          502   42       8  159660.80              3          1   \n",
       "3          699   39       1       0.00              2          0   \n",
       "4          850   43       2  125510.82              1          1   \n",
       "\n",
       "   IsActiveMember  EstimatedSalary  Exited  Gender_Female  Gender_Male  \\\n",
       "0               1        101348.88       1              1            0   \n",
       "1               1        112542.58       0              1            0   \n",
       "2               0        113931.57       1              1            0   \n",
       "3               0         93826.63       0              1            0   \n",
       "4               1         79084.10       0              1            0   \n",
       "\n",
       "   Geography_France  Geography_Spain  Geography_Germany  \n",
       "0                 1                0                  0  \n",
       "1                 0                1                  0  \n",
       "2                 1                0                  0  \n",
       "3                 1                0                  0  \n",
       "4                 0                1                  0  "
      ]
     },
     "execution_count": 216,
     "metadata": {},
     "output_type": "execute_result"
    }
   ],
   "source": [
    "churn.head()"
   ]
  },
  {
   "cell_type": "code",
   "execution_count": 227,
   "metadata": {},
   "outputs": [
    {
     "data": {
      "text/plain": [
       "<matplotlib.axes._subplots.AxesSubplot at 0x2c525b08748>"
      ]
     },
     "execution_count": 227,
     "metadata": {},
     "output_type": "execute_result"
    },
    {
     "data": {
      "image/png": "[encoded data removed]",
      "text/plain": [
       "<Figure size 720x144 with 1 Axes>"
      ]
     },
     "metadata": {
      "needs_background": "light"
     },
     "output_type": "display_data"
    }
   ],
   "source": [
    "plt.figure(figsize=(10,2))\n",
    "sns.boxplot(churn['CreditScore'],data=churn)"
   ]
  },
  {
   "cell_type": "code",
   "execution_count": 211,
   "metadata": {},
   "outputs": [],
   "source": [
    "from feature_engine.outlier_removers import Winsorizer"
   ]
  },
  {
   "cell_type": "code",
   "execution_count": 225,
   "metadata": {},
   "outputs": [],
   "source": [
    "out=Winsorizer(distribution='skewed',tail='both',fold=1.5,variables='CreditScore')"
   ]
  },
  {
   "cell_type": "code",
   "execution_count": 226,
   "metadata": {},
   "outputs": [],
   "source": [
    "churn=out.fit_transform(churn)"
   ]
  },
  {
   "cell_type": "code",
   "execution_count": 218,
   "metadata": {},
   "outputs": [
    {
     "data": {
      "text/plain": [
       "<matplotlib.axes._subplots.AxesSubplot at 0x2c5247c7948>"
      ]
     },
     "execution_count": 218,
     "metadata": {},
     "output_type": "execute_result"
    },
    {
     "data": {
      "image/png": "[encoded data removed]",
      "text/plain": [
       "<Figure size 432x288 with 1 Axes>"
      ]
     },
     "metadata": {
      "needs_background": "light"
     },
     "output_type": "display_data"
    }
   ],
   "source": [
    "sns.kdeplot(churn['Balance'])"
   ]
  },
  {
   "cell_type": "code",
   "execution_count": 228,
   "metadata": {},
   "outputs": [
    {
     "data": {
      "text/html": [
       "<div>\n",
       "<style scoped>\n",
       "    .dataframe tbody tr th:only-of-type {\n",
       "        vertical-align: middle;\n",
       "    }\n",
       "\n",
       "    .dataframe tbody tr th {\n",
       "        vertical-align: top;\n",
       "    }\n",
       "\n",
       "    .dataframe thead th {\n",
       "        text-align: right;\n",
       "    }\n",
       "</style>\n",
       "<table border=\"1\" class=\"dataframe\">\n",
       "  <thead>\n",
       "    <tr style=\"text-align: right;\">\n",
       "      <th></th>\n",
       "      <th>CreditScore</th>\n",
       "      <th>Age</th>\n",
       "      <th>Tenure</th>\n",
       "      <th>Balance</th>\n",
       "      <th>NumOfProducts</th>\n",
       "      <th>HasCrCard</th>\n",
       "      <th>IsActiveMember</th>\n",
       "      <th>EstimatedSalary</th>\n",
       "      <th>Exited</th>\n",
       "      <th>Gender_Female</th>\n",
       "      <th>Gender_Male</th>\n",
       "      <th>Geography_France</th>\n",
       "      <th>Geography_Spain</th>\n",
       "      <th>Geography_Germany</th>\n",
       "    </tr>\n",
       "  </thead>\n",
       "  <tbody>\n",
       "    <tr>\n",
       "      <th>0</th>\n",
       "      <td>619.0</td>\n",
       "      <td>42</td>\n",
       "      <td>2</td>\n",
       "      <td>0.00</td>\n",
       "      <td>1</td>\n",
       "      <td>1</td>\n",
       "      <td>1</td>\n",
       "      <td>101348.88</td>\n",
       "      <td>1</td>\n",
       "      <td>1</td>\n",
       "      <td>0</td>\n",
       "      <td>1</td>\n",
       "      <td>0</td>\n",
       "      <td>0</td>\n",
       "    </tr>\n",
       "    <tr>\n",
       "      <th>1</th>\n",
       "      <td>608.0</td>\n",
       "      <td>41</td>\n",
       "      <td>1</td>\n",
       "      <td>83807.86</td>\n",
       "      <td>1</td>\n",
       "      <td>0</td>\n",
       "      <td>1</td>\n",
       "      <td>112542.58</td>\n",
       "      <td>0</td>\n",
       "      <td>1</td>\n",
       "      <td>0</td>\n",
       "      <td>0</td>\n",
       "      <td>1</td>\n",
       "      <td>0</td>\n",
       "    </tr>\n",
       "    <tr>\n",
       "      <th>2</th>\n",
       "      <td>502.0</td>\n",
       "      <td>42</td>\n",
       "      <td>8</td>\n",
       "      <td>159660.80</td>\n",
       "      <td>3</td>\n",
       "      <td>1</td>\n",
       "      <td>0</td>\n",
       "      <td>113931.57</td>\n",
       "      <td>1</td>\n",
       "      <td>1</td>\n",
       "      <td>0</td>\n",
       "      <td>1</td>\n",
       "      <td>0</td>\n",
       "      <td>0</td>\n",
       "    </tr>\n",
       "    <tr>\n",
       "      <th>3</th>\n",
       "      <td>699.0</td>\n",
       "      <td>39</td>\n",
       "      <td>1</td>\n",
       "      <td>0.00</td>\n",
       "      <td>2</td>\n",
       "      <td>0</td>\n",
       "      <td>0</td>\n",
       "      <td>93826.63</td>\n",
       "      <td>0</td>\n",
       "      <td>1</td>\n",
       "      <td>0</td>\n",
       "      <td>1</td>\n",
       "      <td>0</td>\n",
       "      <td>0</td>\n",
       "    </tr>\n",
       "    <tr>\n",
       "      <th>4</th>\n",
       "      <td>850.0</td>\n",
       "      <td>43</td>\n",
       "      <td>2</td>\n",
       "      <td>125510.82</td>\n",
       "      <td>1</td>\n",
       "      <td>1</td>\n",
       "      <td>1</td>\n",
       "      <td>79084.10</td>\n",
       "      <td>0</td>\n",
       "      <td>1</td>\n",
       "      <td>0</td>\n",
       "      <td>0</td>\n",
       "      <td>1</td>\n",
       "      <td>0</td>\n",
       "    </tr>\n",
       "  </tbody>\n",
       "</table>\n",
       "</div>"
      ],
      "text/plain": [
       "   CreditScore  Age  Tenure    Balance  NumOfProducts  HasCrCard  \\\n",
       "0        619.0   42       2       0.00              1          1   \n",
       "1        608.0   41       1   83807.86              1          0   \n",
       "2        502.0   42       8  159660.80              3          1   \n",
       "3        699.0   39       1       0.00              2          0   \n",
       "4        850.0   43       2  125510.82              1          1   \n",
       "\n",
       "   IsActiveMember  EstimatedSalary  Exited  Gender_Female  Gender_Male  \\\n",
       "0               1        101348.88       1              1            0   \n",
       "1               1        112542.58       0              1            0   \n",
       "2               0        113931.57       1              1            0   \n",
       "3               0         93826.63       0              1            0   \n",
       "4               1         79084.10       0              1            0   \n",
       "\n",
       "   Geography_France  Geography_Spain  Geography_Germany  \n",
       "0                 1                0                  0  \n",
       "1                 0                1                  0  \n",
       "2                 1                0                  0  \n",
       "3                 1                0                  0  \n",
       "4                 0                1                  0  "
      ]
     },
     "execution_count": 228,
     "metadata": {},
     "output_type": "execute_result"
    }
   ],
   "source": [
    "churn.head()"
   ]
  },
  {
   "cell_type": "code",
   "execution_count": 237,
   "metadata": {},
   "outputs": [
    {
     "data": {
      "text/plain": [
       "Index(['CreditScore', 'Age', 'Tenure', 'Balance', 'NumOfProducts', 'HasCrCard',\n",
       "       'IsActiveMember', 'EstimatedSalary', 'Exited', 'Gender_Female',\n",
       "       'Gender_Male', 'Geography_France', 'Geography_Spain',\n",
       "       'Geography_Germany'],\n",
       "      dtype='object')"
      ]
     },
     "execution_count": 237,
     "metadata": {},
     "output_type": "execute_result"
    }
   ],
   "source": [
    "churn.columns"
   ]
  },
  {
   "cell_type": "code",
   "execution_count": 229,
   "metadata": {},
   "outputs": [
    {
     "data": {
      "text/plain": [
       "2"
      ]
     },
     "execution_count": 229,
     "metadata": {},
     "output_type": "execute_result"
    }
   ],
   "source": [
    "churn['Exited'].nunique()"
   ]
  },
  {
   "cell_type": "code",
   "execution_count": 230,
   "metadata": {},
   "outputs": [],
   "source": [
    "X=churn.drop('Exited',axis=1).values\n",
    "y=churn['Exited'].values"
   ]
  },
  {
   "cell_type": "code",
   "execution_count": 231,
   "metadata": {},
   "outputs": [],
   "source": [
    "from sklearn.preprocessing import MinMaxScaler"
   ]
  },
  {
   "cell_type": "code",
   "execution_count": 232,
   "metadata": {},
   "outputs": [],
   "source": [
    "minmax=MinMaxScaler()"
   ]
  },
  {
   "cell_type": "code",
   "execution_count": 233,
   "metadata": {},
   "outputs": [],
   "source": [
    "from sklearn.model_selection import train_test_split"
   ]
  },
  {
   "cell_type": "code",
   "execution_count": 234,
   "metadata": {},
   "outputs": [],
   "source": [
    "X_train, X_test, y_train, y_test = train_test_split(X,y,test_size=0.20,random_state=42)"
   ]
  },
  {
   "cell_type": "code",
   "execution_count": 235,
   "metadata": {},
   "outputs": [],
   "source": [
    "X_train=minmax.fit_transform(X_train)\n",
    "X_test=minmax.transform(X_test)"
   ]
  },
  {
   "cell_type": "code",
   "execution_count": 236,
   "metadata": {},
   "outputs": [
    {
     "data": {
      "text/plain": [
       "array([[0.64882227, 0.18918919, 0.6       , ..., 1.        , 0.        ,\n",
       "        0.        ],\n",
       "       [0.53319058, 0.32432432, 0.4       , ..., 0.        , 0.        ,\n",
       "        1.        ],\n",
       "       [0.37687366, 0.08108108, 0.3       , ..., 0.        , 1.        ,\n",
       "        0.        ],\n",
       "       ...,\n",
       "       [0.75374732, 0.27027027, 0.1       , ..., 1.        , 0.        ,\n",
       "        0.        ],\n",
       "       [0.60813704, 0.33783784, 0.8       , ..., 1.        , 0.        ,\n",
       "        0.        ],\n",
       "       [0.67237687, 0.44594595, 0.1       , ..., 0.        , 0.        ,\n",
       "        1.        ]])"
      ]
     },
     "execution_count": 236,
     "metadata": {},
     "output_type": "execute_result"
    }
   ],
   "source": [
    "X_train"
   ]
  },
  {
   "cell_type": "code",
   "execution_count": 264,
   "metadata": {},
   "outputs": [
    {
     "name": "stdout",
     "output_type": "stream",
     "text": [
      "Train on 8000 samples, validate on 2000 samples\n",
      "Epoch 1/150\n",
      "8000/8000 [==============================] - 1s 178us/sample - loss: 0.6829 - val_loss: 0.6577\n",
      "Epoch 2/150\n",
      "8000/8000 [==============================] - 0s 30us/sample - loss: 0.6144 - val_loss: 0.5398\n",
      "Epoch 3/150\n",
      "8000/8000 [==============================] - 0s 35us/sample - loss: 0.5131 - val_loss: 0.4902\n",
      "Epoch 4/150\n",
      "8000/8000 [==============================] - 0s 28us/sample - loss: 0.4968 - val_loss: 0.4788\n",
      "Epoch 5/150\n",
      "8000/8000 [==============================] - 0s 27us/sample - loss: 0.4870 - val_loss: 0.4699\n",
      "Epoch 6/150\n",
      "8000/8000 [==============================] - ETA: 0s - loss: 0.474 - 0s 29us/sample - loss: 0.4798 - val_loss: 0.4637\n",
      "Epoch 7/150\n",
      "8000/8000 [==============================] - 0s 34us/sample - loss: 0.4740 - val_loss: 0.4582\n",
      "Epoch 8/150\n",
      "8000/8000 [==============================] - 0s 28us/sample - loss: 0.4697 - val_loss: 0.4534\n",
      "Epoch 9/150\n",
      "8000/8000 [==============================] - 0s 27us/sample - loss: 0.4653 - val_loss: 0.4498\n",
      "Epoch 10/150\n",
      "8000/8000 [==============================] - 0s 27us/sample - loss: 0.4616 - val_loss: 0.4461\n",
      "Epoch 11/150\n",
      "8000/8000 [==============================] - 0s 27us/sample - loss: 0.4576 - val_loss: 0.4418\n",
      "Epoch 12/150\n",
      "8000/8000 [==============================] - 0s 32us/sample - loss: 0.4526 - val_loss: 0.4367\n",
      "Epoch 13/150\n",
      "8000/8000 [==============================] - 0s 28us/sample - loss: 0.4483 - val_loss: 0.4318\n",
      "Epoch 14/150\n",
      "8000/8000 [==============================] - 0s 27us/sample - loss: 0.4415 - val_loss: 0.4256\n",
      "Epoch 15/150\n",
      "8000/8000 [==============================] - 0s 27us/sample - loss: 0.4358 - val_loss: 0.4192\n",
      "Epoch 16/150\n",
      "8000/8000 [==============================] - 0s 28us/sample - loss: 0.4326 - val_loss: 0.4159\n",
      "Epoch 17/150\n",
      "8000/8000 [==============================] - 0s 33us/sample - loss: 0.4304 - val_loss: 0.4176\n",
      "Epoch 18/150\n",
      "8000/8000 [==============================] - 0s 27us/sample - loss: 0.4295 - val_loss: 0.4141\n",
      "Epoch 19/150\n",
      "8000/8000 [==============================] - 0s 27us/sample - loss: 0.4285 - val_loss: 0.4123\n",
      "Epoch 20/150\n",
      "8000/8000 [==============================] - 0s 29us/sample - loss: 0.4261 - val_loss: 0.4096\n",
      "Epoch 21/150\n",
      "8000/8000 [==============================] - 0s 34us/sample - loss: 0.4240 - val_loss: 0.4073\n",
      "Epoch 22/150\n",
      "8000/8000 [==============================] - 0s 33us/sample - loss: 0.4211 - val_loss: 0.4043\n",
      "Epoch 23/150\n",
      "8000/8000 [==============================] - 0s 27us/sample - loss: 0.4186 - val_loss: 0.4039\n",
      "Epoch 24/150\n",
      "8000/8000 [==============================] - 0s 28us/sample - loss: 0.4168 - val_loss: 0.4006\n",
      "Epoch 25/150\n",
      "8000/8000 [==============================] - 0s 29us/sample - loss: 0.4151 - val_loss: 0.3996\n",
      "Epoch 26/150\n",
      "8000/8000 [==============================] - 0s 35us/sample - loss: 0.4130 - val_loss: 0.3965\n",
      "Epoch 27/150\n",
      "8000/8000 [==============================] - 0s 27us/sample - loss: 0.4119 - val_loss: 0.3957\n",
      "Epoch 28/150\n",
      "8000/8000 [==============================] - 0s 27us/sample - loss: 0.4108 - val_loss: 0.3948\n",
      "Epoch 29/150\n",
      "8000/8000 [==============================] - 0s 27us/sample - loss: 0.4088 - val_loss: 0.3943\n",
      "Epoch 30/150\n",
      "8000/8000 [==============================] - 0s 33us/sample - loss: 0.4079 - val_loss: 0.3920\n",
      "Epoch 31/150\n",
      "8000/8000 [==============================] - 0s 26us/sample - loss: 0.4072 - val_loss: 0.3915\n",
      "Epoch 32/150\n",
      "8000/8000 [==============================] - 0s 26us/sample - loss: 0.4061 - val_loss: 0.3907\n",
      "Epoch 33/150\n",
      "8000/8000 [==============================] - 0s 27us/sample - loss: 0.4055 - val_loss: 0.3905\n",
      "Epoch 34/150\n",
      "8000/8000 [==============================] - 0s 29us/sample - loss: 0.4040 - val_loss: 0.3904\n",
      "Epoch 35/150\n",
      "8000/8000 [==============================] - 0s 36us/sample - loss: 0.4035 - val_loss: 0.3884\n",
      "Epoch 36/150\n",
      "8000/8000 [==============================] - 0s 28us/sample - loss: 0.4016 - val_loss: 0.3887\n",
      "Epoch 37/150\n",
      "8000/8000 [==============================] - 0s 27us/sample - loss: 0.4010 - val_loss: 0.3865\n",
      "Epoch 38/150\n",
      "8000/8000 [==============================] - 0s 27us/sample - loss: 0.3995 - val_loss: 0.3841\n",
      "Epoch 39/150\n",
      "8000/8000 [==============================] - 0s 29us/sample - loss: 0.3976 - val_loss: 0.3857\n",
      "Epoch 40/150\n",
      "8000/8000 [==============================] - 0s 34us/sample - loss: 0.3955 - val_loss: 0.3820\n",
      "Epoch 41/150\n",
      "8000/8000 [==============================] - 0s 27us/sample - loss: 0.3940 - val_loss: 0.3792\n",
      "Epoch 42/150\n",
      "8000/8000 [==============================] - 0s 27us/sample - loss: 0.3916 - val_loss: 0.3776\n",
      "Epoch 43/150\n",
      "8000/8000 [==============================] - 0s 27us/sample - loss: 0.3923 - val_loss: 0.3763\n",
      "Epoch 44/150\n",
      "8000/8000 [==============================] - 0s 33us/sample - loss: 0.3883 - val_loss: 0.3764\n",
      "Epoch 45/150\n",
      "8000/8000 [==============================] - 0s 28us/sample - loss: 0.3858 - val_loss: 0.3720\n",
      "Epoch 46/150\n",
      "8000/8000 [==============================] - 0s 28us/sample - loss: 0.3834 - val_loss: 0.3710\n",
      "Epoch 47/150\n",
      "8000/8000 [==============================] - 0s 27us/sample - loss: 0.3822 - val_loss: 0.3670\n",
      "Epoch 48/150\n",
      "8000/8000 [==============================] - 0s 27us/sample - loss: 0.3795 - val_loss: 0.3670\n",
      "Epoch 49/150\n",
      "8000/8000 [==============================] - 0s 33us/sample - loss: 0.3777 - val_loss: 0.3636\n",
      "Epoch 50/150\n",
      "8000/8000 [==============================] - 0s 27us/sample - loss: 0.3761 - val_loss: 0.3623\n",
      "Epoch 51/150\n",
      "8000/8000 [==============================] - 0s 27us/sample - loss: 0.3762 - val_loss: 0.3599\n",
      "Epoch 52/150\n",
      "8000/8000 [==============================] - 0s 27us/sample - loss: 0.3721 - val_loss: 0.3589\n",
      "Epoch 53/150\n",
      "8000/8000 [==============================] - 0s 30us/sample - loss: 0.3698 - val_loss: 0.3621\n",
      "Epoch 54/150\n",
      "8000/8000 [==============================] - 0s 29us/sample - loss: 0.3680 - val_loss: 0.3550\n",
      "Epoch 55/150\n",
      "8000/8000 [==============================] - 0s 29us/sample - loss: 0.3657 - val_loss: 0.3558\n",
      "Epoch 56/150\n",
      "8000/8000 [==============================] - 0s 30us/sample - loss: 0.3643 - val_loss: 0.3518\n",
      "Epoch 57/150\n",
      "8000/8000 [==============================] - 0s 31us/sample - loss: 0.3608 - val_loss: 0.3506\n",
      "Epoch 58/150\n",
      "8000/8000 [==============================] - 0s 33us/sample - loss: 0.3611 - val_loss: 0.3495\n",
      "Epoch 59/150\n",
      "8000/8000 [==============================] - 0s 30us/sample - loss: 0.3597 - val_loss: 0.3496\n",
      "Epoch 60/150\n",
      "8000/8000 [==============================] - 0s 37us/sample - loss: 0.3577 - val_loss: 0.3501\n",
      "Epoch 61/150\n",
      "8000/8000 [==============================] - 0s 32us/sample - loss: 0.3555 - val_loss: 0.3491\n",
      "Epoch 62/150\n",
      "8000/8000 [==============================] - 0s 34us/sample - loss: 0.3555 - val_loss: 0.3461\n",
      "Epoch 63/150\n",
      "8000/8000 [==============================] - 0s 28us/sample - loss: 0.3530 - val_loss: 0.3453\n",
      "Epoch 64/150\n",
      "8000/8000 [==============================] - 0s 34us/sample - loss: 0.3520 - val_loss: 0.3439\n",
      "Epoch 65/150\n",
      "8000/8000 [==============================] - 0s 34us/sample - loss: 0.3509 - val_loss: 0.3445\n",
      "Epoch 66/150\n",
      "8000/8000 [==============================] - 0s 40us/sample - loss: 0.3509 - val_loss: 0.3442\n",
      "Epoch 67/150\n",
      "8000/8000 [==============================] - 0s 31us/sample - loss: 0.3493 - val_loss: 0.3429\n",
      "Epoch 68/150\n",
      "8000/8000 [==============================] - 0s 28us/sample - loss: 0.3484 - val_loss: 0.3429\n",
      "Epoch 69/150\n",
      "8000/8000 [==============================] - 0s 28us/sample - loss: 0.3479 - val_loss: 0.3438\n",
      "Epoch 70/150\n",
      "8000/8000 [==============================] - 0s 33us/sample - loss: 0.3482 - val_loss: 0.3438\n",
      "Epoch 71/150\n",
      "8000/8000 [==============================] - 0s 37us/sample - loss: 0.3473 - val_loss: 0.3443\n",
      "Epoch 72/150\n",
      "8000/8000 [==============================] - 0s 35us/sample - loss: 0.3473 - val_loss: 0.3418\n",
      "Epoch 73/150\n",
      "8000/8000 [==============================] - 0s 35us/sample - loss: 0.3466 - val_loss: 0.3463\n",
      "Epoch 74/150\n",
      "8000/8000 [==============================] - 0s 33us/sample - loss: 0.3465 - val_loss: 0.3433\n",
      "Epoch 75/150\n",
      "8000/8000 [==============================] - 0s 27us/sample - loss: 0.3468 - val_loss: 0.3438\n",
      "Epoch 76/150\n",
      "8000/8000 [==============================] - 0s 24us/sample - loss: 0.3460 - val_loss: 0.3413\n"
     ]
    },
    {
     "name": "stdout",
     "output_type": "stream",
     "text": [
      "Epoch 77/150\n",
      "8000/8000 [==============================] - 0s 29us/sample - loss: 0.3459 - val_loss: 0.3430\n",
      "Epoch 78/150\n",
      "8000/8000 [==============================] - 0s 27us/sample - loss: 0.3454 - val_loss: 0.3425\n",
      "Epoch 79/150\n",
      "8000/8000 [==============================] - 0s 29us/sample - loss: 0.3449 - val_loss: 0.3439\n",
      "Epoch 80/150\n",
      "8000/8000 [==============================] - 0s 30us/sample - loss: 0.3467 - val_loss: 0.3428\n",
      "Epoch 81/150\n",
      "8000/8000 [==============================] - 0s 35us/sample - loss: 0.3462 - val_loss: 0.3413\n",
      "Epoch 82/150\n",
      "8000/8000 [==============================] - 0s 33us/sample - loss: 0.3446 - val_loss: 0.3422\n",
      "Epoch 83/150\n",
      "8000/8000 [==============================] - 0s 36us/sample - loss: 0.3442 - val_loss: 0.3418\n",
      "Epoch 84/150\n",
      "8000/8000 [==============================] - 0s 27us/sample - loss: 0.3444 - val_loss: 0.3406\n",
      "Epoch 85/150\n",
      "8000/8000 [==============================] - 0s 29us/sample - loss: 0.3440 - val_loss: 0.3410\n",
      "Epoch 86/150\n",
      "8000/8000 [==============================] - 0s 32us/sample - loss: 0.3435 - val_loss: 0.3455\n",
      "Epoch 87/150\n",
      "8000/8000 [==============================] - 0s 39us/sample - loss: 0.3436 - val_loss: 0.3400\n",
      "Epoch 88/150\n",
      "8000/8000 [==============================] - 0s 28us/sample - loss: 0.3440 - val_loss: 0.3402\n",
      "Epoch 89/150\n",
      "8000/8000 [==============================] - 0s 27us/sample - loss: 0.3430 - val_loss: 0.3489\n",
      "Epoch 90/150\n",
      "8000/8000 [==============================] - 0s 27us/sample - loss: 0.3444 - val_loss: 0.3403\n",
      "Epoch 91/150\n",
      "8000/8000 [==============================] - 0s 34us/sample - loss: 0.3430 - val_loss: 0.3400\n",
      "Epoch 92/150\n",
      "8000/8000 [==============================] - 0s 39us/sample - loss: 0.3428 - val_loss: 0.3415\n",
      "Epoch 93/150\n",
      "8000/8000 [==============================] - 0s 29us/sample - loss: 0.3429 - val_loss: 0.3406\n",
      "Epoch 94/150\n",
      "8000/8000 [==============================] - 0s 34us/sample - loss: 0.3420 - val_loss: 0.3400\n",
      "Epoch 95/150\n",
      "8000/8000 [==============================] - 0s 28us/sample - loss: 0.3418 - val_loss: 0.3396\n",
      "Epoch 96/150\n",
      "8000/8000 [==============================] - 0s 32us/sample - loss: 0.3424 - val_loss: 0.3402\n",
      "Epoch 97/150\n",
      "8000/8000 [==============================] - 0s 34us/sample - loss: 0.3422 - val_loss: 0.3411\n",
      "Epoch 98/150\n",
      "8000/8000 [==============================] - 0s 31us/sample - loss: 0.3420 - val_loss: 0.3395\n",
      "Epoch 99/150\n",
      "8000/8000 [==============================] - 0s 34us/sample - loss: 0.3417 - val_loss: 0.3388\n",
      "Epoch 100/150\n",
      "8000/8000 [==============================] - 0s 36us/sample - loss: 0.3411 - val_loss: 0.3385\n",
      "Epoch 101/150\n",
      "8000/8000 [==============================] - 0s 33us/sample - loss: 0.3420 - val_loss: 0.3437\n",
      "Epoch 102/150\n",
      "8000/8000 [==============================] - 0s 32us/sample - loss: 0.3417 - val_loss: 0.3433\n",
      "Epoch 103/150\n",
      "8000/8000 [==============================] - 0s 34us/sample - loss: 0.3431 - val_loss: 0.3401\n",
      "Epoch 104/150\n",
      "8000/8000 [==============================] - 0s 33us/sample - loss: 0.3418 - val_loss: 0.3410\n",
      "Epoch 105/150\n",
      "8000/8000 [==============================] - 0s 31us/sample - loss: 0.3411 - val_loss: 0.3385\n",
      "Epoch 106/150\n",
      "8000/8000 [==============================] - 0s 35us/sample - loss: 0.3408 - val_loss: 0.3389\n",
      "Epoch 107/150\n",
      "8000/8000 [==============================] - 0s 27us/sample - loss: 0.3412 - val_loss: 0.3387\n",
      "Epoch 108/150\n",
      "8000/8000 [==============================] - 0s 38us/sample - loss: 0.3409 - val_loss: 0.3376\n",
      "Epoch 109/150\n",
      "8000/8000 [==============================] - 0s 27us/sample - loss: 0.3408 - val_loss: 0.3386\n",
      "Epoch 110/150\n",
      "8000/8000 [==============================] - 0s 34us/sample - loss: 0.3407 - val_loss: 0.3385\n",
      "Epoch 111/150\n",
      "8000/8000 [==============================] - 0s 34us/sample - loss: 0.3404 - val_loss: 0.3388\n",
      "Epoch 112/150\n",
      "8000/8000 [==============================] - 0s 41us/sample - loss: 0.3405 - val_loss: 0.3376\n",
      "Epoch 113/150\n",
      "8000/8000 [==============================] - 0s 35us/sample - loss: 0.3406 - val_loss: 0.3381\n",
      "Epoch 114/150\n",
      "8000/8000 [==============================] - 0s 35us/sample - loss: 0.3415 - val_loss: 0.3375\n",
      "Epoch 115/150\n",
      "8000/8000 [==============================] - 0s 29us/sample - loss: 0.3399 - val_loss: 0.3374\n",
      "Epoch 116/150\n",
      "8000/8000 [==============================] - 0s 40us/sample - loss: 0.3408 - val_loss: 0.3401\n",
      "Epoch 117/150\n",
      "8000/8000 [==============================] - 0s 30us/sample - loss: 0.3401 - val_loss: 0.3388\n",
      "Epoch 118/150\n",
      "8000/8000 [==============================] - 0s 34us/sample - loss: 0.3408 - val_loss: 0.3397\n",
      "Epoch 119/150\n",
      "8000/8000 [==============================] - 0s 35us/sample - loss: 0.3406 - val_loss: 0.3406\n",
      "Epoch 120/150\n",
      "8000/8000 [==============================] - 0s 40us/sample - loss: 0.3403 - val_loss: 0.3411\n",
      "Epoch 121/150\n",
      "8000/8000 [==============================] - 0s 38us/sample - loss: 0.3405 - val_loss: 0.3380\n",
      "Epoch 122/150\n",
      "8000/8000 [==============================] - 0s 43us/sample - loss: 0.3400 - val_loss: 0.3379\n",
      "Epoch 123/150\n",
      "8000/8000 [==============================] - 0s 42us/sample - loss: 0.3396 - val_loss: 0.3417\n",
      "Epoch 124/150\n",
      "8000/8000 [==============================] - 0s 27us/sample - loss: 0.3396 - val_loss: 0.3377\n",
      "Epoch 125/150\n",
      "8000/8000 [==============================] - 0s 27us/sample - loss: 0.3398 - val_loss: 0.3378\n",
      "Epoch 126/150\n",
      "8000/8000 [==============================] - 0s 34us/sample - loss: 0.3396 - val_loss: 0.3385\n",
      "Epoch 127/150\n",
      "8000/8000 [==============================] - 0s 30us/sample - loss: 0.3400 - val_loss: 0.3407\n",
      "Epoch 128/150\n",
      "8000/8000 [==============================] - 0s 39us/sample - loss: 0.3392 - val_loss: 0.3381\n",
      "Epoch 129/150\n",
      "8000/8000 [==============================] - 0s 26us/sample - loss: 0.3396 - val_loss: 0.3381\n",
      "Epoch 130/150\n",
      "8000/8000 [==============================] - 0s 30us/sample - loss: 0.3394 - val_loss: 0.3381\n"
     ]
    },
    {
     "data": {
      "text/plain": [
       "<tensorflow.python.keras.callbacks.History at 0x2c52685f788>"
      ]
     },
     "execution_count": 264,
     "metadata": {},
     "output_type": "execute_result"
    }
   ],
   "source": [
    "model=Sequential()\n",
    "earls=EarlyStopping(mode='min',patience=15)\n",
    "\n",
    "model.add(Dense(12,activation='relu'))\n",
    "model.add(Dense(6,activation='relu'))\n",
    "model.add(Dense(6,activation='relu'))\n",
    "model.add(Dense(4,activation='relu'))\n",
    "model.add(Dense(1,activation='sigmoid'))\n",
    "\n",
    "model.compile(loss='binary_crossentropy',optimizer='adam')\n",
    "model.fit(x=X_train,y=y_train,epochs=150,batch_size=100,validation_data=(X_test,y_test),callbacks=[earls])"
   ]
  },
  {
   "cell_type": "code",
   "execution_count": 265,
   "metadata": {},
   "outputs": [],
   "source": [
    "loss=pd.DataFrame(model.history.history)"
   ]
  },
  {
   "cell_type": "code",
   "execution_count": 266,
   "metadata": {},
   "outputs": [
    {
     "data": {
      "text/html": [
       "<div>\n",
       "<style scoped>\n",
       "    .dataframe tbody tr th:only-of-type {\n",
       "        vertical-align: middle;\n",
       "    }\n",
       "\n",
       "    .dataframe tbody tr th {\n",
       "        vertical-align: top;\n",
       "    }\n",
       "\n",
       "    .dataframe thead th {\n",
       "        text-align: right;\n",
       "    }\n",
       "</style>\n",
       "<table border=\"1\" class=\"dataframe\">\n",
       "  <thead>\n",
       "    <tr style=\"text-align: right;\">\n",
       "      <th></th>\n",
       "      <th>loss</th>\n",
       "      <th>val_loss</th>\n",
       "    </tr>\n",
       "  </thead>\n",
       "  <tbody>\n",
       "    <tr>\n",
       "      <th>0</th>\n",
       "      <td>0.682858</td>\n",
       "      <td>0.657737</td>\n",
       "    </tr>\n",
       "    <tr>\n",
       "      <th>1</th>\n",
       "      <td>0.614368</td>\n",
       "      <td>0.539782</td>\n",
       "    </tr>\n",
       "    <tr>\n",
       "      <th>2</th>\n",
       "      <td>0.513063</td>\n",
       "      <td>0.490207</td>\n",
       "    </tr>\n",
       "    <tr>\n",
       "      <th>3</th>\n",
       "      <td>0.496799</td>\n",
       "      <td>0.478789</td>\n",
       "    </tr>\n",
       "    <tr>\n",
       "      <th>4</th>\n",
       "      <td>0.486989</td>\n",
       "      <td>0.469942</td>\n",
       "    </tr>\n",
       "  </tbody>\n",
       "</table>\n",
       "</div>"
      ],
      "text/plain": [
       "       loss  val_loss\n",
       "0  0.682858  0.657737\n",
       "1  0.614368  0.539782\n",
       "2  0.513063  0.490207\n",
       "3  0.496799  0.478789\n",
       "4  0.486989  0.469942"
      ]
     },
     "execution_count": 266,
     "metadata": {},
     "output_type": "execute_result"
    }
   ],
   "source": [
    "loss.head()"
   ]
  },
  {
   "cell_type": "code",
   "execution_count": 267,
   "metadata": {},
   "outputs": [
    {
     "data": {
      "text/plain": [
       "<matplotlib.axes._subplots.AxesSubplot at 0x2c5261d4c48>"
      ]
     },
     "execution_count": 267,
     "metadata": {},
     "output_type": "execute_result"
    },
    {
     "data": {
      "image/png": "[encoded data removed]",
      "text/plain": [
       "<Figure size 432x288 with 1 Axes>"
      ]
     },
     "metadata": {
      "needs_background": "light"
     },
     "output_type": "display_data"
    }
   ],
   "source": [
    "loss.plot()"
   ]
  },
  {
   "cell_type": "code",
   "execution_count": 268,
   "metadata": {},
   "outputs": [],
   "source": [
    "preds=model.predict_classes(X_test)       "
   ]
  },
  {
   "cell_type": "code",
   "execution_count": 258,
   "metadata": {},
   "outputs": [],
   "source": [
    "from sklearn.metrics import classification_report,accuracy_score,confusion_matrix"
   ]
  },
  {
   "cell_type": "code",
   "execution_count": 269,
   "metadata": {},
   "outputs": [
    {
     "data": {
      "text/plain": [
       "0.8585"
      ]
     },
     "execution_count": 269,
     "metadata": {},
     "output_type": "execute_result"
    }
   ],
   "source": [
    "accuracy_score(y_test,preds)"
   ]
  },
  {
   "cell_type": "code",
   "execution_count": 270,
   "metadata": {},
   "outputs": [
    {
     "name": "stdout",
     "output_type": "stream",
     "text": [
      "              precision    recall  f1-score   support\n",
      "\n",
      "           0       0.88      0.96      0.92      1607\n",
      "           1       0.72      0.46      0.56       393\n",
      "\n",
      "    accuracy                           0.86      2000\n",
      "   macro avg       0.80      0.71      0.74      2000\n",
      "weighted avg       0.85      0.86      0.85      2000\n",
      "\n"
     ]
    }
   ],
   "source": [
    "print(classification_report(y_test,preds))"
   ]
  },
  {
   "cell_type": "code",
   "execution_count": 271,
   "metadata": {},
   "outputs": [
    {
     "data": {
      "text/plain": [
       "array([[1535,  211],\n",
       "       [  72,  182]], dtype=int64)"
      ]
     },
     "execution_count": 271,
     "metadata": {},
     "output_type": "execute_result"
    }
   ],
   "source": [
    "confusion_matrix(preds,y_test)"
   ]
  },
  {
   "cell_type": "markdown",
   "metadata": {},
   "source": [
    "# CNN"
   ]
  },
  {
   "cell_type": "code",
   "execution_count": 276,
   "metadata": {},
   "outputs": [],
   "source": [
    "from tensorflow.keras.datasets import mnist"
   ]
  },
  {
   "cell_type": "code",
   "execution_count": 279,
   "metadata": {},
   "outputs": [
    {
     "data": {
      "text/plain": [
       "<function tensorflow.python.keras.datasets.mnist.load_data(path='mnist.npz')>"
      ]
     },
     "execution_count": 279,
     "metadata": {},
     "output_type": "execute_result"
    }
   ],
   "source": [
    "mnist.load_data"
   ]
  },
  {
   "cell_type": "code",
   "execution_count": 281,
   "metadata": {},
   "outputs": [
    {
     "name": "stdout",
     "output_type": "stream",
     "text": [
      "Downloading data from https://storage.googleapis.com/tensorflow/tf-keras-datasets/mnist.npz\n",
      "11493376/11490434 [==============================] - 10s 1us/step\n"
     ]
    }
   ],
   "source": [
    "(x_train,y_train),(x_test,y_test)=mnist.load_data()"
   ]
  },
  {
   "cell_type": "code",
   "execution_count": 282,
   "metadata": {},
   "outputs": [
    {
     "data": {
      "text/plain": [
       "(60000, 28, 28)"
      ]
     },
     "execution_count": 282,
     "metadata": {},
     "output_type": "execute_result"
    }
   ],
   "source": [
    "x_train.shape"
   ]
  },
  {
   "cell_type": "code",
   "execution_count": 284,
   "metadata": {},
   "outputs": [
    {
     "data": {
      "text/plain": [
       "array([[  0,   0,   0,   0,   0,   0,   0,   0,   0,   0,   0,   0,   0,\n",
       "          0,   0,   0,   0,   0,   0,   0,   0,   0,   0,   0,   0,   0,\n",
       "          0,   0],\n",
       "       [  0,   0,   0,   0,   0,   0,   0,   0,   0,   0,   0,   0,   0,\n",
       "          0,   0,   0,   0,   0,   0,   0,   0,   0,   0,   0,   0,   0,\n",
       "          0,   0],\n",
       "       [  0,   0,   0,   0,   0,   0,   0,   0,   0,   0,   0,   0,   0,\n",
       "          0,   0,   0,   0,   0,   0,   0,   0,   0,   0,   0,   0,   0,\n",
       "          0,   0],\n",
       "       [  0,   0,   0,   0,   0,   0,   0,   0,   0,   0,   0,   0,   0,\n",
       "          0,   0,   0,   0,   0,   0,   0,   0,   0,   0,   0,   0,   0,\n",
       "          0,   0],\n",
       "       [  0,   0,   0,   0,   0,   0,   0,   0,   0,   0,   0,   0,   0,\n",
       "          0,   0,   0,   0,   0,   0,   0,   0,   0,   0,   0,   0,   0,\n",
       "          0,   0],\n",
       "       [  0,   0,   0,   0,   0,   0,   0,   0,   0,   0,   0,   0,   3,\n",
       "         18,  18,  18, 126, 136, 175,  26, 166, 255, 247, 127,   0,   0,\n",
       "          0,   0],\n",
       "       [  0,   0,   0,   0,   0,   0,   0,   0,  30,  36,  94, 154, 170,\n",
       "        253, 253, 253, 253, 253, 225, 172, 253, 242, 195,  64,   0,   0,\n",
       "          0,   0],\n",
       "       [  0,   0,   0,   0,   0,   0,   0,  49, 238, 253, 253, 253, 253,\n",
       "        253, 253, 253, 253, 251,  93,  82,  82,  56,  39,   0,   0,   0,\n",
       "          0,   0],\n",
       "       [  0,   0,   0,   0,   0,   0,   0,  18, 219, 253, 253, 253, 253,\n",
       "        253, 198, 182, 247, 241,   0,   0,   0,   0,   0,   0,   0,   0,\n",
       "          0,   0],\n",
       "       [  0,   0,   0,   0,   0,   0,   0,   0,  80, 156, 107, 253, 253,\n",
       "        205,  11,   0,  43, 154,   0,   0,   0,   0,   0,   0,   0,   0,\n",
       "          0,   0],\n",
       "       [  0,   0,   0,   0,   0,   0,   0,   0,   0,  14,   1, 154, 253,\n",
       "         90,   0,   0,   0,   0,   0,   0,   0,   0,   0,   0,   0,   0,\n",
       "          0,   0],\n",
       "       [  0,   0,   0,   0,   0,   0,   0,   0,   0,   0,   0, 139, 253,\n",
       "        190,   2,   0,   0,   0,   0,   0,   0,   0,   0,   0,   0,   0,\n",
       "          0,   0],\n",
       "       [  0,   0,   0,   0,   0,   0,   0,   0,   0,   0,   0,  11, 190,\n",
       "        253,  70,   0,   0,   0,   0,   0,   0,   0,   0,   0,   0,   0,\n",
       "          0,   0],\n",
       "       [  0,   0,   0,   0,   0,   0,   0,   0,   0,   0,   0,   0,  35,\n",
       "        241, 225, 160, 108,   1,   0,   0,   0,   0,   0,   0,   0,   0,\n",
       "          0,   0],\n",
       "       [  0,   0,   0,   0,   0,   0,   0,   0,   0,   0,   0,   0,   0,\n",
       "         81, 240, 253, 253, 119,  25,   0,   0,   0,   0,   0,   0,   0,\n",
       "          0,   0],\n",
       "       [  0,   0,   0,   0,   0,   0,   0,   0,   0,   0,   0,   0,   0,\n",
       "          0,  45, 186, 253, 253, 150,  27,   0,   0,   0,   0,   0,   0,\n",
       "          0,   0],\n",
       "       [  0,   0,   0,   0,   0,   0,   0,   0,   0,   0,   0,   0,   0,\n",
       "          0,   0,  16,  93, 252, 253, 187,   0,   0,   0,   0,   0,   0,\n",
       "          0,   0],\n",
       "       [  0,   0,   0,   0,   0,   0,   0,   0,   0,   0,   0,   0,   0,\n",
       "          0,   0,   0,   0, 249, 253, 249,  64,   0,   0,   0,   0,   0,\n",
       "          0,   0],\n",
       "       [  0,   0,   0,   0,   0,   0,   0,   0,   0,   0,   0,   0,   0,\n",
       "          0,  46, 130, 183, 253, 253, 207,   2,   0,   0,   0,   0,   0,\n",
       "          0,   0],\n",
       "       [  0,   0,   0,   0,   0,   0,   0,   0,   0,   0,   0,   0,  39,\n",
       "        148, 229, 253, 253, 253, 250, 182,   0,   0,   0,   0,   0,   0,\n",
       "          0,   0],\n",
       "       [  0,   0,   0,   0,   0,   0,   0,   0,   0,   0,  24, 114, 221,\n",
       "        253, 253, 253, 253, 201,  78,   0,   0,   0,   0,   0,   0,   0,\n",
       "          0,   0],\n",
       "       [  0,   0,   0,   0,   0,   0,   0,   0,  23,  66, 213, 253, 253,\n",
       "        253, 253, 198,  81,   2,   0,   0,   0,   0,   0,   0,   0,   0,\n",
       "          0,   0],\n",
       "       [  0,   0,   0,   0,   0,   0,  18, 171, 219, 253, 253, 253, 253,\n",
       "        195,  80,   9,   0,   0,   0,   0,   0,   0,   0,   0,   0,   0,\n",
       "          0,   0],\n",
       "       [  0,   0,   0,   0,  55, 172, 226, 253, 253, 253, 253, 244, 133,\n",
       "         11,   0,   0,   0,   0,   0,   0,   0,   0,   0,   0,   0,   0,\n",
       "          0,   0],\n",
       "       [  0,   0,   0,   0, 136, 253, 253, 253, 212, 135, 132,  16,   0,\n",
       "          0,   0,   0,   0,   0,   0,   0,   0,   0,   0,   0,   0,   0,\n",
       "          0,   0],\n",
       "       [  0,   0,   0,   0,   0,   0,   0,   0,   0,   0,   0,   0,   0,\n",
       "          0,   0,   0,   0,   0,   0,   0,   0,   0,   0,   0,   0,   0,\n",
       "          0,   0],\n",
       "       [  0,   0,   0,   0,   0,   0,   0,   0,   0,   0,   0,   0,   0,\n",
       "          0,   0,   0,   0,   0,   0,   0,   0,   0,   0,   0,   0,   0,\n",
       "          0,   0],\n",
       "       [  0,   0,   0,   0,   0,   0,   0,   0,   0,   0,   0,   0,   0,\n",
       "          0,   0,   0,   0,   0,   0,   0,   0,   0,   0,   0,   0,   0,\n",
       "          0,   0]], dtype=uint8)"
      ]
     },
     "execution_count": 284,
     "metadata": {},
     "output_type": "execute_result"
    }
   ],
   "source": [
    "x_train[0]"
   ]
  },
  {
   "cell_type": "code",
   "execution_count": 4,
   "metadata": {},
   "outputs": [],
   "source": [
    "import os"
   ]
  },
  {
   "cell_type": "code",
   "execution_count": 5,
   "metadata": {},
   "outputs": [],
   "source": [
    "data_dir='C:\\\\Users\\\\GTDNL\\\\cell_images'"
   ]
  },
  {
   "cell_type": "code",
   "execution_count": 6,
   "metadata": {},
   "outputs": [
    {
     "data": {
      "text/plain": [
       "['test', 'train']"
      ]
     },
     "execution_count": 6,
     "metadata": {},
     "output_type": "execute_result"
    }
   ],
   "source": [
    "os.listdir(data_dir)"
   ]
  },
  {
   "cell_type": "code",
   "execution_count": 10,
   "metadata": {},
   "outputs": [],
   "source": [
    "test_path='C:\\\\Users\\\\GTDNL\\\\cell_images\\\\test\\\\'\n",
    "train_path='C:\\\\Users\\\\GTDNL\\\\cell_images\\\\train\\\\'"
   ]
  },
  {
   "cell_type": "code",
   "execution_count": 19,
   "metadata": {},
   "outputs": [
    {
     "data": {
      "text/plain": [
       "['C100P61ThinF_IMG_20150918_144104_cell_34.png',\n",
       " 'C100P61ThinF_IMG_20150918_144348_cell_108.png',\n",
       " 'C100P61ThinF_IMG_20150918_145042_cell_33.png',\n",
       " 'C100P61ThinF_IMG_20150918_145422_cell_138.png',\n",
       " 'C100P61ThinF_IMG_20150918_145938_cell_145.png',\n",
       " 'C100P61ThinF_IMG_20150918_150041_cell_4.png',\n",
       " 'C100P61ThinF_IMG_20150918_150041_cell_67.png',\n",
       " 'C101P62ThinF_IMG_20150918_151149_cell_28.png',\n",
       " 'C101P62ThinF_IMG_20150918_151149_cell_43.png',\n",
       " 'C101P62ThinF_IMG_20150918_151335_cell_26.png',\n",
       " 'C101P62ThinF_IMG_20150918_151942_cell_39.png',\n",
       " 'C101P62ThinF_IMG_20150923_170344_cell_66.png',\n",
       " 'C102P63ThinF_IMG_20150918_161826_cell_133.png',\n",
       " 'C102P63ThinF_IMG_20150918_161826_cell_144.png',\n",
       " 'C102P63ThinF_IMG_20150918_162155_cell_5.png',\n",
       " 'C102P63ThinF_IMG_20150918_162155_cell_66.png',\n",
       " 'C102P63ThinF_IMG_20150918_162511_cell_56.png',\n",
       " 'C103P64ThinF_IMG_20150918_164331_cell_160.png',\n",
       " 'C103P64ThinF_IMG_20150918_164331_cell_72.png',\n",
       " 'C103P64ThinF_IMG_20150918_164553_cell_163.png',\n",
       " 'C103P64ThinF_IMG_20150918_165016_cell_70.png',\n",
       " 'C103P64ThinF_IMG_20150918_165125_cell_86.png',\n",
       " 'C103P64ThinF_IMG_20150918_165510_cell_98.png',\n",
       " 'C104P65ThinF_IMG_20150918_172537_cell_33.png',\n",
       " 'C104P65ThinF_IMG_20150918_172639_cell_163.png',\n",
       " 'C104P65ThinF_IMG_20150918_172639_cell_5.png',\n",
       " 'C105P66ThinF_IMG_20150924_094800_cell_11.png',\n",
       " 'C105P66ThinF_IMG_20150924_094944_cell_97.png',\n",
       " 'C105P66ThinF_IMG_20150924_095633_cell_106.png',\n",
       " 'C105P66ThinF_IMG_20150924_095716_cell_2.png',\n",
       " 'C105P66ThinF_IMG_20150924_095716_cell_8.png',\n",
       " 'C105P66ThinF_IMG_20150924_100655_cell_14.png',\n",
       " 'C106P67ThinF_IMG_20150924_102413_cell_85.png',\n",
       " 'C106P67ThinF_IMG_20150924_103245_cell_132.png',\n",
       " 'C106P67ThinF_IMG_20150924_103245_cell_24.png',\n",
       " 'C106P67ThinF_IMG_20150924_103245_cell_96.png',\n",
       " 'C106P67ThinF_IMG_20150924_103636_cell_5.png',\n",
       " 'C106P67ThinF_IMG_20150924_103811_cell_15.png',\n",
       " 'C106P67ThinF_IMG_20150924_103811_cell_32.png',\n",
       " 'C106P67ThinF_IMG_20150924_104044_cell_121.png',\n",
       " 'C107P68ThinF_IMG_20150924_221632_cell_45.png',\n",
       " 'C107P68ThinF_IMG_20150924_221909_cell_134.png',\n",
       " 'C107P68ThinF_IMG_20150924_221909_cell_83.png',\n",
       " 'C107P68ThinF_IMG_20150924_221909_cell_91.png',\n",
       " 'C107P68ThinF_IMG_20150924_222233_cell_127.png',\n",
       " 'C107P68ThinF_IMG_20150924_222415_cell_23.png',\n",
       " 'C107P68ThinF_IMG_20150924_222415_cell_41.png',\n",
       " 'C107P68ThinF_IMG_20150924_222415_cell_51.png',\n",
       " 'C107P68ThinF_IMG_20150924_222535_cell_53.png',\n",
       " 'C107P68ThinF_IMG_20150924_222535_cell_69.png',\n",
       " 'C107P68ThinF_IMG_20150924_222630_cell_39.png',\n",
       " 'C108P69ThinF_IMG_20150924_223834_cell_140.png',\n",
       " 'C108P69ThinF_IMG_20150924_223834_cell_195.png',\n",
       " 'C108P69ThinF_IMG_20150924_224038_cell_8.png',\n",
       " 'C108P69ThinF_IMG_20150924_224909_cell_165.png',\n",
       " 'C108P69ThinF_IMG_20150924_224909_cell_40.png',\n",
       " 'C108P69ThinF_IMG_20150924_225004_cell_214.png',\n",
       " 'C108P69ThinF_IMG_20150924_225511_cell_74.png',\n",
       " 'C109P70ThinF_IMG_20150930_102716_cell_10.png',\n",
       " 'C109P70ThinF_IMG_20150930_102716_cell_33.png',\n",
       " 'C109P70ThinF_IMG_20150930_102944_cell_60.png',\n",
       " 'C109P70ThinF_IMG_20150930_103113_cell_112.png',\n",
       " 'C109P70ThinF_IMG_20150930_103113_cell_27.png',\n",
       " 'C109P70ThinF_IMG_20150930_103113_cell_28.png',\n",
       " 'C109P70ThinF_IMG_20150930_103214_cell_151.png',\n",
       " 'C110P71ThinF_IMG_20150930_105559_cell_109.png',\n",
       " 'C110P71ThinF_IMG_20150930_105559_cell_31.png',\n",
       " 'C110P71ThinF_IMG_20150930_105559_cell_34.png',\n",
       " 'C110P71ThinF_IMG_20150930_105729_cell_129.png',\n",
       " 'C110P71ThinF_IMG_20150930_105729_cell_132.png',\n",
       " 'C110P71ThinF_IMG_20150930_105925_cell_153.png',\n",
       " 'C110P71ThinF_IMG_20150930_105925_cell_57.png',\n",
       " 'C110P71ThinF_IMG_20150930_110404_cell_43.png',\n",
       " 'C111P72ThinF_IMG_20150930_112430_cell_60.png',\n",
       " 'C111P72ThinF_IMG_20150930_112609_cell_151.png',\n",
       " 'C111P72ThinF_IMG_20150930_112827_cell_117.png',\n",
       " 'C111P72ThinF_IMG_20150930_113049_cell_109.png',\n",
       " 'C111P72ThinF_IMG_20150930_113210_cell_5.png',\n",
       " 'C112P73ThinF_IMG_20150930_131401_cell_162.png',\n",
       " 'C112P73ThinF_IMG_20150930_131605_cell_13.png',\n",
       " 'C112P73ThinF_IMG_20150930_131659_cell_64.png',\n",
       " 'C112P73ThinF_IMG_20150930_131659_cell_69.png',\n",
       " 'C112P73ThinF_IMG_20150930_131900_cell_159.png',\n",
       " 'C112P73ThinF_IMG_20150930_131900_cell_55.png',\n",
       " 'C113P74ThinF_IMG_20150930_134355_cell_155.png',\n",
       " 'C113P74ThinF_IMG_20150930_134355_cell_35.png',\n",
       " 'C113P74ThinF_IMG_20150930_134429_cell_60.png',\n",
       " 'C113P74ThinF_IMG_20150930_134614_cell_107.png',\n",
       " 'C113P74ThinF_IMG_20150930_140646_cell_36.png',\n",
       " 'C113P74ThinF_IMG_20150930_140646_cell_5.png',\n",
       " 'C114P75ThinF_IMG_20150930_150013_cell_183.png',\n",
       " 'C114P75ThinF_IMG_20150930_150057_cell_135.png',\n",
       " 'C114P75ThinF_IMG_20150930_150057_cell_61.png',\n",
       " 'C114P75ThinF_IMG_20150930_150145_cell_1.png',\n",
       " 'C114P75ThinF_IMG_20150930_150833_cell_63.png',\n",
       " 'C114P75ThinF_IMG_20150930_151150_cell_157.png',\n",
       " 'C115P76ThinF_IMG_20150930_161825_cell_117.png',\n",
       " 'C115P76ThinF_IMG_20150930_162315_cell_105.png',\n",
       " 'C115P76ThinF_IMG_20150930_162315_cell_167.png',\n",
       " 'C115P76ThinF_IMG_20150930_163018_cell_167.png',\n",
       " 'C115P76ThinF_IMG_20150930_163156_cell_192.png',\n",
       " 'C116P77ThinF_IMG_20150930_171635_cell_63.png',\n",
       " 'C116P77ThinF_IMG_20150930_171809_cell_35.png',\n",
       " 'C116P77ThinF_IMG_20150930_171844_cell_56.png',\n",
       " 'C116P77ThinF_IMG_20150930_171954_cell_45.png',\n",
       " 'C117P78ThinF_IMG_20150930_214138_cell_43.png',\n",
       " 'C117P78ThinF_IMG_20150930_214138_cell_54.png',\n",
       " 'C117P78ThinF_IMG_20150930_214511_cell_62.png',\n",
       " 'C117P78ThinF_IMG_20150930_214629_cell_1.png',\n",
       " 'C117P78ThinF_IMG_20150930_220616_cell_63.png',\n",
       " 'C117P78ThinF_IMG_20150930_221812_cell_51.png',\n",
       " 'C117P78ThinF_IMG_20150930_221812_cell_60.png',\n",
       " 'C117P78ThinF_IMG_20150930_221812_cell_8.png',\n",
       " 'C117P78ThinF_IMG_20150930_222228_cell_40.png',\n",
       " 'C118P79ThinF_IMG_20151002_104831_cell_28.png',\n",
       " 'C118P79ThinF_IMG_20151002_104831_cell_63.png',\n",
       " 'C118P79ThinF_IMG_20151002_105018_cell_59.png',\n",
       " 'C118P79ThinF_IMG_20151002_105018_cell_67.png',\n",
       " 'C118P79ThinF_IMG_20151002_105018_cell_70.png',\n",
       " 'C118P79ThinF_IMG_20151002_105735_cell_33.png',\n",
       " 'C118P79ThinF_IMG_20151002_110725_cell_107.png',\n",
       " 'C118P79ThinF_IMG_20151002_110725_cell_58.png',\n",
       " 'C118P79ThinF_IMG_20151002_110834_cell_53.png',\n",
       " 'C119P80ThinF_IMG_20151002_124345_cell_41.png',\n",
       " 'C119P80ThinF_IMG_20151002_124345_cell_93.png',\n",
       " 'C119P80ThinF_IMG_20151002_124425_cell_86.png',\n",
       " 'C120P81ThinF_IMG_20151002_125443_cell_81.png',\n",
       " 'C120P81ThinF_IMG_20151002_130407_cell_177.png',\n",
       " 'C120P81ThinF_IMG_20151002_130715_cell_128.png',\n",
       " 'C120P81ThinF_IMG_20151002_130715_cell_6.png',\n",
       " 'C120P81ThinF_IMG_20151002_130918_cell_146.png',\n",
       " 'C120P81ThinF_IMG_20151002_130918_cell_43.png',\n",
       " 'C120P81ThinF_IMG_20151002_130918_cell_45.png',\n",
       " 'C121P82ThinF_IMG_20151002_132926_cell_1.png',\n",
       " 'C121P82ThinF_IMG_20151002_132926_cell_35.png',\n",
       " 'C121P82ThinF_IMG_20151002_133001_cell_7.png',\n",
       " 'C121P82ThinF_IMG_20151002_133158_cell_18.png',\n",
       " 'C121P82ThinF_IMG_20151002_133427_cell_60.png',\n",
       " 'C121P82ThinF_IMG_20151002_133540_cell_14.png',\n",
       " 'C121P82ThinF_IMG_20151002_133631_cell_34.png',\n",
       " 'C121P82ThinF_IMG_20151002_135054_cell_87.png',\n",
       " 'C121P82ThinF_IMG_20151002_135237_cell_89.png',\n",
       " 'C122P83ThinF_IMG_20151002_144341_cell_72.png',\n",
       " 'C122P83ThinF_IMG_20151002_144610_cell_100.png',\n",
       " 'C122P83ThinF_IMG_20151002_144610_cell_26.png',\n",
       " 'C122P83ThinF_IMG_20151002_145014_cell_80.png',\n",
       " 'C122P83ThinF_IMG_20151002_145330_cell_150.png',\n",
       " 'C122P83ThinF_IMG_20151002_145330_cell_41.png',\n",
       " 'C122P83ThinF_IMG_20151002_145415_cell_110.png',\n",
       " 'C122P83ThinF_IMG_20151002_145415_cell_95.png',\n",
       " 'C122P83ThinF_IMG_20151002_145918_cell_18.png',\n",
       " 'C122P83ThinF_IMG_20151002_145918_cell_95.png',\n",
       " 'C123P84ThinF_IMG_20151002_151432_cell_130.png',\n",
       " 'C123P84ThinF_IMG_20151002_151432_cell_150.png',\n",
       " 'C123P84ThinF_IMG_20151002_152144_cell_10.png',\n",
       " 'C123P84ThinF_IMG_20151002_152144_cell_49.png',\n",
       " 'C123P84ThinF_IMG_20151002_152144_cell_73.png',\n",
       " 'C124P85ThinF_IMG_20151002_153825_cell_19.png',\n",
       " 'C124P85ThinF_IMG_20151002_153825_cell_26.png',\n",
       " 'C124P85ThinF_IMG_20151002_154502_cell_3.png',\n",
       " 'C124P85ThinF_IMG_20151002_154808_cell_40.png',\n",
       " 'C124P85ThinF_IMG_20151002_154808_cell_77.png',\n",
       " 'C124P85ThinF_IMG_20151002_154846_cell_32.png',\n",
       " 'C124P85ThinF_IMG_20151002_155026_cell_57.png',\n",
       " 'C124P85ThinF_IMG_20151002_155101_cell_140.png',\n",
       " 'C124P85ThinF_IMG_20151002_155101_cell_78.png',\n",
       " 'C124P85ThinF_IMG_20151002_155101_cell_90.png',\n",
       " 'C125P86ThinF_IMG_20151004_102013_cell_37.png',\n",
       " 'C125P86ThinF_IMG_20151004_102013_cell_57.png',\n",
       " 'C125P86ThinF_IMG_20151004_102053_cell_100.png',\n",
       " 'C125P86ThinF_IMG_20151004_102053_cell_76.png',\n",
       " 'C125P86ThinF_IMG_20151004_102132_cell_7.png',\n",
       " 'C125P86ThinF_IMG_20151004_102205_cell_71.png',\n",
       " 'C125P86ThinF_IMG_20151004_102619_cell_58.png',\n",
       " 'C126P87ThinF_IMG_20151004_104441_cell_64.png',\n",
       " 'C126P87ThinF_IMG_20151004_104623_cell_43.png',\n",
       " 'C126P87ThinF_IMG_20151004_105100_cell_91.png',\n",
       " 'C126P87ThinF_IMG_20151004_105234_cell_61.png',\n",
       " 'C126P87ThinF_IMG_20151004_105342_cell_102.png',\n",
       " 'C127P88ThinF_IMG_20151004_111651_cell_21.png',\n",
       " 'C127P88ThinF_IMG_20151004_111651_cell_68.png',\n",
       " 'C127P88ThinF_IMG_20151004_111755_cell_11.png',\n",
       " 'C127P88ThinF_IMG_20151004_111755_cell_77.png',\n",
       " 'C127P88ThinF_IMG_20151004_112301_cell_79.png',\n",
       " 'C127P88ThinF_IMG_20151004_112418_cell_111.png',\n",
       " 'C127P88ThinF_IMG_20151004_112418_cell_99.png',\n",
       " 'C128P89ThinF_IMG_20151004_130810_cell_115.png',\n",
       " 'C128P89ThinF_IMG_20151004_131030_cell_123.png',\n",
       " 'C128P89ThinF_IMG_20151004_131129_cell_21.png',\n",
       " 'C128P89ThinF_IMG_20151004_131231_cell_84.png',\n",
       " 'C128P89ThinF_IMG_20151004_131632_cell_65.png',\n",
       " 'C128P89ThinF_IMG_20151004_131753_cell_1.png',\n",
       " 'C129P90ThinF_IMG_20151004_133244_cell_49.png',\n",
       " 'C129P90ThinF_IMG_20151004_133329_cell_71.png',\n",
       " 'C129P90ThinF_IMG_20151004_133421_cell_77.png',\n",
       " 'C129P90ThinF_IMG_20151004_133538_cell_41.png',\n",
       " 'C129P90ThinF_IMG_20151004_133538_cell_48.png',\n",
       " 'C129P90ThinF_IMG_20151004_133703_cell_11.png',\n",
       " 'C129P90ThinF_IMG_20151004_133703_cell_36.png',\n",
       " 'C129P90ThinF_IMG_20151004_133703_cell_67.png',\n",
       " 'C129P90ThinF_IMG_20151004_134306_cell_78.png',\n",
       " 'C12NThinF_IMG_20150614_124244_cell_64.png',\n",
       " 'C12NThinF_IMG_20150614_124301_cell_10.png',\n",
       " 'C12NThinF_IMG_20150614_125703_cell_48.png',\n",
       " 'C12NThinF_IMG_20150614_125703_cell_71.png',\n",
       " 'C12NThinF_IMG_20150614_125741_cell_101.png',\n",
       " 'C12NThinF_IMG_20150614_125741_cell_155.png',\n",
       " 'C12NThinF_IMG_20150614_125741_cell_39.png',\n",
       " 'C130P91ThinF_IMG_20151004_141428_cell_60.png',\n",
       " 'C130P91ThinF_IMG_20151004_142951_cell_32.png',\n",
       " 'C131P92ThinF_IMG_20151004_145224_cell_5.png',\n",
       " 'C131P92ThinF_IMG_20151004_145224_cell_88.png',\n",
       " 'C131P92ThinF_IMG_20151004_145410_cell_32.png',\n",
       " 'C131P92ThinF_IMG_20151004_150208_cell_77.png',\n",
       " 'C131P92ThinF_IMG_20151004_150208_cell_79.png',\n",
       " 'C132P93ThinF_IMG_20151004_151811_cell_78.png',\n",
       " 'C132P93ThinF_IMG_20151004_152045_cell_20.png',\n",
       " 'C132P93ThinF_IMG_20151004_152045_cell_53.png',\n",
       " 'C132P93ThinF_IMG_20151004_152257_cell_15.png',\n",
       " 'C133P94ThinF_IMG_20151004_154351_cell_69.png',\n",
       " 'C133P94ThinF_IMG_20151004_154512_cell_84.png',\n",
       " 'C133P94ThinF_IMG_20151004_154919_cell_30.png',\n",
       " 'C133P94ThinF_IMG_20151004_154919_cell_57.png',\n",
       " 'C134P95ThinF_IMG_20151005_121048_cell_65.png',\n",
       " 'C134P95ThinF_IMG_20151005_121343_cell_106.png',\n",
       " 'C134P95ThinF_IMG_20151005_121343_cell_86.png',\n",
       " 'C134P95ThinF_IMG_20151005_121425_cell_47.png',\n",
       " 'C134P95ThinF_IMG_20151005_121425_cell_5.png',\n",
       " 'C134P95ThinF_IMG_20151005_121554_cell_16.png',\n",
       " 'C134P95ThinF_IMG_20151005_121554_cell_60.png',\n",
       " 'C134P95ThinF_IMG_20151005_121834_cell_7.png',\n",
       " 'C134P95ThinF_IMG_20151005_121952_cell_111.png',\n",
       " 'C134P95ThinF_IMG_20151005_121952_cell_7.png',\n",
       " 'C134P95ThinF_IMG_20151005_122552_cell_25.png',\n",
       " 'C134P95ThinF_IMG_20151005_122552_cell_95.png',\n",
       " 'C135P96ThinF_IMG_20151005_123715_cell_121.png',\n",
       " 'C135P96ThinF_IMG_20151005_123715_cell_17.png',\n",
       " 'C135P96ThinF_IMG_20151005_123857_cell_129.png',\n",
       " 'C135P96ThinF_IMG_20151005_124031_cell_72.png',\n",
       " 'C135P96ThinF_IMG_20151005_124204_cell_68.png',\n",
       " 'C135P96ThinF_IMG_20151005_124359_cell_44.png',\n",
       " 'C135P96ThinF_IMG_20151005_124444_cell_108.png',\n",
       " 'C136P97ThinF_IMG_20151005_140538_cell_70.png',\n",
       " 'C136P97ThinF_IMG_20151005_140646_cell_39.png',\n",
       " 'C136P97ThinF_IMG_20151005_141803_cell_1.png',\n",
       " 'C136P97ThinF_IMG_20151005_141803_cell_18.png',\n",
       " 'C136P97ThinF_IMG_20151005_141803_cell_38.png',\n",
       " 'C136P97ThinF_IMG_20151005_141946_cell_53.png',\n",
       " 'C136P97ThinF_IMG_20151005_142437_cell_29.png',\n",
       " 'C136P97ThinF_IMG_20151005_142437_cell_31.png',\n",
       " 'C136P97ThinF_IMG_20151005_144727_cell_84.png',\n",
       " 'C137P98ThinF_IMG_20151005_155704_cell_22.png',\n",
       " 'C137P98ThinF_IMG_20151005_160256_cell_12.png',\n",
       " 'C137P98ThinF_IMG_20151005_161859_cell_30.png',\n",
       " 'C137P98ThinF_IMG_20151005_162010_cell_20.png',\n",
       " 'C137P98ThinF_IMG_20151005_162010_cell_47.png',\n",
       " 'C137P98ThinF_IMG_20151005_163251_cell_12.png',\n",
       " 'C138P99ThinF_IMG_20151005_170905_cell_23.png',\n",
       " 'C138P99ThinF_IMG_20151005_172849_cell_119.png',\n",
       " 'C138P99ThinF_IMG_20151005_172849_cell_90.png',\n",
       " 'C138P99ThinF_IMG_20151005_173241_cell_66.png',\n",
       " 'C139P100ThinF_IMG_20151005_182257_cell_39.png',\n",
       " 'C139P100ThinF_IMG_20151005_182257_cell_50.png',\n",
       " 'C139P100ThinF_IMG_20151005_182527_cell_93.png',\n",
       " 'C139P100ThinF_IMG_20151005_182822_cell_105.png',\n",
       " 'C139P100ThinF_IMG_20151005_183338_cell_78.png',\n",
       " 'C139P100ThinF_IMG_20151005_183338_cell_96.png',\n",
       " 'C139P100ThinF_IMG_20151005_183521_cell_58.png',\n",
       " 'C13NThinF_IMG_20150614_131417_cell_30.png',\n",
       " 'C13NThinF_IMG_20150614_131417_cell_62.png',\n",
       " 'C13NThinF_IMG_20150614_131529_cell_34.png',\n",
       " 'C13NThinF_IMG_20150614_131529_cell_38.png',\n",
       " 'C13NThinF_IMG_20150614_131553_cell_244.png',\n",
       " 'C13NThinF_IMG_20150614_131617_cell_101.png',\n",
       " 'C13NThinF_IMG_20150614_131617_cell_3.png',\n",
       " 'C140P101ThinF_IMG_20151005_205922_cell_131.png',\n",
       " 'C140P101ThinF_IMG_20151005_205922_cell_7.png',\n",
       " 'C140P101ThinF_IMG_20151005_211530_cell_126.png',\n",
       " 'C140P101ThinF_IMG_20151005_211735_cell_87.png',\n",
       " 'C141P102ThinF_IMG_20151005_214615_cell_146.png',\n",
       " 'C141P102ThinF_IMG_20151005_215711_cell_40.png',\n",
       " 'C141P102ThinF_IMG_20151005_215906_cell_29.png',\n",
       " 'C141P102ThinF_IMG_20151005_215906_cell_94.png',\n",
       " 'C142P103ThinF_IMG_20151005_221900_cell_117.png',\n",
       " 'C142P103ThinF_IMG_20151005_221900_cell_126.png',\n",
       " 'C142P103ThinF_IMG_20151005_222255_cell_69.png',\n",
       " 'C142P103ThinF_IMG_20151005_222255_cell_88.png',\n",
       " 'C142P103ThinF_IMG_20151005_223257_cell_139.png',\n",
       " 'C143P104ThinF_IMG_20151005_225746_cell_115.png',\n",
       " 'C143P104ThinF_IMG_20151005_225746_cell_167.png',\n",
       " 'C143P104ThinF_IMG_20151005_225746_cell_48.png',\n",
       " 'C143P104ThinF_IMG_20151005_225746_cell_92.png',\n",
       " 'C143P104ThinF_IMG_20151005_230100_cell_73.png',\n",
       " 'C144P105ThinF_IMG_20151015_155149_cell_222.png',\n",
       " 'C144P105ThinF_IMG_20151015_163142_cell_206.png',\n",
       " 'C144P105ThinF_IMG_20151015_163142_cell_90.png',\n",
       " 'C144P105ThinF_IMG_20151015_163432_cell_129.png',\n",
       " 'C144P105ThinF_IMG_20151015_163432_cell_69.png',\n",
       " 'C145P106ThinF_IMG_20151016_154309_cell_71.png',\n",
       " 'C145P106ThinF_IMG_20151016_154309_cell_82.png',\n",
       " 'C145P106ThinF_IMG_20151016_154641_cell_104.png',\n",
       " 'C145P106ThinF_IMG_20151016_154719_cell_120.png',\n",
       " 'C145P106ThinF_IMG_20151016_154756_cell_81.png',\n",
       " 'C145P106ThinF_IMG_20151016_154844_cell_45.png',\n",
       " 'C145P106ThinF_IMG_20151016_155051_cell_142.png',\n",
       " 'C145P106ThinF_IMG_20151016_155051_cell_67.png',\n",
       " 'C146P107ThinF_IMG_20151018_135703_cell_35.png',\n",
       " 'C146P107ThinF_IMG_20151018_140044_cell_136.png',\n",
       " 'C146P107ThinF_IMG_20151018_140342_cell_58.png',\n",
       " 'C146P107ThinF_IMG_20151018_140342_cell_87.png',\n",
       " 'C146P107ThinF_IMG_20151018_140439_cell_63.png',\n",
       " 'C147P108ThinF_IMG_20151115_092605_cell_22.png',\n",
       " 'C147P108ThinF_IMG_20151115_092605_cell_59.png',\n",
       " 'C147P108ThinF_IMG_20151115_092900_cell_178.png',\n",
       " 'C147P108ThinF_IMG_20151115_092900_cell_99.png',\n",
       " 'C147P108ThinF_IMG_20151115_101156_cell_100.png',\n",
       " 'C147P108ThinF_IMG_20151115_101156_cell_111.png',\n",
       " 'C147P108ThinF_IMG_20151115_103432_cell_169.png',\n",
       " 'C147P108ThinF_IMG_20151115_103432_cell_17.png',\n",
       " 'C148P109ThinF_IMG_20151115_112253_cell_138.png',\n",
       " 'C148P109ThinF_IMG_20151115_112253_cell_212.png',\n",
       " 'C148P109ThinF_IMG_20151115_112253_cell_218.png',\n",
       " 'C148P109ThinF_IMG_20151115_112333_cell_103.png',\n",
       " 'C148P109ThinF_IMG_20151115_112333_cell_104.png',\n",
       " 'C148P109ThinF_IMG_20151115_112445_cell_202.png',\n",
       " 'C148P109ThinF_IMG_20151115_112445_cell_87.png',\n",
       " 'C148P109ThinF_IMG_20151115_112855_cell_114.png',\n",
       " 'C149P110ThinF_IMG_20151115_114729_cell_57.png',\n",
       " 'C150P111ThinF_IMG_20151115_115805_cell_20.png',\n",
       " 'C150P111ThinF_IMG_20151115_115805_cell_52.png',\n",
       " 'C150P111ThinF_IMG_20151115_115922_cell_167.png',\n",
       " 'C150P111ThinF_IMG_20151115_120029_cell_22.png',\n",
       " 'C150P111ThinF_IMG_20151115_120244_cell_37.png',\n",
       " 'C151P112ThinF_IMG_20151115_121644_cell_211.png',\n",
       " 'C151P112ThinF_IMG_20151115_121725_cell_70.png',\n",
       " 'C151P112ThinF_IMG_20151115_121843_cell_113.png',\n",
       " 'C151P112ThinF_IMG_20151115_121843_cell_222.png',\n",
       " 'C151P112ThinF_IMG_20151115_121942_cell_124.png',\n",
       " 'C151P112ThinF_IMG_20151115_122342_cell_169.png',\n",
       " 'C152P113ThinF_IMG_20151115_124032_cell_153.png',\n",
       " 'C152P113ThinF_IMG_20151115_124032_cell_59.png',\n",
       " 'C152P113ThinF_IMG_20151115_124217_cell_118.png',\n",
       " 'C152P113ThinF_IMG_20151115_124557_cell_148.png',\n",
       " 'C152P113ThinF_IMG_20151115_124853_cell_116.png',\n",
       " 'C152P113ThinF_IMG_20151115_124853_cell_93.png',\n",
       " 'C153P114ThinF_IMG_20151115_135639_cell_39.png',\n",
       " 'C153P114ThinF_IMG_20151115_135639_cell_67.png',\n",
       " 'C153P114ThinF_IMG_20151115_135639_cell_80.png',\n",
       " 'C153P114ThinF_IMG_20151115_135746_cell_133.png',\n",
       " 'C153P114ThinF_IMG_20151115_135746_cell_193.png',\n",
       " 'C153P114ThinF_IMG_20151115_135911_cell_19.png',\n",
       " 'C153P114ThinF_IMG_20151115_140242_cell_138.png',\n",
       " 'C153P114ThinF_IMG_20151115_140242_cell_185.png',\n",
       " 'C153P114ThinF_IMG_20151115_140242_cell_21.png',\n",
       " 'C154P115ThinF_IMG_20151115_141336_cell_117.png',\n",
       " 'C154P115ThinF_IMG_20151115_141336_cell_159.png',\n",
       " 'C154P115ThinF_IMG_20151115_141407_cell_216.png',\n",
       " 'C154P115ThinF_IMG_20151115_141507_cell_15.png',\n",
       " 'C154P115ThinF_IMG_20151115_141507_cell_16.png',\n",
       " 'C154P115ThinF_IMG_20151115_141507_cell_166.png',\n",
       " 'C154P115ThinF_IMG_20151115_141507_cell_198.png',\n",
       " 'C154P115ThinF_IMG_20151115_141543_cell_45.png',\n",
       " 'C154P115ThinF_IMG_20151115_141543_cell_65.png',\n",
       " 'C154P115ThinF_IMG_20151115_141621_cell_65.png',\n",
       " 'C154P115ThinF_IMG_20151115_141621_cell_81.png',\n",
       " 'C154P115ThinF_IMG_20151115_141837_cell_99.png',\n",
       " 'C155P116ThinF_IMG_20151115_142526_cell_86.png',\n",
       " 'C155P116ThinF_IMG_20151115_143330_cell_102.png',\n",
       " 'C155P116ThinF_IMG_20151115_143330_cell_55.png',\n",
       " 'C156P117ThinF_IMG_20151115_153831_cell_214.png',\n",
       " 'C156P117ThinF_IMG_20151115_154022_cell_121.png',\n",
       " 'C156P117ThinF_IMG_20151115_154022_cell_64.png',\n",
       " 'C156P117ThinF_IMG_20151115_154022_cell_72.png',\n",
       " 'C156P117ThinF_IMG_20151115_154435_cell_204.png',\n",
       " 'C156P117ThinF_IMG_20151115_155104_cell_218.png',\n",
       " 'C157P118ThinF_IMG_20151115_162818_cell_116.png',\n",
       " 'C157P118ThinF_IMG_20151115_162818_cell_138.png',\n",
       " 'C157P118ThinF_IMG_20151115_162818_cell_90.png',\n",
       " 'C157P118ThinF_IMG_20151115_163611_cell_9.png',\n",
       " 'C157P118ThinF_IMG_20151115_163759_cell_140.png',\n",
       " 'C157P118ThinF_IMG_20151115_163759_cell_141.png',\n",
       " 'C157P118ThinF_IMG_20151115_164141_cell_145.png',\n",
       " 'C158P119ThinF_IMG_20151115_181035_cell_92.png',\n",
       " 'C158P119ThinF_IMG_20151115_181136_cell_102.png',\n",
       " 'C158P119ThinF_IMG_20151115_181436_cell_110.png',\n",
       " 'C158P119ThinF_IMG_20151115_181436_cell_133.png',\n",
       " 'C159P120ThinF_IMG_20151115_185541_cell_69.png',\n",
       " 'C159P120ThinF_IMG_20151115_190002_cell_163.png',\n",
       " 'C159P120ThinF_IMG_20151115_190002_cell_52.png',\n",
       " 'C159P120ThinF_IMG_20151115_190421_cell_160.png',\n",
       " 'C159P120ThinF_IMG_20151115_190642_cell_80.png',\n",
       " 'C159P120ThinF_IMG_20151115_191301_cell_34.png',\n",
       " 'C160P121ThinF_IMG_20151116_092925_cell_127.png',\n",
       " 'C160P121ThinF_IMG_20151116_092925_cell_133.png',\n",
       " 'C160P121ThinF_IMG_20151116_092925_cell_136.png',\n",
       " 'C160P121ThinF_IMG_20151116_093629_cell_79.png',\n",
       " 'C160P121ThinF_IMG_20151116_093748_cell_33.png',\n",
       " 'C160P121ThinF_IMG_20151116_093748_cell_96.png',\n",
       " 'C160P121ThinF_IMG_20151116_094509_cell_98.png',\n",
       " 'C161P122ThinF_IMG_20151116_100840_cell_51.png',\n",
       " 'C161P122ThinF_IMG_20151116_100840_cell_90.png',\n",
       " 'C161P122ThinF_IMG_20151116_101059_cell_22.png',\n",
       " 'C161P122ThinF_IMG_20151116_101059_cell_69.png',\n",
       " 'C161P122ThinF_IMG_20151116_101126_cell_24.png',\n",
       " 'C161P122ThinF_IMG_20151116_101210_cell_52.png',\n",
       " 'C161P122ThinF_IMG_20151116_101315_cell_63.png',\n",
       " 'C161P122ThinF_IMG_20151116_101626_cell_78.png',\n",
       " 'C162P123ThinF_IMG_20151116_102655_cell_85.png',\n",
       " 'C162P123ThinF_IMG_20151116_102751_cell_123.png',\n",
       " 'C162P123ThinF_IMG_20151116_102751_cell_85.png',\n",
       " 'C162P123ThinF_IMG_20151116_105019_cell_107.png',\n",
       " 'C162P123ThinF_IMG_20151116_105019_cell_23.png',\n",
       " 'C162P123ThinF_IMG_20151116_105019_cell_31.png',\n",
       " 'C163P124ThinF_IMG_20151116_110818_cell_258.png',\n",
       " 'C163P124ThinF_IMG_20151116_110921_cell_49.png',\n",
       " 'C163P124ThinF_IMG_20151116_111742_cell_221.png',\n",
       " 'C163P124ThinF_IMG_20151116_111742_cell_45.png',\n",
       " 'C163P124ThinF_IMG_20151116_111925_cell_94.png',\n",
       " 'C163P124ThinF_IMG_20151116_111925_cell_97.png',\n",
       " 'C164P125ThinF_IMG_20151116_113651_cell_77.png',\n",
       " 'C164P125ThinF_IMG_20151116_113954_cell_48.png',\n",
       " 'C164P125ThinF_IMG_20151116_114404_cell_170.png',\n",
       " 'C164P125ThinF_IMG_20151116_114404_cell_22.png',\n",
       " 'C164P125ThinF_IMG_20151116_115112_cell_90.png',\n",
       " 'C164P125ThinF_IMG_20151116_115650_cell_12.png',\n",
       " 'C164P125ThinF_IMG_20151116_115650_cell_81.png',\n",
       " 'C164P125ThinF_IMG_20151116_115650_cell_98.png',\n",
       " 'C165P126ThinF_IMG_20151117_164432_cell_176.png',\n",
       " 'C165P126ThinF_IMG_20151117_172356_cell_55.png',\n",
       " 'C165P126ThinF_IMG_20151117_172356_cell_62.png',\n",
       " 'C165P126ThinF_IMG_20151117_172859_cell_176.png',\n",
       " 'C165P126ThinF_IMG_20151117_172859_cell_191.png',\n",
       " 'C166P127ThinF_IMG_20151117_193931_cell_106.png',\n",
       " 'C166P127ThinF_IMG_20151117_193931_cell_131.png',\n",
       " 'C166P127ThinF_IMG_20151117_194410_cell_30.png',\n",
       " 'C166P127ThinF_IMG_20151117_195030_cell_31.png',\n",
       " 'C167P128ReThinF_IMG_20151201_105354_cell_214.png',\n",
       " 'C167P128ReThinF_IMG_20151201_105354_cell_64.png',\n",
       " 'C167P128ReThinF_IMG_20151201_105559_cell_61.png',\n",
       " 'C167P128ReThinF_IMG_20151201_105707_cell_84.png',\n",
       " 'C167P128ReThinF_IMG_20151201_105707_cell_93.png',\n",
       " 'C168P129ThinF_IMG_20151118_154651_cell_27.png',\n",
       " 'C168P129ThinF_IMG_20151118_154651_cell_57.png',\n",
       " 'C168P129ThinF_IMG_20151118_155802_cell_121.png',\n",
       " 'C168P129ThinF_IMG_20151118_160516_cell_105.png',\n",
       " 'C168P129ThinF_IMG_20151118_160845_cell_125.png',\n",
       " 'C168P129ThinF_IMG_20151118_160845_cell_18.png',\n",
       " 'C168P129ThinF_IMG_20151118_161940_cell_118.png',\n",
       " 'C168P129ThinF_IMG_20151118_161940_cell_142.png',\n",
       " 'C169P130ThinF_IMG_20151118_163539_cell_148.png',\n",
       " 'C169P130ThinF_IMG_20151118_172913_cell_4.png',\n",
       " 'C169P130ThinF_IMG_20151118_173039_cell_81.png',\n",
       " 'C169P130ThinF_IMG_20151119_143039_cell_158.png',\n",
       " 'C169P130ThinF_IMG_20151119_143039_cell_182.png',\n",
       " 'C169P130ThinF_IMG_20151119_143039_cell_203.png',\n",
       " 'C170P131ThinF_IMG_20151119_120019_cell_209.png',\n",
       " 'C170P131ThinF_IMG_20151119_120111_cell_132.png',\n",
       " 'C170P131ThinF_IMG_20151119_120150_cell_165.png',\n",
       " 'C171P132ThinF_IMG_20151119_152913_cell_141.png',\n",
       " 'C171P132ThinF_IMG_20151119_152913_cell_76.png',\n",
       " 'C171P132ThinF_IMG_20151119_153150_cell_35.png',\n",
       " 'C171P132ThinF_IMG_20151119_153347_cell_167.png',\n",
       " 'C171P132ThinF_IMG_20151119_153347_cell_205.png',\n",
       " 'C171P132ThinF_IMG_20151119_153425_cell_189.png',\n",
       " 'C171P132ThinF_IMG_20151119_153512_cell_125.png',\n",
       " 'C172P133ThinF_IMG_20151119_154936_cell_119.png',\n",
       " 'C172P133ThinF_IMG_20151119_155019_cell_69.png',\n",
       " 'C172P133ThinF_IMG_20151119_155156_cell_197.png',\n",
       " 'C173P134NThinF_IMG_20151130_115339_cell_122.png',\n",
       " 'C173P134NThinF_IMG_20151130_115339_cell_225.png',\n",
       " 'C173P134NThinF_IMG_20151130_115339_cell_9.png',\n",
       " 'C173P134NThinF_IMG_20151130_115733_cell_10.png',\n",
       " 'C173P134NThinF_IMG_20151130_115733_cell_181.png',\n",
       " 'C173P134NThinF_IMG_20151130_115733_cell_206.png',\n",
       " 'C173P134NThinF_IMG_20151130_115733_cell_92.png',\n",
       " 'C173P134NThinF_IMG_20151130_125408_cell_241.png',\n",
       " 'C173P134NThinF_IMG_20151130_125408_cell_258.png',\n",
       " 'C173P134NThinF_IMG_20151130_125501_cell_112.png',\n",
       " 'C173P134NThinF_IMG_20151130_125501_cell_52.png',\n",
       " 'C174P135NThinF_IMG_20151127_135311_cell_183.png',\n",
       " 'C174P135NThinF_IMG_20151127_135342_cell_117.png',\n",
       " 'C174P135NThinF_IMG_20151127_135342_cell_138.png',\n",
       " 'C174P135NThinF_IMG_20151127_135435_cell_43.png',\n",
       " 'C174P135NThinF_IMG_20151127_135435_cell_91.png',\n",
       " 'C174P135NThinF_IMG_20151127_135512_cell_109.png',\n",
       " 'C174P135NThinF_IMG_20151127_135554_cell_45.png',\n",
       " 'C174P135NThinF_IMG_20151127_135640_cell_128.png',\n",
       " 'C175P136NThinF_IMG_20151127_142326_cell_3.png',\n",
       " 'C176P137NThinF_IMG_20151201_120845_cell_48.png',\n",
       " 'C176P137NThinF_IMG_20151201_121808_cell_68.png',\n",
       " 'C176P137NThinF_IMG_20151201_122708_cell_1.png',\n",
       " 'C176P137NThinF_IMG_20151201_122708_cell_82.png',\n",
       " 'C176P137NThinF_IMG_20151201_122811_cell_114.png',\n",
       " 'C176P137NThinF_IMG_20151201_122811_cell_29.png',\n",
       " 'C177P138NThinF_IMG_20151201_142514_cell_89.png',\n",
       " 'C177P138NThinF_IMG_20151201_143546_cell_41.png',\n",
       " 'C177P138NThinF_IMG_20151201_143704_cell_164.png',\n",
       " 'C177P138NThinF_IMG_20151201_143704_cell_170.png',\n",
       " 'C177P138NThinF_IMG_20151201_144820_cell_2.png',\n",
       " 'C177P138NThinF_IMG_20151201_144820_cell_6.png',\n",
       " 'C178P139NThinF_IMG_20151201_153246_cell_141.png',\n",
       " 'C178P139NThinF_IMG_20151201_153246_cell_29.png',\n",
       " 'C178P139NThinF_IMG_20151201_153246_cell_39.png',\n",
       " 'C178P139NThinF_IMG_20151201_154025_cell_63.png',\n",
       " 'C178P139NThinF_IMG_20151201_154524_cell_40.png',\n",
       " 'C178P139NThinF_IMG_20151201_154524_cell_47.png',\n",
       " 'C178P139NThinF_IMG_20151201_154735_cell_18.png',\n",
       " 'C178P139NThinF_IMG_20151201_154735_cell_20.png',\n",
       " 'C178P139NThinF_IMG_20151201_154735_cell_40.png',\n",
       " 'C178P139NThinF_IMG_20151201_154735_cell_6.png',\n",
       " 'C179P140ThinF_IMG_20151127_153350_cell_59.png',\n",
       " 'C179P140ThinF_IMG_20151127_153436_cell_46.png',\n",
       " 'C179P140ThinF_IMG_20151127_153453_cell_114.png',\n",
       " 'C179P140ThinF_IMG_20151127_153453_cell_149.png',\n",
       " 'C179P140ThinF_IMG_20151127_153852_cell_10.png',\n",
       " 'C179P140ThinF_IMG_20151127_153852_cell_86.png',\n",
       " 'C180P141NThinF_IMG_20151201_163702_cell_115.png',\n",
       " 'C180P141NThinF_IMG_20151201_163751_cell_112.png',\n",
       " 'C180P141NThinF_IMG_20151201_163751_cell_62.png',\n",
       " 'C180P141NThinF_IMG_20151201_163848_cell_33.png',\n",
       " 'C180P141NThinF_IMG_20151201_165423_cell_67.png',\n",
       " 'C180P141NThinF_IMG_20151201_165528_cell_81.png',\n",
       " 'C180P141NThinF_IMG_20151201_165601_cell_71.png',\n",
       " 'C181P142ThinF_IMG_20151127_155722_cell_78.png',\n",
       " 'C181P142ThinF_IMG_20151127_160514_cell_106.png',\n",
       " 'C181P142ThinF_IMG_20151127_160514_cell_112.png',\n",
       " 'C181P142ThinF_IMG_20151127_160539_cell_42.png',\n",
       " 'C181P142ThinF_IMG_20151127_160616_cell_13.png',\n",
       " 'C181P142ThinF_IMG_20151127_160650_cell_116.png',\n",
       " 'C182P143NThinF_IMG_20151201_171905_cell_46.png',\n",
       " 'C182P143NThinF_IMG_20151201_171950_cell_54.png',\n",
       " 'C182P143NThinF_IMG_20151201_172216_cell_58.png',\n",
       " 'C182P143NThinF_IMG_20151201_172257_cell_9.png',\n",
       " 'C182P143NThinF_IMG_20151201_172524_cell_19.png',\n",
       " 'C183P144NThinF_IMG_20151201_222119_cell_64.png',\n",
       " 'C183P144NThinF_IMG_20151201_223208_cell_63.png',\n",
       " 'C183P144NThinF_IMG_20151201_223208_cell_99.png',\n",
       " 'C183P144NThinF_IMG_20151201_223431_cell_91.png',\n",
       " 'C183P144NThinF_IMG_20151201_224458_cell_3.png',\n",
       " 'C184P145ThinF_IMG_20151203_102405_cell_5.png',\n",
       " 'C184P145ThinF_IMG_20151203_102543_cell_112.png',\n",
       " 'C184P145ThinF_IMG_20151203_103326_cell_115.png',\n",
       " 'C184P145ThinF_IMG_20151203_103326_cell_120.png',\n",
       " 'C184P145ThinF_IMG_20151203_103637_cell_61.png',\n",
       " 'C184P145ThinF_IMG_20151203_103824_cell_41.png',\n",
       " 'C184P145ThinF_IMG_20151203_104153_cell_15.png',\n",
       " 'C185P146ThinF_IMG_20151203_110344_cell_151.png',\n",
       " 'C185P146ThinF_IMG_20151203_110344_cell_76.png',\n",
       " 'C185P146ThinF_IMG_20151203_110448_cell_105.png',\n",
       " 'C185P146ThinF_IMG_20151203_110448_cell_168.png',\n",
       " 'C185P146ThinF_IMG_20151203_110448_cell_203.png',\n",
       " 'C185P146ThinF_IMG_20151203_110817_cell_251.png',\n",
       " 'C185P146ThinF_IMG_20151203_111121_cell_134.png',\n",
       " 'C186P147NThinF_IMG_20151203_150222_cell_14.png',\n",
       " 'C186P147NThinF_IMG_20151203_150322_cell_14.png',\n",
       " 'C186P147NThinF_IMG_20151203_150322_cell_90.png',\n",
       " 'C186P147NThinF_IMG_20151203_150557_cell_76.png',\n",
       " 'C186P147NThinF_IMG_20151203_150808_cell_113.png',\n",
       " 'C186P147NThinF_IMG_20151203_150808_cell_47.png',\n",
       " 'C187P148NThinF_IMG_20151203_153036_cell_104.png',\n",
       " 'C187P148NThinF_IMG_20151203_153410_cell_86.png',\n",
       " 'C187P148NThinF_IMG_20151203_154200_cell_12.png',\n",
       " 'C187P148NThinF_IMG_20151203_154200_cell_40.png',\n",
       " 'C187P148NThinF_IMG_20151203_154249_cell_19.png',\n",
       " 'C187P148NThinF_IMG_20151203_154249_cell_76.png',\n",
       " 'C188P149ThinF_IMG_20151203_134209_cell_138.png',\n",
       " 'C188P149ThinF_IMG_20151203_134229_cell_16.png',\n",
       " 'C188P149ThinF_IMG_20151203_134419_cell_134.png',\n",
       " 'C188P149ThinF_IMG_20151203_134419_cell_159.png',\n",
       " 'C189P150ThinF_IMG_20151203_140902_cell_92.png',\n",
       " 'C189P150ThinF_IMG_20151203_141004_cell_14.png',\n",
       " 'C189P150ThinF_IMG_20151203_141004_cell_6.png',\n",
       " 'C189P150ThinF_IMG_20151203_141455_cell_51.png',\n",
       " 'C189P150ThinF_IMG_20151203_141455_cell_70.png',\n",
       " 'C189P150ThinF_IMG_20151203_141719_cell_23.png',\n",
       " 'C189P150ThinF_IMG_20151203_141719_cell_44.png',\n",
       " 'C189P150ThinF_IMG_20151203_141809_cell_70.png',\n",
       " 'C189P150ThinF_IMG_20151203_142113_cell_19.png',\n",
       " 'C189P150ThinF_IMG_20151203_142224_cell_71.png',\n",
       " 'C1_thinF_IMG_20150604_104722_cell_231.png',\n",
       " 'C1_thinF_IMG_20150604_104722_cell_81.png',\n",
       " 'C1_thinF_IMG_20150604_104919_cell_178.png',\n",
       " 'C1_thinF_IMG_20150604_104942_cell_102.png',\n",
       " 'C1_thinF_IMG_20150604_104942_cell_72.png',\n",
       " 'C201ThinF_IMG_20150930_142848_cell_128.png',\n",
       " 'C201ThinF_IMG_20150930_142848_cell_236.png',\n",
       " 'C201ThinF_IMG_20150930_143129_cell_9.png',\n",
       " 'C201ThinF_IMG_20150930_143411_cell_216.png',\n",
       " 'C201ThinF_IMG_20150930_143411_cell_62.png',\n",
       " 'C201ThinF_IMG_20150930_143502_cell_237.png',\n",
       " 'C201ThinF_IMG_20150930_143544_cell_118.png',\n",
       " 'C201ThinF_IMG_20150930_143544_cell_190.png',\n",
       " 'C201ThinF_IMG_20150930_143544_cell_34.png',\n",
       " 'C202ThinF_IMG_20151015_151254_cell_80.png',\n",
       " 'C202ThinF_IMG_20151015_151736_cell_123.png',\n",
       " 'C202ThinF_IMG_20151015_152333_cell_169.png',\n",
       " 'C202ThinF_IMG_20151015_152701_cell_150.png',\n",
       " 'C202ThinF_IMG_20151015_152701_cell_196.png',\n",
       " 'C202ThinF_IMG_20151015_152701_cell_213.png',\n",
       " 'C203ThinF_IMG_20151029_102123_cell_130.png',\n",
       " 'C203ThinF_IMG_20151029_102123_cell_6.png',\n",
       " 'C203ThinF_IMG_20151029_104112_cell_62.png',\n",
       " 'C203ThinF_IMG_20151029_105443_cell_203.png',\n",
       " 'C203ThinF_IMG_20151029_105443_cell_224.png',\n",
       " 'C203ThinF_IMG_20151029_105443_cell_257.png',\n",
       " 'C203ThinF_IMG_20151029_105443_cell_74.png',\n",
       " 'C203ThinF_IMG_20151029_105443_cell_94.png',\n",
       " 'C204ThinF_IMG_20151029_110627_cell_111.png',\n",
       " 'C204ThinF_IMG_20151029_110627_cell_117.png',\n",
       " 'C204ThinF_IMG_20151029_110627_cell_254.png',\n",
       " 'C204ThinF_IMG_20151029_110834_cell_126.png',\n",
       " 'C204ThinF_IMG_20151029_110834_cell_18.png',\n",
       " 'C204ThinF_IMG_20151029_110834_cell_238.png',\n",
       " 'C204ThinF_IMG_20151029_110834_cell_252.png',\n",
       " 'C204ThinF_IMG_20151029_112231_cell_203.png',\n",
       " 'C204ThinF_IMG_20151029_112231_cell_221.png',\n",
       " 'C204ThinF_IMG_20151029_112231_cell_239.png',\n",
       " 'C204ThinF_IMG_20151029_112231_cell_60.png',\n",
       " 'C204ThinF_IMG_20151029_112502_cell_248.png',\n",
       " 'C205ThinF_IMG_20151106_151514_cell_127.png',\n",
       " 'C205ThinF_IMG_20151106_152003_cell_144.png',\n",
       " 'C206ThinF_IMG_20151029_140511_cell_112.png',\n",
       " 'C206ThinF_IMG_20151029_140538_cell_67.png',\n",
       " 'C206ThinF_IMG_20151029_140917_cell_103.png',\n",
       " 'C206ThinF_IMG_20151029_140917_cell_192.png',\n",
       " 'C206ThinF_IMG_20151029_140917_cell_272.png',\n",
       " 'C206ThinF_IMG_20151029_141047_cell_248.png',\n",
       " 'C206ThinF_IMG_20151029_141047_cell_86.png',\n",
       " 'C206ThinF_IMG_20151029_141047_cell_87.png',\n",
       " 'C207ThinF_IMG_20151029_143952_cell_17.png',\n",
       " 'C207ThinF_IMG_20151029_144033_cell_148.png',\n",
       " 'C207ThinF_IMG_20151029_144033_cell_94.png',\n",
       " 'C207ThinF_IMG_20151029_144152_cell_262.png',\n",
       " 'C208ThinF_IMG_20151029_151017_cell_207.png',\n",
       " 'C208ThinF_IMG_20151029_155411_cell_11.png',\n",
       " 'C208ThinF_IMG_20151029_155436_cell_55.png',\n",
       " 'C208ThinF_IMG_20151029_155436_cell_64.png',\n",
       " 'C208ThinF_IMG_20151029_155554_cell_35.png',\n",
       " 'C208ThinF_IMG_20151029_160108_cell_187.png',\n",
       " 'C208ThinF_IMG_20151029_160108_cell_42.png',\n",
       " 'C209ThinF_IMG_20151029_160721_cell_163.png',\n",
       " 'C209ThinF_IMG_20151029_160721_cell_43.png',\n",
       " 'C209ThinF_IMG_20151029_160803_cell_13.png',\n",
       " 'C209ThinF_IMG_20151029_160803_cell_204.png',\n",
       " 'C209ThinF_IMG_20151029_160803_cell_78.png',\n",
       " 'C209ThinF_IMG_20151029_160803_cell_90.png',\n",
       " 'C210ThinF_IMG_20151029_162357_cell_247.png',\n",
       " 'C210ThinF_IMG_20151029_162357_cell_50.png',\n",
       " 'C210ThinF_IMG_20151029_162439_cell_101.png',\n",
       " 'C210ThinF_IMG_20151029_162439_cell_243.png',\n",
       " 'C210ThinF_IMG_20151029_162439_cell_257.png',\n",
       " 'C210ThinF_IMG_20151029_162439_cell_28.png',\n",
       " 'C210ThinF_IMG_20151029_162439_cell_45.png',\n",
       " 'C210ThinF_IMG_20151029_162605_cell_245.png',\n",
       " 'C210ThinF_IMG_20151029_162605_cell_55.png',\n",
       " 'C210ThinF_IMG_20151029_162934_cell_177.png',\n",
       " 'C210ThinF_IMG_20151029_162934_cell_68.png',\n",
       " 'C211ThinF_IMG_20151029_163959_cell_257.png',\n",
       " 'C211ThinF_IMG_20151029_164033_cell_15.png',\n",
       " 'C211ThinF_IMG_20151029_164033_cell_163.png',\n",
       " 'C211ThinF_IMG_20151029_164033_cell_61.png',\n",
       " 'C211ThinF_IMG_20151029_164248_cell_132.png',\n",
       " 'C211ThinF_IMG_20151029_164248_cell_19.png',\n",
       " 'C212ThinF_IMG_20151106_105437_cell_143.png',\n",
       " 'C212ThinF_IMG_20151106_105437_cell_192.png',\n",
       " 'C212ThinF_IMG_20151106_105834_cell_45.png',\n",
       " 'C212ThinF_IMG_20151106_105941_cell_186.png',\n",
       " 'C212ThinF_IMG_20151106_105941_cell_260.png',\n",
       " 'C212ThinF_IMG_20151106_105941_cell_30.png',\n",
       " 'C212ThinF_IMG_20151106_110411_cell_15.png',\n",
       " 'C212ThinF_IMG_20151106_110411_cell_164.png',\n",
       " 'C212ThinF_IMG_20151106_110411_cell_240.png',\n",
       " 'C213ThinF_IMG_20151106_112422_cell_199.png',\n",
       " 'C213ThinF_IMG_20151106_112603_cell_172.png',\n",
       " 'C213ThinF_IMG_20151106_112603_cell_192.png',\n",
       " 'C213ThinF_IMG_20151106_112853_cell_118.png',\n",
       " 'C214ThinF_IMG_20151106_114526_cell_192.png',\n",
       " 'C214ThinF_IMG_20151106_114611_cell_200.png',\n",
       " 'C214ThinF_IMG_20151106_114910_cell_26.png',\n",
       " 'C214ThinF_IMG_20151106_114910_cell_36.png',\n",
       " 'C214ThinF_IMG_20151106_114910_cell_45.png',\n",
       " 'C214ThinF_IMG_20151106_131748_cell_19.png',\n",
       " 'C214ThinF_IMG_20151106_131748_cell_38.png',\n",
       " 'C215ThinF_IMG_20151106_133043_cell_121.png',\n",
       " 'C215ThinF_IMG_20151106_133043_cell_14.png',\n",
       " 'C215ThinF_IMG_20151106_133043_cell_148.png',\n",
       " 'C215ThinF_IMG_20151106_133116_cell_63.png',\n",
       " 'C216ThinF_IMG_20151106_134733_cell_120.png',\n",
       " 'C216ThinF_IMG_20151106_134931_cell_28.png',\n",
       " 'C216ThinF_IMG_20151106_134931_cell_45.png',\n",
       " 'C216ThinF_IMG_20151106_134931_cell_64.png',\n",
       " 'C216ThinF_IMG_20151106_135228_cell_94.png',\n",
       " 'C216ThinF_IMG_20151106_135337_cell_60.png',\n",
       " 'C217ThinF_IMG_20151106_141326_cell_105.png',\n",
       " 'C217ThinF_IMG_20151106_141326_cell_113.png',\n",
       " 'C217ThinF_IMG_20151106_141500_cell_30.png',\n",
       " 'C217ThinF_IMG_20151106_141649_cell_146.png',\n",
       " 'C217ThinF_IMG_20151106_141649_cell_40.png',\n",
       " 'C217ThinF_IMG_20151106_141649_cell_63.png',\n",
       " 'C217ThinF_IMG_20151106_142147_cell_201.png',\n",
       " 'C217ThinF_IMG_20151106_142147_cell_68.png',\n",
       " 'C218ThinF_IMG_20151106_143940_cell_207.png',\n",
       " 'C218ThinF_IMG_20151106_144001_cell_223.png',\n",
       " 'C218ThinF_IMG_20151106_144001_cell_63.png',\n",
       " 'C218ThinF_IMG_20151106_144143_cell_1.png',\n",
       " 'C218ThinF_IMG_20151106_144143_cell_170.png',\n",
       " 'C218ThinF_IMG_20151106_144143_cell_9.png',\n",
       " 'C218ThinF_IMG_20151106_144337_cell_104.png',\n",
       " 'C218ThinF_IMG_20151106_144337_cell_147.png',\n",
       " 'C218ThinF_IMG_20151106_144337_cell_52.png',\n",
       " 'C218ThinF_IMG_20151106_144337_cell_57.png',\n",
       " 'C219ThinF_IMG_20151106_145856_cell_212.png',\n",
       " 'C219ThinF_IMG_20151106_145856_cell_29.png',\n",
       " 'C219ThinF_IMG_20151106_145927_cell_186.png',\n",
       " 'C219ThinF_IMG_20151106_145927_cell_216.png',\n",
       " 'C219ThinF_IMG_20151106_150135_cell_14.png',\n",
       " 'C219ThinF_IMG_20151106_150135_cell_183.png',\n",
       " 'C219ThinF_IMG_20151106_150135_cell_21.png',\n",
       " 'C219ThinF_IMG_20151106_150314_cell_15.png',\n",
       " 'C219ThinF_IMG_20151106_150314_cell_190.png',\n",
       " 'C219ThinF_IMG_20151106_150314_cell_79.png',\n",
       " 'C220ThinF_IMG_20151106_153947_cell_65.png',\n",
       " 'C220ThinF_IMG_20151106_153947_cell_87.png',\n",
       " 'C220ThinF_IMG_20151106_154016_cell_114.png',\n",
       " 'C220ThinF_IMG_20151106_154339_cell_181.png',\n",
       " 'C220ThinF_IMG_20151106_154339_cell_219.png',\n",
       " 'C220ThinF_IMG_20151106_154510_cell_125.png',\n",
       " 'C220ThinF_IMG_20151106_154510_cell_72.png',\n",
       " 'C220ThinF_IMG_20151106_154533_cell_132.png',\n",
       " 'C220ThinF_IMG_20151106_154533_cell_185.png',\n",
       " 'C220ThinF_IMG_20151106_154533_cell_22.png',\n",
       " 'C221ThinF_IMG_20151106_160022_cell_164.png',\n",
       " 'C221ThinF_IMG_20151106_160022_cell_46.png',\n",
       " 'C221ThinF_IMG_20151106_160304_cell_22.png',\n",
       " 'C221ThinF_IMG_20151106_160515_cell_85.png',\n",
       " 'C221ThinF_IMG_20151106_160653_cell_109.png',\n",
       " 'C221ThinF_IMG_20151106_160653_cell_23.png',\n",
       " 'C221ThinF_IMG_20151106_160653_cell_83.png',\n",
       " 'C221ThinF_IMG_20151106_160727_cell_172.png',\n",
       " 'C222ThinF_IMG_20151115_150728_cell_165.png',\n",
       " 'C222ThinF_IMG_20151115_150728_cell_37.png',\n",
       " 'C222ThinF_IMG_20151115_150925_cell_215.png',\n",
       " 'C222ThinF_IMG_20151115_151211_cell_34.png',\n",
       " 'C222ThinF_IMG_20151115_151211_cell_50.png',\n",
       " 'C222ThinF_IMG_20151115_151433_cell_115.png',\n",
       " 'C222ThinF_IMG_20151115_151433_cell_36.png',\n",
       " 'C223ThinF_IMG_20151112_104118_cell_193.png',\n",
       " 'C223ThinF_IMG_20151112_104240_cell_185.png',\n",
       " 'C224ThinF_IMG_20151112_111955_cell_132.png',\n",
       " 'C224ThinF_IMG_20151112_111955_cell_63.png',\n",
       " 'C224ThinF_IMG_20151112_112334_cell_114.png',\n",
       " 'C224ThinF_IMG_20151112_112334_cell_4.png',\n",
       " 'C224ThinF_IMG_20151112_113157_cell_187.png',\n",
       " 'C225ThinF_IMG_20151112_113915_cell_136.png',\n",
       " 'C225ThinF_IMG_20151112_113915_cell_58.png',\n",
       " 'C225ThinF_IMG_20151112_113953_cell_14.png',\n",
       " 'C225ThinF_IMG_20151112_113953_cell_188.png',\n",
       " 'C226ThinF_IMG_20151112_131255_cell_141.png',\n",
       " 'C226ThinF_IMG_20151112_131255_cell_150.png',\n",
       " 'C226ThinF_IMG_20151112_131255_cell_263.png',\n",
       " 'C226ThinF_IMG_20151112_131546_cell_166.png',\n",
       " 'C226ThinF_IMG_20151112_131622_cell_41.png',\n",
       " 'C226ThinF_IMG_20151112_131622_cell_42.png',\n",
       " 'C226ThinF_IMG_20151112_131731_cell_232.png',\n",
       " 'C226ThinF_IMG_20151112_131731_cell_40.png',\n",
       " 'C227ThinF_IMG_20151112_135158_cell_134.png',\n",
       " 'C227ThinF_IMG_20151112_135158_cell_17.png',\n",
       " 'C227ThinF_IMG_20151112_135509_cell_182.png',\n",
       " 'C227ThinF_IMG_20151112_135509_cell_199.png',\n",
       " 'C227ThinF_IMG_20151112_135509_cell_241.png',\n",
       " 'C228ThinF_IMG_20151112_142109_cell_144.png',\n",
       " 'C228ThinF_IMG_20151112_142109_cell_147.png',\n",
       " 'C228ThinF_IMG_20151112_142216_cell_154.png',\n",
       " 'C229ThinF_IMG_20151112_144222_cell_42.png',\n",
       " 'C229ThinF_IMG_20151112_144534_cell_126.png',\n",
       " 'C229ThinF_IMG_20151112_144534_cell_127.png',\n",
       " 'C229ThinF_IMG_20151112_144652_cell_274.png',\n",
       " 'C229ThinF_IMG_20151112_144652_cell_51.png',\n",
       " 'C229ThinF_IMG_20151112_144652_cell_81.png',\n",
       " 'C230ThinF_IMG_20151112_150329_cell_222.png',\n",
       " 'C230ThinF_IMG_20151112_150329_cell_31.png',\n",
       " 'C230ThinF_IMG_20151112_150647_cell_11.png',\n",
       " 'C230ThinF_IMG_20151112_150647_cell_43.png',\n",
       " 'C230ThinF_IMG_20151112_150647_cell_75.png',\n",
       " 'C230ThinF_IMG_20151112_150730_cell_144.png',\n",
       " 'C230ThinF_IMG_20151112_150730_cell_24.png',\n",
       " 'C230ThinF_IMG_20151112_150753_cell_269.png',\n",
       " 'C230ThinF_IMG_20151112_150753_cell_29.png',\n",
       " 'C231ThinF_IMG_20151112_153041_cell_105.png',\n",
       " 'C231ThinF_IMG_20151112_153147_cell_78.png',\n",
       " 'C231ThinF_IMG_20151112_153246_cell_121.png',\n",
       " 'C231ThinF_IMG_20151112_153246_cell_23.png',\n",
       " 'C232ThinF_IMG_20151112_154211_cell_126.png',\n",
       " 'C232ThinF_IMG_20151112_154211_cell_70.png',\n",
       " 'C232ThinF_IMG_20151112_154251_cell_256.png',\n",
       " 'C232ThinF_IMG_20151112_154345_cell_221.png',\n",
       " 'C232ThinF_IMG_20151112_154345_cell_34.png',\n",
       " 'C232ThinF_IMG_20151112_154424_cell_4.png',\n",
       " 'C233ThinF_IMG_20151112_160059_cell_215.png',\n",
       " 'C233ThinF_IMG_20151112_160059_cell_265.png',\n",
       " 'C233ThinF_IMG_20151112_160129_cell_28.png',\n",
       " 'C233ThinF_IMG_20151112_160635_cell_166.png',\n",
       " 'C233ThinF_IMG_20151112_160635_cell_3.png',\n",
       " 'C233ThinF_IMG_20151112_161024_cell_222.png',\n",
       " 'C233ThinF_IMG_20151112_161024_cell_79.png',\n",
       " 'C233ThinF_IMG_20151112_161119_cell_12.png',\n",
       " 'C233ThinF_IMG_20151112_161119_cell_257.png',\n",
       " 'C233ThinF_IMG_20151112_161119_cell_258.png',\n",
       " 'C233ThinF_IMG_20151112_161119_cell_4.png',\n",
       " 'C234ThinF_IMG_20151112_162759_cell_22.png',\n",
       " 'C234ThinF_IMG_20151112_162843_cell_213.png',\n",
       " 'C234ThinF_IMG_20151112_162909_cell_274.png',\n",
       " 'C234ThinF_IMG_20151112_163036_cell_162.png',\n",
       " 'C235ThinF_IMG_20151112_164625_cell_183.png',\n",
       " 'C235ThinF_IMG_20151112_164834_cell_130.png',\n",
       " 'C236ThinF_IMG_20151127_102115_cell_86.png',\n",
       " 'C236ThinF_IMG_20151127_102428_cell_111.png',\n",
       " 'C236ThinF_IMG_20151127_102428_cell_175.png',\n",
       " 'C236ThinF_IMG_20151127_102516_cell_20.png',\n",
       " 'C236ThinF_IMG_20151127_102546_cell_134.png',\n",
       " 'C236ThinF_IMG_20151127_102635_cell_88.png',\n",
       " 'C237ThinF_IMG_20151127_104748_cell_178.png',\n",
       " 'C237ThinF_IMG_20151127_104748_cell_67.png',\n",
       " 'C237ThinF_IMG_20151127_104844_cell_138.png',\n",
       " 'C237ThinF_IMG_20151127_104844_cell_199.png',\n",
       " 'C237ThinF_IMG_20151127_104844_cell_244.png',\n",
       " 'C237ThinF_IMG_20151127_105320_cell_131.png',\n",
       " 'C237ThinF_IMG_20151127_105345_cell_228.png',\n",
       " 'C238NThinF_IMG_20151207_114038_cell_120.png',\n",
       " 'C238NThinF_IMG_20151207_114444_cell_91.png',\n",
       " 'C238NThinF_IMG_20151207_114653_cell_13.png',\n",
       " 'C238NThinF_IMG_20151207_114914_cell_26.png',\n",
       " 'C239ThinF_IMG_20151127_113008_cell_39.png',\n",
       " 'C239ThinF_IMG_20151127_113150_cell_24.png',\n",
       " 'C239ThinF_IMG_20151127_113150_cell_3.png',\n",
       " 'C239ThinF_IMG_20151127_113223_cell_237.png',\n",
       " 'C239ThinF_IMG_20151127_113223_cell_38.png',\n",
       " 'C239ThinF_IMG_20151127_113253_cell_188.png',\n",
       " 'C239ThinF_IMG_20151127_113253_cell_73.png',\n",
       " 'C239ThinF_IMG_20151127_113253_cell_80.png',\n",
       " 'C240ThinF_IMG_20151127_115247_cell_64.png',\n",
       " 'C240ThinF_IMG_20151127_115247_cell_96.png',\n",
       " 'C240ThinF_IMG_20151127_115306_cell_92.png',\n",
       " 'C240ThinF_IMG_20151127_115328_cell_16.png',\n",
       " 'C240ThinF_IMG_20151127_115328_cell_196.png',\n",
       " 'C240ThinF_IMG_20151127_115328_cell_200.png',\n",
       " 'C240ThinF_IMG_20151127_115328_cell_225.png',\n",
       " 'C240ThinF_IMG_20151127_115545_cell_140.png',\n",
       " 'C240ThinF_IMG_20151127_115545_cell_205.png',\n",
       " 'C240ThinF_IMG_20151127_115545_cell_42.png',\n",
       " 'C241NThinF_IMG_20151207_124030_cell_129.png',\n",
       " 'C241NThinF_IMG_20151207_124030_cell_143.png',\n",
       " 'C241NThinF_IMG_20151207_124030_cell_15.png',\n",
       " 'C241NThinF_IMG_20151207_124030_cell_150.png',\n",
       " 'C241NThinF_IMG_20151207_124030_cell_43.png',\n",
       " 'C241NThinF_IMG_20151207_124115_cell_166.png',\n",
       " 'C241NThinF_IMG_20151207_124115_cell_173.png',\n",
       " 'C241NThinF_IMG_20151207_124115_cell_26.png',\n",
       " 'C241NThinF_IMG_20151207_124208_cell_29.png',\n",
       " 'C241NThinF_IMG_20151207_124208_cell_68.png',\n",
       " 'C241NThinF_IMG_20151207_124240_cell_51.png',\n",
       " 'C241NThinF_IMG_20151207_124240_cell_9.png',\n",
       " 'C241NThinF_IMG_20151207_124358_cell_137.png',\n",
       " 'C241NThinF_IMG_20151207_124608_cell_120.png',\n",
       " 'C241NThinF_IMG_20151207_124608_cell_171.png',\n",
       " 'C2NThinF_IMG_20150604_114631_cell_215.png',\n",
       " 'C2NThinF_IMG_20150604_114730_cell_178.png',\n",
       " 'C2NThinF_IMG_20150604_115238_cell_247.png',\n",
       " 'C2NThinF_IMG_20150604_115238_cell_259.png',\n",
       " 'C33P1thinF_IMG_20150619_115740a_cell_127.png',\n",
       " 'C33P1thinF_IMG_20150619_115808a_cell_55.png',\n",
       " 'C33P1thinF_IMG_20150619_120645a_cell_11.png',\n",
       " 'C33P1thinF_IMG_20150619_120804a_cell_74.png',\n",
       " 'C33P1thinF_IMG_20150619_120838a_cell_134.png',\n",
       " 'C33P1thinF_IMG_20150619_121503a_cell_105.png',\n",
       " 'C37BP2_thinF_IMG_20150620_132440a_cell_50.png',\n",
       " 'C37BP2_thinF_IMG_20150620_132847a_cell_37.png',\n",
       " 'C37BP2_thinF_IMG_20150620_133001a_cell_2.png',\n",
       " 'C37BP2_thinF_IMG_20150620_133111a_cell_69.png',\n",
       " 'C37BP2_thinF_IMG_20150620_133205a_cell_41.png',\n",
       " 'C37BP2_thinF_IMG_20150620_133238a_cell_22.png',\n",
       " 'C38P3thinF_original_IMG_20150621_112023_cell_130.png',\n",
       " 'C38P3thinF_original_IMG_20150621_112043_cell_81.png',\n",
       " 'C38P3thinF_original_IMG_20150621_112116_cell_197.png',\n",
       " 'C38P3thinF_original_IMG_20150621_112116_cell_63.png',\n",
       " 'C38P3thinF_original_IMG_20150621_112138_cell_159.png',\n",
       " 'C38P3thinF_original_IMG_20150621_112227_cell_88.png',\n",
       " 'C38P3thinF_original_IMG_20150621_112246_cell_166.png',\n",
       " 'C38P3thinF_original_IMG_20150621_112246_cell_218.png',\n",
       " 'C38P3thinF_original_IMG_20150621_112246_cell_70.png',\n",
       " 'C39P4thinF_original_IMG_20150622_105253_cell_61.png',\n",
       " 'C39P4thinF_original_IMG_20150622_105803_cell_31.png',\n",
       " 'C39P4thinF_original_IMG_20150622_110115_cell_19.png',\n",
       " 'C39P4thinF_original_IMG_20150622_110435_cell_28.png',\n",
       " 'C39P4thinF_original_IMG_20150622_110435_cell_71.png',\n",
       " 'C39P4thinF_original_IMG_20150622_111206_cell_22.png',\n",
       " 'C39P4thinF_original_IMG_20150622_111206_cell_60.png',\n",
       " 'C39P4thinF_original_IMG_20150622_111723_cell_46.png',\n",
       " 'C3thin_original_IMG_20150608_162835_cell_101.png',\n",
       " 'C3thin_original_IMG_20150608_162835_cell_36.png',\n",
       " 'C3thin_original_IMG_20150608_163002_cell_159.png',\n",
       " 'C3thin_original_IMG_20150608_163029_cell_156.png',\n",
       " 'C3thin_original_IMG_20150608_163047_cell_36.png',\n",
       " 'C42P5thin_original_IMG_20150623_134426_cell_17.png',\n",
       " 'C42P5thin_original_IMG_20150623_134919_cell_100.png',\n",
       " 'C42P5thin_original_IMG_20150623_135251_cell_50.png',\n",
       " 'C42P5thin_original_IMG_20150623_135746_cell_21.png',\n",
       " 'C45P6ThinF_IMG_20151130_155011_cell_67.png',\n",
       " 'C45P6ThinF_IMG_20151130_155011_cell_72.png',\n",
       " 'C45P6ThinF_IMG_20151130_160135_cell_124.png',\n",
       " 'C45P6ThinF_IMG_20151130_160135_cell_4.png',\n",
       " 'C45P6ThinF_IMG_20151130_160241_cell_137.png',\n",
       " 'C45P6ThinF_IMG_20151130_160409_cell_163.png',\n",
       " 'C45P6ThinF_IMG_20151130_160409_cell_85.png',\n",
       " 'C45P6ThinF_IMG_20151130_160409_cell_9.png',\n",
       " 'C46P7ThinF_IMG_20151130_205719_cell_58.png',\n",
       " 'C46P7ThinF_IMG_20151130_205756_cell_10.png',\n",
       " 'C46P7ThinF_IMG_20151130_205756_cell_7.png',\n",
       " 'C46P7ThinF_IMG_20151130_205828_cell_96.png',\n",
       " 'C46P7ThinF_IMG_20151130_210743_cell_131.png',\n",
       " 'C46P7ThinF_IMG_20151130_210743_cell_36.png',\n",
       " 'C46P7ThinF_IMG_20151130_210843_cell_61.png',\n",
       " 'C46P7ThinF_IMG_20151130_210938_cell_109.png',\n",
       " 'C47P8thinOriginalOlympusCX21_IMG_20150717_173432_cell_10.png',\n",
       " 'C47P8thinOriginalOlympusCX21_IMG_20150717_173515_cell_106.png',\n",
       " 'C47P8thinOriginalOlympusCX21_IMG_20150717_174222_cell_17.png',\n",
       " 'C47P8thinOriginalOlympusCX21_IMG_20150717_174750_cell_137.png',\n",
       " 'C47P8thin_Original_Motic_IMG_20150714_093636_cell_119.png',\n",
       " 'C47P8thin_Original_Motic_IMG_20150714_093715_cell_108.png',\n",
       " 'C47P8thin_Original_Motic_IMG_20150714_093715_cell_30.png',\n",
       " 'C47P8thin_Original_Motic_IMG_20150714_093947_cell_156.png',\n",
       " 'C47P8thin_Original_Motic_IMG_20150714_094054_cell_164.png',\n",
       " 'C47P8thin_Original_Motic_IMG_20150714_094054_cell_52.png',\n",
       " 'C48P9thinF_IMG_20150721_160406_cell_183.png',\n",
       " 'C48P9thinF_IMG_20150721_160406_cell_39.png',\n",
       " 'C48P9thinF_IMG_20150721_160406_cell_60.png',\n",
       " 'C48P9thinF_IMG_20150721_161412_cell_7.png',\n",
       " 'C49P10thinF_IMG_20150724_102843_cell_64.png',\n",
       " 'C49P10thinF_IMG_20150724_102951_cell_130.png',\n",
       " 'C49P10thinF_IMG_20150724_103054_cell_186.png',\n",
       " 'C49P10thinF_IMG_20150724_103054_cell_98.png',\n",
       " 'C49P10thinF_IMG_20150724_103233_cell_158.png',\n",
       " 'C49P10thinF_IMG_20150724_103233_cell_184.png',\n",
       " 'C4thin_original_IMG_20150608_170016_cell_218.png',\n",
       " 'C4thin_original_IMG_20150608_170038_cell_180.png',\n",
       " 'C50P11thinF_IMG_20150724_114951_cell_104.png',\n",
       " 'C50P11thinF_IMG_20150724_115141_cell_1.png',\n",
       " 'C50P11thinF_IMG_20150724_115603_cell_19.png',\n",
       " 'C50P11thinF_IMG_20150724_115603_cell_6.png',\n",
       " 'C50P11thinF_IMG_20150724_115749_cell_143.png',\n",
       " 'C50P11thinF_IMG_20150724_120553_cell_76.png',\n",
       " 'C50P11thinF_IMG_20150724_120553_cell_96.png',\n",
       " 'C50P11thinF_IMG_20150724_120716_cell_133.png',\n",
       " 'C50P11thinF_IMG_20150724_120716_cell_89.png',\n",
       " 'C51AP12thinF_IMG_20150724_153313_cell_43.png',\n",
       " 'C51AP12thinF_IMG_20150724_154243_cell_32.png',\n",
       " 'C51AP12thinF_IMG_20150724_154330_cell_61.png',\n",
       " 'C51AP12thinF_IMG_20150724_155557_cell_15.png',\n",
       " 'C51AP12thinF_IMG_20150724_155557_cell_60.png',\n",
       " 'C51AP12thinF_IMG_20150724_160140_cell_14.png',\n",
       " 'C51AP12thinF_IMG_20150724_160140_cell_19.png',\n",
       " 'C51AP12thinF_IMG_20150724_162636_cell_75.png',\n",
       " 'C52P13thinF_IMG_20150725_124830_cell_123.png',\n",
       " 'C52P13thinF_IMG_20150725_125213_cell_141.png',\n",
       " 'C52P13thinF_IMG_20150725_125213_cell_69.png',\n",
       " 'C52P13thinF_IMG_20150725_130013_cell_104.png',\n",
       " 'C52P13thinF_IMG_20150725_130013_cell_171.png',\n",
       " 'C53P14thinF_IMG_20150726_114606_cell_11.png',\n",
       " 'C53P14thinF_IMG_20150726_114918_cell_144.png',\n",
       " 'C53P14thinF_IMG_20150726_114918_cell_23.png',\n",
       " 'C53P14thinF_IMG_20150726_115046_cell_142.png',\n",
       " 'C53P14thinF_IMG_20150726_115457_cell_97.png',\n",
       " 'C53P14thinF_IMG_20150726_120600_cell_68.png',\n",
       " 'C54P15thinF_IMG_20150728_102017_cell_127.png',\n",
       " 'C54P15thinF_IMG_20150728_102017_cell_192.png',\n",
       " 'C54P15thinF_IMG_20150728_102017_cell_34.png',\n",
       " 'C54P15thinF_IMG_20150728_105949_cell_14.png',\n",
       " 'C54P15thinF_IMG_20150728_112938_cell_26.png',\n",
       " 'C54P15thinF_IMG_20150728_113006_cell_176.png',\n",
       " 'C55P16thinF_IMG_20150728_121151_cell_16.png',\n",
       " 'C55P16thinF_IMG_20150728_123237_cell_146.png',\n",
       " 'C55P16thinF_IMG_20150728_123237_cell_78.png',\n",
       " 'C55P16thinF_IMG_20150728_123237_cell_85.png',\n",
       " 'C55P16thinF_IMG_20150728_123510_cell_79.png',\n",
       " 'C55P16thinF_IMG_20150728_124508_cell_139.png',\n",
       " 'C56P17thinF_IMG_20150728_151330_cell_7.png',\n",
       " 'C56P17thinF_IMG_20150728_153328_cell_75.png',\n",
       " 'C56P17thinF_IMG_20150728_155921_cell_12.png',\n",
       " 'C56P17thinF_IMG_20150728_160256_cell_30.png',\n",
       " 'C56P17thinF_IMG_20150728_160256_cell_65.png',\n",
       " 'C56P17thinF_IMG_20150728_160438_cell_115.png',\n",
       " 'C56P17thinF_IMG_20150728_160438_cell_8.png',\n",
       " 'C56P17thinF_IMG_20150728_160537_cell_42.png',\n",
       " 'C56P17thinF_IMG_20150728_160537_cell_63.png',\n",
       " 'C56P17thinF_IMG_20150728_160537_cell_81.png',\n",
       " 'C56P17thinF_IMG_20150728_160623_cell_121.png',\n",
       " 'C56P17thinF_IMG_20150728_160623_cell_123.png',\n",
       " 'C56P17thinF_IMG_20150728_160623_cell_90.png',\n",
       " 'C57P18thinF_IMG_20150729_104027_cell_128.png',\n",
       " 'C57P18thinF_IMG_20150729_110134_cell_107.png',\n",
       " ...]"
      ]
     },
     "execution_count": 19,
     "metadata": {},
     "output_type": "execute_result"
    }
   ],
   "source": [
    "os.listdir(test_path+'uninfected')"
   ]
  },
  {
   "cell_type": "code",
   "execution_count": 6,
   "metadata": {},
   "outputs": [],
   "source": [
    "from matplotlib.image import imread"
   ]
  },
  {
   "cell_type": "code",
   "execution_count": 36,
   "metadata": {},
   "outputs": [],
   "source": [
    "width=[]\n",
    "height=[]\n",
    "\n",
    "for image_filename in os.listdir(test_path+'uninfected'):\n",
    "    \n",
    "    img=imread(test_path+'uninfected\\\\'+image_filename)\n",
    "    wi,hi,col=img.shape\n",
    "    width.append(wi)\n",
    "    height.append(hi)"
   ]
  },
  {
   "cell_type": "code",
   "execution_count": 38,
   "metadata": {},
   "outputs": [
    {
     "data": {
      "text/plain": [
       "1300"
      ]
     },
     "execution_count": 38,
     "metadata": {},
     "output_type": "execute_result"
    }
   ],
   "source": [
    "len(width)"
   ]
  },
  {
   "cell_type": "code",
   "execution_count": 45,
   "metadata": {},
   "outputs": [
    {
     "data": {
      "text/plain": [
       "130.75"
      ]
     },
     "execution_count": 45,
     "metadata": {},
     "output_type": "execute_result"
    }
   ],
   "source": [
    "np.mean(height)"
   ]
  },
  {
   "cell_type": "code",
   "execution_count": 46,
   "metadata": {},
   "outputs": [],
   "source": [
    "# predict the class of the dataset"
   ]
  },
  {
   "cell_type": "code",
   "execution_count": 49,
   "metadata": {},
   "outputs": [
    {
     "data": {
      "text/plain": [
       "'C:\\\\Users\\\\GTDNL\\\\cell_images\\\\train\\\\uninfected\\\\'"
      ]
     },
     "execution_count": 49,
     "metadata": {},
     "output_type": "execute_result"
    }
   ],
   "source": []
  },
  {
   "cell_type": "code",
   "execution_count": 48,
   "metadata": {},
   "outputs": [
    {
     "data": {
      "text/plain": [
       "'C:\\\\Users\\\\GTDNL\\\\cell_images\\\\test\\\\'"
      ]
     },
     "execution_count": 48,
     "metadata": {},
     "output_type": "execute_result"
    }
   ],
   "source": [
    "test_path"
   ]
  },
  {
   "cell_type": "code",
   "execution_count": 7,
   "metadata": {},
   "outputs": [],
   "source": [
    "from tensorflow.keras.preprocessing.image import ImageDataGenerator"
   ]
  },
  {
   "cell_type": "code",
   "execution_count": 8,
   "metadata": {},
   "outputs": [],
   "source": [
    "image_gen=ImageDataGenerator(rotation_range=20,width_shift_range=0.2,height_shift_range=0.1\n",
    "                            ,shear_range=0.1,zoom_range=0.1,horizontal_flip=True)"
   ]
  },
  {
   "cell_type": "code",
   "execution_count": 77,
   "metadata": {},
   "outputs": [
    {
     "data": {
      "text/plain": [
       "'C100P61ThinF_IMG_20150918_144104_cell_34.png'"
      ]
     },
     "execution_count": 77,
     "metadata": {},
     "output_type": "execute_result"
    }
   ],
   "source": [
    "os.listdir(test_path+'uninfected\\\\')[0]"
   ]
  },
  {
   "cell_type": "code",
   "execution_count": 75,
   "metadata": {},
   "outputs": [],
   "source": [
    "para=test_path+'uninfected\\\\'+'C100P61ThinF_IMG_20150918_144104_cell_34.png'\n"
   ]
  },
  {
   "cell_type": "code",
   "execution_count": 82,
   "metadata": {},
   "outputs": [
    {
     "data": {
      "text/plain": [
       "<matplotlib.image.AxesImage at 0x23bb4c1cf08>"
      ]
     },
     "execution_count": 82,
     "metadata": {},
     "output_type": "execute_result"
    },
    {
     "data": {
      "image/png": "[encoded data removed]",
      "text/plain": [
       "<Figure size 432x288 with 1 Axes>"
      ]
     },
     "metadata": {
      "needs_background": "light"
     },
     "output_type": "display_data"
    }
   ],
   "source": [
    "plt.imshow(imread(para))"
   ]
  },
  {
   "cell_type": "code",
   "execution_count": 95,
   "metadata": {},
   "outputs": [
    {
     "data": {
      "text/plain": [
       "<matplotlib.image.AxesImage at 0x23bb7ea0ac8>"
      ]
     },
     "execution_count": 95,
     "metadata": {},
     "output_type": "execute_result"
    },
    {
     "data": {
      "image/png": "[encoded data removed]",
      "text/plain": [
       "<Figure size 432x288 with 1 Axes>"
      ]
     },
     "metadata": {
      "needs_background": "light"
     },
     "output_type": "display_data"
    }
   ],
   "source": [
    "plt.imshow(image_gen.random_transform(imread(para)))"
   ]
  },
  {
   "cell_type": "code",
   "execution_count": 85,
   "metadata": {},
   "outputs": [
    {
     "data": {
      "text/plain": [
       "array([[[0.        , 0.        , 0.        ],\n",
       "        [0.        , 0.        , 0.        ],\n",
       "        [0.        , 0.        , 0.        ],\n",
       "        ...,\n",
       "        [0.8071519 , 0.6071519 , 0.59146565],\n",
       "        [0.8126083 , 0.6126083 , 0.59692204],\n",
       "        [0.8187992 , 0.6187992 , 0.60311294]],\n",
       "\n",
       "       [[0.        , 0.        , 0.        ],\n",
       "        [0.        , 0.        , 0.        ],\n",
       "        [0.        , 0.        , 0.        ],\n",
       "        ...,\n",
       "        [0.8033669 , 0.6033669 , 0.58768064],\n",
       "        [0.80883896, 0.6085557 , 0.5928694 ],\n",
       "        [0.8123828 , 0.6123828 , 0.59669656]],\n",
       "\n",
       "       [[0.        , 0.        , 0.        ],\n",
       "        [0.        , 0.        , 0.        ],\n",
       "        [0.        , 0.        , 0.        ],\n",
       "        ...,\n",
       "        [0.80042833, 0.5995957 , 0.58390945],\n",
       "        [0.8041259 , 0.59852564, 0.58283937],\n",
       "        [0.8075198 , 0.6017215 , 0.58603525]],\n",
       "\n",
       "       ...,\n",
       "\n",
       "       [[0.        , 0.        , 0.        ],\n",
       "        [0.        , 0.        , 0.        ],\n",
       "        [0.        , 0.        , 0.        ],\n",
       "        ...,\n",
       "        [0.7984369 , 0.5827506 , 0.5709859 ],\n",
       "        [0.795594  , 0.5799077 , 0.568143  ],\n",
       "        [0.7929869 , 0.57730067, 0.56553596]],\n",
       "\n",
       "       [[0.        , 0.        , 0.        ],\n",
       "        [0.        , 0.        , 0.        ],\n",
       "        [0.        , 0.        , 0.        ],\n",
       "        ...,\n",
       "        [0.8       , 0.58431375, 0.57254905],\n",
       "        [0.7980083 , 0.58232206, 0.57055736],\n",
       "        [0.7972717 , 0.58158547, 0.56982076]],\n",
       "\n",
       "       [[0.        , 0.        , 0.        ],\n",
       "        [0.        , 0.        , 0.        ],\n",
       "        [0.        , 0.        , 0.        ],\n",
       "        ...,\n",
       "        [0.80066204, 0.5849758 , 0.5732111 ],\n",
       "        [0.7998615 , 0.5841752 , 0.5724105 ],\n",
       "        [0.8010567 , 0.5853704 , 0.5736057 ]]], dtype=float32)"
      ]
     },
     "execution_count": 85,
     "metadata": {},
     "output_type": "execute_result"
    }
   ],
   "source": [
    "image_gen.random_transform(imread(para))"
   ]
  },
  {
   "cell_type": "code",
   "execution_count": 11,
   "metadata": {},
   "outputs": [
    {
     "name": "stdout",
     "output_type": "stream",
     "text": [
      "Found 24958 images belonging to 2 classes.\n"
     ]
    },
    {
     "data": {
      "text/plain": [
       "<keras_preprocessing.image.directory_iterator.DirectoryIterator at 0x221be285b88>"
      ]
     },
     "execution_count": 11,
     "metadata": {},
     "output_type": "execute_result"
    }
   ],
   "source": [
    "image_gen.flow_from_directory(train_path)"
   ]
  },
  {
   "cell_type": "code",
   "execution_count": 12,
   "metadata": {},
   "outputs": [
    {
     "name": "stdout",
     "output_type": "stream",
     "text": [
      "Found 2600 images belonging to 2 classes.\n"
     ]
    },
    {
     "data": {
      "text/plain": [
       "<keras_preprocessing.image.directory_iterator.DirectoryIterator at 0x221be28b3c8>"
      ]
     },
     "execution_count": 12,
     "metadata": {},
     "output_type": "execute_result"
    }
   ],
   "source": [
    "image_gen.flow_from_directory(test_path)"
   ]
  },
  {
   "cell_type": "code",
   "execution_count": 13,
   "metadata": {},
   "outputs": [],
   "source": [
    "from tensorflow.keras.models import Sequential\n",
    "from tensorflow.keras.layers import Dense,Dropout,Conv2D,MaxPool2D,Flatten"
   ]
  },
  {
   "cell_type": "code",
   "execution_count": 14,
   "metadata": {},
   "outputs": [],
   "source": [
    "model=Sequential()\n",
    "\n",
    "model.add(Conv2D(filters=32,kernel_size=(4,4),activation='relu',input_shape=(130,130,3)))\n",
    "model.add(MaxPool2D(pool_size=(3,3),strides=(1,1)))\n",
    "\n",
    "model.add(Conv2D(filters=64,kernel_size=(3,3),activation='relu',input_shape=(130,130,3)))\n",
    "model.add(MaxPool2D(pool_size=(3,3),strides=(1,1),padding='same'))\n",
    "\n",
    "model.add(Conv2D(filters=64,kernel_size=(3,3),activation='relu',input_shape=(130,130,3)))\n",
    "model.add(MaxPool2D(pool_size=(3,3),strides=(1,1),padding='same'))\n",
    "\n",
    "model.add(Flatten())\n",
    "\n",
    "model.add(Dense(100,activation='relu'))\n",
    "model.add(Dropout(0.3))\n",
    "\n",
    "model.add(Dense(45,activation='relu'))\n",
    "model.add(Dropout(0.2))\n",
    "\n",
    "model.add(Dense(1,activation='sigmoid'))"
   ]
  },
  {
   "cell_type": "code",
   "execution_count": 16,
   "metadata": {},
   "outputs": [],
   "source": [
    "model.compile(optimizer='adam',loss='binary_crossentropy',metrics=['accuracy'])"
   ]
  },
  {
   "cell_type": "code",
   "execution_count": 25,
   "metadata": {},
   "outputs": [
    {
     "name": "stdout",
     "output_type": "stream",
     "text": [
      "Found 24958 images belonging to 2 classes.\n"
     ]
    }
   ],
   "source": [
    "train_gen=image_gen.flow_from_directory(train_path,target_size=[130,130],\n",
    "                                        color_mode='rgb',class_mode='binary',batch_size=20)"
   ]
  },
  {
   "cell_type": "code",
   "execution_count": 26,
   "metadata": {},
   "outputs": [
    {
     "name": "stdout",
     "output_type": "stream",
     "text": [
      "Found 2600 images belonging to 2 classes.\n"
     ]
    }
   ],
   "source": [
    "test_gen=image_gen.flow_from_directory(test_path,target_size=[130,130],\n",
    "                                      color_mode='rgb',class_mode='binary'\n",
    "                                      ,shuffle=False,batch_size=20)"
   ]
  },
  {
   "cell_type": "code",
   "execution_count": 97,
   "metadata": {},
   "outputs": [],
   "source": [
    "#model.fit_generator(train_gen,steps_per_epoch=10,epochs=10,validation_data=test_gen)"
   ]
  },
  {
   "cell_type": "code",
   "execution_count": 21,
   "metadata": {},
   "outputs": [],
   "source": [
    "from tensorflow.keras.models import load_model"
   ]
  },
  {
   "cell_type": "code",
   "execution_count": 101,
   "metadata": {},
   "outputs": [],
   "source": [
    "model.save('mala_detec.h5')"
   ]
  },
  {
   "cell_type": "code",
   "execution_count": 22,
   "metadata": {},
   "outputs": [],
   "source": [
    "model=load_model('malaria_detector.h5')"
   ]
  },
  {
   "cell_type": "code",
   "execution_count": 23,
   "metadata": {},
   "outputs": [
    {
     "name": "stdout",
     "output_type": "stream",
     "text": [
      "Model: \"sequential\"\n",
      "_________________________________________________________________\n",
      "Layer (type)                 Output Shape              Param #   \n",
      "=================================================================\n",
      "conv2d (Conv2D)              (None, 128, 128, 32)      896       \n",
      "_________________________________________________________________\n",
      "max_pooling2d (MaxPooling2D) (None, 64, 64, 32)        0         \n",
      "_________________________________________________________________\n",
      "conv2d_1 (Conv2D)            (None, 62, 62, 64)        18496     \n",
      "_________________________________________________________________\n",
      "max_pooling2d_1 (MaxPooling2 (None, 31, 31, 64)        0         \n",
      "_________________________________________________________________\n",
      "conv2d_2 (Conv2D)            (None, 29, 29, 64)        36928     \n",
      "_________________________________________________________________\n",
      "max_pooling2d_2 (MaxPooling2 (None, 14, 14, 64)        0         \n",
      "_________________________________________________________________\n",
      "flatten (Flatten)            (None, 12544)             0         \n",
      "_________________________________________________________________\n",
      "dense (Dense)                (None, 128)               1605760   \n",
      "_________________________________________________________________\n",
      "activation (Activation)      (None, 128)               0         \n",
      "_________________________________________________________________\n",
      "dropout (Dropout)            (None, 128)               0         \n",
      "_________________________________________________________________\n",
      "dense_1 (Dense)              (None, 1)                 129       \n",
      "_________________________________________________________________\n",
      "activation_1 (Activation)    (None, 1)                 0         \n",
      "=================================================================\n",
      "Total params: 1,662,209\n",
      "Trainable params: 1,662,209\n",
      "Non-trainable params: 0\n",
      "_________________________________________________________________\n"
     ]
    }
   ],
   "source": [
    "model.summary()"
   ]
  },
  {
   "cell_type": "code",
   "execution_count": 27,
   "metadata": {},
   "outputs": [
    {
     "name": "stdout",
     "output_type": "stream",
     "text": [
      "WARNING:tensorflow:sample_weight modes were coerced from\n",
      "  ...\n",
      "    to  \n",
      "  ['...']\n"
     ]
    },
    {
     "data": {
      "text/plain": [
       "[46.13598880898807, 0.815]"
      ]
     },
     "execution_count": 27,
     "metadata": {},
     "output_type": "execute_result"
    }
   ],
   "source": [
    "model.evaluate_generator(test_gen)"
   ]
  },
  {
   "cell_type": "code",
   "execution_count": 28,
   "metadata": {},
   "outputs": [
    {
     "data": {
      "text/plain": [
       "{'parasitized': 0, 'uninfected': 1}"
      ]
     },
     "execution_count": 28,
     "metadata": {},
     "output_type": "execute_result"
    }
   ],
   "source": [
    "test_gen.class_indices"
   ]
  },
  {
   "cell_type": "code",
   "execution_count": 30,
   "metadata": {},
   "outputs": [
    {
     "data": {
      "text/plain": [
       "array([0, 0, 0, ..., 1, 1, 1])"
      ]
     },
     "execution_count": 30,
     "metadata": {},
     "output_type": "execute_result"
    }
   ],
   "source": [
    "test_gen.classes"
   ]
  },
  {
   "cell_type": "code",
   "execution_count": 60,
   "metadata": {},
   "outputs": [],
   "source": [
    "preds=model.predict_generator(test_gen)"
   ]
  },
  {
   "cell_type": "code",
   "execution_count": 32,
   "metadata": {},
   "outputs": [],
   "source": [
    "from sklearn.metrics import confusion_matrix"
   ]
  },
  {
   "cell_type": "code",
   "execution_count": 61,
   "metadata": {},
   "outputs": [],
   "source": [
    "preds=preds>0.5"
   ]
  },
  {
   "cell_type": "code",
   "execution_count": 62,
   "metadata": {},
   "outputs": [
    {
     "data": {
      "text/plain": [
       "array([[False],\n",
       "       [False],\n",
       "       [False],\n",
       "       ...,\n",
       "       [ True],\n",
       "       [False],\n",
       "       [False]])"
      ]
     },
     "execution_count": 62,
     "metadata": {},
     "output_type": "execute_result"
    }
   ],
   "source": [
    "preds"
   ]
  },
  {
   "cell_type": "code",
   "execution_count": 63,
   "metadata": {},
   "outputs": [
    {
     "data": {
      "text/plain": [
       "array([[1272,  459],\n",
       "       [  28,  841]], dtype=int64)"
      ]
     },
     "execution_count": 63,
     "metadata": {},
     "output_type": "execute_result"
    }
   ],
   "source": [
    "confusion_matrix(preds,test_gen.classes)"
   ]
  },
  {
   "cell_type": "code",
   "execution_count": 88,
   "metadata": {},
   "outputs": [],
   "source": [
    "from tensorflow.keras.preprocessing import image"
   ]
  },
  {
   "cell_type": "code",
   "execution_count": 89,
   "metadata": {},
   "outputs": [],
   "source": [
    "img=image.load_img(si,target_size=[130,130])"
   ]
  },
  {
   "cell_type": "code",
   "execution_count": 66,
   "metadata": {},
   "outputs": [
    {
     "data": {
      "text/plain": [
       "'C:\\\\Users\\\\GTDNL\\\\cell_images\\\\train\\\\'"
      ]
     },
     "execution_count": 66,
     "metadata": {},
     "output_type": "execute_result"
    }
   ],
   "source": [
    "train_path"
   ]
  },
  {
   "cell_type": "code",
   "execution_count": 78,
   "metadata": {},
   "outputs": [
    {
     "data": {
      "text/plain": [
       "'C100P61ThinF_IMG_20150918_144104_cell_131.png'"
      ]
     },
     "execution_count": 78,
     "metadata": {},
     "output_type": "execute_result"
    }
   ],
   "source": [
    "os.listdir(train_path+'uninfected\\\\')[1]"
   ]
  },
  {
   "cell_type": "code",
   "execution_count": 79,
   "metadata": {},
   "outputs": [],
   "source": [
    "si=train_path+'uninfected\\\\'+'C100P61ThinF_IMG_20150918_144104_cell_131.png'"
   ]
  },
  {
   "cell_type": "code",
   "execution_count": 84,
   "metadata": {},
   "outputs": [
    {
     "data": {
      "image/png": "[encoded data removed]",
      "text/plain": [
       "<PIL.Image.Image image mode=RGB size=130x130 at 0x221F3D40988>"
      ]
     },
     "execution_count": 84,
     "metadata": {},
     "output_type": "execute_result"
    }
   ],
   "source": [
    "image"
   ]
  },
  {
   "cell_type": "code",
   "execution_count": 90,
   "metadata": {},
   "outputs": [],
   "source": [
    "img_arr=image.img_to_array(img)"
   ]
  },
  {
   "cell_type": "code",
   "execution_count": 95,
   "metadata": {},
   "outputs": [],
   "source": [
    "img=img_arr.reshape(1,130,130,3)"
   ]
  },
  {
   "cell_type": "code",
   "execution_count": 96,
   "metadata": {},
   "outputs": [
    {
     "data": {
      "text/plain": [
       "array([[1.]], dtype=float32)"
      ]
     },
     "execution_count": 96,
     "metadata": {},
     "output_type": "execute_result"
    }
   ],
   "source": [
    "model.predict_generator(img)"
   ]
  },
  {
   "cell_type": "markdown",
   "metadata": {},
   "source": [
    "# Recurrent neural network"
   ]
  },
  {
   "cell_type": "code",
   "execution_count": 7,
   "metadata": {},
   "outputs": [],
   "source": [
    "from tensorflow.keras.preprocessing.sequence import TimeseriesGenerator"
   ]
  },
  {
   "cell_type": "code",
   "execution_count": 8,
   "metadata": {},
   "outputs": [
    {
     "name": "stdout",
     "output_type": "stream",
     "text": [
      "Help on class TimeseriesGenerator in module tensorflow.python.keras.preprocessing.sequence:\n",
      "\n",
      "class TimeseriesGenerator(keras_preprocessing.sequence.TimeseriesGenerator, tensorflow.python.keras.utils.data_utils.Sequence)\n",
      " |  TimeseriesGenerator(data, targets, length, sampling_rate=1, stride=1, start_index=0, end_index=None, shuffle=False, reverse=False, batch_size=128)\n",
      " |  \n",
      " |  Utility class for generating batches of temporal data.\n",
      " |  This class takes in a sequence of data-points gathered at\n",
      " |  equal intervals, along with time series parameters such as\n",
      " |  stride, length of history, etc., to produce batches for\n",
      " |  training/validation.\n",
      " |  # Arguments\n",
      " |      data: Indexable generator (such as list or Numpy array)\n",
      " |          containing consecutive data points (timesteps).\n",
      " |          The data should be at 2D, and axis 0 is expected\n",
      " |          to be the time dimension.\n",
      " |      targets: Targets corresponding to timesteps in `data`.\n",
      " |          It should have same length as `data`.\n",
      " |      length: Length of the output sequences (in number of timesteps).\n",
      " |      sampling_rate: Period between successive individual timesteps\n",
      " |          within sequences. For rate `r`, timesteps\n",
      " |          `data[i]`, `data[i-r]`, ... `data[i - length]`\n",
      " |          are used for create a sample sequence.\n",
      " |      stride: Period between successive output sequences.\n",
      " |          For stride `s`, consecutive output samples would\n",
      " |          be centered around `data[i]`, `data[i+s]`, `data[i+2*s]`, etc.\n",
      " |      start_index: Data points earlier than `start_index` will not be used\n",
      " |          in the output sequences. This is useful to reserve part of the\n",
      " |          data for test or validation.\n",
      " |      end_index: Data points later than `end_index` will not be used\n",
      " |          in the output sequences. This is useful to reserve part of the\n",
      " |          data for test or validation.\n",
      " |      shuffle: Whether to shuffle output samples,\n",
      " |          or instead draw them in chronological order.\n",
      " |      reverse: Boolean: if `true`, timesteps in each output sample will be\n",
      " |          in reverse chronological order.\n",
      " |      batch_size: Number of timeseries samples in each batch\n",
      " |          (except maybe the last one).\n",
      " |  # Returns\n",
      " |      A [Sequence](/utils/#sequence) instance.\n",
      " |  # Examples\n",
      " |  ```python\n",
      " |  from keras.preprocessing.sequence import TimeseriesGenerator\n",
      " |  import numpy as np\n",
      " |  data = np.array([[i] for i in range(50)])\n",
      " |  targets = np.array([[i] for i in range(50)])\n",
      " |  data_gen = TimeseriesGenerator(data, targets,\n",
      " |                                 length=10, sampling_rate=2,\n",
      " |                                 batch_size=2)\n",
      " |  assert len(data_gen) == 20\n",
      " |  batch_0 = data_gen[0]\n",
      " |  x, y = batch_0\n",
      " |  assert np.array_equal(x,\n",
      " |                        np.array([[[0], [2], [4], [6], [8]],\n",
      " |                                  [[1], [3], [5], [7], [9]]]))\n",
      " |  assert np.array_equal(y,\n",
      " |                        np.array([[10], [11]]))\n",
      " |  ```\n",
      " |  \n",
      " |  Method resolution order:\n",
      " |      TimeseriesGenerator\n",
      " |      keras_preprocessing.sequence.TimeseriesGenerator\n",
      " |      tensorflow.python.keras.utils.data_utils.Sequence\n",
      " |      builtins.object\n",
      " |  \n",
      " |  Methods inherited from keras_preprocessing.sequence.TimeseriesGenerator:\n",
      " |  \n",
      " |  __getitem__(self, index)\n",
      " |  \n",
      " |  __init__(self, data, targets, length, sampling_rate=1, stride=1, start_index=0, end_index=None, shuffle=False, reverse=False, batch_size=128)\n",
      " |      Initialize self.  See help(type(self)) for accurate signature.\n",
      " |  \n",
      " |  __len__(self)\n",
      " |  \n",
      " |  get_config(self)\n",
      " |      Returns the TimeseriesGenerator configuration as Python dictionary.\n",
      " |      \n",
      " |      # Returns\n",
      " |          A Python dictionary with the TimeseriesGenerator configuration.\n",
      " |  \n",
      " |  to_json(self, **kwargs)\n",
      " |      Returns a JSON string containing the timeseries generator\n",
      " |      configuration. To load a generator from a JSON string, use\n",
      " |      `keras.preprocessing.sequence.timeseries_generator_from_json(json_string)`.\n",
      " |      \n",
      " |      # Arguments\n",
      " |          **kwargs: Additional keyword arguments\n",
      " |              to be passed to `json.dumps()`.\n",
      " |      \n",
      " |      # Returns\n",
      " |          A JSON string containing the tokenizer configuration.\n",
      " |  \n",
      " |  ----------------------------------------------------------------------\n",
      " |  Data descriptors inherited from keras_preprocessing.sequence.TimeseriesGenerator:\n",
      " |  \n",
      " |  __dict__\n",
      " |      dictionary for instance variables (if defined)\n",
      " |  \n",
      " |  __weakref__\n",
      " |      list of weak references to the object (if defined)\n",
      " |  \n",
      " |  ----------------------------------------------------------------------\n",
      " |  Methods inherited from tensorflow.python.keras.utils.data_utils.Sequence:\n",
      " |  \n",
      " |  __iter__(self)\n",
      " |      Create a generator that iterate over the Sequence.\n",
      " |  \n",
      " |  on_epoch_end(self)\n",
      " |      Method called at the end of every epoch.\n",
      "\n"
     ]
    }
   ],
   "source": [
    "help(TimeseriesGenerator)"
   ]
  },
  {
   "cell_type": "code",
   "execution_count": 12,
   "metadata": {},
   "outputs": [],
   "source": [
    "df=pd.read_csv('RSCCASN.csv',parse_dates=True,index_col='DATE')"
   ]
  },
  {
   "cell_type": "code",
   "execution_count": 14,
   "metadata": {},
   "outputs": [
    {
     "name": "stdout",
     "output_type": "stream",
     "text": [
      "<class 'pandas.core.frame.DataFrame'>\n",
      "DatetimeIndex: 334 entries, 1992-01-01 to 2019-10-01\n",
      "Data columns (total 1 columns):\n",
      " #   Column   Non-Null Count  Dtype\n",
      "---  ------   --------------  -----\n",
      " 0   RSCCASN  334 non-null    int64\n",
      "dtypes: int64(1)\n",
      "memory usage: 5.2 KB\n"
     ]
    }
   ],
   "source": [
    "df.info()"
   ]
  },
  {
   "cell_type": "code",
   "execution_count": 26,
   "metadata": {},
   "outputs": [
    {
     "data": {
      "text/html": [
       "<div>\n",
       "<style scoped>\n",
       "    .dataframe tbody tr th:only-of-type {\n",
       "        vertical-align: middle;\n",
       "    }\n",
       "\n",
       "    .dataframe tbody tr th {\n",
       "        vertical-align: top;\n",
       "    }\n",
       "\n",
       "    .dataframe thead th {\n",
       "        text-align: right;\n",
       "    }\n",
       "</style>\n",
       "<table border=\"1\" class=\"dataframe\">\n",
       "  <thead>\n",
       "    <tr style=\"text-align: right;\">\n",
       "      <th></th>\n",
       "      <th>Sales</th>\n",
       "    </tr>\n",
       "    <tr>\n",
       "      <th>DATE</th>\n",
       "      <th></th>\n",
       "    </tr>\n",
       "  </thead>\n",
       "  <tbody>\n",
       "    <tr>\n",
       "      <th>1992-01-01</th>\n",
       "      <td>6938</td>\n",
       "    </tr>\n",
       "    <tr>\n",
       "      <th>1992-02-01</th>\n",
       "      <td>7524</td>\n",
       "    </tr>\n",
       "    <tr>\n",
       "      <th>1992-03-01</th>\n",
       "      <td>8475</td>\n",
       "    </tr>\n",
       "    <tr>\n",
       "      <th>1992-04-01</th>\n",
       "      <td>9401</td>\n",
       "    </tr>\n",
       "    <tr>\n",
       "      <th>1992-05-01</th>\n",
       "      <td>9558</td>\n",
       "    </tr>\n",
       "  </tbody>\n",
       "</table>\n",
       "</div>"
      ],
      "text/plain": [
       "            Sales\n",
       "DATE             \n",
       "1992-01-01   6938\n",
       "1992-02-01   7524\n",
       "1992-03-01   8475\n",
       "1992-04-01   9401\n",
       "1992-05-01   9558"
      ]
     },
     "execution_count": 26,
     "metadata": {},
     "output_type": "execute_result"
    }
   ],
   "source": [
    "df.head()"
   ]
  },
  {
   "cell_type": "code",
   "execution_count": 16,
   "metadata": {},
   "outputs": [],
   "source": [
    "df.columns=['Sales']"
   ]
  },
  {
   "cell_type": "code",
   "execution_count": 18,
   "metadata": {},
   "outputs": [],
   "source": [
    "from sklearn.preprocessing import StandardScaler"
   ]
  },
  {
   "cell_type": "code",
   "execution_count": 19,
   "metadata": {},
   "outputs": [],
   "source": [
    "sd=StandardScaler()"
   ]
  },
  {
   "cell_type": "code",
   "execution_count": 20,
   "metadata": {},
   "outputs": [
    {
     "data": {
      "text/plain": [
       "334"
      ]
     },
     "execution_count": 20,
     "metadata": {},
     "output_type": "execute_result"
    }
   ],
   "source": [
    "len(df)"
   ]
  },
  {
   "cell_type": "code",
   "execution_count": 27,
   "metadata": {},
   "outputs": [],
   "source": [
    "train=df.iloc[:316,:]\n",
    "test=df.iloc[316:,:]"
   ]
  },
  {
   "cell_type": "code",
   "execution_count": 28,
   "metadata": {},
   "outputs": [
    {
     "name": "stdout",
     "output_type": "stream",
     "text": [
      "<class 'pandas.core.frame.DataFrame'>\n",
      "DatetimeIndex: 316 entries, 1992-01-01 to 2018-04-01\n",
      "Data columns (total 1 columns):\n",
      " #   Column  Non-Null Count  Dtype\n",
      "---  ------  --------------  -----\n",
      " 0   Sales   316 non-null    int64\n",
      "dtypes: int64(1)\n",
      "memory usage: 4.9 KB\n"
     ]
    }
   ],
   "source": [
    "train.info()"
   ]
  },
  {
   "cell_type": "code",
   "execution_count": 29,
   "metadata": {},
   "outputs": [
    {
     "data": {
      "text/html": [
       "<div>\n",
       "<style scoped>\n",
       "    .dataframe tbody tr th:only-of-type {\n",
       "        vertical-align: middle;\n",
       "    }\n",
       "\n",
       "    .dataframe tbody tr th {\n",
       "        vertical-align: top;\n",
       "    }\n",
       "\n",
       "    .dataframe thead th {\n",
       "        text-align: right;\n",
       "    }\n",
       "</style>\n",
       "<table border=\"1\" class=\"dataframe\">\n",
       "  <thead>\n",
       "    <tr style=\"text-align: right;\">\n",
       "      <th></th>\n",
       "      <th>Sales</th>\n",
       "    </tr>\n",
       "    <tr>\n",
       "      <th>DATE</th>\n",
       "      <th></th>\n",
       "    </tr>\n",
       "  </thead>\n",
       "  <tbody>\n",
       "    <tr>\n",
       "      <th>2018-05-01</th>\n",
       "      <td>23764</td>\n",
       "    </tr>\n",
       "    <tr>\n",
       "      <th>2018-06-01</th>\n",
       "      <td>21589</td>\n",
       "    </tr>\n",
       "    <tr>\n",
       "      <th>2018-07-01</th>\n",
       "      <td>21919</td>\n",
       "    </tr>\n",
       "    <tr>\n",
       "      <th>2018-08-01</th>\n",
       "      <td>23381</td>\n",
       "    </tr>\n",
       "    <tr>\n",
       "      <th>2018-09-01</th>\n",
       "      <td>20260</td>\n",
       "    </tr>\n",
       "    <tr>\n",
       "      <th>2018-10-01</th>\n",
       "      <td>21473</td>\n",
       "    </tr>\n",
       "    <tr>\n",
       "      <th>2018-11-01</th>\n",
       "      <td>25831</td>\n",
       "    </tr>\n",
       "    <tr>\n",
       "      <th>2018-12-01</th>\n",
       "      <td>34706</td>\n",
       "    </tr>\n",
       "    <tr>\n",
       "      <th>2019-01-01</th>\n",
       "      <td>16410</td>\n",
       "    </tr>\n",
       "    <tr>\n",
       "      <th>2019-02-01</th>\n",
       "      <td>18134</td>\n",
       "    </tr>\n",
       "    <tr>\n",
       "      <th>2019-03-01</th>\n",
       "      <td>22093</td>\n",
       "    </tr>\n",
       "    <tr>\n",
       "      <th>2019-04-01</th>\n",
       "      <td>21597</td>\n",
       "    </tr>\n",
       "    <tr>\n",
       "      <th>2019-05-01</th>\n",
       "      <td>23200</td>\n",
       "    </tr>\n",
       "    <tr>\n",
       "      <th>2019-06-01</th>\n",
       "      <td>21123</td>\n",
       "    </tr>\n",
       "    <tr>\n",
       "      <th>2019-07-01</th>\n",
       "      <td>21714</td>\n",
       "    </tr>\n",
       "    <tr>\n",
       "      <th>2019-08-01</th>\n",
       "      <td>23791</td>\n",
       "    </tr>\n",
       "    <tr>\n",
       "      <th>2019-09-01</th>\n",
       "      <td>19695</td>\n",
       "    </tr>\n",
       "    <tr>\n",
       "      <th>2019-10-01</th>\n",
       "      <td>21113</td>\n",
       "    </tr>\n",
       "  </tbody>\n",
       "</table>\n",
       "</div>"
      ],
      "text/plain": [
       "            Sales\n",
       "DATE             \n",
       "2018-05-01  23764\n",
       "2018-06-01  21589\n",
       "2018-07-01  21919\n",
       "2018-08-01  23381\n",
       "2018-09-01  20260\n",
       "2018-10-01  21473\n",
       "2018-11-01  25831\n",
       "2018-12-01  34706\n",
       "2019-01-01  16410\n",
       "2019-02-01  18134\n",
       "2019-03-01  22093\n",
       "2019-04-01  21597\n",
       "2019-05-01  23200\n",
       "2019-06-01  21123\n",
       "2019-07-01  21714\n",
       "2019-08-01  23791\n",
       "2019-09-01  19695\n",
       "2019-10-01  21113"
      ]
     },
     "execution_count": 29,
     "metadata": {},
     "output_type": "execute_result"
    }
   ],
   "source": [
    "test"
   ]
  },
  {
   "cell_type": "code",
   "execution_count": 30,
   "metadata": {},
   "outputs": [],
   "source": [
    "train=sd.fit_transform(train)\n",
    "test=sd.transform(test)"
   ]
  },
  {
   "cell_type": "code",
   "execution_count": 34,
   "metadata": {},
   "outputs": [],
   "source": [
    "from tensorflow.keras.preprocessing.sequence import TimeseriesGenerator"
   ]
  },
  {
   "cell_type": "code",
   "execution_count": 46,
   "metadata": {},
   "outputs": [],
   "source": [
    "generator=TimeseriesGenerator(train,train,length=10,batch_size=2,shuffle=False)"
   ]
  },
  {
   "cell_type": "code",
   "execution_count": 47,
   "metadata": {},
   "outputs": [],
   "source": [
    "x,y=generator[0]"
   ]
  },
  {
   "cell_type": "code",
   "execution_count": 49,
   "metadata": {},
   "outputs": [
    {
     "data": {
      "text/plain": [
       "array([[-0.9153314 ],\n",
       "       [ 0.46019152]])"
      ]
     },
     "execution_count": 49,
     "metadata": {},
     "output_type": "execute_result"
    }
   ],
   "source": [
    "y"
   ]
  },
  {
   "cell_type": "code",
   "execution_count": 39,
   "metadata": {},
   "outputs": [
    {
     "data": {
      "text/plain": [
       "array([[-1.72618002e+00],\n",
       "       [-1.61435199e+00],\n",
       "       [-1.43286999e+00],\n",
       "       [-1.25615880e+00],\n",
       "       [-1.22619805e+00],\n",
       "       [-1.29795119e+00],\n",
       "       [-1.31302698e+00],\n",
       "       [-1.04395271e+00],\n",
       "       [-1.22333556e+00],\n",
       "       [-1.09337841e+00],\n",
       "       [-9.15331399e-01],\n",
       "       [ 4.60191517e-01],\n",
       "       [-1.61855031e+00],\n",
       "       [-1.61435199e+00],\n",
       "       [-1.37733764e+00],\n",
       "       [-1.16723071e+00],\n",
       "       [-1.12982748e+00],\n",
       "       [-1.21150392e+00],\n",
       "       [-1.18116151e+00],\n",
       "       [-1.02200694e+00],\n",
       "       [-1.13936912e+00],\n",
       "       [-1.07582179e+00],\n",
       "       [-8.05984197e-01],\n",
       "       [ 5.47211279e-01],\n",
       "       [-1.66091520e+00],\n",
       "       [-1.54221719e+00],\n",
       "       [-1.15692574e+00],\n",
       "       [-1.16684905e+00],\n",
       "       [-1.14013245e+00],\n",
       "       [-1.16226906e+00],\n",
       "       [-1.19242064e+00],\n",
       "       [-9.21056383e-01],\n",
       "       [-1.10043923e+00],\n",
       "       [-1.00254199e+00],\n",
       "       [-6.92629506e-01],\n",
       "       [ 7.69531506e-01],\n",
       "       [-1.61549699e+00],\n",
       "       [-1.53095805e+00],\n",
       "       [-1.17715402e+00],\n",
       "       [-1.10979004e+00],\n",
       "       [-1.02353360e+00],\n",
       "       [-1.08440927e+00],\n",
       "       [-1.18306984e+00],\n",
       "       [-9.00637272e-01],\n",
       "       [-1.00635865e+00],\n",
       "       [-1.05807434e+00],\n",
       "       [-6.16868879e-01],\n",
       "       [ 7.66859847e-01],\n",
       "       [-1.58381874e+00],\n",
       "       [-1.33440026e+00],\n",
       "       [-1.07524930e+00],\n",
       "       [-1.03307524e+00],\n",
       "       [-8.73729846e-01],\n",
       "       [-1.03612857e+00],\n",
       "       [-1.10330172e+00],\n",
       "       [-7.34612725e-01],\n",
       "       [-1.02296111e+00],\n",
       "       [-9.03308932e-01],\n",
       "       [-5.93205611e-01],\n",
       "       [ 7.55791544e-01],\n",
       "       [-1.48649401e+00],\n",
       "       [-1.36417017e+00],\n",
       "       [-9.81550385e-01],\n",
       "       [-1.11685085e+00],\n",
       "       [-8.54646564e-01],\n",
       "       [-1.01704529e+00],\n",
       "       [-1.00177866e+00],\n",
       "       [-6.72210395e-01],\n",
       "       [-9.62085438e-01],\n",
       "       [-8.29838299e-01],\n",
       "       [-5.22788303e-01],\n",
       "       [ 9.79829266e-01],\n",
       "       [-1.37084932e+00],\n",
       "       [-1.23745719e+00],\n",
       "       [-9.77161230e-01],\n",
       "       [-7.93580064e-01],\n",
       "       [-7.14575280e-01],\n",
       "       [-8.64951536e-01],\n",
       "       [-8.30219964e-01],\n",
       "       [-5.74885661e-01],\n",
       "       [-9.10178913e-01],\n",
       "       [-6.86904522e-01],\n",
       "       [-4.06380287e-01],\n",
       "       [ 1.22791192e+00],\n",
       "       [-1.28745538e+00],\n",
       "       [-1.10921754e+00],\n",
       "       [-7.44726864e-01],\n",
       "       [-6.86522856e-01],\n",
       "       [-5.37482429e-01],\n",
       "       [-7.06751134e-01],\n",
       "       [-6.72210395e-01],\n",
       "       [-4.29280224e-01],\n",
       "       [-6.92057008e-01],\n",
       "       [-5.79274815e-01],\n",
       "       [-2.55813197e-01],\n",
       "       [ 1.58438762e+00],\n",
       "       [-1.24738049e+00],\n",
       "       [-9.18575557e-01],\n",
       "       [-5.99693926e-01],\n",
       "       [-5.45688240e-01],\n",
       "       [-4.29089392e-01],\n",
       "       [-5.78320651e-01],\n",
       "       [-6.64767915e-01],\n",
       "       [-2.62110680e-01],\n",
       "       [-4.97789204e-01],\n",
       "       [-4.98934201e-01],\n",
       "       [-5.88737345e-02],\n",
       "       [ 1.69678814e+00],\n",
       "       [-1.13039998e+00],\n",
       "       [-8.65142369e-01],\n",
       "       [-5.56565711e-01],\n",
       "       [-5.00270031e-01],\n",
       "       [-4.19166085e-01],\n",
       "       [-5.81755642e-01],\n",
       "       [-6.45684634e-01],\n",
       "       [-2.22417455e-01],\n",
       "       [-7.40337709e-01],\n",
       "       [-5.27749956e-01],\n",
       "       [-1.20512733e-01],\n",
       "       [ 1.63171416e+00],\n",
       "       [-1.07620346e+00],\n",
       "       [-8.11709181e-01],\n",
       "       [-3.82907851e-01],\n",
       "       [-5.32139110e-01],\n",
       "       [-3.49893774e-01],\n",
       "       [-5.29276618e-01],\n",
       "       [-5.93587276e-01],\n",
       "       [-1.66121775e-01],\n",
       "       [-6.75263720e-01],\n",
       "       [-3.77373699e-01],\n",
       "       [-1.38371906e-02],\n",
       "       [ 1.78743373e+00],\n",
       "       [-9.88420366e-01],\n",
       "       [-8.24685813e-01],\n",
       "       [-4.83095078e-01],\n",
       "       [-4.37486035e-01],\n",
       "       [-2.39210743e-01],\n",
       "       [-4.74698434e-01],\n",
       "       [-4.06380287e-01],\n",
       "       [-8.80711549e-02],\n",
       "       [-4.61149304e-01],\n",
       "       [-2.63828176e-01],\n",
       "       [ 1.09059141e-01],\n",
       "       [ 2.05650800e+00],\n",
       "       [-8.00259213e-01],\n",
       "       [-5.03705021e-01],\n",
       "       [-2.33485758e-01],\n",
       "       [-1.76617580e-01],\n",
       "       [-1.15360247e-01],\n",
       "       [-3.33291319e-01],\n",
       "       [-2.51233210e-01],\n",
       "       [-7.54761892e-02],\n",
       "       [-3.35772146e-01],\n",
       "       [-7.89111798e-02],\n",
       "       [ 2.37871290e-01],\n",
       "       [ 2.37061881e+00],\n",
       "       [-7.51406013e-01],\n",
       "       [-4.01800299e-01],\n",
       "       [-4.89504282e-02],\n",
       "       [-5.25762517e-02],\n",
       "       [ 1.04776877e-03],\n",
       "       [-8.10103408e-02],\n",
       "       [-1.46084330e-01],\n",
       "       [ 1.36157400e-01],\n",
       "       [-1.95319196e-01],\n",
       "       [ 1.00280831e-01],\n",
       "       [ 4.61527346e-01],\n",
       "       [ 2.72747617e+00],\n",
       "       [-5.89770620e-01],\n",
       "       [-2.88063943e-01],\n",
       "       [ 7.68083955e-02],\n",
       "       [ 1.64973155e-01],\n",
       "       [ 2.13635522e-01],\n",
       "       [ 9.95175002e-02],\n",
       "       [ 5.56259533e-02],\n",
       "       [ 3.52752643e-01],\n",
       "       [ 1.49515697e-01],\n",
       "       [ 2.42260444e-01],\n",
       "       [ 6.50260998e-01],\n",
       "       [ 2.95380388e+00],\n",
       "       [-3.92449491e-01],\n",
       "       [-1.72991757e-01],\n",
       "       [ 3.93400032e-01],\n",
       "       [ 2.12299693e-01],\n",
       "       [ 4.75267309e-01],\n",
       "       [ 2.49130426e-01],\n",
       "       [ 1.71652304e-01],\n",
       "       [ 5.47020446e-01],\n",
       "       [ 1.49134032e-01],\n",
       "       [ 3.11151090e-01],\n",
       "       [ 8.71436228e-01],\n",
       "       [ 2.79598515e+00],\n",
       "       [-3.45504619e-01],\n",
       "       [-2.05163391e-02],\n",
       "       [ 3.40921009e-01],\n",
       "       [ 2.13635522e-01],\n",
       "       [ 5.91675325e-01],\n",
       "       [ 1.95315572e-01],\n",
       "       [ 2.64397051e-01],\n",
       "       [ 5.83469514e-01],\n",
       "       [-1.93713422e-02],\n",
       "       [ 1.55049849e-01],\n",
       "       [ 5.29082162e-01],\n",
       "       [ 2.05001968e+00],\n",
       "       [-4.95499210e-01],\n",
       "       [-2.47989052e-01],\n",
       "       [-8.02470095e-02],\n",
       "       [ 6.74575877e-02],\n",
       "       [ 2.44359605e-01],\n",
       "       [-1.04864442e-01],\n",
       "       [ 4.48275940e-03],\n",
       "       [ 3.19166068e-01],\n",
       "       [-6.74612111e-02],\n",
       "       [ 2.04093882e-01],\n",
       "       [ 4.48169049e-01],\n",
       "       [ 2.12673447e+00],\n",
       "       [-5.28131621e-01],\n",
       "       [-2.22799121e-01],\n",
       "       [ 2.68404540e-01],\n",
       "       [ 2.01994721e-01],\n",
       "       [ 3.32715198e-01],\n",
       "       [ 2.94818579e-02],\n",
       "       [ 1.63828158e-01],\n",
       "       [ 3.70118429e-01],\n",
       "       [ 4.74201423e-02],\n",
       "       [ 2.72602862e-01],\n",
       "       [ 7.67050680e-01],\n",
       "       [ 2.39714457e+00],\n",
       "       [-4.35196042e-01],\n",
       "       [-1.00205344e-02],\n",
       "       [ 4.32902424e-01],\n",
       "       [ 5.08281385e-01],\n",
       "       [ 5.31944654e-01],\n",
       "       [ 3.43401835e-01],\n",
       "       [ 3.72790088e-01],\n",
       "       [ 6.25834398e-01],\n",
       "       [ 3.84621723e-01],\n",
       "       [ 4.33474923e-01],\n",
       "       [ 9.49105183e-01],\n",
       "       [ 2.88624907e+00],\n",
       "       [-3.10200549e-01],\n",
       "       [ 3.71645091e-01],\n",
       "       [ 7.97393097e-01],\n",
       "       [ 4.99503076e-01],\n",
       "       [ 7.57318206e-01],\n",
       "       [ 5.21639682e-01],\n",
       "       [ 4.35574084e-01],\n",
       "       [ 9.09602791e-01],\n",
       "       [ 4.59428185e-01],\n",
       "       [ 5.46066282e-01],\n",
       "       [ 1.15119713e+00],\n",
       "       [ 2.96181886e+00],\n",
       "       [-1.58106797e-01],\n",
       "       [ 2.66877877e-01],\n",
       "       [ 8.76207049e-01],\n",
       "       [ 6.09231943e-01],\n",
       "       [ 9.15327775e-01],\n",
       "       [ 5.64004567e-01],\n",
       "       [ 6.09231943e-01],\n",
       "       [ 1.06379570e+00],\n",
       "       [ 4.05994998e-01],\n",
       "       [ 7.38807423e-01],\n",
       "       [ 1.23153775e+00],\n",
       "       [ 2.97594049e+00],\n",
       "       [-1.53526810e-01],\n",
       "       [ 2.90731979e-01],\n",
       "       [ 7.79836478e-01],\n",
       "       [ 8.27926347e-01],\n",
       "       [ 1.06570403e+00],\n",
       "       [ 5.65531229e-01],\n",
       "       [ 7.33654938e-01],\n",
       "       [ 1.14680798e+00],\n",
       "       [ 5.08090553e-01],\n",
       "       [ 8.08461400e-01],\n",
       "       [ 1.43267553e+00],\n",
       "       [ 3.17822327e+00],\n",
       "       [-4.18896141e-02],\n",
       "       [ 3.80995899e-01],\n",
       "       [ 9.09984457e-01],\n",
       "       [ 8.40712146e-01],\n",
       "       [ 1.17581457e+00],\n",
       "       [ 7.02930855e-01],\n",
       "       [ 8.74107888e-01],\n",
       "       [ 1.20806531e+00],\n",
       "       [ 6.04461123e-01],\n",
       "       [ 8.88038683e-01],\n",
       "       [ 1.35615157e+00],\n",
       "       [ 3.31314207e+00],\n",
       "       [-5.52479110e-02],\n",
       "       [ 5.64004567e-01],\n",
       "       [ 1.05120074e+00],\n",
       "       [ 8.48154625e-01],\n",
       "       [ 1.08249732e+00],\n",
       "       [ 7.97011431e-01],\n",
       "       [ 8.93763668e-01],\n",
       "       [ 1.22218694e+00],\n",
       "       [ 7.26403291e-01],\n",
       "       [ 8.61894588e-01],\n",
       "       [ 1.46187295e+00],\n",
       "       [ 3.53011898e+00],\n",
       "       [-6.11637282e-02],\n",
       "       [ 3.36150188e-01],\n",
       "       [ 9.62654313e-01],\n",
       "       [ 9.29067738e-01],\n",
       "       [ 1.07295568e+00],\n",
       "       [ 8.27926347e-01],\n",
       "       [ 8.68573736e-01],\n",
       "       [ 1.25043019e+00],\n",
       "       [ 7.13044994e-01],\n",
       "       [ 8.25063855e-01],\n",
       "       [ 1.61339420e+00],\n",
       "       [ 3.38470437e+00],\n",
       "       [-1.95621750e-02],\n",
       "       [ 4.96449751e-01],\n",
       "       [ 1.22524026e+00],\n",
       "       [ 8.84031194e-01]])"
      ]
     },
     "execution_count": 39,
     "metadata": {},
     "output_type": "execute_result"
    }
   ],
   "source": [
    "train"
   ]
  },
  {
   "cell_type": "markdown",
   "metadata": {},
   "source": [
    "# nlp"
   ]
  },
  {
   "cell_type": "code",
   "execution_count": 4,
   "metadata": {},
   "outputs": [],
   "source": [
    "path='shakespeare.txt'"
   ]
  },
  {
   "cell_type": "code",
   "execution_count": 11,
   "metadata": {},
   "outputs": [],
   "source": [
    "text=open(path).read()"
   ]
  },
  {
   "cell_type": "code",
   "execution_count": 12,
   "metadata": {},
   "outputs": [
    {
     "name": "stdout",
     "output_type": "stream",
     "text": [
      "\n",
      "                     1\n",
      "  From fairest creatures we desire increase,\n",
      "  That thereby beauty's rose might never die,\n",
      "  But as the riper should by time decease,\n",
      "  His tender heir might bear his memory:\n",
      "  But thou contracted to thine own bright eyes,\n",
      "  Feed'st thy light's flame with self-substantial fuel,\n",
      "  Making a famine where abundance lies,\n",
      "  Thy self thy foe, to thy sweet self too cruel:\n",
      "  Thou that art now the world's fresh ornament,\n",
      "  And only herald to the gaudy spring,\n",
      "  Within thine own bud buriest thy content,\n",
      "  And tender churl mak'st waste in niggarding:\n",
      "    Pity the world, or else this glutton be,\n",
      "    To eat the world's due, by the grave and thee.\n",
      "\n",
      "\n",
      "                     2\n",
      "  When forty winters shall besiege thy brow,\n",
      "  And dig deep trenches in thy beauty's field,\n",
      "  Thy youth's proud livery so gazed on now,\n",
      "  Will be a tattered weed of small worth held:  \n",
      "  Then being asked, where all thy beauty lies,\n",
      "  Where all the treasure of thy lusty days;\n",
      "  To say within thine own deep su\n"
     ]
    }
   ],
   "source": [
    "print(text[:1000])"
   ]
  },
  {
   "cell_type": "code",
   "execution_count": 14,
   "metadata": {},
   "outputs": [
    {
     "data": {
      "text/plain": [
       "5445609"
      ]
     },
     "execution_count": 14,
     "metadata": {},
     "output_type": "execute_result"
    }
   ],
   "source": [
    "len(text)"
   ]
  },
  {
   "cell_type": "code",
   "execution_count": 16,
   "metadata": {},
   "outputs": [],
   "source": [
    "vocabs=set(text)"
   ]
  },
  {
   "cell_type": "code",
   "execution_count": 24,
   "metadata": {},
   "outputs": [
    {
     "data": {
      "text/plain": [
       "'n'"
      ]
     },
     "execution_count": 24,
     "metadata": {},
     "output_type": "execute_result"
    }
   ],
   "source": [
    "text[309]"
   ]
  },
  {
   "cell_type": "code",
   "execution_count": 27,
   "metadata": {},
   "outputs": [],
   "source": [
    "enumerate(vocabs)"
   ]
  },
  {
   "cell_type": "code",
   "execution_count": 69,
   "metadata": {},
   "outputs": [],
   "source": [
    "char_ind={char:ind for ind,char in enumerate(vocabs)}"
   ]
  },
  {
   "cell_type": "code",
   "execution_count": 70,
   "metadata": {},
   "outputs": [],
   "source": [
    "ind_char={ind:char for ind,char in enumerate(vocabs)}"
   ]
  },
  {
   "cell_type": "code",
   "execution_count": 44,
   "metadata": {},
   "outputs": [
    {
     "data": {
      "text/plain": [
       "52"
      ]
     },
     "execution_count": 44,
     "metadata": {},
     "output_type": "execute_result"
    }
   ],
   "source": [
    "char_ind['F']"
   ]
  },
  {
   "cell_type": "code",
   "execution_count": 62,
   "metadata": {},
   "outputs": [],
   "source": [
    "ind_char=np.array(text)"
   ]
  },
  {
   "cell_type": "code",
   "execution_count": 72,
   "metadata": {},
   "outputs": [
    {
     "data": {
      "text/plain": [
       "{0: '6',\n",
       " 1: 'B',\n",
       " 2: 'g',\n",
       " 3: 'Q',\n",
       " 4: 'k',\n",
       " 5: 'p',\n",
       " 6: 'I',\n",
       " 7: 'x',\n",
       " 8: 'Y',\n",
       " 9: 'R',\n",
       " 10: '3',\n",
       " 11: '0',\n",
       " 12: 't',\n",
       " 13: '<',\n",
       " 14: '4',\n",
       " 15: '7',\n",
       " 16: 'w',\n",
       " 17: ')',\n",
       " 18: 'd',\n",
       " 19: 'e',\n",
       " 20: 'q',\n",
       " 21: '2',\n",
       " 22: 'V',\n",
       " 23: ']',\n",
       " 24: '(',\n",
       " 25: 'h',\n",
       " 26: 'G',\n",
       " 27: 'U',\n",
       " 28: '?',\n",
       " 29: 'n',\n",
       " 30: 'A',\n",
       " 31: 'v',\n",
       " 32: '8',\n",
       " 33: '_',\n",
       " 34: '&',\n",
       " 35: 'K',\n",
       " 36: '1',\n",
       " 37: 'z',\n",
       " 38: 'T',\n",
       " 39: 'X',\n",
       " 40: 'l',\n",
       " 41: 'r',\n",
       " 42: 's',\n",
       " 43: '>',\n",
       " 44: 'u',\n",
       " 45: 'P',\n",
       " 46: 'L',\n",
       " 47: ';',\n",
       " 48: 'Z',\n",
       " 49: ' ',\n",
       " 50: '[',\n",
       " 51: 'O',\n",
       " 52: 'F',\n",
       " 53: 'c',\n",
       " 54: 'j',\n",
       " 55: 'W',\n",
       " 56: ':',\n",
       " 57: '|',\n",
       " 58: 'i',\n",
       " 59: '!',\n",
       " 60: '5',\n",
       " 61: 'f',\n",
       " 62: '\"',\n",
       " 63: 'a',\n",
       " 64: 'y',\n",
       " 65: 'C',\n",
       " 66: '-',\n",
       " 67: 'b',\n",
       " 68: \"'\",\n",
       " 69: 'm',\n",
       " 70: 'D',\n",
       " 71: '`',\n",
       " 72: 'o',\n",
       " 73: '}',\n",
       " 74: '\\n',\n",
       " 75: 'N',\n",
       " 76: ',',\n",
       " 77: '9',\n",
       " 78: 'M',\n",
       " 79: '.',\n",
       " 80: 'J',\n",
       " 81: 'H',\n",
       " 82: 'E',\n",
       " 83: 'S'}"
      ]
     },
     "execution_count": 72,
     "metadata": {},
     "output_type": "execute_result"
    }
   ],
   "source": [
    "ind_char"
   ]
  },
  {
   "cell_type": "code",
   "execution_count": 48,
   "metadata": {},
   "outputs": [],
   "source": [
    "encoded_txt=np.array([char_ind[c] for c in text])"
   ]
  },
  {
   "cell_type": "code",
   "execution_count": 49,
   "metadata": {},
   "outputs": [
    {
     "data": {
      "text/plain": [
       "array([74, 49, 49, ..., 82, 75, 70])"
      ]
     },
     "execution_count": 49,
     "metadata": {},
     "output_type": "execute_result"
    }
   ],
   "source": [
    "encoded_txt"
   ]
  },
  {
   "cell_type": "code",
   "execution_count": 66,
   "metadata": {},
   "outputs": [],
   "source": [
    "char_dataset=tf.data.Dataset.from_tensor_slices(encoded_txt)"
   ]
  },
  {
   "cell_type": "code",
   "execution_count": 67,
   "metadata": {},
   "outputs": [
    {
     "data": {
      "text/plain": [
       "<TensorSliceDataset shapes: (), types: tf.int32>"
      ]
     },
     "execution_count": 67,
     "metadata": {},
     "output_type": "execute_result"
    }
   ],
   "source": [
    "char_dataset"
   ]
  },
  {
   "cell_type": "code",
   "execution_count": 75,
   "metadata": {},
   "outputs": [
    {
     "name": "stdout",
     "output_type": "stream",
     "text": [
      "\n",
      "\n",
      " \n",
      " \n",
      " \n",
      " \n",
      " \n",
      " \n",
      " \n",
      " \n",
      " \n",
      " \n",
      " \n",
      " \n",
      " \n",
      " \n",
      " \n",
      " \n",
      " \n",
      " \n",
      " \n",
      " \n",
      " \n",
      "1\n",
      "\n",
      "\n",
      " \n",
      " \n",
      "F\n",
      "r\n",
      "o\n",
      "m\n",
      " \n",
      "f\n",
      "a\n",
      "i\n",
      "r\n",
      "e\n",
      "s\n",
      "t\n",
      " \n",
      "c\n",
      "r\n",
      "e\n",
      "a\n",
      "t\n",
      "u\n",
      "r\n",
      "e\n",
      "s\n",
      " \n",
      "w\n",
      "e\n",
      " \n",
      "d\n",
      "e\n",
      "s\n",
      "i\n",
      "r\n",
      "e\n",
      " \n",
      "i\n",
      "n\n",
      "c\n",
      "r\n",
      "e\n",
      "a\n",
      "s\n",
      "e\n",
      ",\n",
      "\n",
      "\n",
      " \n",
      " \n",
      "T\n",
      "h\n",
      "a\n",
      "t\n",
      " \n",
      "t\n",
      "h\n",
      "e\n",
      "r\n",
      "e\n",
      "b\n",
      "y\n",
      " \n",
      "b\n",
      "e\n",
      "a\n",
      "u\n",
      "t\n",
      "y\n",
      "'\n",
      "s\n",
      " \n",
      "r\n",
      "o\n",
      "s\n",
      "e\n",
      " \n",
      "m\n",
      "i\n",
      "g\n",
      "h\n",
      "t\n",
      " \n",
      "n\n",
      "e\n",
      "v\n",
      "e\n",
      "r\n",
      " \n",
      "d\n",
      "i\n",
      "e\n",
      ",\n",
      "\n",
      "\n",
      " \n",
      " \n",
      "B\n",
      "u\n",
      "t\n",
      " \n",
      "a\n",
      "s\n",
      " \n",
      "t\n",
      "h\n",
      "e\n",
      " \n",
      "r\n",
      "i\n",
      "p\n",
      "e\n",
      "r\n",
      " \n",
      "s\n",
      "h\n",
      "o\n",
      "u\n",
      "l\n",
      "d\n",
      " \n",
      "b\n",
      "y\n",
      " \n",
      "t\n",
      "i\n",
      "m\n",
      "e\n",
      " \n",
      "d\n",
      "e\n",
      "c\n",
      "e\n",
      "a\n",
      "s\n",
      "e\n",
      ",\n",
      "\n",
      "\n",
      " \n",
      " \n",
      "H\n",
      "i\n",
      "s\n",
      " \n",
      "t\n",
      "e\n",
      "n\n",
      "d\n",
      "e\n",
      "r\n",
      " \n",
      "h\n",
      "e\n",
      "i\n",
      "r\n",
      " \n",
      "m\n",
      "i\n",
      "g\n",
      "h\n",
      "t\n",
      " \n",
      "b\n",
      "e\n",
      "a\n",
      "r\n",
      " \n",
      "h\n",
      "i\n",
      "s\n",
      " \n",
      "m\n",
      "e\n",
      "m\n",
      "o\n",
      "r\n",
      "y\n",
      ":\n",
      "\n",
      "\n",
      " \n",
      " \n",
      "B\n",
      "u\n",
      "t\n",
      " \n",
      "t\n",
      "h\n",
      "o\n",
      "u\n",
      " \n",
      "c\n",
      "o\n",
      "n\n",
      "t\n",
      "r\n",
      "a\n",
      "c\n",
      "t\n",
      "e\n",
      "d\n",
      " \n",
      "t\n",
      "o\n",
      " \n",
      "t\n",
      "h\n",
      "i\n",
      "n\n",
      "e\n",
      " \n",
      "o\n",
      "w\n",
      "n\n",
      " \n",
      "b\n",
      "r\n",
      "i\n",
      "g\n",
      "h\n",
      "t\n",
      " \n",
      "e\n",
      "y\n",
      "e\n",
      "s\n",
      ",\n",
      "\n",
      "\n",
      " \n",
      " \n",
      "F\n",
      "e\n",
      "e\n",
      "d\n",
      "'\n",
      "s\n",
      "t\n",
      " \n",
      "t\n",
      "h\n",
      "y\n",
      " \n",
      "l\n",
      "i\n",
      "g\n",
      "h\n",
      "t\n",
      "'\n",
      "s\n",
      " \n",
      "f\n",
      "l\n",
      "a\n",
      "m\n",
      "e\n",
      " \n",
      "w\n",
      "i\n",
      "t\n",
      "h\n",
      " \n",
      "s\n",
      "e\n",
      "l\n",
      "f\n",
      "-\n",
      "s\n",
      "u\n",
      "b\n",
      "s\n",
      "t\n",
      "a\n",
      "n\n",
      "t\n",
      "i\n",
      "a\n",
      "l\n",
      " \n",
      "f\n",
      "u\n",
      "e\n",
      "l\n",
      ",\n",
      "\n",
      "\n",
      " \n",
      " \n",
      "M\n",
      "a\n",
      "k\n",
      "i\n",
      "n\n",
      "g\n",
      " \n",
      "a\n",
      " \n",
      "f\n",
      "a\n",
      "m\n",
      "i\n",
      "n\n",
      "e\n",
      " \n",
      "w\n",
      "h\n",
      "e\n",
      "r\n",
      "e\n",
      " \n",
      "a\n",
      "b\n",
      "u\n",
      "n\n",
      "d\n",
      "a\n",
      "n\n",
      "c\n",
      "e\n",
      " \n",
      "l\n",
      "i\n",
      "e\n",
      "s\n",
      ",\n",
      "\n",
      "\n",
      " \n",
      " \n",
      "T\n",
      "h\n",
      "y\n",
      " \n",
      "s\n",
      "e\n",
      "l\n",
      "f\n",
      " \n",
      "t\n",
      "h\n",
      "y\n",
      " \n",
      "f\n",
      "o\n",
      "e\n",
      ",\n",
      " \n",
      "t\n",
      "o\n",
      " \n",
      "t\n",
      "h\n",
      "y\n",
      " \n",
      "s\n",
      "w\n",
      "e\n",
      "e\n",
      "t\n",
      " \n",
      "s\n",
      "e\n",
      "l\n",
      "f\n",
      " \n",
      "t\n",
      "o\n",
      "o\n",
      " \n",
      "c\n",
      "r\n",
      "u\n",
      "e\n",
      "l\n",
      ":\n",
      "\n",
      "\n",
      " \n",
      " \n",
      "T\n",
      "h\n",
      "o\n",
      "u\n",
      " \n",
      "t\n",
      "h\n",
      "a\n",
      "t\n",
      " \n",
      "a\n",
      "r\n",
      "t\n",
      " \n",
      "n\n",
      "o\n",
      "w\n",
      " \n",
      "t\n",
      "h\n",
      "e\n",
      " \n",
      "w\n",
      "o\n",
      "r\n",
      "l\n",
      "d\n",
      "'\n",
      "s\n",
      " \n",
      "f\n",
      "r\n",
      "e\n",
      "s\n",
      "h\n",
      " \n",
      "o\n",
      "r\n",
      "n\n",
      "a\n",
      "m\n",
      "e\n",
      "n\n",
      "t\n",
      ",\n",
      "\n",
      "\n",
      " \n",
      " \n",
      "A\n",
      "n\n",
      "d\n",
      " \n",
      "o\n",
      "n\n",
      "l\n",
      "y\n",
      " \n",
      "h\n",
      "e\n",
      "r\n",
      "a\n",
      "l\n",
      "d\n",
      " \n",
      "t\n",
      "o\n",
      " \n",
      "t\n",
      "h\n",
      "e\n",
      " \n",
      "g\n",
      "a\n",
      "u\n",
      "d\n",
      "y\n",
      " \n",
      "s\n",
      "p\n",
      "r\n",
      "i\n",
      "n\n",
      "g\n",
      ",\n",
      "\n",
      "\n",
      " \n",
      " \n",
      "W\n",
      "i\n",
      "t\n",
      "h\n",
      "i\n",
      "n\n",
      " \n",
      "t\n",
      "h\n",
      "i\n",
      "n\n",
      "e\n",
      " \n",
      "o\n",
      "w\n",
      "n\n",
      " \n",
      "b\n",
      "u\n"
     ]
    }
   ],
   "source": [
    "for i in char_dataset.take(500):\n",
    "    print(ind_char[i.numpy()])"
   ]
  },
  {
   "cell_type": "code",
   "execution_count": null,
   "metadata": {},
   "outputs": [],
   "source": [
    "char_dataset.batch()"
   ]
  }
 ],
 "metadata": {
  "kernelspec": {
   "display_name": "Python 3 (ipykernel)",
   "language": "python",
   "name": "python3"
  },
  "language_info": {
   "codemirror_mode": {
    "name": "ipython",
    "version": 3
   },
   "file_extension": ".py",
   "mimetype": "text/x-python",
   "name": "python",
   "nbconvert_exporter": "python",
   "pygments_lexer": "ipython3",
   "version": "3.7.16"
  }
 },
 "nbformat": 4,
 "nbformat_minor": 4
}
