{
  "nbformat": 4,
  "nbformat_minor": 0,
  "metadata": {
    "accelerator": "GPU",
    "colab": {
      "provenance": []
    },
    "kernelspec": {
      "display_name": "Python 3",
      "name": "python3"
    },
    "language_info": {
      "name": "python"
    }
  },
  "cells": [
    {
      "cell_type": "code",
      "metadata": {
        "id": "bdBT1HOZjqm3"
      },
      "source": [
        "less='/content/drive/MyDrive/ch.csv'"
      ],
      "execution_count": null,
      "outputs": []
    },
    {
      "cell_type": "code",
      "metadata": {
        "id": "A_ujzMUTj1Yh"
      },
      "source": [
        "import pandas as pd\n",
        "import numpy as np"
      ],
      "execution_count": null,
      "outputs": []
    },
    {
      "cell_type": "code",
      "metadata": {
        "id": "KvZWHmJ5VsXr"
      },
      "source": [
        "hm='/content/drive/MyDrive/Gd.csv'"
      ],
      "execution_count": null,
      "outputs": []
    },
    {
      "cell_type": "code",
      "metadata": {
        "id": "B9I7kv0mj4CI"
      },
      "source": [
        "less=pd.read_csv(less)\n",
        "hm=pd.read_csv(hm)"
      ],
      "execution_count": null,
      "outputs": []
    },
    {
      "cell_type": "code",
      "metadata": {
        "colab": {
          "base_uri": "https://localhost:8080/"
        },
        "id": "bBpfFnRc1Lzd",
        "outputId": "55d77158-e926-408d-8e60-9edc61d961d9"
      },
      "source": [
        "less.info()"
      ],
      "execution_count": null,
      "outputs": [
        {
          "output_type": "stream",
          "text": [
            "<class 'pandas.core.frame.DataFrame'>\n",
            "RangeIndex: 28007 entries, 0 to 28006\n",
            "Columns: 102 entries, Deposit to Occupation_Driver/Motorbike Rider\n",
            "dtypes: float64(15), int64(87)\n",
            "memory usage: 21.8 MB\n"
          ],
          "name": "stdout"
        }
      ]
    },
    {
      "cell_type": "code",
      "metadata": {
        "colab": {
          "base_uri": "https://localhost:8080/",
          "height": 267
        },
        "id": "RudZ8swHMq5x",
        "outputId": "0a29c40a-a91f-47f0-a691-b02cb9a49294"
      },
      "source": [
        "less.head()"
      ],
      "execution_count": null,
      "outputs": [
        {
          "output_type": "execute_result",
          "data": {
            "text/html": [
              "<div>\n",
              "<style scoped>\n",
              "    .dataframe tbody tr th:only-of-type {\n",
              "        vertical-align: middle;\n",
              "    }\n",
              "\n",
              "    .dataframe tbody tr th {\n",
              "        vertical-align: top;\n",
              "    }\n",
              "\n",
              "    .dataframe thead th {\n",
              "        text-align: right;\n",
              "    }\n",
              "</style>\n",
              "<table border=\"1\" class=\"dataframe\">\n",
              "  <thead>\n",
              "    <tr style=\"text-align: right;\">\n",
              "      <th></th>\n",
              "      <th>Deposit</th>\n",
              "      <th>UpsellDate</th>\n",
              "      <th>AccessoryRate</th>\n",
              "      <th>PaymentMethod</th>\n",
              "      <th>RatePerUnit</th>\n",
              "      <th>DaysOnDeposit</th>\n",
              "      <th>Age</th>\n",
              "      <th>SupplierName</th>\n",
              "      <th>Term</th>\n",
              "      <th>TotalContractValue</th>\n",
              "      <th>l1</th>\n",
              "      <th>l2</th>\n",
              "      <th>l3</th>\n",
              "      <th>l4</th>\n",
              "      <th>l5</th>\n",
              "      <th>Max_Payment_hist</th>\n",
              "      <th>var_Payment_hist</th>\n",
              "      <th>Min_Payment_hist</th>\n",
              "      <th>Median_Payment_hist</th>\n",
              "      <th>Sum_of_Payment_hist</th>\n",
              "      <th>Left_over_in_contract</th>\n",
              "      <th>Over_contr_dura</th>\n",
              "      <th>Mean_Payment_hist</th>\n",
              "      <th>Reg_date_year</th>\n",
              "      <th>Reg_date_quarter</th>\n",
              "      <th>Reg_date_year_month</th>\n",
              "      <th>Reg_date_week</th>\n",
              "      <th>Expe_term_year</th>\n",
              "      <th>Expe_term_quarter</th>\n",
              "      <th>Expe_term_month</th>\n",
              "      <th>Expe_term_week</th>\n",
              "      <th>last_pay_year</th>\n",
              "      <th>last_pay_quarter</th>\n",
              "      <th>last_pay_month</th>\n",
              "      <th>last_pay_week</th>\n",
              "      <th>rateTypeEntity_DAILY</th>\n",
              "      <th>rateTypeEntity_MONTHLY</th>\n",
              "      <th>rateTypeEntity_WEEKLY</th>\n",
              "      <th>MainApplicantGender_Male</th>\n",
              "      <th>MainApplicantGender_Female</th>\n",
              "      <th>...</th>\n",
              "      <th>Town_Bomet</th>\n",
              "      <th>Town_Homa Bay</th>\n",
              "      <th>Town_Trans Nzoia</th>\n",
              "      <th>Town_Elgeyo/Marakwet</th>\n",
              "      <th>Town_Wajir</th>\n",
              "      <th>Town_Busia</th>\n",
              "      <th>Town_Baringo</th>\n",
              "      <th>Town_Kericho</th>\n",
              "      <th>Town_Kisii</th>\n",
              "      <th>Town_Migori</th>\n",
              "      <th>Town_Tharaka-Nithi</th>\n",
              "      <th>Town_Uasin Gishu</th>\n",
              "      <th>Town_Nandi</th>\n",
              "      <th>Town_Vihiga</th>\n",
              "      <th>Town_Nairobi City</th>\n",
              "      <th>Town_Mombasa</th>\n",
              "      <th>Town_Muranga</th>\n",
              "      <th>Town_Kirinyaga</th>\n",
              "      <th>Town_Laikipia</th>\n",
              "      <th>Town_Nyeri</th>\n",
              "      <th>Town_Taita/Taveta</th>\n",
              "      <th>Town_Tana River</th>\n",
              "      <th>Town_Samburu</th>\n",
              "      <th>Town_Makueni</th>\n",
              "      <th>Town_Lamu</th>\n",
              "      <th>Town_Kiambu</th>\n",
              "      <th>Town_Marsabit</th>\n",
              "      <th>Town_Garissa</th>\n",
              "      <th>Town_Nyamira</th>\n",
              "      <th>Town_Turkana</th>\n",
              "      <th>Town_Mandera</th>\n",
              "      <th>Town_Isiolo</th>\n",
              "      <th>Town_Nyandarua</th>\n",
              "      <th>Occupation_Teacher</th>\n",
              "      <th>Occupation_Farmer</th>\n",
              "      <th>Occupation_Business</th>\n",
              "      <th>Occupation_Government Employee</th>\n",
              "      <th>Occupation_Other</th>\n",
              "      <th>Occupation_Labourer</th>\n",
              "      <th>Occupation_Driver/Motorbike Rider</th>\n",
              "    </tr>\n",
              "  </thead>\n",
              "  <tbody>\n",
              "    <tr>\n",
              "      <th>0</th>\n",
              "      <td>2500</td>\n",
              "      <td>0</td>\n",
              "      <td>0.0</td>\n",
              "      <td>1</td>\n",
              "      <td>55</td>\n",
              "      <td>3</td>\n",
              "      <td>36.0</td>\n",
              "      <td>1</td>\n",
              "      <td>556</td>\n",
              "      <td>33080.0</td>\n",
              "      <td>770.0</td>\n",
              "      <td>280.0</td>\n",
              "      <td>1320.0</td>\n",
              "      <td>1200.0</td>\n",
              "      <td>660.0</td>\n",
              "      <td>3600.0</td>\n",
              "      <td>641.882814</td>\n",
              "      <td>55.0</td>\n",
              "      <td>350.0</td>\n",
              "      <td>16035.0</td>\n",
              "      <td>17045.0</td>\n",
              "      <td>573</td>\n",
              "      <td>517.258065</td>\n",
              "      <td>2018</td>\n",
              "      <td>2</td>\n",
              "      <td>4</td>\n",
              "      <td>17</td>\n",
              "      <td>2019</td>\n",
              "      <td>4</td>\n",
              "      <td>10</td>\n",
              "      <td>44</td>\n",
              "      <td>2021</td>\n",
              "      <td>2</td>\n",
              "      <td>5</td>\n",
              "      <td>21</td>\n",
              "      <td>1</td>\n",
              "      <td>0</td>\n",
              "      <td>0</td>\n",
              "      <td>1</td>\n",
              "      <td>0</td>\n",
              "      <td>...</td>\n",
              "      <td>0</td>\n",
              "      <td>0</td>\n",
              "      <td>0</td>\n",
              "      <td>0</td>\n",
              "      <td>0</td>\n",
              "      <td>0</td>\n",
              "      <td>0</td>\n",
              "      <td>0</td>\n",
              "      <td>0</td>\n",
              "      <td>0</td>\n",
              "      <td>0</td>\n",
              "      <td>0</td>\n",
              "      <td>0</td>\n",
              "      <td>0</td>\n",
              "      <td>0</td>\n",
              "      <td>0</td>\n",
              "      <td>0</td>\n",
              "      <td>0</td>\n",
              "      <td>0</td>\n",
              "      <td>0</td>\n",
              "      <td>0</td>\n",
              "      <td>0</td>\n",
              "      <td>0</td>\n",
              "      <td>0</td>\n",
              "      <td>0</td>\n",
              "      <td>0</td>\n",
              "      <td>0</td>\n",
              "      <td>0</td>\n",
              "      <td>0</td>\n",
              "      <td>0</td>\n",
              "      <td>0</td>\n",
              "      <td>0</td>\n",
              "      <td>0</td>\n",
              "      <td>1</td>\n",
              "      <td>0</td>\n",
              "      <td>0</td>\n",
              "      <td>0</td>\n",
              "      <td>0</td>\n",
              "      <td>0</td>\n",
              "      <td>0</td>\n",
              "    </tr>\n",
              "    <tr>\n",
              "      <th>1</th>\n",
              "      <td>2500</td>\n",
              "      <td>0</td>\n",
              "      <td>0.0</td>\n",
              "      <td>1</td>\n",
              "      <td>55</td>\n",
              "      <td>3</td>\n",
              "      <td>26.0</td>\n",
              "      <td>1</td>\n",
              "      <td>556</td>\n",
              "      <td>33080.0</td>\n",
              "      <td>770.0</td>\n",
              "      <td>655.0</td>\n",
              "      <td>660.0</td>\n",
              "      <td>660.0</td>\n",
              "      <td>605.0</td>\n",
              "      <td>2940.0</td>\n",
              "      <td>444.435727</td>\n",
              "      <td>380.0</td>\n",
              "      <td>655.0</td>\n",
              "      <td>22136.0</td>\n",
              "      <td>10944.0</td>\n",
              "      <td>579</td>\n",
              "      <td>737.866667</td>\n",
              "      <td>2018</td>\n",
              "      <td>2</td>\n",
              "      <td>4</td>\n",
              "      <td>16</td>\n",
              "      <td>2019</td>\n",
              "      <td>4</td>\n",
              "      <td>10</td>\n",
              "      <td>43</td>\n",
              "      <td>2021</td>\n",
              "      <td>2</td>\n",
              "      <td>5</td>\n",
              "      <td>21</td>\n",
              "      <td>1</td>\n",
              "      <td>0</td>\n",
              "      <td>0</td>\n",
              "      <td>1</td>\n",
              "      <td>0</td>\n",
              "      <td>...</td>\n",
              "      <td>0</td>\n",
              "      <td>0</td>\n",
              "      <td>0</td>\n",
              "      <td>0</td>\n",
              "      <td>0</td>\n",
              "      <td>0</td>\n",
              "      <td>0</td>\n",
              "      <td>0</td>\n",
              "      <td>0</td>\n",
              "      <td>0</td>\n",
              "      <td>0</td>\n",
              "      <td>0</td>\n",
              "      <td>0</td>\n",
              "      <td>0</td>\n",
              "      <td>0</td>\n",
              "      <td>0</td>\n",
              "      <td>0</td>\n",
              "      <td>0</td>\n",
              "      <td>0</td>\n",
              "      <td>0</td>\n",
              "      <td>0</td>\n",
              "      <td>0</td>\n",
              "      <td>0</td>\n",
              "      <td>0</td>\n",
              "      <td>0</td>\n",
              "      <td>0</td>\n",
              "      <td>0</td>\n",
              "      <td>0</td>\n",
              "      <td>0</td>\n",
              "      <td>0</td>\n",
              "      <td>0</td>\n",
              "      <td>0</td>\n",
              "      <td>0</td>\n",
              "      <td>0</td>\n",
              "      <td>1</td>\n",
              "      <td>0</td>\n",
              "      <td>0</td>\n",
              "      <td>0</td>\n",
              "      <td>0</td>\n",
              "      <td>0</td>\n",
              "    </tr>\n",
              "    <tr>\n",
              "      <th>2</th>\n",
              "      <td>2400</td>\n",
              "      <td>0</td>\n",
              "      <td>0.0</td>\n",
              "      <td>1</td>\n",
              "      <td>50</td>\n",
              "      <td>3</td>\n",
              "      <td>21.0</td>\n",
              "      <td>1</td>\n",
              "      <td>240</td>\n",
              "      <td>14400.0</td>\n",
              "      <td>250.0</td>\n",
              "      <td>200.0</td>\n",
              "      <td>610.0</td>\n",
              "      <td>1350.0</td>\n",
              "      <td>1500.0</td>\n",
              "      <td>2850.0</td>\n",
              "      <td>917.726660</td>\n",
              "      <td>200.0</td>\n",
              "      <td>980.0</td>\n",
              "      <td>6760.0</td>\n",
              "      <td>7640.0</td>\n",
              "      <td>102</td>\n",
              "      <td>1126.666667</td>\n",
              "      <td>2020</td>\n",
              "      <td>1</td>\n",
              "      <td>2</td>\n",
              "      <td>8</td>\n",
              "      <td>2020</td>\n",
              "      <td>4</td>\n",
              "      <td>10</td>\n",
              "      <td>42</td>\n",
              "      <td>2021</td>\n",
              "      <td>1</td>\n",
              "      <td>1</td>\n",
              "      <td>4</td>\n",
              "      <td>1</td>\n",
              "      <td>0</td>\n",
              "      <td>0</td>\n",
              "      <td>1</td>\n",
              "      <td>0</td>\n",
              "      <td>...</td>\n",
              "      <td>0</td>\n",
              "      <td>0</td>\n",
              "      <td>0</td>\n",
              "      <td>0</td>\n",
              "      <td>0</td>\n",
              "      <td>0</td>\n",
              "      <td>0</td>\n",
              "      <td>0</td>\n",
              "      <td>0</td>\n",
              "      <td>0</td>\n",
              "      <td>0</td>\n",
              "      <td>0</td>\n",
              "      <td>0</td>\n",
              "      <td>0</td>\n",
              "      <td>0</td>\n",
              "      <td>0</td>\n",
              "      <td>0</td>\n",
              "      <td>0</td>\n",
              "      <td>0</td>\n",
              "      <td>0</td>\n",
              "      <td>0</td>\n",
              "      <td>0</td>\n",
              "      <td>0</td>\n",
              "      <td>0</td>\n",
              "      <td>0</td>\n",
              "      <td>0</td>\n",
              "      <td>0</td>\n",
              "      <td>0</td>\n",
              "      <td>0</td>\n",
              "      <td>0</td>\n",
              "      <td>0</td>\n",
              "      <td>0</td>\n",
              "      <td>0</td>\n",
              "      <td>0</td>\n",
              "      <td>0</td>\n",
              "      <td>1</td>\n",
              "      <td>0</td>\n",
              "      <td>0</td>\n",
              "      <td>0</td>\n",
              "      <td>0</td>\n",
              "    </tr>\n",
              "    <tr>\n",
              "      <th>3</th>\n",
              "      <td>2000</td>\n",
              "      <td>0</td>\n",
              "      <td>0.0</td>\n",
              "      <td>1</td>\n",
              "      <td>40</td>\n",
              "      <td>7</td>\n",
              "      <td>26.0</td>\n",
              "      <td>1</td>\n",
              "      <td>364</td>\n",
              "      <td>16560.0</td>\n",
              "      <td>380.0</td>\n",
              "      <td>600.0</td>\n",
              "      <td>1100.0</td>\n",
              "      <td>1300.0</td>\n",
              "      <td>780.0</td>\n",
              "      <td>2200.0</td>\n",
              "      <td>485.060821</td>\n",
              "      <td>380.0</td>\n",
              "      <td>1140.0</td>\n",
              "      <td>11260.0</td>\n",
              "      <td>5300.0</td>\n",
              "      <td>98</td>\n",
              "      <td>1126.000000</td>\n",
              "      <td>2017</td>\n",
              "      <td>3</td>\n",
              "      <td>9</td>\n",
              "      <td>37</td>\n",
              "      <td>2018</td>\n",
              "      <td>3</td>\n",
              "      <td>9</td>\n",
              "      <td>37</td>\n",
              "      <td>2018</td>\n",
              "      <td>4</td>\n",
              "      <td>12</td>\n",
              "      <td>51</td>\n",
              "      <td>1</td>\n",
              "      <td>0</td>\n",
              "      <td>0</td>\n",
              "      <td>0</td>\n",
              "      <td>1</td>\n",
              "      <td>...</td>\n",
              "      <td>0</td>\n",
              "      <td>0</td>\n",
              "      <td>0</td>\n",
              "      <td>0</td>\n",
              "      <td>0</td>\n",
              "      <td>0</td>\n",
              "      <td>0</td>\n",
              "      <td>0</td>\n",
              "      <td>0</td>\n",
              "      <td>0</td>\n",
              "      <td>0</td>\n",
              "      <td>0</td>\n",
              "      <td>0</td>\n",
              "      <td>0</td>\n",
              "      <td>0</td>\n",
              "      <td>0</td>\n",
              "      <td>0</td>\n",
              "      <td>0</td>\n",
              "      <td>0</td>\n",
              "      <td>0</td>\n",
              "      <td>0</td>\n",
              "      <td>0</td>\n",
              "      <td>0</td>\n",
              "      <td>0</td>\n",
              "      <td>0</td>\n",
              "      <td>0</td>\n",
              "      <td>0</td>\n",
              "      <td>0</td>\n",
              "      <td>0</td>\n",
              "      <td>0</td>\n",
              "      <td>0</td>\n",
              "      <td>0</td>\n",
              "      <td>0</td>\n",
              "      <td>0</td>\n",
              "      <td>1</td>\n",
              "      <td>0</td>\n",
              "      <td>0</td>\n",
              "      <td>0</td>\n",
              "      <td>0</td>\n",
              "      <td>0</td>\n",
              "    </tr>\n",
              "    <tr>\n",
              "      <th>4</th>\n",
              "      <td>2000</td>\n",
              "      <td>0</td>\n",
              "      <td>0.0</td>\n",
              "      <td>1</td>\n",
              "      <td>40</td>\n",
              "      <td>7</td>\n",
              "      <td>27.0</td>\n",
              "      <td>1</td>\n",
              "      <td>364</td>\n",
              "      <td>16560.0</td>\n",
              "      <td>520.0</td>\n",
              "      <td>80.0</td>\n",
              "      <td>40.0</td>\n",
              "      <td>40.0</td>\n",
              "      <td>80.0</td>\n",
              "      <td>2640.0</td>\n",
              "      <td>546.378046</td>\n",
              "      <td>40.0</td>\n",
              "      <td>190.0</td>\n",
              "      <td>7779.0</td>\n",
              "      <td>8781.0</td>\n",
              "      <td>980</td>\n",
              "      <td>353.590909</td>\n",
              "      <td>2017</td>\n",
              "      <td>3</td>\n",
              "      <td>9</td>\n",
              "      <td>36</td>\n",
              "      <td>2018</td>\n",
              "      <td>3</td>\n",
              "      <td>9</td>\n",
              "      <td>36</td>\n",
              "      <td>2021</td>\n",
              "      <td>2</td>\n",
              "      <td>5</td>\n",
              "      <td>19</td>\n",
              "      <td>1</td>\n",
              "      <td>0</td>\n",
              "      <td>0</td>\n",
              "      <td>1</td>\n",
              "      <td>0</td>\n",
              "      <td>...</td>\n",
              "      <td>0</td>\n",
              "      <td>0</td>\n",
              "      <td>0</td>\n",
              "      <td>0</td>\n",
              "      <td>0</td>\n",
              "      <td>0</td>\n",
              "      <td>0</td>\n",
              "      <td>0</td>\n",
              "      <td>0</td>\n",
              "      <td>0</td>\n",
              "      <td>0</td>\n",
              "      <td>0</td>\n",
              "      <td>0</td>\n",
              "      <td>0</td>\n",
              "      <td>0</td>\n",
              "      <td>0</td>\n",
              "      <td>0</td>\n",
              "      <td>0</td>\n",
              "      <td>0</td>\n",
              "      <td>0</td>\n",
              "      <td>0</td>\n",
              "      <td>0</td>\n",
              "      <td>0</td>\n",
              "      <td>0</td>\n",
              "      <td>0</td>\n",
              "      <td>0</td>\n",
              "      <td>0</td>\n",
              "      <td>0</td>\n",
              "      <td>0</td>\n",
              "      <td>0</td>\n",
              "      <td>0</td>\n",
              "      <td>0</td>\n",
              "      <td>0</td>\n",
              "      <td>0</td>\n",
              "      <td>1</td>\n",
              "      <td>0</td>\n",
              "      <td>0</td>\n",
              "      <td>0</td>\n",
              "      <td>0</td>\n",
              "      <td>0</td>\n",
              "    </tr>\n",
              "  </tbody>\n",
              "</table>\n",
              "<p>5 rows × 102 columns</p>\n",
              "</div>"
            ],
            "text/plain": [
              "   Deposit  UpsellDate  ...  Occupation_Labourer  Occupation_Driver/Motorbike Rider\n",
              "0     2500           0  ...                    0                                  0\n",
              "1     2500           0  ...                    0                                  0\n",
              "2     2400           0  ...                    0                                  0\n",
              "3     2000           0  ...                    0                                  0\n",
              "4     2000           0  ...                    0                                  0\n",
              "\n",
              "[5 rows x 102 columns]"
            ]
          },
          "metadata": {
            "tags": []
          },
          "execution_count": 137
        }
      ]
    },
    {
      "cell_type": "code",
      "metadata": {
        "id": "qemN8pOSWCSF"
      },
      "source": [
        "y=hm[['m1','m2','m3','m4','m5','m6']]\n",
        "less=less[['Deposit', 'RatePerUnit', 'DaysOnDeposit', 'Term', 'TotalContractValue',\n",
        "        'l1', 'l2', 'l3', 'l4', 'l5', 'Max_Payment_hist',\n",
        "       'Min_Payment_hist', 'Median_Payment_hist', 'Sum_of_Payment_hist',\n",
        "       'Left_over_in_contract', 'Over_contr_dura', 'Mean_Payment_hist',\n",
        "       'Reg_date_year', 'Reg_date_quarter', 'Reg_date_year_month',\n",
        "       'Reg_date_week', 'Expe_term_year', 'last_pay_year',\n",
        "       'rateTypeEntity_DAILY','last_pay_week', 'MainApplicantGender_Male','PaymentMethod','SupplierName']]"
      ],
      "execution_count": null,
      "outputs": []
    },
    {
      "cell_type": "code",
      "metadata": {
        "id": "Uip5DzqDUkR5"
      },
      "source": [
        "from sklearn.model_selection import StratifiedKFold\n",
        "from sklearn.model_selection import cross_val_score\n",
        "from sklearn.model_selection import train_test_split\n",
        "from sklearn.kernel_ridge import KernelRidge\n",
        "from sklearn.tree import DecisionTreeRegressor\n",
        "from sklearn.linear_model import LinearRegression\n",
        "from sklearn.tree import DecisionTreeRegressor\n",
        "from sklearn.linear_model import LinearRegression,Ridge,Lasso\n",
        "from sklearn.metrics import mean_squared_error\n",
        "from sklearn.neighbors import KNeighborsRegressor\n",
        "from sklearn.model_selection import RepeatedKFold\n",
        "from sklearn.ensemble import RandomForestRegressor,ExtraTreesRegressor\n",
        "from sklearn.svm import SVR\n",
        "from sklearn.neural_network import MLPRegressor"
      ],
      "execution_count": null,
      "outputs": []
    },
    {
      "cell_type": "markdown",
      "metadata": {
        "id": "JEYH46euHCGG"
      },
      "source": [
        "**RANDOM FOREST"
      ]
    },
    {
      "cell_type": "code",
      "metadata": {
        "colab": {
          "base_uri": "https://localhost:8080/"
        },
        "id": "PQ0k2Tv2cUsN",
        "outputId": "6cd27d0f-bfc2-4d76-b7ff-6035722c4925"
      },
      "source": [
        "pip install mlxtend"
      ],
      "execution_count": null,
      "outputs": [
        {
          "output_type": "stream",
          "text": [
            "Requirement already satisfied: mlxtend in /usr/local/lib/python3.7/dist-packages (0.14.0)\n",
            "Requirement already satisfied: numpy>=1.10.4 in /usr/local/lib/python3.7/dist-packages (from mlxtend) (1.19.5)\n",
            "Requirement already satisfied: pandas>=0.17.1 in /usr/local/lib/python3.7/dist-packages (from mlxtend) (1.1.5)\n",
            "Requirement already satisfied: scikit-learn>=0.18 in /usr/local/lib/python3.7/dist-packages (from mlxtend) (0.22.2.post1)\n",
            "Requirement already satisfied: setuptools in /usr/local/lib/python3.7/dist-packages (from mlxtend) (57.2.0)\n",
            "Requirement already satisfied: scipy>=0.17 in /usr/local/lib/python3.7/dist-packages (from mlxtend) (1.4.1)\n",
            "Requirement already satisfied: matplotlib>=1.5.1 in /usr/local/lib/python3.7/dist-packages (from mlxtend) (3.2.2)\n",
            "Requirement already satisfied: cycler>=0.10 in /usr/local/lib/python3.7/dist-packages (from matplotlib>=1.5.1->mlxtend) (0.10.0)\n",
            "Requirement already satisfied: kiwisolver>=1.0.1 in /usr/local/lib/python3.7/dist-packages (from matplotlib>=1.5.1->mlxtend) (1.3.1)\n",
            "Requirement already satisfied: python-dateutil>=2.1 in /usr/local/lib/python3.7/dist-packages (from matplotlib>=1.5.1->mlxtend) (2.8.1)\n",
            "Requirement already satisfied: pyparsing!=2.0.4,!=2.1.2,!=2.1.6,>=2.0.1 in /usr/local/lib/python3.7/dist-packages (from matplotlib>=1.5.1->mlxtend) (2.4.7)\n",
            "Requirement already satisfied: six in /usr/local/lib/python3.7/dist-packages (from cycler>=0.10->matplotlib>=1.5.1->mlxtend) (1.15.0)\n",
            "Requirement already satisfied: pytz>=2017.2 in /usr/local/lib/python3.7/dist-packages (from pandas>=0.17.1->mlxtend) (2018.9)\n",
            "Requirement already satisfied: joblib>=0.11 in /usr/local/lib/python3.7/dist-packages (from scikit-learn>=0.18->mlxtend) (1.0.1)\n"
          ],
          "name": "stdout"
        }
      ]
    },
    {
      "cell_type": "code",
      "metadata": {
        "colab": {
          "base_uri": "https://localhost:8080/"
        },
        "id": "UoZ9ddRQMuSv",
        "outputId": "30902e18-903b-440e-be91-ab1a378822a3"
      },
      "source": [
        "!pip install catboost"
      ],
      "execution_count": null,
      "outputs": [
        {
          "output_type": "stream",
          "text": [
            "Requirement already satisfied: catboost in /usr/local/lib/python3.7/dist-packages (0.26.1)\n",
            "Requirement already satisfied: scipy in /usr/local/lib/python3.7/dist-packages (from catboost) (1.4.1)\n",
            "Requirement already satisfied: graphviz in /usr/local/lib/python3.7/dist-packages (from catboost) (0.10.1)\n",
            "Requirement already satisfied: pandas>=0.24.0 in /usr/local/lib/python3.7/dist-packages (from catboost) (1.1.5)\n",
            "Requirement already satisfied: matplotlib in /usr/local/lib/python3.7/dist-packages (from catboost) (3.2.2)\n",
            "Requirement already satisfied: numpy>=1.16.0 in /usr/local/lib/python3.7/dist-packages (from catboost) (1.19.5)\n",
            "Requirement already satisfied: six in /usr/local/lib/python3.7/dist-packages (from catboost) (1.15.0)\n",
            "Requirement already satisfied: plotly in /usr/local/lib/python3.7/dist-packages (from catboost) (4.4.1)\n",
            "Requirement already satisfied: pytz>=2017.2 in /usr/local/lib/python3.7/dist-packages (from pandas>=0.24.0->catboost) (2018.9)\n",
            "Requirement already satisfied: python-dateutil>=2.7.3 in /usr/local/lib/python3.7/dist-packages (from pandas>=0.24.0->catboost) (2.8.1)\n",
            "Requirement already satisfied: cycler>=0.10 in /usr/local/lib/python3.7/dist-packages (from matplotlib->catboost) (0.10.0)\n",
            "Requirement already satisfied: pyparsing!=2.0.4,!=2.1.2,!=2.1.6,>=2.0.1 in /usr/local/lib/python3.7/dist-packages (from matplotlib->catboost) (2.4.7)\n",
            "Requirement already satisfied: kiwisolver>=1.0.1 in /usr/local/lib/python3.7/dist-packages (from matplotlib->catboost) (1.3.1)\n",
            "Requirement already satisfied: retrying>=1.3.3 in /usr/local/lib/python3.7/dist-packages (from plotly->catboost) (1.3.3)\n"
          ],
          "name": "stdout"
        }
      ]
    },
    {
      "cell_type": "code",
      "metadata": {
        "id": "DHeRCkqGI64O"
      },
      "source": [
        "from sklearn.metrics import mean_squared_error,mean_absolute_error"
      ],
      "execution_count": null,
      "outputs": []
    },
    {
      "cell_type": "code",
      "metadata": {
        "id": "faijsV34geOe"
      },
      "source": [
        "from mlxtend.regressor import StackingRegressor\n",
        "from catboost import CatBoostRegressor"
      ],
      "execution_count": null,
      "outputs": []
    },
    {
      "cell_type": "markdown",
      "metadata": {
        "id": "SSQcEkdJSRNa"
      },
      "source": [
        "PRE1"
      ]
    },
    {
      "cell_type": "code",
      "metadata": {
        "id": "y1vZtpX3dhwV"
      },
      "source": [
        "ex1=ExtraTreesRegressor()\n",
        "rf1=RandomForestRegressor()\n",
        "reg_stack = StackingRegressor(regressors=[lg1,ml1,his1,ex1,rf1], meta_regressor =rf1,use_features_in_secondary = True)"
      ],
      "execution_count": null,
      "outputs": []
    },
    {
      "cell_type": "code",
      "metadata": {
        "id": "53ZyKzPIe8xr"
      },
      "source": [
        "model_stack = reg_stack.fit(X_train, y_train)\n",
        "pred_stack = model_stack.predict(X_test)"
      ],
      "execution_count": null,
      "outputs": []
    },
    {
      "cell_type": "code",
      "metadata": {
        "id": "T9t7XvCaGQy3"
      },
      "source": [
        "X_train, X_test, y_train, y_test = train_test_split(less, y['m1'], test_size=0.40, random_state=42)"
      ],
      "execution_count": null,
      "outputs": []
    },
    {
      "cell_type": "code",
      "metadata": {
        "id": "enGovg9SUic6"
      },
      "source": [
        "ml1=MLPRegressor()\n",
        "lg1=LGBMRegressor()\n",
        "his1=HistGradientBoostingRegressor(l2_regularization=0.6, learning_rate=0.05,\n",
        "                              loss='least_squares', max_bins=255,\n",
        "                              max_depth=None, max_iter=100, max_leaf_nodes=31,\n",
        "                              min_samples_leaf=20, n_iter_no_change=None,\n",
        "                              random_state=None, scoring=None, tol=1e-07,\n",
        "                              validation_fraction=0.1, verbose=0,\n",
        "                              warm_start=False)"
      ],
      "execution_count": null,
      "outputs": []
    },
    {
      "cell_type": "code",
      "metadata": {
        "colab": {
          "base_uri": "https://localhost:8080/"
        },
        "id": "ECQY8wjGL9MO",
        "outputId": "9ba3094f-2bda-4cba-d3e4-cc26fe1c8612"
      },
      "source": [
        "np.sqrt(mean_squared_error(pred_stack,y_test))"
      ],
      "execution_count": null,
      "outputs": [
        {
          "output_type": "execute_result",
          "data": {
            "text/plain": [
              "462.60145772607257"
            ]
          },
          "metadata": {
            "tags": []
          },
          "execution_count": 148
        }
      ]
    },
    {
      "cell_type": "code",
      "metadata": {
        "id": "XWxEkIWIZO6u"
      },
      "source": [
        "less['f1']=y['m1']"
      ],
      "execution_count": null,
      "outputs": []
    },
    {
      "cell_type": "markdown",
      "metadata": {
        "id": "7knJ5JDOd2As"
      },
      "source": [
        "PRE2"
      ]
    },
    {
      "cell_type": "code",
      "metadata": {
        "id": "-GtdRB6Rq7Hi",
        "colab": {
          "base_uri": "https://localhost:8080/"
        },
        "outputId": "2edcaa34-7ed6-4673-ff17-493d3dfdbcc1"
      },
      "source": [
        "!pip install lightgbm"
      ],
      "execution_count": null,
      "outputs": [
        {
          "output_type": "stream",
          "text": [
            "Requirement already satisfied: lightgbm in /usr/local/lib/python3.7/dist-packages (2.2.3)\n",
            "Requirement already satisfied: scikit-learn in /usr/local/lib/python3.7/dist-packages (from lightgbm) (0.22.2.post1)\n",
            "Requirement already satisfied: scipy in /usr/local/lib/python3.7/dist-packages (from lightgbm) (1.4.1)\n",
            "Requirement already satisfied: numpy in /usr/local/lib/python3.7/dist-packages (from lightgbm) (1.19.5)\n",
            "Requirement already satisfied: joblib>=0.11 in /usr/local/lib/python3.7/dist-packages (from scikit-learn->lightgbm) (1.0.1)\n"
          ],
          "name": "stdout"
        }
      ]
    },
    {
      "cell_type": "code",
      "metadata": {
        "id": "9tJTLjfKfYqA"
      },
      "source": [
        "from lightgbm import LGBMRegressor"
      ],
      "execution_count": null,
      "outputs": []
    },
    {
      "cell_type": "code",
      "metadata": {
        "id": "auF4oohlfgw6"
      },
      "source": [
        "ca=CatBoostRegressor(loss_function='RMSE', verbose=0)\n",
        "rf2=RandomForestRegressor()\n",
        "li1=Lasso()\n",
        "ex2=ExtraTreesRegressor()\n",
        "reg_stack1 = StackingRegressor(regressors=[ex2,rf2,ca], meta_regressor =lg2,use_features_in_secondary = True)"
      ],
      "execution_count": null,
      "outputs": []
    },
    {
      "cell_type": "code",
      "metadata": {
        "id": "hqXsMzoijiGU"
      },
      "source": [
        "ml2=MLPRegressor()\n",
        "lg2=LGBMRegressor()\n",
        "his2=HistGradientBoostingRegressor()"
      ],
      "execution_count": null,
      "outputs": []
    },
    {
      "cell_type": "code",
      "metadata": {
        "id": "OHjEnbfFjp8K"
      },
      "source": [
        "model_stack1= reg_stack1.fit(X_train, y_train)\n",
        "pred_stack1= model_stack1.predict(X_test)"
      ],
      "execution_count": null,
      "outputs": []
    },
    {
      "cell_type": "code",
      "metadata": {
        "id": "xIQF1W6Vfj8w"
      },
      "source": [
        "X_train, X_test, y_train, y_test = train_test_split(less, y['m2'], test_size=0.40, random_state=42)"
      ],
      "execution_count": null,
      "outputs": []
    },
    {
      "cell_type": "code",
      "metadata": {
        "colab": {
          "base_uri": "https://localhost:8080/"
        },
        "id": "4aTLCtXOj3v_",
        "outputId": "86c4b22e-f350-48e9-bc5f-7e5ee0ae939f"
      },
      "source": [
        "np.sqrt(mean_squared_error(pred_stack1,y_test))"
      ],
      "execution_count": null,
      "outputs": [
        {
          "output_type": "execute_result",
          "data": {
            "text/plain": [
              "966.046741597674"
            ]
          },
          "metadata": {
            "tags": []
          },
          "execution_count": 156
        }
      ]
    },
    {
      "cell_type": "code",
      "metadata": {
        "colab": {
          "base_uri": "https://localhost:8080/"
        },
        "id": "ikisfW-en4kV",
        "outputId": "2fa2b44a-866d-4e8c-c9f3-a0c83acc00ae"
      },
      "source": [
        "np.sqrt(mean_squared_error(o,y_test))"
      ],
      "execution_count": null,
      "outputs": [
        {
          "output_type": "execute_result",
          "data": {
            "text/plain": [
              "967.3800498566997"
            ]
          },
          "metadata": {
            "tags": []
          },
          "execution_count": 57
        }
      ]
    },
    {
      "cell_type": "code",
      "metadata": {
        "id": "vYGStCYX9a_3"
      },
      "source": [
        "less['f2']=y['m2']"
      ],
      "execution_count": null,
      "outputs": []
    },
    {
      "cell_type": "markdown",
      "metadata": {
        "id": "vUSGUS60GXgu"
      },
      "source": [
        "PRE3"
      ]
    },
    {
      "cell_type": "code",
      "metadata": {
        "id": "4rVqlTXkFcSe"
      },
      "source": [
        "from sklearn.experimental import enable_hist_gradient_boosting\n",
        "from sklearn.ensemble import HistGradientBoostingRegressor"
      ],
      "execution_count": null,
      "outputs": []
    },
    {
      "cell_type": "code",
      "metadata": {
        "id": "T1w_5B7YGev5"
      },
      "source": [
        "ml3=MLPRegressor()\n",
        "lg3=LGBMRegressor()\n",
        "his3=HistGradientBoostingRegressor(l2_regularization=0.6, learning_rate=0.1,\n",
        "                              loss='least_squares', max_bins=255,\n",
        "                              max_depth=None, max_iter=100, max_leaf_nodes=31,\n",
        "                              min_samples_leaf=20, n_iter_no_change=None,\n",
        "                              random_state=None, scoring=None, tol=1e-07,\n",
        "                              validation_fraction=0.1, verbose=0,\n",
        "                              warm_start=False)"
      ],
      "execution_count": null,
      "outputs": []
    },
    {
      "cell_type": "code",
      "metadata": {
        "id": "kqYl5f78xCLk"
      },
      "source": [
        "rf3=RandomForestRegressor()\n",
        "li2=Lasso()\n",
        "ex3=ExtraTreesRegressor()\n",
        "reg_stack2 = StackingRegressor(regressors=[rf3,ex3,his3,li2], meta_regressor=ex3,use_features_in_secondary = True)"
      ],
      "execution_count": null,
      "outputs": []
    },
    {
      "cell_type": "code",
      "metadata": {
        "colab": {
          "base_uri": "https://localhost:8080/"
        },
        "id": "GIWM0Ck1xVfu",
        "outputId": "b016fb4d-f6ec-43a3-ae01-491ccf749d87"
      },
      "source": [
        "model_stack2= reg_stack2.fit(X_train, y_train)\n",
        "pred_stack2= model_stack2.predict(X_test)"
      ],
      "execution_count": null,
      "outputs": [
        {
          "output_type": "stream",
          "text": [
            "/usr/local/lib/python3.7/dist-packages/sklearn/linear_model/_coordinate_descent.py:476: ConvergenceWarning: Objective did not converge. You might want to increase the number of iterations. Duality gap: 1029927716.9215362, tolerance: 667652.8914083487\n",
            "  positive)\n"
          ],
          "name": "stderr"
        }
      ]
    },
    {
      "cell_type": "code",
      "metadata": {
        "id": "uhleqDuJGn4M"
      },
      "source": [
        "X_train, X_test, y_train, y_test = train_test_split(less, y['m3'], test_size=0.40, random_state=42)"
      ],
      "execution_count": null,
      "outputs": []
    },
    {
      "cell_type": "code",
      "metadata": {
        "colab": {
          "base_uri": "https://localhost:8080/"
        },
        "id": "_MJu8Safx5BJ",
        "outputId": "a160f705-0b9a-44a0-d790-fd0738579b03"
      },
      "source": [
        "np.sqrt(mean_squared_error(pred_stack2,y_test))"
      ],
      "execution_count": null,
      "outputs": [
        {
          "output_type": "execute_result",
          "data": {
            "text/plain": [
              "596.2417855919815"
            ]
          },
          "metadata": {
            "tags": []
          },
          "execution_count": 163
        }
      ]
    },
    {
      "cell_type": "code",
      "metadata": {
        "id": "UfLJKYMrHkrM"
      },
      "source": [
        "lr=LinearRegression()"
      ],
      "execution_count": null,
      "outputs": []
    },
    {
      "cell_type": "code",
      "metadata": {
        "id": "cNWmo27AN4Pe"
      },
      "source": [
        "less['f3']=y['m3']"
      ],
      "execution_count": null,
      "outputs": []
    },
    {
      "cell_type": "markdown",
      "metadata": {
        "id": "sZlDe1liOjqv"
      },
      "source": [
        "PRE4"
      ]
    },
    {
      "cell_type": "code",
      "metadata": {
        "id": "w2M6MvonOlCu"
      },
      "source": [
        "ml4=MLPRegressor()\n",
        "lg4=LGBMRegressor()\n",
        "his4=HistGradientBoostingRegressor(l2_regularization=0.0, learning_rate=0.1,\n",
        "                              loss='least_absolute_deviation', max_bins=255,\n",
        "                              max_depth=None, max_iter=100, max_leaf_nodes=31,\n",
        "                              min_samples_leaf=20, n_iter_no_change=None,\n",
        "                              random_state=None, scoring=None, tol=1e-07,\n",
        "                              validation_fraction=0.1, verbose=0,\n",
        "                              warm_start=False)"
      ],
      "execution_count": null,
      "outputs": []
    },
    {
      "cell_type": "code",
      "metadata": {
        "id": "gxEGGMj-5yMJ"
      },
      "source": [
        "rf4=RandomForestRegressor()\n",
        "li3=Lasso()\n",
        "ex4=ExtraTreesRegressor()\n",
        "reg_stack3 = StackingRegressor(regressors=[rf4,ex4,li3], meta_regressor=ex4,use_features_in_secondary = True)"
      ],
      "execution_count": null,
      "outputs": []
    },
    {
      "cell_type": "code",
      "metadata": {
        "colab": {
          "base_uri": "https://localhost:8080/"
        },
        "id": "eh-JJbos5-D1",
        "outputId": "c8f96251-bb41-44ce-e0a0-90377e5fadfc"
      },
      "source": [
        "model_stack3= reg_stack3.fit(X_train, y_train)\n",
        "pred_stack3= model_stack3.predict(X_test)"
      ],
      "execution_count": null,
      "outputs": [
        {
          "output_type": "stream",
          "text": [
            "/usr/local/lib/python3.7/dist-packages/sklearn/linear_model/_coordinate_descent.py:476: ConvergenceWarning: Objective did not converge. You might want to increase the number of iterations. Duality gap: 19289136.79259014, tolerance: 944384.0598425377\n",
            "  positive)\n"
          ],
          "name": "stderr"
        }
      ]
    },
    {
      "cell_type": "code",
      "metadata": {
        "colab": {
          "base_uri": "https://localhost:8080/"
        },
        "id": "h-9b3VjS6LeA",
        "outputId": "77aa90f2-c582-422f-ea34-d9b98fb6b990"
      },
      "source": [
        "np.sqrt(mean_squared_error(pred_stack3,y_test))"
      ],
      "execution_count": null,
      "outputs": [
        {
          "output_type": "execute_result",
          "data": {
            "text/plain": [
              "429.92756421818115"
            ]
          },
          "metadata": {
            "tags": []
          },
          "execution_count": 170
        }
      ]
    },
    {
      "cell_type": "code",
      "metadata": {
        "id": "BepYsqTlOujM"
      },
      "source": [
        "X_train, X_test, y_train, y_test = train_test_split(less, y['m4'], test_size=0.40, random_state=42)"
      ],
      "execution_count": null,
      "outputs": []
    },
    {
      "cell_type": "code",
      "metadata": {
        "colab": {
          "base_uri": "https://localhost:8080/"
        },
        "id": "PACLZ0tZPLDF",
        "outputId": "716bfa1a-6a9b-403a-dad7-62c2f2ea5dca"
      },
      "source": [
        "np.sqrt(mean_squared_error(o,y_test))"
      ],
      "execution_count": null,
      "outputs": [
        {
          "output_type": "execute_result",
          "data": {
            "text/plain": [
              "430.75405035330715"
            ]
          },
          "metadata": {
            "tags": []
          },
          "execution_count": 88
        }
      ]
    },
    {
      "cell_type": "code",
      "metadata": {
        "id": "hdP0TpcUTzce"
      },
      "source": [
        "less['f4']=y['m4']"
      ],
      "execution_count": null,
      "outputs": []
    },
    {
      "cell_type": "markdown",
      "metadata": {
        "id": "7hso-WhMavkd"
      },
      "source": [
        "PRE5"
      ]
    },
    {
      "cell_type": "code",
      "metadata": {
        "id": "h4TwhKkrax77"
      },
      "source": [
        "lg5=LGBMRegressor()\n",
        "his5=HistGradientBoostingRegressor()\n",
        "ml5=MLPRegressor()"
      ],
      "execution_count": null,
      "outputs": []
    },
    {
      "cell_type": "code",
      "metadata": {
        "id": "AR2W3e0z9zAJ"
      },
      "source": [
        "rf5=RandomForestRegressor()\n",
        "li4=Lasso()\n",
        "ex5=ExtraTreesRegressor()\n",
        "reg_stack4= StackingRegressor(regressors=[rf5,ex5,his5], meta_regressor=lr,use_features_in_secondary = True)"
      ],
      "execution_count": null,
      "outputs": []
    },
    {
      "cell_type": "code",
      "metadata": {
        "id": "DSbeQ8QR-MTR"
      },
      "source": [
        "model_stack4= reg_stack4.fit(X_train, y_train)\n",
        "pred_stack4= model_stack4.predict(X_test)"
      ],
      "execution_count": null,
      "outputs": []
    },
    {
      "cell_type": "code",
      "metadata": {
        "colab": {
          "base_uri": "https://localhost:8080/"
        },
        "id": "mbGQh5Ax-Nbj",
        "outputId": "da61b0a8-11af-4880-98f8-655dfdbb22b5"
      },
      "source": [
        "np.sqrt(mean_squared_error(pred_stack4,y_test))"
      ],
      "execution_count": null,
      "outputs": [
        {
          "output_type": "execute_result",
          "data": {
            "text/plain": [
              "440.8317054419577"
            ]
          },
          "metadata": {
            "tags": []
          },
          "execution_count": 186
        }
      ]
    },
    {
      "cell_type": "code",
      "metadata": {
        "id": "rKlswMIibhXZ"
      },
      "source": [
        "X_train, X_test, y_train, y_test = train_test_split(less, y['m5'], test_size=0.40, random_state=42)"
      ],
      "execution_count": null,
      "outputs": []
    },
    {
      "cell_type": "code",
      "metadata": {
        "colab": {
          "base_uri": "https://localhost:8080/"
        },
        "id": "xfLVmlQYcQjk",
        "outputId": "85af1c5b-1196-48bd-b811-d377d47a0dad"
      },
      "source": [
        "np.sqrt(mean_squared_error(o,y_test))"
      ],
      "execution_count": null,
      "outputs": [
        {
          "output_type": "execute_result",
          "data": {
            "text/plain": [
              "447.7728195365274"
            ]
          },
          "metadata": {
            "tags": []
          },
          "execution_count": 103
        }
      ]
    },
    {
      "cell_type": "code",
      "metadata": {
        "id": "YEeGJUjjfYVT"
      },
      "source": [
        "less['f5']=y['m5']"
      ],
      "execution_count": null,
      "outputs": []
    },
    {
      "cell_type": "code",
      "metadata": {
        "colab": {
          "base_uri": "https://localhost:8080/",
          "height": 222
        },
        "id": "46d-2W3dhQZB",
        "outputId": "516cfb07-30b7-4303-dbcc-f93adef74394"
      },
      "source": [
        "less.head()"
      ],
      "execution_count": null,
      "outputs": [
        {
          "output_type": "execute_result",
          "data": {
            "text/html": [
              "<div>\n",
              "<style scoped>\n",
              "    .dataframe tbody tr th:only-of-type {\n",
              "        vertical-align: middle;\n",
              "    }\n",
              "\n",
              "    .dataframe tbody tr th {\n",
              "        vertical-align: top;\n",
              "    }\n",
              "\n",
              "    .dataframe thead th {\n",
              "        text-align: right;\n",
              "    }\n",
              "</style>\n",
              "<table border=\"1\" class=\"dataframe\">\n",
              "  <thead>\n",
              "    <tr style=\"text-align: right;\">\n",
              "      <th></th>\n",
              "      <th>Deposit</th>\n",
              "      <th>RatePerUnit</th>\n",
              "      <th>DaysOnDeposit</th>\n",
              "      <th>Term</th>\n",
              "      <th>TotalContractValue</th>\n",
              "      <th>l1</th>\n",
              "      <th>l2</th>\n",
              "      <th>l3</th>\n",
              "      <th>l4</th>\n",
              "      <th>l5</th>\n",
              "      <th>Max_Payment_hist</th>\n",
              "      <th>Min_Payment_hist</th>\n",
              "      <th>Median_Payment_hist</th>\n",
              "      <th>Sum_of_Payment_hist</th>\n",
              "      <th>Left_over_in_contract</th>\n",
              "      <th>Over_contr_dura</th>\n",
              "      <th>Mean_Payment_hist</th>\n",
              "      <th>Reg_date_year</th>\n",
              "      <th>Reg_date_quarter</th>\n",
              "      <th>Reg_date_year_month</th>\n",
              "      <th>Reg_date_week</th>\n",
              "      <th>Expe_term_year</th>\n",
              "      <th>last_pay_year</th>\n",
              "      <th>rateTypeEntity_DAILY</th>\n",
              "      <th>last_pay_week</th>\n",
              "      <th>MainApplicantGender_Male</th>\n",
              "      <th>PaymentMethod</th>\n",
              "      <th>SupplierName</th>\n",
              "      <th>f1</th>\n",
              "      <th>f2</th>\n",
              "      <th>f3</th>\n",
              "      <th>f4</th>\n",
              "      <th>f5</th>\n",
              "    </tr>\n",
              "  </thead>\n",
              "  <tbody>\n",
              "    <tr>\n",
              "      <th>0</th>\n",
              "      <td>2500</td>\n",
              "      <td>55</td>\n",
              "      <td>3</td>\n",
              "      <td>556</td>\n",
              "      <td>33080.0</td>\n",
              "      <td>770.0</td>\n",
              "      <td>280.0</td>\n",
              "      <td>1320.0</td>\n",
              "      <td>1200.0</td>\n",
              "      <td>660.0</td>\n",
              "      <td>3600.0</td>\n",
              "      <td>55.0</td>\n",
              "      <td>350.0</td>\n",
              "      <td>16035.0</td>\n",
              "      <td>17045.0</td>\n",
              "      <td>573</td>\n",
              "      <td>517.258065</td>\n",
              "      <td>2018</td>\n",
              "      <td>2</td>\n",
              "      <td>4</td>\n",
              "      <td>17</td>\n",
              "      <td>2019</td>\n",
              "      <td>2021</td>\n",
              "      <td>1</td>\n",
              "      <td>21</td>\n",
              "      <td>1</td>\n",
              "      <td>1</td>\n",
              "      <td>1</td>\n",
              "      <td>880.0</td>\n",
              "      <td>930.0</td>\n",
              "      <td>495.0</td>\n",
              "      <td>715.0</td>\n",
              "      <td>220.0</td>\n",
              "    </tr>\n",
              "    <tr>\n",
              "      <th>1</th>\n",
              "      <td>2500</td>\n",
              "      <td>55</td>\n",
              "      <td>3</td>\n",
              "      <td>556</td>\n",
              "      <td>33080.0</td>\n",
              "      <td>770.0</td>\n",
              "      <td>655.0</td>\n",
              "      <td>660.0</td>\n",
              "      <td>660.0</td>\n",
              "      <td>605.0</td>\n",
              "      <td>2940.0</td>\n",
              "      <td>380.0</td>\n",
              "      <td>655.0</td>\n",
              "      <td>22136.0</td>\n",
              "      <td>10944.0</td>\n",
              "      <td>579</td>\n",
              "      <td>737.866667</td>\n",
              "      <td>2018</td>\n",
              "      <td>2</td>\n",
              "      <td>4</td>\n",
              "      <td>16</td>\n",
              "      <td>2019</td>\n",
              "      <td>2021</td>\n",
              "      <td>1</td>\n",
              "      <td>21</td>\n",
              "      <td>1</td>\n",
              "      <td>1</td>\n",
              "      <td>1</td>\n",
              "      <td>660.0</td>\n",
              "      <td>935.0</td>\n",
              "      <td>935.0</td>\n",
              "      <td>825.0</td>\n",
              "      <td>770.0</td>\n",
              "    </tr>\n",
              "    <tr>\n",
              "      <th>2</th>\n",
              "      <td>2400</td>\n",
              "      <td>50</td>\n",
              "      <td>3</td>\n",
              "      <td>240</td>\n",
              "      <td>14400.0</td>\n",
              "      <td>250.0</td>\n",
              "      <td>200.0</td>\n",
              "      <td>610.0</td>\n",
              "      <td>1350.0</td>\n",
              "      <td>1500.0</td>\n",
              "      <td>2850.0</td>\n",
              "      <td>200.0</td>\n",
              "      <td>980.0</td>\n",
              "      <td>6760.0</td>\n",
              "      <td>7640.0</td>\n",
              "      <td>102</td>\n",
              "      <td>1126.666667</td>\n",
              "      <td>2020</td>\n",
              "      <td>1</td>\n",
              "      <td>2</td>\n",
              "      <td>8</td>\n",
              "      <td>2020</td>\n",
              "      <td>2021</td>\n",
              "      <td>1</td>\n",
              "      <td>4</td>\n",
              "      <td>1</td>\n",
              "      <td>1</td>\n",
              "      <td>1</td>\n",
              "      <td>700.0</td>\n",
              "      <td>1350.0</td>\n",
              "      <td>1550.0</td>\n",
              "      <td>1400.0</td>\n",
              "      <td>1450.0</td>\n",
              "    </tr>\n",
              "    <tr>\n",
              "      <th>3</th>\n",
              "      <td>2000</td>\n",
              "      <td>40</td>\n",
              "      <td>7</td>\n",
              "      <td>364</td>\n",
              "      <td>16560.0</td>\n",
              "      <td>380.0</td>\n",
              "      <td>600.0</td>\n",
              "      <td>1100.0</td>\n",
              "      <td>1300.0</td>\n",
              "      <td>780.0</td>\n",
              "      <td>2200.0</td>\n",
              "      <td>380.0</td>\n",
              "      <td>1140.0</td>\n",
              "      <td>11260.0</td>\n",
              "      <td>5300.0</td>\n",
              "      <td>98</td>\n",
              "      <td>1126.000000</td>\n",
              "      <td>2017</td>\n",
              "      <td>3</td>\n",
              "      <td>9</td>\n",
              "      <td>37</td>\n",
              "      <td>2018</td>\n",
              "      <td>2018</td>\n",
              "      <td>1</td>\n",
              "      <td>51</td>\n",
              "      <td>0</td>\n",
              "      <td>1</td>\n",
              "      <td>1</td>\n",
              "      <td>580.0</td>\n",
              "      <td>480.0</td>\n",
              "      <td>800.0</td>\n",
              "      <td>1260.0</td>\n",
              "      <td>1650.0</td>\n",
              "    </tr>\n",
              "    <tr>\n",
              "      <th>4</th>\n",
              "      <td>2000</td>\n",
              "      <td>40</td>\n",
              "      <td>7</td>\n",
              "      <td>364</td>\n",
              "      <td>16560.0</td>\n",
              "      <td>520.0</td>\n",
              "      <td>80.0</td>\n",
              "      <td>40.0</td>\n",
              "      <td>40.0</td>\n",
              "      <td>80.0</td>\n",
              "      <td>2640.0</td>\n",
              "      <td>40.0</td>\n",
              "      <td>190.0</td>\n",
              "      <td>7779.0</td>\n",
              "      <td>8781.0</td>\n",
              "      <td>980</td>\n",
              "      <td>353.590909</td>\n",
              "      <td>2017</td>\n",
              "      <td>3</td>\n",
              "      <td>9</td>\n",
              "      <td>36</td>\n",
              "      <td>2018</td>\n",
              "      <td>2021</td>\n",
              "      <td>1</td>\n",
              "      <td>19</td>\n",
              "      <td>1</td>\n",
              "      <td>1</td>\n",
              "      <td>1</td>\n",
              "      <td>40.0</td>\n",
              "      <td>440.0</td>\n",
              "      <td>460.0</td>\n",
              "      <td>360.0</td>\n",
              "      <td>80.0</td>\n",
              "    </tr>\n",
              "  </tbody>\n",
              "</table>\n",
              "</div>"
            ],
            "text/plain": [
              "   Deposit  RatePerUnit  DaysOnDeposit  Term  ...      f2      f3      f4      f5\n",
              "0     2500           55              3   556  ...   930.0   495.0   715.0   220.0\n",
              "1     2500           55              3   556  ...   935.0   935.0   825.0   770.0\n",
              "2     2400           50              3   240  ...  1350.0  1550.0  1400.0  1450.0\n",
              "3     2000           40              7   364  ...   480.0   800.0  1260.0  1650.0\n",
              "4     2000           40              7   364  ...   440.0   460.0   360.0    80.0\n",
              "\n",
              "[5 rows x 33 columns]"
            ]
          },
          "metadata": {
            "tags": []
          },
          "execution_count": 95
        }
      ]
    },
    {
      "cell_type": "markdown",
      "metadata": {
        "id": "3ClpbyGFhSLZ"
      },
      "source": [
        "PRE6"
      ]
    },
    {
      "cell_type": "code",
      "metadata": {
        "id": "M6Ih6t3WiIMS"
      },
      "source": [
        "X_train, X_test, y_train, y_test = train_test_split(less, y['m6'], test_size=0.40, random_state=42)"
      ],
      "execution_count": null,
      "outputs": []
    },
    {
      "cell_type": "code",
      "metadata": {
        "id": "doDVehxtnPrb"
      },
      "source": [
        "his6=HistGradientBoostingRegressor()\n",
        "ml6=MLPRegressor()\n",
        "ca1=CatBoostRegressor(loss_function='RMSE', verbose=0)\n",
        "lg6=LGBMRegressor(boosting_type='gbdt', class_weight=None, colsample_bytree=1.0,\n",
        "              importance_type='split', learning_rate=0.05, max_depth=30,\n",
        "              min_child_samples=22, min_child_weight=0.01, min_split_gain=0.5,\n",
        "              n_estimators=500, n_jobs=-1, num_leaves=20, objective=None,\n",
        "              random_state=None, reg_alpha=0.0, reg_lambda=0.0, silent=True,\n",
        "              subsample=1.0, subsample_for_bin=200000, subsample_freq=0)"
      ],
      "execution_count": null,
      "outputs": []
    },
    {
      "cell_type": "code",
      "metadata": {
        "id": "W9Z1TsYQlHXj"
      },
      "source": [
        "lr1=LinearRegression()\n",
        "rf6=RandomForestRegressor()\n",
        "li5=Lasso()\n",
        "ex6=ExtraTreesRegressor()\n",
        "reg_stack5= StackingRegressor(regressors=[rf6,ex6,his6,li5,lr1], meta_regressor=ca1,use_features_in_secondary = True)"
      ],
      "execution_count": null,
      "outputs": []
    },
    {
      "cell_type": "code",
      "metadata": {
        "colab": {
          "base_uri": "https://localhost:8080/"
        },
        "id": "A5HiDGQwlkcz",
        "outputId": "0ab90c30-cf80-429f-cab5-719d89c32b31"
      },
      "source": [
        "model_stack5= reg_stack5.fit(X_train, y_train)\n",
        "pred_stack5= model_stack5.predict(X_test)"
      ],
      "execution_count": null,
      "outputs": [
        {
          "output_type": "stream",
          "text": [
            "/usr/local/lib/python3.7/dist-packages/sklearn/linear_model/_coordinate_descent.py:476: ConvergenceWarning: Objective did not converge. You might want to increase the number of iterations. Duality gap: 4090220587.7871094, tolerance: 3492992.900234895\n",
            "  positive)\n"
          ],
          "name": "stderr"
        }
      ]
    },
    {
      "cell_type": "code",
      "metadata": {
        "colab": {
          "base_uri": "https://localhost:8080/"
        },
        "id": "a7lM_fRYlso7",
        "outputId": "0dec3050-1a2c-476d-9da4-c757ed6354d6"
      },
      "source": [
        "np.sqrt(mean_squared_error(pred_stack5,y_test))"
      ],
      "execution_count": null,
      "outputs": [
        {
          "output_type": "execute_result",
          "data": {
            "text/plain": [
              "1186.3324913776385"
            ]
          },
          "metadata": {
            "tags": []
          },
          "execution_count": 201
        }
      ]
    },
    {
      "cell_type": "code",
      "metadata": {
        "colab": {
          "base_uri": "https://localhost:8080/"
        },
        "id": "a-5JSGFEjzWQ",
        "outputId": "6047534e-6ccd-4db9-9e13-302114b656c6"
      },
      "source": [
        "np.sqrt(mean_squared_error(o,y_test))"
      ],
      "execution_count": null,
      "outputs": [
        {
          "output_type": "execute_result",
          "data": {
            "text/plain": [
              "1236.0193975870525"
            ]
          },
          "metadata": {
            "tags": []
          },
          "execution_count": 266
        }
      ]
    },
    {
      "cell_type": "code",
      "metadata": {
        "id": "lEydWvFMj5Ic"
      },
      "source": [
        "test='/content/drive/MyDrive/am.csv'"
      ],
      "execution_count": null,
      "outputs": []
    },
    {
      "cell_type": "code",
      "metadata": {
        "id": "3llVJ-IQyK_i"
      },
      "source": [
        "test=pd.read_csv(test)"
      ],
      "execution_count": null,
      "outputs": []
    },
    {
      "cell_type": "code",
      "metadata": {
        "colab": {
          "base_uri": "https://localhost:8080/",
          "height": 222
        },
        "id": "4GOTsO0qzrBO",
        "outputId": "4f1fb742-09fb-452b-b963-4a3748ffcb83"
      },
      "source": [
        "test.head()"
      ],
      "execution_count": null,
      "outputs": [
        {
          "output_type": "execute_result",
          "data": {
            "text/html": [
              "<div>\n",
              "<style scoped>\n",
              "    .dataframe tbody tr th:only-of-type {\n",
              "        vertical-align: middle;\n",
              "    }\n",
              "\n",
              "    .dataframe tbody tr th {\n",
              "        vertical-align: top;\n",
              "    }\n",
              "\n",
              "    .dataframe thead th {\n",
              "        text-align: right;\n",
              "    }\n",
              "</style>\n",
              "<table border=\"1\" class=\"dataframe\">\n",
              "  <thead>\n",
              "    <tr style=\"text-align: right;\">\n",
              "      <th></th>\n",
              "      <th>Deposit</th>\n",
              "      <th>RatePerUnit</th>\n",
              "      <th>DaysOnDeposit</th>\n",
              "      <th>Term</th>\n",
              "      <th>TotalContractValue</th>\n",
              "      <th>l1</th>\n",
              "      <th>l2</th>\n",
              "      <th>l3</th>\n",
              "      <th>l4</th>\n",
              "      <th>l5</th>\n",
              "      <th>Max_Payment_hist</th>\n",
              "      <th>Min_Payment_hist</th>\n",
              "      <th>Median_Payment_hist</th>\n",
              "      <th>Sum_of_Payment_hist</th>\n",
              "      <th>Left_over_in_contract</th>\n",
              "      <th>Over_contr_dura</th>\n",
              "      <th>Mean_Payment_hist</th>\n",
              "      <th>Reg_date_year</th>\n",
              "      <th>Reg_date_quarter</th>\n",
              "      <th>Reg_date_year_month</th>\n",
              "      <th>Reg_date_week</th>\n",
              "      <th>Expe_term_year</th>\n",
              "      <th>last_pay_year</th>\n",
              "      <th>rateTypeEntity_DAILY</th>\n",
              "      <th>last_pay_week</th>\n",
              "      <th>MainApplicantGender_Male</th>\n",
              "      <th>PaymentMethod</th>\n",
              "      <th>SupplierName</th>\n",
              "      <th>0</th>\n",
              "    </tr>\n",
              "  </thead>\n",
              "  <tbody>\n",
              "    <tr>\n",
              "      <th>0</th>\n",
              "      <td>2000</td>\n",
              "      <td>35</td>\n",
              "      <td>7</td>\n",
              "      <td>364</td>\n",
              "      <td>14740.0</td>\n",
              "      <td>400.0</td>\n",
              "      <td>1050.0</td>\n",
              "      <td>1050.0</td>\n",
              "      <td>1050.0</td>\n",
              "      <td>1050.0</td>\n",
              "      <td>4000.0</td>\n",
              "      <td>400.0</td>\n",
              "      <td>1050.0</td>\n",
              "      <td>8600.0</td>\n",
              "      <td>6140.0</td>\n",
              "      <td>1264</td>\n",
              "      <td>1433.333333</td>\n",
              "      <td>2015</td>\n",
              "      <td>4</td>\n",
              "      <td>12</td>\n",
              "      <td>50</td>\n",
              "      <td>2016</td>\n",
              "      <td>2020</td>\n",
              "      <td>1</td>\n",
              "      <td>21</td>\n",
              "      <td>1</td>\n",
              "      <td>1</td>\n",
              "      <td>1</td>\n",
              "      <td>486.53</td>\n",
              "    </tr>\n",
              "    <tr>\n",
              "      <th>1</th>\n",
              "      <td>2000</td>\n",
              "      <td>35</td>\n",
              "      <td>7</td>\n",
              "      <td>364</td>\n",
              "      <td>14740.0</td>\n",
              "      <td>1000.0</td>\n",
              "      <td>1250.0</td>\n",
              "      <td>650.0</td>\n",
              "      <td>1500.0</td>\n",
              "      <td>750.0</td>\n",
              "      <td>3000.0</td>\n",
              "      <td>650.0</td>\n",
              "      <td>1000.0</td>\n",
              "      <td>9000.0</td>\n",
              "      <td>5740.0</td>\n",
              "      <td>0</td>\n",
              "      <td>1285.714286</td>\n",
              "      <td>2015</td>\n",
              "      <td>4</td>\n",
              "      <td>12</td>\n",
              "      <td>51</td>\n",
              "      <td>2016</td>\n",
              "      <td>2016</td>\n",
              "      <td>1</td>\n",
              "      <td>50</td>\n",
              "      <td>0</td>\n",
              "      <td>1</td>\n",
              "      <td>1</td>\n",
              "      <td>1078.44</td>\n",
              "    </tr>\n",
              "    <tr>\n",
              "      <th>2</th>\n",
              "      <td>2000</td>\n",
              "      <td>35</td>\n",
              "      <td>7</td>\n",
              "      <td>364</td>\n",
              "      <td>14740.0</td>\n",
              "      <td>175.0</td>\n",
              "      <td>875.0</td>\n",
              "      <td>700.0</td>\n",
              "      <td>675.0</td>\n",
              "      <td>450.0</td>\n",
              "      <td>2400.0</td>\n",
              "      <td>175.0</td>\n",
              "      <td>587.5</td>\n",
              "      <td>6075.0</td>\n",
              "      <td>8665.0</td>\n",
              "      <td>1326</td>\n",
              "      <td>759.375000</td>\n",
              "      <td>2015</td>\n",
              "      <td>4</td>\n",
              "      <td>12</td>\n",
              "      <td>49</td>\n",
              "      <td>2016</td>\n",
              "      <td>2020</td>\n",
              "      <td>1</td>\n",
              "      <td>30</td>\n",
              "      <td>1</td>\n",
              "      <td>1</td>\n",
              "      <td>1</td>\n",
              "      <td>290.25</td>\n",
              "    </tr>\n",
              "    <tr>\n",
              "      <th>3</th>\n",
              "      <td>2000</td>\n",
              "      <td>35</td>\n",
              "      <td>7</td>\n",
              "      <td>364</td>\n",
              "      <td>14740.0</td>\n",
              "      <td>485.0</td>\n",
              "      <td>800.0</td>\n",
              "      <td>925.0</td>\n",
              "      <td>1015.0</td>\n",
              "      <td>1010.0</td>\n",
              "      <td>4700.0</td>\n",
              "      <td>485.0</td>\n",
              "      <td>980.0</td>\n",
              "      <td>15195.0</td>\n",
              "      <td>-455.0</td>\n",
              "      <td>165</td>\n",
              "      <td>1266.250000</td>\n",
              "      <td>2015</td>\n",
              "      <td>4</td>\n",
              "      <td>12</td>\n",
              "      <td>49</td>\n",
              "      <td>2016</td>\n",
              "      <td>2017</td>\n",
              "      <td>1</td>\n",
              "      <td>20</td>\n",
              "      <td>0</td>\n",
              "      <td>1</td>\n",
              "      <td>1</td>\n",
              "      <td>470.04</td>\n",
              "    </tr>\n",
              "    <tr>\n",
              "      <th>4</th>\n",
              "      <td>2000</td>\n",
              "      <td>35</td>\n",
              "      <td>7</td>\n",
              "      <td>364</td>\n",
              "      <td>14740.0</td>\n",
              "      <td>500.0</td>\n",
              "      <td>500.0</td>\n",
              "      <td>1000.0</td>\n",
              "      <td>750.0</td>\n",
              "      <td>1300.0</td>\n",
              "      <td>4800.0</td>\n",
              "      <td>500.0</td>\n",
              "      <td>995.0</td>\n",
              "      <td>11590.0</td>\n",
              "      <td>3150.0</td>\n",
              "      <td>64</td>\n",
              "      <td>1287.777778</td>\n",
              "      <td>2015</td>\n",
              "      <td>4</td>\n",
              "      <td>12</td>\n",
              "      <td>50</td>\n",
              "      <td>2016</td>\n",
              "      <td>2017</td>\n",
              "      <td>1</td>\n",
              "      <td>6</td>\n",
              "      <td>0</td>\n",
              "      <td>1</td>\n",
              "      <td>1</td>\n",
              "      <td>732.24</td>\n",
              "    </tr>\n",
              "  </tbody>\n",
              "</table>\n",
              "</div>"
            ],
            "text/plain": [
              "   Deposit  RatePerUnit  DaysOnDeposit  ...  PaymentMethod  SupplierName        0\n",
              "0     2000           35              7  ...              1             1   486.53\n",
              "1     2000           35              7  ...              1             1  1078.44\n",
              "2     2000           35              7  ...              1             1   290.25\n",
              "3     2000           35              7  ...              1             1   470.04\n",
              "4     2000           35              7  ...              1             1   732.24\n",
              "\n",
              "[5 rows x 29 columns]"
            ]
          },
          "metadata": {
            "tags": []
          },
          "execution_count": 210
        }
      ]
    },
    {
      "cell_type": "code",
      "metadata": {
        "id": "-fxlW0fDDF8l"
      },
      "source": [
        "test=test[['Deposit', 'RatePerUnit', 'DaysOnDeposit', 'Term', 'TotalContractValue',\n",
        "        'l1', 'l2', 'l3', 'l4', 'l5', 'Max_Payment_hist',\n",
        "       'Min_Payment_hist', 'Median_Payment_hist', 'Sum_of_Payment_hist',\n",
        "       'Left_over_in_contract', 'Over_contr_dura', 'Mean_Payment_hist',\n",
        "       'Reg_date_year', 'Reg_date_quarter', 'Reg_date_year_month',\n",
        "       'Reg_date_week', 'Expe_term_year', 'last_pay_year',\n",
        "       'rateTypeEntity_DAILY','last_pay_week', 'MainApplicantGender_Male','PaymentMethod','SupplierName']]"
      ],
      "execution_count": null,
      "outputs": []
    },
    {
      "cell_type": "code",
      "metadata": {
        "id": "kZWDR7w-02xi"
      },
      "source": [
        "pre=model_stack.predict(test)"
      ],
      "execution_count": null,
      "outputs": []
    },
    {
      "cell_type": "code",
      "metadata": {
        "id": "Odp7MbYI1T9f"
      },
      "source": [
        "pre1=pd.DataFrame(pre)"
      ],
      "execution_count": null,
      "outputs": []
    },
    {
      "cell_type": "code",
      "metadata": {
        "id": "FbKfZqii1xi0"
      },
      "source": [
        "test=pd.concat([test,pre1],axis=1)"
      ],
      "execution_count": null,
      "outputs": []
    },
    {
      "cell_type": "code",
      "metadata": {
        "id": "ZHtquYCrpssN"
      },
      "source": [
        "test['f1']=test[0]"
      ],
      "execution_count": null,
      "outputs": []
    },
    {
      "cell_type": "code",
      "metadata": {
        "id": "mWN0QSuRzS-0"
      },
      "source": [
        "test=test.drop(0,axis=1)"
      ],
      "execution_count": null,
      "outputs": []
    },
    {
      "cell_type": "code",
      "metadata": {
        "id": "uCVmGucO1U7Q"
      },
      "source": [
        "pre=model_stack1.predict(test)"
      ],
      "execution_count": null,
      "outputs": []
    },
    {
      "cell_type": "code",
      "metadata": {
        "id": "5ADLjjuB1_p4"
      },
      "source": [
        "pre2=pd.DataFrame(pre)"
      ],
      "execution_count": null,
      "outputs": []
    },
    {
      "cell_type": "code",
      "metadata": {
        "id": "F4b1B7UW5sFw"
      },
      "source": [
        "test=pd.concat([test,pre2],axis=1)"
      ],
      "execution_count": null,
      "outputs": []
    },
    {
      "cell_type": "code",
      "metadata": {
        "id": "gBo3VH2f5xKw"
      },
      "source": [
        "pre=model_stack2.predict(test)"
      ],
      "execution_count": null,
      "outputs": []
    },
    {
      "cell_type": "code",
      "metadata": {
        "id": "CVgLLX6_57XH"
      },
      "source": [
        "pre3=pd.DataFrame(pre)"
      ],
      "execution_count": null,
      "outputs": []
    },
    {
      "cell_type": "code",
      "metadata": {
        "id": "U9PkGzFp6BSK"
      },
      "source": [
        "test=pd.concat([test,pre3],axis=1)"
      ],
      "execution_count": null,
      "outputs": []
    },
    {
      "cell_type": "code",
      "metadata": {
        "id": "CmHkEArL6TWN"
      },
      "source": [
        "pre=model_stack3.predict(test)"
      ],
      "execution_count": null,
      "outputs": []
    },
    {
      "cell_type": "code",
      "metadata": {
        "id": "mw2plpkj6ciQ"
      },
      "source": [
        "pre4=pd.DataFrame(pre)"
      ],
      "execution_count": null,
      "outputs": []
    },
    {
      "cell_type": "code",
      "metadata": {
        "id": "58WkA6wK6gxS"
      },
      "source": [
        "test=pd.concat([test,pre4],axis=1)"
      ],
      "execution_count": null,
      "outputs": []
    },
    {
      "cell_type": "code",
      "metadata": {
        "colab": {
          "base_uri": "https://localhost:8080/",
          "height": 222
        },
        "id": "2c8Vvul46jhW",
        "outputId": "7d0251be-de53-46d9-fae1-9ee0c94f61a5"
      },
      "source": [
        "test.head()"
      ],
      "execution_count": null,
      "outputs": [
        {
          "output_type": "execute_result",
          "data": {
            "text/html": [
              "<div>\n",
              "<style scoped>\n",
              "    .dataframe tbody tr th:only-of-type {\n",
              "        vertical-align: middle;\n",
              "    }\n",
              "\n",
              "    .dataframe tbody tr th {\n",
              "        vertical-align: top;\n",
              "    }\n",
              "\n",
              "    .dataframe thead th {\n",
              "        text-align: right;\n",
              "    }\n",
              "</style>\n",
              "<table border=\"1\" class=\"dataframe\">\n",
              "  <thead>\n",
              "    <tr style=\"text-align: right;\">\n",
              "      <th></th>\n",
              "      <th>Deposit</th>\n",
              "      <th>RatePerUnit</th>\n",
              "      <th>DaysOnDeposit</th>\n",
              "      <th>Term</th>\n",
              "      <th>TotalContractValue</th>\n",
              "      <th>l1</th>\n",
              "      <th>l2</th>\n",
              "      <th>l3</th>\n",
              "      <th>l4</th>\n",
              "      <th>l5</th>\n",
              "      <th>Max_Payment_hist</th>\n",
              "      <th>Min_Payment_hist</th>\n",
              "      <th>Median_Payment_hist</th>\n",
              "      <th>Sum_of_Payment_hist</th>\n",
              "      <th>Left_over_in_contract</th>\n",
              "      <th>Over_contr_dura</th>\n",
              "      <th>Mean_Payment_hist</th>\n",
              "      <th>Reg_date_year</th>\n",
              "      <th>Reg_date_quarter</th>\n",
              "      <th>Reg_date_year_month</th>\n",
              "      <th>Reg_date_week</th>\n",
              "      <th>Expe_term_year</th>\n",
              "      <th>last_pay_year</th>\n",
              "      <th>rateTypeEntity_DAILY</th>\n",
              "      <th>last_pay_week</th>\n",
              "      <th>MainApplicantGender_Male</th>\n",
              "      <th>PaymentMethod</th>\n",
              "      <th>SupplierName</th>\n",
              "      <th>f1</th>\n",
              "      <th>0</th>\n",
              "      <th>0</th>\n",
              "      <th>0</th>\n",
              "    </tr>\n",
              "  </thead>\n",
              "  <tbody>\n",
              "    <tr>\n",
              "      <th>0</th>\n",
              "      <td>2000</td>\n",
              "      <td>35</td>\n",
              "      <td>7</td>\n",
              "      <td>364</td>\n",
              "      <td>14740.0</td>\n",
              "      <td>400.0</td>\n",
              "      <td>1050.0</td>\n",
              "      <td>1050.0</td>\n",
              "      <td>1050.0</td>\n",
              "      <td>1050.0</td>\n",
              "      <td>4000.0</td>\n",
              "      <td>400.0</td>\n",
              "      <td>1050.0</td>\n",
              "      <td>8600.0</td>\n",
              "      <td>6140.0</td>\n",
              "      <td>1264</td>\n",
              "      <td>1433.333333</td>\n",
              "      <td>2015</td>\n",
              "      <td>4</td>\n",
              "      <td>12</td>\n",
              "      <td>50</td>\n",
              "      <td>2016</td>\n",
              "      <td>2020</td>\n",
              "      <td>1</td>\n",
              "      <td>21</td>\n",
              "      <td>1</td>\n",
              "      <td>1</td>\n",
              "      <td>1</td>\n",
              "      <td>486.53</td>\n",
              "      <td>610.461849</td>\n",
              "      <td>1002.21</td>\n",
              "      <td>951.47</td>\n",
              "    </tr>\n",
              "    <tr>\n",
              "      <th>1</th>\n",
              "      <td>2000</td>\n",
              "      <td>35</td>\n",
              "      <td>7</td>\n",
              "      <td>364</td>\n",
              "      <td>14740.0</td>\n",
              "      <td>1000.0</td>\n",
              "      <td>1250.0</td>\n",
              "      <td>650.0</td>\n",
              "      <td>1500.0</td>\n",
              "      <td>750.0</td>\n",
              "      <td>3000.0</td>\n",
              "      <td>650.0</td>\n",
              "      <td>1000.0</td>\n",
              "      <td>9000.0</td>\n",
              "      <td>5740.0</td>\n",
              "      <td>0</td>\n",
              "      <td>1285.714286</td>\n",
              "      <td>2015</td>\n",
              "      <td>4</td>\n",
              "      <td>12</td>\n",
              "      <td>51</td>\n",
              "      <td>2016</td>\n",
              "      <td>2016</td>\n",
              "      <td>1</td>\n",
              "      <td>50</td>\n",
              "      <td>0</td>\n",
              "      <td>1</td>\n",
              "      <td>1</td>\n",
              "      <td>1078.44</td>\n",
              "      <td>1049.888601</td>\n",
              "      <td>1036.22</td>\n",
              "      <td>984.51</td>\n",
              "    </tr>\n",
              "    <tr>\n",
              "      <th>2</th>\n",
              "      <td>2000</td>\n",
              "      <td>35</td>\n",
              "      <td>7</td>\n",
              "      <td>364</td>\n",
              "      <td>14740.0</td>\n",
              "      <td>175.0</td>\n",
              "      <td>875.0</td>\n",
              "      <td>700.0</td>\n",
              "      <td>675.0</td>\n",
              "      <td>450.0</td>\n",
              "      <td>2400.0</td>\n",
              "      <td>175.0</td>\n",
              "      <td>587.5</td>\n",
              "      <td>6075.0</td>\n",
              "      <td>8665.0</td>\n",
              "      <td>1326</td>\n",
              "      <td>759.375000</td>\n",
              "      <td>2015</td>\n",
              "      <td>4</td>\n",
              "      <td>12</td>\n",
              "      <td>49</td>\n",
              "      <td>2016</td>\n",
              "      <td>2020</td>\n",
              "      <td>1</td>\n",
              "      <td>30</td>\n",
              "      <td>1</td>\n",
              "      <td>1</td>\n",
              "      <td>1</td>\n",
              "      <td>290.25</td>\n",
              "      <td>410.844224</td>\n",
              "      <td>624.01</td>\n",
              "      <td>470.04</td>\n",
              "    </tr>\n",
              "    <tr>\n",
              "      <th>3</th>\n",
              "      <td>2000</td>\n",
              "      <td>35</td>\n",
              "      <td>7</td>\n",
              "      <td>364</td>\n",
              "      <td>14740.0</td>\n",
              "      <td>485.0</td>\n",
              "      <td>800.0</td>\n",
              "      <td>925.0</td>\n",
              "      <td>1015.0</td>\n",
              "      <td>1010.0</td>\n",
              "      <td>4700.0</td>\n",
              "      <td>485.0</td>\n",
              "      <td>980.0</td>\n",
              "      <td>15195.0</td>\n",
              "      <td>-455.0</td>\n",
              "      <td>165</td>\n",
              "      <td>1266.250000</td>\n",
              "      <td>2015</td>\n",
              "      <td>4</td>\n",
              "      <td>12</td>\n",
              "      <td>49</td>\n",
              "      <td>2016</td>\n",
              "      <td>2017</td>\n",
              "      <td>1</td>\n",
              "      <td>20</td>\n",
              "      <td>0</td>\n",
              "      <td>1</td>\n",
              "      <td>1</td>\n",
              "      <td>470.04</td>\n",
              "      <td>431.617292</td>\n",
              "      <td>474.27</td>\n",
              "      <td>632.27</td>\n",
              "    </tr>\n",
              "    <tr>\n",
              "      <th>4</th>\n",
              "      <td>2000</td>\n",
              "      <td>35</td>\n",
              "      <td>7</td>\n",
              "      <td>364</td>\n",
              "      <td>14740.0</td>\n",
              "      <td>500.0</td>\n",
              "      <td>500.0</td>\n",
              "      <td>1000.0</td>\n",
              "      <td>750.0</td>\n",
              "      <td>1300.0</td>\n",
              "      <td>4800.0</td>\n",
              "      <td>500.0</td>\n",
              "      <td>995.0</td>\n",
              "      <td>11590.0</td>\n",
              "      <td>3150.0</td>\n",
              "      <td>64</td>\n",
              "      <td>1287.777778</td>\n",
              "      <td>2015</td>\n",
              "      <td>4</td>\n",
              "      <td>12</td>\n",
              "      <td>50</td>\n",
              "      <td>2016</td>\n",
              "      <td>2017</td>\n",
              "      <td>1</td>\n",
              "      <td>6</td>\n",
              "      <td>0</td>\n",
              "      <td>1</td>\n",
              "      <td>1</td>\n",
              "      <td>732.24</td>\n",
              "      <td>819.649893</td>\n",
              "      <td>755.77</td>\n",
              "      <td>829.71</td>\n",
              "    </tr>\n",
              "  </tbody>\n",
              "</table>\n",
              "</div>"
            ],
            "text/plain": [
              "   Deposit  RatePerUnit  DaysOnDeposit  ...            0        0       0\n",
              "0     2000           35              7  ...   610.461849  1002.21  951.47\n",
              "1     2000           35              7  ...  1049.888601  1036.22  984.51\n",
              "2     2000           35              7  ...   410.844224   624.01  470.04\n",
              "3     2000           35              7  ...   431.617292   474.27  632.27\n",
              "4     2000           35              7  ...   819.649893   755.77  829.71\n",
              "\n",
              "[5 rows x 32 columns]"
            ]
          },
          "metadata": {
            "tags": []
          },
          "execution_count": 223
        }
      ]
    },
    {
      "cell_type": "code",
      "metadata": {
        "id": "5uPU0uRK6rki"
      },
      "source": [
        "pre=model_stack4.predict(test)"
      ],
      "execution_count": null,
      "outputs": []
    },
    {
      "cell_type": "code",
      "metadata": {
        "id": "fEKlMdS67PJn"
      },
      "source": [
        "pre5=pd.DataFrame(pre)"
      ],
      "execution_count": null,
      "outputs": []
    },
    {
      "cell_type": "code",
      "metadata": {
        "id": "hs8FA5iU8_eg"
      },
      "source": [
        "test=pd.concat([test,pre5],axis=1)"
      ],
      "execution_count": null,
      "outputs": []
    },
    {
      "cell_type": "code",
      "metadata": {
        "id": "BA4BydWt9C3v"
      },
      "source": [
        "pre=model_stack5.predict(test)"
      ],
      "execution_count": null,
      "outputs": []
    },
    {
      "cell_type": "code",
      "metadata": {
        "id": "tw-RzLQ99OBH"
      },
      "source": [
        "pre6=pd.DataFrame(pre)"
      ],
      "execution_count": null,
      "outputs": []
    },
    {
      "cell_type": "code",
      "metadata": {
        "id": "84hx_hjL9aad"
      },
      "source": [
        "test=pd.concat([test,pre6],axis=1)"
      ],
      "execution_count": null,
      "outputs": []
    },
    {
      "cell_type": "code",
      "metadata": {
        "id": "uXmYolpc9fH6"
      },
      "source": [
        "Preds=test.iloc[:,-6:]"
      ],
      "execution_count": null,
      "outputs": []
    },
    {
      "cell_type": "code",
      "metadata": {
        "colab": {
          "base_uri": "https://localhost:8080/",
          "height": 202
        },
        "id": "qn05zas-9nJv",
        "outputId": "7470ed57-0082-45fd-b101-36d8e3c95961"
      },
      "source": [
        "Preds.head()"
      ],
      "execution_count": null,
      "outputs": [
        {
          "output_type": "execute_result",
          "data": {
            "text/html": [
              "<div>\n",
              "<style scoped>\n",
              "    .dataframe tbody tr th:only-of-type {\n",
              "        vertical-align: middle;\n",
              "    }\n",
              "\n",
              "    .dataframe tbody tr th {\n",
              "        vertical-align: top;\n",
              "    }\n",
              "\n",
              "    .dataframe thead th {\n",
              "        text-align: right;\n",
              "    }\n",
              "</style>\n",
              "<table border=\"1\" class=\"dataframe\">\n",
              "  <thead>\n",
              "    <tr style=\"text-align: right;\">\n",
              "      <th></th>\n",
              "      <th>f1</th>\n",
              "      <th>0</th>\n",
              "      <th>0</th>\n",
              "      <th>0</th>\n",
              "      <th>0</th>\n",
              "      <th>0</th>\n",
              "    </tr>\n",
              "  </thead>\n",
              "  <tbody>\n",
              "    <tr>\n",
              "      <th>0</th>\n",
              "      <td>486.53</td>\n",
              "      <td>610.461849</td>\n",
              "      <td>1002.21</td>\n",
              "      <td>951.47</td>\n",
              "      <td>1530.04</td>\n",
              "      <td>1197.576708</td>\n",
              "    </tr>\n",
              "    <tr>\n",
              "      <th>1</th>\n",
              "      <td>1078.44</td>\n",
              "      <td>1049.888601</td>\n",
              "      <td>1036.22</td>\n",
              "      <td>984.51</td>\n",
              "      <td>1098.61</td>\n",
              "      <td>686.993362</td>\n",
              "    </tr>\n",
              "    <tr>\n",
              "      <th>2</th>\n",
              "      <td>290.25</td>\n",
              "      <td>410.844224</td>\n",
              "      <td>624.01</td>\n",
              "      <td>470.04</td>\n",
              "      <td>765.60</td>\n",
              "      <td>664.083809</td>\n",
              "    </tr>\n",
              "    <tr>\n",
              "      <th>3</th>\n",
              "      <td>470.04</td>\n",
              "      <td>431.617292</td>\n",
              "      <td>474.27</td>\n",
              "      <td>632.27</td>\n",
              "      <td>533.85</td>\n",
              "      <td>536.467952</td>\n",
              "    </tr>\n",
              "    <tr>\n",
              "      <th>4</th>\n",
              "      <td>732.24</td>\n",
              "      <td>819.649893</td>\n",
              "      <td>755.77</td>\n",
              "      <td>829.71</td>\n",
              "      <td>634.68</td>\n",
              "      <td>553.356816</td>\n",
              "    </tr>\n",
              "  </tbody>\n",
              "</table>\n",
              "</div>"
            ],
            "text/plain": [
              "        f1            0        0       0        0            0\n",
              "0   486.53   610.461849  1002.21  951.47  1530.04  1197.576708\n",
              "1  1078.44  1049.888601  1036.22  984.51  1098.61   686.993362\n",
              "2   290.25   410.844224   624.01  470.04   765.60   664.083809\n",
              "3   470.04   431.617292   474.27  632.27   533.85   536.467952\n",
              "4   732.24   819.649893   755.77  829.71   634.68   553.356816"
            ]
          },
          "metadata": {
            "tags": []
          },
          "execution_count": 231
        }
      ]
    },
    {
      "cell_type": "code",
      "metadata": {
        "id": "VD4syNog95yI"
      },
      "source": [
        "Preds.columns=y.columns"
      ],
      "execution_count": null,
      "outputs": []
    },
    {
      "cell_type": "code",
      "metadata": {
        "id": "bE-Vwng2-WgJ"
      },
      "source": [
        "Preds.to_csv('omo_cl3.csv',index=False)"
      ],
      "execution_count": null,
      "outputs": []
    },
    {
      "cell_type": "code",
      "metadata": {
        "id": "EiK_zYe1-i9-"
      },
      "source": [],
      "execution_count": null,
      "outputs": []
    }
  ]
}