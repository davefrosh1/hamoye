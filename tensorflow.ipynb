{
  "nbformat": 4,
  "nbformat_minor": 0,
  "metadata": {
    "colab": {
      "name": "tensorflow.ipynb",
      "provenance": [],
      "collapsed_sections": [],
      "mount_file_id": "1EMRdOySkdnwDHd7jz78o5IBmuYuqHQj1",
      "authorship_tag": "ABX9TyO35daWDN52PTiXYZcPB53U",
      "include_colab_link": true
    },
    "kernelspec": {
      "name": "python3",
      "display_name": "Python 3"
    },
    "language_info": {
      "name": "python"
    }
  },
  "cells": [
    {
      "cell_type": "markdown",
      "metadata": {
        "id": "view-in-github",
        "colab_type": "text"
      },
      "source": [
        "<a href=\"https://colab.research.google.com/github/davefrosh1/hamoye/blob/main/tensorflow.ipynb\" target=\"_parent\"><img src=\"https://colab.research.google.com/assets/colab-badge.svg\" alt=\"Open In Colab\"/></a>"
      ]
    },
    {
      "cell_type": "code",
      "execution_count": 1,
      "metadata": {
        "id": "QZt6l0h_AaSX"
      },
      "outputs": [],
      "source": [
        "import tensorflow as tf"
      ]
    },
    {
      "cell_type": "markdown",
      "source": [
        "**Pratice**"
      ],
      "metadata": {
        "id": "OSi3ZfDOwbEe"
      }
    },
    {
      "cell_type": "code",
      "source": [
        "import pandas as pd\n",
        "import numpy as np\n",
        "import matplotlib.pyplot as plt"
      ],
      "metadata": {
        "id": "5GtUcSnCwngB"
      },
      "execution_count": 2,
      "outputs": []
    },
    {
      "cell_type": "code",
      "source": [
        "isr= pd.read_csv('/content/drive/MyDrive/insurance.csv')"
      ],
      "metadata": {
        "id": "e4b0LP6Hw_xF"
      },
      "execution_count": 3,
      "outputs": []
    },
    {
      "cell_type": "code",
      "source": [
        "isr.info()"
      ],
      "metadata": {
        "colab": {
          "base_uri": "https://localhost:8080/"
        },
        "id": "lf6pWqINx1d7",
        "outputId": "41167934-3ee2-4cf8-8f5e-588cf10c45a7"
      },
      "execution_count": 4,
      "outputs": [
        {
          "output_type": "stream",
          "name": "stdout",
          "text": [
            "<class 'pandas.core.frame.DataFrame'>\n",
            "RangeIndex: 1338 entries, 0 to 1337\n",
            "Data columns (total 7 columns):\n",
            " #   Column    Non-Null Count  Dtype  \n",
            "---  ------    --------------  -----  \n",
            " 0   age       1338 non-null   int64  \n",
            " 1   sex       1338 non-null   object \n",
            " 2   bmi       1338 non-null   float64\n",
            " 3   children  1338 non-null   int64  \n",
            " 4   smoker    1338 non-null   object \n",
            " 5   region    1338 non-null   object \n",
            " 6   charges   1338 non-null   float64\n",
            "dtypes: float64(2), int64(2), object(3)\n",
            "memory usage: 73.3+ KB\n"
          ]
        }
      ]
    },
    {
      "cell_type": "code",
      "source": [
        "isr.head()"
      ],
      "metadata": {
        "colab": {
          "base_uri": "https://localhost:8080/",
          "height": 206
        },
        "id": "YBXlu4Lsymvm",
        "outputId": "2a8a66d1-8f93-4b71-ff9d-339992b98b61"
      },
      "execution_count": 5,
      "outputs": [
        {
          "output_type": "execute_result",
          "data": {
            "text/plain": [
              "   age     sex     bmi  children smoker     region      charges\n",
              "0   19  female  27.900         0    yes  southwest  16884.92400\n",
              "1   18    male  33.770         1     no  southeast   1725.55230\n",
              "2   28    male  33.000         3     no  southeast   4449.46200\n",
              "3   33    male  22.705         0     no  northwest  21984.47061\n",
              "4   32    male  28.880         0     no  northwest   3866.85520"
            ],
            "text/html": [
              "\n",
              "  <div id=\"df-2df9d7db-bb65-4d2d-968d-935cfd872448\">\n",
              "    <div class=\"colab-df-container\">\n",
              "      <div>\n",
              "<style scoped>\n",
              "    .dataframe tbody tr th:only-of-type {\n",
              "        vertical-align: middle;\n",
              "    }\n",
              "\n",
              "    .dataframe tbody tr th {\n",
              "        vertical-align: top;\n",
              "    }\n",
              "\n",
              "    .dataframe thead th {\n",
              "        text-align: right;\n",
              "    }\n",
              "</style>\n",
              "<table border=\"1\" class=\"dataframe\">\n",
              "  <thead>\n",
              "    <tr style=\"text-align: right;\">\n",
              "      <th></th>\n",
              "      <th>age</th>\n",
              "      <th>sex</th>\n",
              "      <th>bmi</th>\n",
              "      <th>children</th>\n",
              "      <th>smoker</th>\n",
              "      <th>region</th>\n",
              "      <th>charges</th>\n",
              "    </tr>\n",
              "  </thead>\n",
              "  <tbody>\n",
              "    <tr>\n",
              "      <th>0</th>\n",
              "      <td>19</td>\n",
              "      <td>female</td>\n",
              "      <td>27.900</td>\n",
              "      <td>0</td>\n",
              "      <td>yes</td>\n",
              "      <td>southwest</td>\n",
              "      <td>16884.92400</td>\n",
              "    </tr>\n",
              "    <tr>\n",
              "      <th>1</th>\n",
              "      <td>18</td>\n",
              "      <td>male</td>\n",
              "      <td>33.770</td>\n",
              "      <td>1</td>\n",
              "      <td>no</td>\n",
              "      <td>southeast</td>\n",
              "      <td>1725.55230</td>\n",
              "    </tr>\n",
              "    <tr>\n",
              "      <th>2</th>\n",
              "      <td>28</td>\n",
              "      <td>male</td>\n",
              "      <td>33.000</td>\n",
              "      <td>3</td>\n",
              "      <td>no</td>\n",
              "      <td>southeast</td>\n",
              "      <td>4449.46200</td>\n",
              "    </tr>\n",
              "    <tr>\n",
              "      <th>3</th>\n",
              "      <td>33</td>\n",
              "      <td>male</td>\n",
              "      <td>22.705</td>\n",
              "      <td>0</td>\n",
              "      <td>no</td>\n",
              "      <td>northwest</td>\n",
              "      <td>21984.47061</td>\n",
              "    </tr>\n",
              "    <tr>\n",
              "      <th>4</th>\n",
              "      <td>32</td>\n",
              "      <td>male</td>\n",
              "      <td>28.880</td>\n",
              "      <td>0</td>\n",
              "      <td>no</td>\n",
              "      <td>northwest</td>\n",
              "      <td>3866.85520</td>\n",
              "    </tr>\n",
              "  </tbody>\n",
              "</table>\n",
              "</div>\n",
              "      <button class=\"colab-df-convert\" onclick=\"convertToInteractive('df-2df9d7db-bb65-4d2d-968d-935cfd872448')\"\n",
              "              title=\"Convert this dataframe to an interactive table.\"\n",
              "              style=\"display:none;\">\n",
              "        \n",
              "  <svg xmlns=\"http://www.w3.org/2000/svg\" height=\"24px\"viewBox=\"0 0 24 24\"\n",
              "       width=\"24px\">\n",
              "    <path d=\"M0 0h24v24H0V0z\" fill=\"none\"/>\n",
              "    <path d=\"M18.56 5.44l.94 2.06.94-2.06 2.06-.94-2.06-.94-.94-2.06-.94 2.06-2.06.94zm-11 1L8.5 8.5l.94-2.06 2.06-.94-2.06-.94L8.5 2.5l-.94 2.06-2.06.94zm10 10l.94 2.06.94-2.06 2.06-.94-2.06-.94-.94-2.06-.94 2.06-2.06.94z\"/><path d=\"M17.41 7.96l-1.37-1.37c-.4-.4-.92-.59-1.43-.59-.52 0-1.04.2-1.43.59L10.3 9.45l-7.72 7.72c-.78.78-.78 2.05 0 2.83L4 21.41c.39.39.9.59 1.41.59.51 0 1.02-.2 1.41-.59l7.78-7.78 2.81-2.81c.8-.78.8-2.07 0-2.86zM5.41 20L4 18.59l7.72-7.72 1.47 1.35L5.41 20z\"/>\n",
              "  </svg>\n",
              "      </button>\n",
              "      \n",
              "  <style>\n",
              "    .colab-df-container {\n",
              "      display:flex;\n",
              "      flex-wrap:wrap;\n",
              "      gap: 12px;\n",
              "    }\n",
              "\n",
              "    .colab-df-convert {\n",
              "      background-color: #E8F0FE;\n",
              "      border: none;\n",
              "      border-radius: 50%;\n",
              "      cursor: pointer;\n",
              "      display: none;\n",
              "      fill: #1967D2;\n",
              "      height: 32px;\n",
              "      padding: 0 0 0 0;\n",
              "      width: 32px;\n",
              "    }\n",
              "\n",
              "    .colab-df-convert:hover {\n",
              "      background-color: #E2EBFA;\n",
              "      box-shadow: 0px 1px 2px rgba(60, 64, 67, 0.3), 0px 1px 3px 1px rgba(60, 64, 67, 0.15);\n",
              "      fill: #174EA6;\n",
              "    }\n",
              "\n",
              "    [theme=dark] .colab-df-convert {\n",
              "      background-color: #3B4455;\n",
              "      fill: #D2E3FC;\n",
              "    }\n",
              "\n",
              "    [theme=dark] .colab-df-convert:hover {\n",
              "      background-color: #434B5C;\n",
              "      box-shadow: 0px 1px 3px 1px rgba(0, 0, 0, 0.15);\n",
              "      filter: drop-shadow(0px 1px 2px rgba(0, 0, 0, 0.3));\n",
              "      fill: #FFFFFF;\n",
              "    }\n",
              "  </style>\n",
              "\n",
              "      <script>\n",
              "        const buttonEl =\n",
              "          document.querySelector('#df-2df9d7db-bb65-4d2d-968d-935cfd872448 button.colab-df-convert');\n",
              "        buttonEl.style.display =\n",
              "          google.colab.kernel.accessAllowed ? 'block' : 'none';\n",
              "\n",
              "        async function convertToInteractive(key) {\n",
              "          const element = document.querySelector('#df-2df9d7db-bb65-4d2d-968d-935cfd872448');\n",
              "          const dataTable =\n",
              "            await google.colab.kernel.invokeFunction('convertToInteractive',\n",
              "                                                     [key], {});\n",
              "          if (!dataTable) return;\n",
              "\n",
              "          const docLinkHtml = 'Like what you see? Visit the ' +\n",
              "            '<a target=\"_blank\" href=https://colab.research.google.com/notebooks/data_table.ipynb>data table notebook</a>'\n",
              "            + ' to learn more about interactive tables.';\n",
              "          element.innerHTML = '';\n",
              "          dataTable['output_type'] = 'display_data';\n",
              "          await google.colab.output.renderOutput(dataTable, element);\n",
              "          const docLink = document.createElement('div');\n",
              "          docLink.innerHTML = docLinkHtml;\n",
              "          element.appendChild(docLink);\n",
              "        }\n",
              "      </script>\n",
              "    </div>\n",
              "  </div>\n",
              "  "
            ]
          },
          "metadata": {},
          "execution_count": 5
        }
      ]
    },
    {
      "cell_type": "code",
      "source": [
        "isr['sex']=pd.get_dummies(isr['sex'],drop_first=True)"
      ],
      "metadata": {
        "id": "y5CNF1F-ys8O"
      },
      "execution_count": 6,
      "outputs": []
    },
    {
      "cell_type": "code",
      "source": [
        "isr.tail()"
      ],
      "metadata": {
        "colab": {
          "base_uri": "https://localhost:8080/",
          "height": 206
        },
        "id": "wlqDlGuMy6_X",
        "outputId": "3c5d6b05-45a9-4667-f0c4-83b336d9dae0"
      },
      "execution_count": 7,
      "outputs": [
        {
          "output_type": "execute_result",
          "data": {
            "text/plain": [
              "      age  sex    bmi  children smoker     region     charges\n",
              "1333   50    1  30.97         3     no  northwest  10600.5483\n",
              "1334   18    0  31.92         0     no  northeast   2205.9808\n",
              "1335   18    0  36.85         0     no  southeast   1629.8335\n",
              "1336   21    0  25.80         0     no  southwest   2007.9450\n",
              "1337   61    0  29.07         0    yes  northwest  29141.3603"
            ],
            "text/html": [
              "\n",
              "  <div id=\"df-769e4a02-5807-4188-92b4-889de39f8d08\">\n",
              "    <div class=\"colab-df-container\">\n",
              "      <div>\n",
              "<style scoped>\n",
              "    .dataframe tbody tr th:only-of-type {\n",
              "        vertical-align: middle;\n",
              "    }\n",
              "\n",
              "    .dataframe tbody tr th {\n",
              "        vertical-align: top;\n",
              "    }\n",
              "\n",
              "    .dataframe thead th {\n",
              "        text-align: right;\n",
              "    }\n",
              "</style>\n",
              "<table border=\"1\" class=\"dataframe\">\n",
              "  <thead>\n",
              "    <tr style=\"text-align: right;\">\n",
              "      <th></th>\n",
              "      <th>age</th>\n",
              "      <th>sex</th>\n",
              "      <th>bmi</th>\n",
              "      <th>children</th>\n",
              "      <th>smoker</th>\n",
              "      <th>region</th>\n",
              "      <th>charges</th>\n",
              "    </tr>\n",
              "  </thead>\n",
              "  <tbody>\n",
              "    <tr>\n",
              "      <th>1333</th>\n",
              "      <td>50</td>\n",
              "      <td>1</td>\n",
              "      <td>30.97</td>\n",
              "      <td>3</td>\n",
              "      <td>no</td>\n",
              "      <td>northwest</td>\n",
              "      <td>10600.5483</td>\n",
              "    </tr>\n",
              "    <tr>\n",
              "      <th>1334</th>\n",
              "      <td>18</td>\n",
              "      <td>0</td>\n",
              "      <td>31.92</td>\n",
              "      <td>0</td>\n",
              "      <td>no</td>\n",
              "      <td>northeast</td>\n",
              "      <td>2205.9808</td>\n",
              "    </tr>\n",
              "    <tr>\n",
              "      <th>1335</th>\n",
              "      <td>18</td>\n",
              "      <td>0</td>\n",
              "      <td>36.85</td>\n",
              "      <td>0</td>\n",
              "      <td>no</td>\n",
              "      <td>southeast</td>\n",
              "      <td>1629.8335</td>\n",
              "    </tr>\n",
              "    <tr>\n",
              "      <th>1336</th>\n",
              "      <td>21</td>\n",
              "      <td>0</td>\n",
              "      <td>25.80</td>\n",
              "      <td>0</td>\n",
              "      <td>no</td>\n",
              "      <td>southwest</td>\n",
              "      <td>2007.9450</td>\n",
              "    </tr>\n",
              "    <tr>\n",
              "      <th>1337</th>\n",
              "      <td>61</td>\n",
              "      <td>0</td>\n",
              "      <td>29.07</td>\n",
              "      <td>0</td>\n",
              "      <td>yes</td>\n",
              "      <td>northwest</td>\n",
              "      <td>29141.3603</td>\n",
              "    </tr>\n",
              "  </tbody>\n",
              "</table>\n",
              "</div>\n",
              "      <button class=\"colab-df-convert\" onclick=\"convertToInteractive('df-769e4a02-5807-4188-92b4-889de39f8d08')\"\n",
              "              title=\"Convert this dataframe to an interactive table.\"\n",
              "              style=\"display:none;\">\n",
              "        \n",
              "  <svg xmlns=\"http://www.w3.org/2000/svg\" height=\"24px\"viewBox=\"0 0 24 24\"\n",
              "       width=\"24px\">\n",
              "    <path d=\"M0 0h24v24H0V0z\" fill=\"none\"/>\n",
              "    <path d=\"M18.56 5.44l.94 2.06.94-2.06 2.06-.94-2.06-.94-.94-2.06-.94 2.06-2.06.94zm-11 1L8.5 8.5l.94-2.06 2.06-.94-2.06-.94L8.5 2.5l-.94 2.06-2.06.94zm10 10l.94 2.06.94-2.06 2.06-.94-2.06-.94-.94-2.06-.94 2.06-2.06.94z\"/><path d=\"M17.41 7.96l-1.37-1.37c-.4-.4-.92-.59-1.43-.59-.52 0-1.04.2-1.43.59L10.3 9.45l-7.72 7.72c-.78.78-.78 2.05 0 2.83L4 21.41c.39.39.9.59 1.41.59.51 0 1.02-.2 1.41-.59l7.78-7.78 2.81-2.81c.8-.78.8-2.07 0-2.86zM5.41 20L4 18.59l7.72-7.72 1.47 1.35L5.41 20z\"/>\n",
              "  </svg>\n",
              "      </button>\n",
              "      \n",
              "  <style>\n",
              "    .colab-df-container {\n",
              "      display:flex;\n",
              "      flex-wrap:wrap;\n",
              "      gap: 12px;\n",
              "    }\n",
              "\n",
              "    .colab-df-convert {\n",
              "      background-color: #E8F0FE;\n",
              "      border: none;\n",
              "      border-radius: 50%;\n",
              "      cursor: pointer;\n",
              "      display: none;\n",
              "      fill: #1967D2;\n",
              "      height: 32px;\n",
              "      padding: 0 0 0 0;\n",
              "      width: 32px;\n",
              "    }\n",
              "\n",
              "    .colab-df-convert:hover {\n",
              "      background-color: #E2EBFA;\n",
              "      box-shadow: 0px 1px 2px rgba(60, 64, 67, 0.3), 0px 1px 3px 1px rgba(60, 64, 67, 0.15);\n",
              "      fill: #174EA6;\n",
              "    }\n",
              "\n",
              "    [theme=dark] .colab-df-convert {\n",
              "      background-color: #3B4455;\n",
              "      fill: #D2E3FC;\n",
              "    }\n",
              "\n",
              "    [theme=dark] .colab-df-convert:hover {\n",
              "      background-color: #434B5C;\n",
              "      box-shadow: 0px 1px 3px 1px rgba(0, 0, 0, 0.15);\n",
              "      filter: drop-shadow(0px 1px 2px rgba(0, 0, 0, 0.3));\n",
              "      fill: #FFFFFF;\n",
              "    }\n",
              "  </style>\n",
              "\n",
              "      <script>\n",
              "        const buttonEl =\n",
              "          document.querySelector('#df-769e4a02-5807-4188-92b4-889de39f8d08 button.colab-df-convert');\n",
              "        buttonEl.style.display =\n",
              "          google.colab.kernel.accessAllowed ? 'block' : 'none';\n",
              "\n",
              "        async function convertToInteractive(key) {\n",
              "          const element = document.querySelector('#df-769e4a02-5807-4188-92b4-889de39f8d08');\n",
              "          const dataTable =\n",
              "            await google.colab.kernel.invokeFunction('convertToInteractive',\n",
              "                                                     [key], {});\n",
              "          if (!dataTable) return;\n",
              "\n",
              "          const docLinkHtml = 'Like what you see? Visit the ' +\n",
              "            '<a target=\"_blank\" href=https://colab.research.google.com/notebooks/data_table.ipynb>data table notebook</a>'\n",
              "            + ' to learn more about interactive tables.';\n",
              "          element.innerHTML = '';\n",
              "          dataTable['output_type'] = 'display_data';\n",
              "          await google.colab.output.renderOutput(dataTable, element);\n",
              "          const docLink = document.createElement('div');\n",
              "          docLink.innerHTML = docLinkHtml;\n",
              "          element.appendChild(docLink);\n",
              "        }\n",
              "      </script>\n",
              "    </div>\n",
              "  </div>\n",
              "  "
            ]
          },
          "metadata": {},
          "execution_count": 7
        }
      ]
    },
    {
      "cell_type": "code",
      "source": [
        "isr['smoker'].value_counts()"
      ],
      "metadata": {
        "colab": {
          "base_uri": "https://localhost:8080/"
        },
        "id": "O0AVma2RzBMc",
        "outputId": "7f92697c-bfe9-4266-9df6-a33824f9bd23"
      },
      "execution_count": 8,
      "outputs": [
        {
          "output_type": "execute_result",
          "data": {
            "text/plain": [
              "no     1064\n",
              "yes     274\n",
              "Name: smoker, dtype: int64"
            ]
          },
          "metadata": {},
          "execution_count": 8
        }
      ]
    },
    {
      "cell_type": "code",
      "source": [
        "isr['smoker']=pd.get_dummies(isr['smoker'],drop_first=True)"
      ],
      "metadata": {
        "id": "Y1YchXsVze7i"
      },
      "execution_count": 9,
      "outputs": []
    },
    {
      "cell_type": "code",
      "source": [
        "isr['region'].value_counts()"
      ],
      "metadata": {
        "colab": {
          "base_uri": "https://localhost:8080/"
        },
        "id": "pVYHPDua1PEX",
        "outputId": "7529880e-2a9b-45c7-b194-142c09c5c621"
      },
      "execution_count": 10,
      "outputs": [
        {
          "output_type": "execute_result",
          "data": {
            "text/plain": [
              "southeast    364\n",
              "southwest    325\n",
              "northwest    325\n",
              "northeast    324\n",
              "Name: region, dtype: int64"
            ]
          },
          "metadata": {},
          "execution_count": 10
        }
      ]
    },
    {
      "cell_type": "code",
      "source": [
        "isr1=pd.get_dummies(isr['region'],drop_first=True)"
      ],
      "metadata": {
        "id": "zsobkuhe1YL3"
      },
      "execution_count": 11,
      "outputs": []
    },
    {
      "cell_type": "code",
      "source": [
        "isr=pd.concat([isr,isr1], axis=1)"
      ],
      "metadata": {
        "id": "tYBuKiph1i0d"
      },
      "execution_count": 12,
      "outputs": []
    },
    {
      "cell_type": "code",
      "source": [
        "isr.drop('region', axis=1, inplace=True)"
      ],
      "metadata": {
        "id": "vD71w88j3rRn"
      },
      "execution_count": 13,
      "outputs": []
    },
    {
      "cell_type": "code",
      "source": [
        "isr.head()"
      ],
      "metadata": {
        "colab": {
          "base_uri": "https://localhost:8080/",
          "height": 206
        },
        "id": "FjEDBVX53tTs",
        "outputId": "44c5782c-a13d-47e0-b55e-e80bb79fb6c7"
      },
      "execution_count": 14,
      "outputs": [
        {
          "output_type": "execute_result",
          "data": {
            "text/plain": [
              "   age  sex     bmi  children  smoker      charges  northwest  southeast  \\\n",
              "0   19    0  27.900         0       1  16884.92400          0          0   \n",
              "1   18    1  33.770         1       0   1725.55230          0          1   \n",
              "2   28    1  33.000         3       0   4449.46200          0          1   \n",
              "3   33    1  22.705         0       0  21984.47061          1          0   \n",
              "4   32    1  28.880         0       0   3866.85520          1          0   \n",
              "\n",
              "   southwest  \n",
              "0          1  \n",
              "1          0  \n",
              "2          0  \n",
              "3          0  \n",
              "4          0  "
            ],
            "text/html": [
              "\n",
              "  <div id=\"df-c3bd2421-c23e-4484-bf3b-9e1455e98643\">\n",
              "    <div class=\"colab-df-container\">\n",
              "      <div>\n",
              "<style scoped>\n",
              "    .dataframe tbody tr th:only-of-type {\n",
              "        vertical-align: middle;\n",
              "    }\n",
              "\n",
              "    .dataframe tbody tr th {\n",
              "        vertical-align: top;\n",
              "    }\n",
              "\n",
              "    .dataframe thead th {\n",
              "        text-align: right;\n",
              "    }\n",
              "</style>\n",
              "<table border=\"1\" class=\"dataframe\">\n",
              "  <thead>\n",
              "    <tr style=\"text-align: right;\">\n",
              "      <th></th>\n",
              "      <th>age</th>\n",
              "      <th>sex</th>\n",
              "      <th>bmi</th>\n",
              "      <th>children</th>\n",
              "      <th>smoker</th>\n",
              "      <th>charges</th>\n",
              "      <th>northwest</th>\n",
              "      <th>southeast</th>\n",
              "      <th>southwest</th>\n",
              "    </tr>\n",
              "  </thead>\n",
              "  <tbody>\n",
              "    <tr>\n",
              "      <th>0</th>\n",
              "      <td>19</td>\n",
              "      <td>0</td>\n",
              "      <td>27.900</td>\n",
              "      <td>0</td>\n",
              "      <td>1</td>\n",
              "      <td>16884.92400</td>\n",
              "      <td>0</td>\n",
              "      <td>0</td>\n",
              "      <td>1</td>\n",
              "    </tr>\n",
              "    <tr>\n",
              "      <th>1</th>\n",
              "      <td>18</td>\n",
              "      <td>1</td>\n",
              "      <td>33.770</td>\n",
              "      <td>1</td>\n",
              "      <td>0</td>\n",
              "      <td>1725.55230</td>\n",
              "      <td>0</td>\n",
              "      <td>1</td>\n",
              "      <td>0</td>\n",
              "    </tr>\n",
              "    <tr>\n",
              "      <th>2</th>\n",
              "      <td>28</td>\n",
              "      <td>1</td>\n",
              "      <td>33.000</td>\n",
              "      <td>3</td>\n",
              "      <td>0</td>\n",
              "      <td>4449.46200</td>\n",
              "      <td>0</td>\n",
              "      <td>1</td>\n",
              "      <td>0</td>\n",
              "    </tr>\n",
              "    <tr>\n",
              "      <th>3</th>\n",
              "      <td>33</td>\n",
              "      <td>1</td>\n",
              "      <td>22.705</td>\n",
              "      <td>0</td>\n",
              "      <td>0</td>\n",
              "      <td>21984.47061</td>\n",
              "      <td>1</td>\n",
              "      <td>0</td>\n",
              "      <td>0</td>\n",
              "    </tr>\n",
              "    <tr>\n",
              "      <th>4</th>\n",
              "      <td>32</td>\n",
              "      <td>1</td>\n",
              "      <td>28.880</td>\n",
              "      <td>0</td>\n",
              "      <td>0</td>\n",
              "      <td>3866.85520</td>\n",
              "      <td>1</td>\n",
              "      <td>0</td>\n",
              "      <td>0</td>\n",
              "    </tr>\n",
              "  </tbody>\n",
              "</table>\n",
              "</div>\n",
              "      <button class=\"colab-df-convert\" onclick=\"convertToInteractive('df-c3bd2421-c23e-4484-bf3b-9e1455e98643')\"\n",
              "              title=\"Convert this dataframe to an interactive table.\"\n",
              "              style=\"display:none;\">\n",
              "        \n",
              "  <svg xmlns=\"http://www.w3.org/2000/svg\" height=\"24px\"viewBox=\"0 0 24 24\"\n",
              "       width=\"24px\">\n",
              "    <path d=\"M0 0h24v24H0V0z\" fill=\"none\"/>\n",
              "    <path d=\"M18.56 5.44l.94 2.06.94-2.06 2.06-.94-2.06-.94-.94-2.06-.94 2.06-2.06.94zm-11 1L8.5 8.5l.94-2.06 2.06-.94-2.06-.94L8.5 2.5l-.94 2.06-2.06.94zm10 10l.94 2.06.94-2.06 2.06-.94-2.06-.94-.94-2.06-.94 2.06-2.06.94z\"/><path d=\"M17.41 7.96l-1.37-1.37c-.4-.4-.92-.59-1.43-.59-.52 0-1.04.2-1.43.59L10.3 9.45l-7.72 7.72c-.78.78-.78 2.05 0 2.83L4 21.41c.39.39.9.59 1.41.59.51 0 1.02-.2 1.41-.59l7.78-7.78 2.81-2.81c.8-.78.8-2.07 0-2.86zM5.41 20L4 18.59l7.72-7.72 1.47 1.35L5.41 20z\"/>\n",
              "  </svg>\n",
              "      </button>\n",
              "      \n",
              "  <style>\n",
              "    .colab-df-container {\n",
              "      display:flex;\n",
              "      flex-wrap:wrap;\n",
              "      gap: 12px;\n",
              "    }\n",
              "\n",
              "    .colab-df-convert {\n",
              "      background-color: #E8F0FE;\n",
              "      border: none;\n",
              "      border-radius: 50%;\n",
              "      cursor: pointer;\n",
              "      display: none;\n",
              "      fill: #1967D2;\n",
              "      height: 32px;\n",
              "      padding: 0 0 0 0;\n",
              "      width: 32px;\n",
              "    }\n",
              "\n",
              "    .colab-df-convert:hover {\n",
              "      background-color: #E2EBFA;\n",
              "      box-shadow: 0px 1px 2px rgba(60, 64, 67, 0.3), 0px 1px 3px 1px rgba(60, 64, 67, 0.15);\n",
              "      fill: #174EA6;\n",
              "    }\n",
              "\n",
              "    [theme=dark] .colab-df-convert {\n",
              "      background-color: #3B4455;\n",
              "      fill: #D2E3FC;\n",
              "    }\n",
              "\n",
              "    [theme=dark] .colab-df-convert:hover {\n",
              "      background-color: #434B5C;\n",
              "      box-shadow: 0px 1px 3px 1px rgba(0, 0, 0, 0.15);\n",
              "      filter: drop-shadow(0px 1px 2px rgba(0, 0, 0, 0.3));\n",
              "      fill: #FFFFFF;\n",
              "    }\n",
              "  </style>\n",
              "\n",
              "      <script>\n",
              "        const buttonEl =\n",
              "          document.querySelector('#df-c3bd2421-c23e-4484-bf3b-9e1455e98643 button.colab-df-convert');\n",
              "        buttonEl.style.display =\n",
              "          google.colab.kernel.accessAllowed ? 'block' : 'none';\n",
              "\n",
              "        async function convertToInteractive(key) {\n",
              "          const element = document.querySelector('#df-c3bd2421-c23e-4484-bf3b-9e1455e98643');\n",
              "          const dataTable =\n",
              "            await google.colab.kernel.invokeFunction('convertToInteractive',\n",
              "                                                     [key], {});\n",
              "          if (!dataTable) return;\n",
              "\n",
              "          const docLinkHtml = 'Like what you see? Visit the ' +\n",
              "            '<a target=\"_blank\" href=https://colab.research.google.com/notebooks/data_table.ipynb>data table notebook</a>'\n",
              "            + ' to learn more about interactive tables.';\n",
              "          element.innerHTML = '';\n",
              "          dataTable['output_type'] = 'display_data';\n",
              "          await google.colab.output.renderOutput(dataTable, element);\n",
              "          const docLink = document.createElement('div');\n",
              "          docLink.innerHTML = docLinkHtml;\n",
              "          element.appendChild(docLink);\n",
              "        }\n",
              "      </script>\n",
              "    </div>\n",
              "  </div>\n",
              "  "
            ]
          },
          "metadata": {},
          "execution_count": 14
        }
      ]
    },
    {
      "cell_type": "code",
      "source": [
        "from sklearn.preprocessing import StandardScaler\n",
        "from sklearn.model_selection import train_test_split"
      ],
      "metadata": {
        "id": "hxkwfbm934cP"
      },
      "execution_count": 15,
      "outputs": []
    },
    {
      "cell_type": "code",
      "source": [
        "X=isr.drop('charges',axis=1)\n",
        "y=isr['charges']"
      ],
      "metadata": {
        "id": "DgGQxqHg9Bxz"
      },
      "execution_count": 16,
      "outputs": []
    },
    {
      "cell_type": "code",
      "source": [
        "y=pd.DataFrame(y)\n",
        "y.head()"
      ],
      "metadata": {
        "colab": {
          "base_uri": "https://localhost:8080/",
          "height": 206
        },
        "id": "WXEzJdks9Ozh",
        "outputId": "c4f86ff3-f4f5-418c-b72e-7915e53ece2d"
      },
      "execution_count": 17,
      "outputs": [
        {
          "output_type": "execute_result",
          "data": {
            "text/plain": [
              "       charges\n",
              "0  16884.92400\n",
              "1   1725.55230\n",
              "2   4449.46200\n",
              "3  21984.47061\n",
              "4   3866.85520"
            ],
            "text/html": [
              "\n",
              "  <div id=\"df-9f9b4772-1448-4526-8074-e35bcc79ddd2\">\n",
              "    <div class=\"colab-df-container\">\n",
              "      <div>\n",
              "<style scoped>\n",
              "    .dataframe tbody tr th:only-of-type {\n",
              "        vertical-align: middle;\n",
              "    }\n",
              "\n",
              "    .dataframe tbody tr th {\n",
              "        vertical-align: top;\n",
              "    }\n",
              "\n",
              "    .dataframe thead th {\n",
              "        text-align: right;\n",
              "    }\n",
              "</style>\n",
              "<table border=\"1\" class=\"dataframe\">\n",
              "  <thead>\n",
              "    <tr style=\"text-align: right;\">\n",
              "      <th></th>\n",
              "      <th>charges</th>\n",
              "    </tr>\n",
              "  </thead>\n",
              "  <tbody>\n",
              "    <tr>\n",
              "      <th>0</th>\n",
              "      <td>16884.92400</td>\n",
              "    </tr>\n",
              "    <tr>\n",
              "      <th>1</th>\n",
              "      <td>1725.55230</td>\n",
              "    </tr>\n",
              "    <tr>\n",
              "      <th>2</th>\n",
              "      <td>4449.46200</td>\n",
              "    </tr>\n",
              "    <tr>\n",
              "      <th>3</th>\n",
              "      <td>21984.47061</td>\n",
              "    </tr>\n",
              "    <tr>\n",
              "      <th>4</th>\n",
              "      <td>3866.85520</td>\n",
              "    </tr>\n",
              "  </tbody>\n",
              "</table>\n",
              "</div>\n",
              "      <button class=\"colab-df-convert\" onclick=\"convertToInteractive('df-9f9b4772-1448-4526-8074-e35bcc79ddd2')\"\n",
              "              title=\"Convert this dataframe to an interactive table.\"\n",
              "              style=\"display:none;\">\n",
              "        \n",
              "  <svg xmlns=\"http://www.w3.org/2000/svg\" height=\"24px\"viewBox=\"0 0 24 24\"\n",
              "       width=\"24px\">\n",
              "    <path d=\"M0 0h24v24H0V0z\" fill=\"none\"/>\n",
              "    <path d=\"M18.56 5.44l.94 2.06.94-2.06 2.06-.94-2.06-.94-.94-2.06-.94 2.06-2.06.94zm-11 1L8.5 8.5l.94-2.06 2.06-.94-2.06-.94L8.5 2.5l-.94 2.06-2.06.94zm10 10l.94 2.06.94-2.06 2.06-.94-2.06-.94-.94-2.06-.94 2.06-2.06.94z\"/><path d=\"M17.41 7.96l-1.37-1.37c-.4-.4-.92-.59-1.43-.59-.52 0-1.04.2-1.43.59L10.3 9.45l-7.72 7.72c-.78.78-.78 2.05 0 2.83L4 21.41c.39.39.9.59 1.41.59.51 0 1.02-.2 1.41-.59l7.78-7.78 2.81-2.81c.8-.78.8-2.07 0-2.86zM5.41 20L4 18.59l7.72-7.72 1.47 1.35L5.41 20z\"/>\n",
              "  </svg>\n",
              "      </button>\n",
              "      \n",
              "  <style>\n",
              "    .colab-df-container {\n",
              "      display:flex;\n",
              "      flex-wrap:wrap;\n",
              "      gap: 12px;\n",
              "    }\n",
              "\n",
              "    .colab-df-convert {\n",
              "      background-color: #E8F0FE;\n",
              "      border: none;\n",
              "      border-radius: 50%;\n",
              "      cursor: pointer;\n",
              "      display: none;\n",
              "      fill: #1967D2;\n",
              "      height: 32px;\n",
              "      padding: 0 0 0 0;\n",
              "      width: 32px;\n",
              "    }\n",
              "\n",
              "    .colab-df-convert:hover {\n",
              "      background-color: #E2EBFA;\n",
              "      box-shadow: 0px 1px 2px rgba(60, 64, 67, 0.3), 0px 1px 3px 1px rgba(60, 64, 67, 0.15);\n",
              "      fill: #174EA6;\n",
              "    }\n",
              "\n",
              "    [theme=dark] .colab-df-convert {\n",
              "      background-color: #3B4455;\n",
              "      fill: #D2E3FC;\n",
              "    }\n",
              "\n",
              "    [theme=dark] .colab-df-convert:hover {\n",
              "      background-color: #434B5C;\n",
              "      box-shadow: 0px 1px 3px 1px rgba(0, 0, 0, 0.15);\n",
              "      filter: drop-shadow(0px 1px 2px rgba(0, 0, 0, 0.3));\n",
              "      fill: #FFFFFF;\n",
              "    }\n",
              "  </style>\n",
              "\n",
              "      <script>\n",
              "        const buttonEl =\n",
              "          document.querySelector('#df-9f9b4772-1448-4526-8074-e35bcc79ddd2 button.colab-df-convert');\n",
              "        buttonEl.style.display =\n",
              "          google.colab.kernel.accessAllowed ? 'block' : 'none';\n",
              "\n",
              "        async function convertToInteractive(key) {\n",
              "          const element = document.querySelector('#df-9f9b4772-1448-4526-8074-e35bcc79ddd2');\n",
              "          const dataTable =\n",
              "            await google.colab.kernel.invokeFunction('convertToInteractive',\n",
              "                                                     [key], {});\n",
              "          if (!dataTable) return;\n",
              "\n",
              "          const docLinkHtml = 'Like what you see? Visit the ' +\n",
              "            '<a target=\"_blank\" href=https://colab.research.google.com/notebooks/data_table.ipynb>data table notebook</a>'\n",
              "            + ' to learn more about interactive tables.';\n",
              "          element.innerHTML = '';\n",
              "          dataTable['output_type'] = 'display_data';\n",
              "          await google.colab.output.renderOutput(dataTable, element);\n",
              "          const docLink = document.createElement('div');\n",
              "          docLink.innerHTML = docLinkHtml;\n",
              "          element.appendChild(docLink);\n",
              "        }\n",
              "      </script>\n",
              "    </div>\n",
              "  </div>\n",
              "  "
            ]
          },
          "metadata": {},
          "execution_count": 17
        }
      ]
    },
    {
      "cell_type": "code",
      "source": [
        "X_train, X_test, y_train, y_test = train_test_split(X, y, test_size=0.30, random_state=42)"
      ],
      "metadata": {
        "id": "cFqvXiSn8ahB"
      },
      "execution_count": 18,
      "outputs": []
    },
    {
      "cell_type": "code",
      "source": [
        "X.head()"
      ],
      "metadata": {
        "colab": {
          "base_uri": "https://localhost:8080/",
          "height": 206
        },
        "id": "J549EjHK9c36",
        "outputId": "b0baede4-fa73-4659-8d8c-be7016090c1e"
      },
      "execution_count": 19,
      "outputs": [
        {
          "output_type": "execute_result",
          "data": {
            "text/plain": [
              "   age  sex     bmi  children  smoker  northwest  southeast  southwest\n",
              "0   19    0  27.900         0       1          0          0          1\n",
              "1   18    1  33.770         1       0          0          1          0\n",
              "2   28    1  33.000         3       0          0          1          0\n",
              "3   33    1  22.705         0       0          1          0          0\n",
              "4   32    1  28.880         0       0          1          0          0"
            ],
            "text/html": [
              "\n",
              "  <div id=\"df-8d363f68-0a99-4f32-ba66-112e244f6d36\">\n",
              "    <div class=\"colab-df-container\">\n",
              "      <div>\n",
              "<style scoped>\n",
              "    .dataframe tbody tr th:only-of-type {\n",
              "        vertical-align: middle;\n",
              "    }\n",
              "\n",
              "    .dataframe tbody tr th {\n",
              "        vertical-align: top;\n",
              "    }\n",
              "\n",
              "    .dataframe thead th {\n",
              "        text-align: right;\n",
              "    }\n",
              "</style>\n",
              "<table border=\"1\" class=\"dataframe\">\n",
              "  <thead>\n",
              "    <tr style=\"text-align: right;\">\n",
              "      <th></th>\n",
              "      <th>age</th>\n",
              "      <th>sex</th>\n",
              "      <th>bmi</th>\n",
              "      <th>children</th>\n",
              "      <th>smoker</th>\n",
              "      <th>northwest</th>\n",
              "      <th>southeast</th>\n",
              "      <th>southwest</th>\n",
              "    </tr>\n",
              "  </thead>\n",
              "  <tbody>\n",
              "    <tr>\n",
              "      <th>0</th>\n",
              "      <td>19</td>\n",
              "      <td>0</td>\n",
              "      <td>27.900</td>\n",
              "      <td>0</td>\n",
              "      <td>1</td>\n",
              "      <td>0</td>\n",
              "      <td>0</td>\n",
              "      <td>1</td>\n",
              "    </tr>\n",
              "    <tr>\n",
              "      <th>1</th>\n",
              "      <td>18</td>\n",
              "      <td>1</td>\n",
              "      <td>33.770</td>\n",
              "      <td>1</td>\n",
              "      <td>0</td>\n",
              "      <td>0</td>\n",
              "      <td>1</td>\n",
              "      <td>0</td>\n",
              "    </tr>\n",
              "    <tr>\n",
              "      <th>2</th>\n",
              "      <td>28</td>\n",
              "      <td>1</td>\n",
              "      <td>33.000</td>\n",
              "      <td>3</td>\n",
              "      <td>0</td>\n",
              "      <td>0</td>\n",
              "      <td>1</td>\n",
              "      <td>0</td>\n",
              "    </tr>\n",
              "    <tr>\n",
              "      <th>3</th>\n",
              "      <td>33</td>\n",
              "      <td>1</td>\n",
              "      <td>22.705</td>\n",
              "      <td>0</td>\n",
              "      <td>0</td>\n",
              "      <td>1</td>\n",
              "      <td>0</td>\n",
              "      <td>0</td>\n",
              "    </tr>\n",
              "    <tr>\n",
              "      <th>4</th>\n",
              "      <td>32</td>\n",
              "      <td>1</td>\n",
              "      <td>28.880</td>\n",
              "      <td>0</td>\n",
              "      <td>0</td>\n",
              "      <td>1</td>\n",
              "      <td>0</td>\n",
              "      <td>0</td>\n",
              "    </tr>\n",
              "  </tbody>\n",
              "</table>\n",
              "</div>\n",
              "      <button class=\"colab-df-convert\" onclick=\"convertToInteractive('df-8d363f68-0a99-4f32-ba66-112e244f6d36')\"\n",
              "              title=\"Convert this dataframe to an interactive table.\"\n",
              "              style=\"display:none;\">\n",
              "        \n",
              "  <svg xmlns=\"http://www.w3.org/2000/svg\" height=\"24px\"viewBox=\"0 0 24 24\"\n",
              "       width=\"24px\">\n",
              "    <path d=\"M0 0h24v24H0V0z\" fill=\"none\"/>\n",
              "    <path d=\"M18.56 5.44l.94 2.06.94-2.06 2.06-.94-2.06-.94-.94-2.06-.94 2.06-2.06.94zm-11 1L8.5 8.5l.94-2.06 2.06-.94-2.06-.94L8.5 2.5l-.94 2.06-2.06.94zm10 10l.94 2.06.94-2.06 2.06-.94-2.06-.94-.94-2.06-.94 2.06-2.06.94z\"/><path d=\"M17.41 7.96l-1.37-1.37c-.4-.4-.92-.59-1.43-.59-.52 0-1.04.2-1.43.59L10.3 9.45l-7.72 7.72c-.78.78-.78 2.05 0 2.83L4 21.41c.39.39.9.59 1.41.59.51 0 1.02-.2 1.41-.59l7.78-7.78 2.81-2.81c.8-.78.8-2.07 0-2.86zM5.41 20L4 18.59l7.72-7.72 1.47 1.35L5.41 20z\"/>\n",
              "  </svg>\n",
              "      </button>\n",
              "      \n",
              "  <style>\n",
              "    .colab-df-container {\n",
              "      display:flex;\n",
              "      flex-wrap:wrap;\n",
              "      gap: 12px;\n",
              "    }\n",
              "\n",
              "    .colab-df-convert {\n",
              "      background-color: #E8F0FE;\n",
              "      border: none;\n",
              "      border-radius: 50%;\n",
              "      cursor: pointer;\n",
              "      display: none;\n",
              "      fill: #1967D2;\n",
              "      height: 32px;\n",
              "      padding: 0 0 0 0;\n",
              "      width: 32px;\n",
              "    }\n",
              "\n",
              "    .colab-df-convert:hover {\n",
              "      background-color: #E2EBFA;\n",
              "      box-shadow: 0px 1px 2px rgba(60, 64, 67, 0.3), 0px 1px 3px 1px rgba(60, 64, 67, 0.15);\n",
              "      fill: #174EA6;\n",
              "    }\n",
              "\n",
              "    [theme=dark] .colab-df-convert {\n",
              "      background-color: #3B4455;\n",
              "      fill: #D2E3FC;\n",
              "    }\n",
              "\n",
              "    [theme=dark] .colab-df-convert:hover {\n",
              "      background-color: #434B5C;\n",
              "      box-shadow: 0px 1px 3px 1px rgba(0, 0, 0, 0.15);\n",
              "      filter: drop-shadow(0px 1px 2px rgba(0, 0, 0, 0.3));\n",
              "      fill: #FFFFFF;\n",
              "    }\n",
              "  </style>\n",
              "\n",
              "      <script>\n",
              "        const buttonEl =\n",
              "          document.querySelector('#df-8d363f68-0a99-4f32-ba66-112e244f6d36 button.colab-df-convert');\n",
              "        buttonEl.style.display =\n",
              "          google.colab.kernel.accessAllowed ? 'block' : 'none';\n",
              "\n",
              "        async function convertToInteractive(key) {\n",
              "          const element = document.querySelector('#df-8d363f68-0a99-4f32-ba66-112e244f6d36');\n",
              "          const dataTable =\n",
              "            await google.colab.kernel.invokeFunction('convertToInteractive',\n",
              "                                                     [key], {});\n",
              "          if (!dataTable) return;\n",
              "\n",
              "          const docLinkHtml = 'Like what you see? Visit the ' +\n",
              "            '<a target=\"_blank\" href=https://colab.research.google.com/notebooks/data_table.ipynb>data table notebook</a>'\n",
              "            + ' to learn more about interactive tables.';\n",
              "          element.innerHTML = '';\n",
              "          dataTable['output_type'] = 'display_data';\n",
              "          await google.colab.output.renderOutput(dataTable, element);\n",
              "          const docLink = document.createElement('div');\n",
              "          docLink.innerHTML = docLinkHtml;\n",
              "          element.appendChild(docLink);\n",
              "        }\n",
              "      </script>\n",
              "    </div>\n",
              "  </div>\n",
              "  "
            ]
          },
          "metadata": {},
          "execution_count": 19
        }
      ]
    },
    {
      "cell_type": "code",
      "source": [
        "y.head()"
      ],
      "metadata": {
        "colab": {
          "base_uri": "https://localhost:8080/",
          "height": 206
        },
        "id": "H6iss_6E-x27",
        "outputId": "134985cc-8bcc-444a-f312-994958f0301e"
      },
      "execution_count": 20,
      "outputs": [
        {
          "output_type": "execute_result",
          "data": {
            "text/plain": [
              "       charges\n",
              "0  16884.92400\n",
              "1   1725.55230\n",
              "2   4449.46200\n",
              "3  21984.47061\n",
              "4   3866.85520"
            ],
            "text/html": [
              "\n",
              "  <div id=\"df-a7d077c3-d4de-4f96-9031-f2b86ae65f94\">\n",
              "    <div class=\"colab-df-container\">\n",
              "      <div>\n",
              "<style scoped>\n",
              "    .dataframe tbody tr th:only-of-type {\n",
              "        vertical-align: middle;\n",
              "    }\n",
              "\n",
              "    .dataframe tbody tr th {\n",
              "        vertical-align: top;\n",
              "    }\n",
              "\n",
              "    .dataframe thead th {\n",
              "        text-align: right;\n",
              "    }\n",
              "</style>\n",
              "<table border=\"1\" class=\"dataframe\">\n",
              "  <thead>\n",
              "    <tr style=\"text-align: right;\">\n",
              "      <th></th>\n",
              "      <th>charges</th>\n",
              "    </tr>\n",
              "  </thead>\n",
              "  <tbody>\n",
              "    <tr>\n",
              "      <th>0</th>\n",
              "      <td>16884.92400</td>\n",
              "    </tr>\n",
              "    <tr>\n",
              "      <th>1</th>\n",
              "      <td>1725.55230</td>\n",
              "    </tr>\n",
              "    <tr>\n",
              "      <th>2</th>\n",
              "      <td>4449.46200</td>\n",
              "    </tr>\n",
              "    <tr>\n",
              "      <th>3</th>\n",
              "      <td>21984.47061</td>\n",
              "    </tr>\n",
              "    <tr>\n",
              "      <th>4</th>\n",
              "      <td>3866.85520</td>\n",
              "    </tr>\n",
              "  </tbody>\n",
              "</table>\n",
              "</div>\n",
              "      <button class=\"colab-df-convert\" onclick=\"convertToInteractive('df-a7d077c3-d4de-4f96-9031-f2b86ae65f94')\"\n",
              "              title=\"Convert this dataframe to an interactive table.\"\n",
              "              style=\"display:none;\">\n",
              "        \n",
              "  <svg xmlns=\"http://www.w3.org/2000/svg\" height=\"24px\"viewBox=\"0 0 24 24\"\n",
              "       width=\"24px\">\n",
              "    <path d=\"M0 0h24v24H0V0z\" fill=\"none\"/>\n",
              "    <path d=\"M18.56 5.44l.94 2.06.94-2.06 2.06-.94-2.06-.94-.94-2.06-.94 2.06-2.06.94zm-11 1L8.5 8.5l.94-2.06 2.06-.94-2.06-.94L8.5 2.5l-.94 2.06-2.06.94zm10 10l.94 2.06.94-2.06 2.06-.94-2.06-.94-.94-2.06-.94 2.06-2.06.94z\"/><path d=\"M17.41 7.96l-1.37-1.37c-.4-.4-.92-.59-1.43-.59-.52 0-1.04.2-1.43.59L10.3 9.45l-7.72 7.72c-.78.78-.78 2.05 0 2.83L4 21.41c.39.39.9.59 1.41.59.51 0 1.02-.2 1.41-.59l7.78-7.78 2.81-2.81c.8-.78.8-2.07 0-2.86zM5.41 20L4 18.59l7.72-7.72 1.47 1.35L5.41 20z\"/>\n",
              "  </svg>\n",
              "      </button>\n",
              "      \n",
              "  <style>\n",
              "    .colab-df-container {\n",
              "      display:flex;\n",
              "      flex-wrap:wrap;\n",
              "      gap: 12px;\n",
              "    }\n",
              "\n",
              "    .colab-df-convert {\n",
              "      background-color: #E8F0FE;\n",
              "      border: none;\n",
              "      border-radius: 50%;\n",
              "      cursor: pointer;\n",
              "      display: none;\n",
              "      fill: #1967D2;\n",
              "      height: 32px;\n",
              "      padding: 0 0 0 0;\n",
              "      width: 32px;\n",
              "    }\n",
              "\n",
              "    .colab-df-convert:hover {\n",
              "      background-color: #E2EBFA;\n",
              "      box-shadow: 0px 1px 2px rgba(60, 64, 67, 0.3), 0px 1px 3px 1px rgba(60, 64, 67, 0.15);\n",
              "      fill: #174EA6;\n",
              "    }\n",
              "\n",
              "    [theme=dark] .colab-df-convert {\n",
              "      background-color: #3B4455;\n",
              "      fill: #D2E3FC;\n",
              "    }\n",
              "\n",
              "    [theme=dark] .colab-df-convert:hover {\n",
              "      background-color: #434B5C;\n",
              "      box-shadow: 0px 1px 3px 1px rgba(0, 0, 0, 0.15);\n",
              "      filter: drop-shadow(0px 1px 2px rgba(0, 0, 0, 0.3));\n",
              "      fill: #FFFFFF;\n",
              "    }\n",
              "  </style>\n",
              "\n",
              "      <script>\n",
              "        const buttonEl =\n",
              "          document.querySelector('#df-a7d077c3-d4de-4f96-9031-f2b86ae65f94 button.colab-df-convert');\n",
              "        buttonEl.style.display =\n",
              "          google.colab.kernel.accessAllowed ? 'block' : 'none';\n",
              "\n",
              "        async function convertToInteractive(key) {\n",
              "          const element = document.querySelector('#df-a7d077c3-d4de-4f96-9031-f2b86ae65f94');\n",
              "          const dataTable =\n",
              "            await google.colab.kernel.invokeFunction('convertToInteractive',\n",
              "                                                     [key], {});\n",
              "          if (!dataTable) return;\n",
              "\n",
              "          const docLinkHtml = 'Like what you see? Visit the ' +\n",
              "            '<a target=\"_blank\" href=https://colab.research.google.com/notebooks/data_table.ipynb>data table notebook</a>'\n",
              "            + ' to learn more about interactive tables.';\n",
              "          element.innerHTML = '';\n",
              "          dataTable['output_type'] = 'display_data';\n",
              "          await google.colab.output.renderOutput(dataTable, element);\n",
              "          const docLink = document.createElement('div');\n",
              "          docLink.innerHTML = docLinkHtml;\n",
              "          element.appendChild(docLink);\n",
              "        }\n",
              "      </script>\n",
              "    </div>\n",
              "  </div>\n",
              "  "
            ]
          },
          "metadata": {},
          "execution_count": 20
        }
      ]
    },
    {
      "cell_type": "code",
      "source": [
        "from sklearn.preprocessing import StandardScaler\n",
        "sd=StandardScaler()\n",
        "X_train_t=sd.fit_transform(X_train)\n",
        "X_test_t=sd.fit_transform(X_test)"
      ],
      "metadata": {
        "id": "x_VRKlH1FSDq"
      },
      "execution_count": 21,
      "outputs": []
    },
    {
      "cell_type": "code",
      "source": [
        "y_train_t=sd.fit_transform(y_train)\n",
        "y_test_t=sd.fit_transform(y_test)"
      ],
      "metadata": {
        "id": "HJRUMBShGCdO"
      },
      "execution_count": 22,
      "outputs": []
    },
    {
      "cell_type": "code",
      "source": [
        "import keras"
      ],
      "metadata": {
        "id": "oFNbEBEPAsDQ"
      },
      "execution_count": 23,
      "outputs": []
    },
    {
      "cell_type": "code",
      "source": [
        "from keras.models import Sequential\n",
        "from keras.layers import Dense"
      ],
      "metadata": {
        "id": "OhyxwhrACBgO"
      },
      "execution_count": 24,
      "outputs": []
    },
    {
      "cell_type": "code",
      "source": [
        "reg=Sequential()"
      ],
      "metadata": {
        "id": "7sN-OABYE-gw"
      },
      "execution_count": 25,
      "outputs": []
    },
    {
      "cell_type": "code",
      "source": [
        "reg.add(Dense(4,input_shape=(8,),kernel_initializer='uniform'))\n",
        "reg.add(Dense(4))\n",
        "reg.add(Dense(1))"
      ],
      "metadata": {
        "id": "L3PfCrX29fiK"
      },
      "execution_count": 26,
      "outputs": []
    },
    {
      "cell_type": "code",
      "source": [
        "reg.compile(loss='mse',optimizer='adam',metrics=['mae'])"
      ],
      "metadata": {
        "id": "RW3CiaOUjfiO"
      },
      "execution_count": 27,
      "outputs": []
    },
    {
      "cell_type": "code",
      "source": [
        "reg.fit(X_train_t,y_train_t,epochs=100,batch_size=10)"
      ],
      "metadata": {
        "colab": {
          "base_uri": "https://localhost:8080/"
        },
        "id": "voIRasZSq4OH",
        "outputId": "1dd94bad-0413-45ff-b66c-7dd8208d61ee"
      },
      "execution_count": 28,
      "outputs": [
        {
          "output_type": "stream",
          "name": "stdout",
          "text": [
            "Epoch 1/100\n",
            "94/94 [==============================] - 1s 1ms/step - loss: 0.9027 - mae: 0.7126\n",
            "Epoch 2/100\n",
            "94/94 [==============================] - 0s 2ms/step - loss: 0.5844 - mae: 0.5711\n",
            "Epoch 3/100\n",
            "94/94 [==============================] - 0s 1ms/step - loss: 0.3142 - mae: 0.4028\n",
            "Epoch 4/100\n",
            "94/94 [==============================] - 0s 2ms/step - loss: 0.2647 - mae: 0.3631\n",
            "Epoch 5/100\n",
            "94/94 [==============================] - 0s 2ms/step - loss: 0.2620 - mae: 0.3585\n",
            "Epoch 6/100\n",
            "94/94 [==============================] - 0s 2ms/step - loss: 0.2608 - mae: 0.3534\n",
            "Epoch 7/100\n",
            "94/94 [==============================] - 0s 1ms/step - loss: 0.2622 - mae: 0.3564\n",
            "Epoch 8/100\n",
            "94/94 [==============================] - 0s 2ms/step - loss: 0.2605 - mae: 0.3526\n",
            "Epoch 9/100\n",
            "94/94 [==============================] - 0s 1ms/step - loss: 0.2625 - mae: 0.3567\n",
            "Epoch 10/100\n",
            "94/94 [==============================] - 0s 2ms/step - loss: 0.2619 - mae: 0.3556\n",
            "Epoch 11/100\n",
            "94/94 [==============================] - 0s 2ms/step - loss: 0.2617 - mae: 0.3554\n",
            "Epoch 12/100\n",
            "94/94 [==============================] - 0s 2ms/step - loss: 0.2619 - mae: 0.3527\n",
            "Epoch 13/100\n",
            "94/94 [==============================] - 0s 1ms/step - loss: 0.2629 - mae: 0.3576\n",
            "Epoch 14/100\n",
            "94/94 [==============================] - 0s 1ms/step - loss: 0.2618 - mae: 0.3539\n",
            "Epoch 15/100\n",
            "94/94 [==============================] - 0s 1ms/step - loss: 0.2634 - mae: 0.3586\n",
            "Epoch 16/100\n",
            "94/94 [==============================] - 0s 2ms/step - loss: 0.2618 - mae: 0.3547\n",
            "Epoch 17/100\n",
            "94/94 [==============================] - 0s 2ms/step - loss: 0.2612 - mae: 0.3506\n",
            "Epoch 18/100\n",
            "94/94 [==============================] - 0s 1ms/step - loss: 0.2611 - mae: 0.3532\n",
            "Epoch 19/100\n",
            "94/94 [==============================] - 0s 2ms/step - loss: 0.2615 - mae: 0.3579\n",
            "Epoch 20/100\n",
            "94/94 [==============================] - 0s 2ms/step - loss: 0.2613 - mae: 0.3527\n",
            "Epoch 21/100\n",
            "94/94 [==============================] - 0s 1ms/step - loss: 0.2616 - mae: 0.3571\n",
            "Epoch 22/100\n",
            "94/94 [==============================] - 0s 2ms/step - loss: 0.2618 - mae: 0.3539\n",
            "Epoch 23/100\n",
            "94/94 [==============================] - 0s 2ms/step - loss: 0.2616 - mae: 0.3512\n",
            "Epoch 24/100\n",
            "94/94 [==============================] - 0s 2ms/step - loss: 0.2619 - mae: 0.3566\n",
            "Epoch 25/100\n",
            "94/94 [==============================] - 0s 1ms/step - loss: 0.2627 - mae: 0.3563\n",
            "Epoch 26/100\n",
            "94/94 [==============================] - 0s 2ms/step - loss: 0.2612 - mae: 0.3545\n",
            "Epoch 27/100\n",
            "94/94 [==============================] - 0s 1ms/step - loss: 0.2612 - mae: 0.3515\n",
            "Epoch 28/100\n",
            "94/94 [==============================] - 0s 1ms/step - loss: 0.2608 - mae: 0.3534\n",
            "Epoch 29/100\n",
            "94/94 [==============================] - 0s 2ms/step - loss: 0.2608 - mae: 0.3559\n",
            "Epoch 30/100\n",
            "94/94 [==============================] - 0s 2ms/step - loss: 0.2621 - mae: 0.3507\n",
            "Epoch 31/100\n",
            "94/94 [==============================] - 0s 1ms/step - loss: 0.2619 - mae: 0.3584\n",
            "Epoch 32/100\n",
            "94/94 [==============================] - 0s 1ms/step - loss: 0.2619 - mae: 0.3563\n",
            "Epoch 33/100\n",
            "94/94 [==============================] - 0s 2ms/step - loss: 0.2619 - mae: 0.3546\n",
            "Epoch 34/100\n",
            "94/94 [==============================] - 0s 1ms/step - loss: 0.2622 - mae: 0.3508\n",
            "Epoch 35/100\n",
            "94/94 [==============================] - 0s 2ms/step - loss: 0.2631 - mae: 0.3609\n",
            "Epoch 36/100\n",
            "94/94 [==============================] - 0s 2ms/step - loss: 0.2624 - mae: 0.3527\n",
            "Epoch 37/100\n",
            "94/94 [==============================] - 0s 1ms/step - loss: 0.2621 - mae: 0.3531\n",
            "Epoch 38/100\n",
            "94/94 [==============================] - 0s 2ms/step - loss: 0.2625 - mae: 0.3568\n",
            "Epoch 39/100\n",
            "94/94 [==============================] - 0s 2ms/step - loss: 0.2613 - mae: 0.3521\n",
            "Epoch 40/100\n",
            "94/94 [==============================] - 0s 1ms/step - loss: 0.2621 - mae: 0.3569\n",
            "Epoch 41/100\n",
            "94/94 [==============================] - 0s 1ms/step - loss: 0.2623 - mae: 0.3564\n",
            "Epoch 42/100\n",
            "94/94 [==============================] - 0s 2ms/step - loss: 0.2617 - mae: 0.3494\n",
            "Epoch 43/100\n",
            "94/94 [==============================] - 0s 1ms/step - loss: 0.2619 - mae: 0.3564\n",
            "Epoch 44/100\n",
            "94/94 [==============================] - 0s 2ms/step - loss: 0.2609 - mae: 0.3548\n",
            "Epoch 45/100\n",
            "94/94 [==============================] - 0s 2ms/step - loss: 0.2614 - mae: 0.3533\n",
            "Epoch 46/100\n",
            "94/94 [==============================] - 0s 1ms/step - loss: 0.2611 - mae: 0.3563\n",
            "Epoch 47/100\n",
            "94/94 [==============================] - 0s 1ms/step - loss: 0.2617 - mae: 0.3518\n",
            "Epoch 48/100\n",
            "94/94 [==============================] - 0s 2ms/step - loss: 0.2613 - mae: 0.3550\n",
            "Epoch 49/100\n",
            "94/94 [==============================] - 0s 2ms/step - loss: 0.2625 - mae: 0.3530\n",
            "Epoch 50/100\n",
            "94/94 [==============================] - 0s 1ms/step - loss: 0.2619 - mae: 0.3570\n",
            "Epoch 51/100\n",
            "94/94 [==============================] - 0s 1ms/step - loss: 0.2621 - mae: 0.3540\n",
            "Epoch 52/100\n",
            "94/94 [==============================] - 0s 1ms/step - loss: 0.2621 - mae: 0.3597\n",
            "Epoch 53/100\n",
            "94/94 [==============================] - 0s 1ms/step - loss: 0.2616 - mae: 0.3522\n",
            "Epoch 54/100\n",
            "94/94 [==============================] - 0s 1ms/step - loss: 0.2629 - mae: 0.3552\n",
            "Epoch 55/100\n",
            "94/94 [==============================] - 0s 1ms/step - loss: 0.2602 - mae: 0.3490\n",
            "Epoch 56/100\n",
            "94/94 [==============================] - 0s 2ms/step - loss: 0.2619 - mae: 0.3579\n",
            "Epoch 57/100\n",
            "94/94 [==============================] - 0s 1ms/step - loss: 0.2617 - mae: 0.3550\n",
            "Epoch 58/100\n",
            "94/94 [==============================] - 0s 2ms/step - loss: 0.2611 - mae: 0.3569\n",
            "Epoch 59/100\n",
            "94/94 [==============================] - 0s 1ms/step - loss: 0.2619 - mae: 0.3508\n",
            "Epoch 60/100\n",
            "94/94 [==============================] - 0s 2ms/step - loss: 0.2624 - mae: 0.3562\n",
            "Epoch 61/100\n",
            "94/94 [==============================] - 0s 2ms/step - loss: 0.2609 - mae: 0.3561\n",
            "Epoch 62/100\n",
            "94/94 [==============================] - 0s 2ms/step - loss: 0.2622 - mae: 0.3528\n",
            "Epoch 63/100\n",
            "94/94 [==============================] - 0s 1ms/step - loss: 0.2616 - mae: 0.3538\n",
            "Epoch 64/100\n",
            "94/94 [==============================] - 0s 2ms/step - loss: 0.2608 - mae: 0.3514\n",
            "Epoch 65/100\n",
            "94/94 [==============================] - 0s 2ms/step - loss: 0.2623 - mae: 0.3549\n",
            "Epoch 66/100\n",
            "94/94 [==============================] - 0s 1ms/step - loss: 0.2621 - mae: 0.3565\n",
            "Epoch 67/100\n",
            "94/94 [==============================] - 0s 1ms/step - loss: 0.2617 - mae: 0.3571\n",
            "Epoch 68/100\n",
            "94/94 [==============================] - 0s 1ms/step - loss: 0.2614 - mae: 0.3504\n",
            "Epoch 69/100\n",
            "94/94 [==============================] - 0s 2ms/step - loss: 0.2632 - mae: 0.3605\n",
            "Epoch 70/100\n",
            "94/94 [==============================] - 0s 2ms/step - loss: 0.2616 - mae: 0.3556\n",
            "Epoch 71/100\n",
            "94/94 [==============================] - 0s 2ms/step - loss: 0.2609 - mae: 0.3505\n",
            "Epoch 72/100\n",
            "94/94 [==============================] - 0s 2ms/step - loss: 0.2613 - mae: 0.3565\n",
            "Epoch 73/100\n",
            "94/94 [==============================] - 0s 1ms/step - loss: 0.2607 - mae: 0.3565\n",
            "Epoch 74/100\n",
            "94/94 [==============================] - 0s 1ms/step - loss: 0.2616 - mae: 0.3522\n",
            "Epoch 75/100\n",
            "94/94 [==============================] - 0s 1ms/step - loss: 0.2612 - mae: 0.3517\n",
            "Epoch 76/100\n",
            "94/94 [==============================] - 0s 2ms/step - loss: 0.2611 - mae: 0.3550\n",
            "Epoch 77/100\n",
            "94/94 [==============================] - 0s 2ms/step - loss: 0.2636 - mae: 0.3558\n",
            "Epoch 78/100\n",
            "94/94 [==============================] - 0s 2ms/step - loss: 0.2619 - mae: 0.3572\n",
            "Epoch 79/100\n",
            "94/94 [==============================] - 0s 1ms/step - loss: 0.2610 - mae: 0.3535\n",
            "Epoch 80/100\n",
            "94/94 [==============================] - 0s 2ms/step - loss: 0.2608 - mae: 0.3508\n",
            "Epoch 81/100\n",
            "94/94 [==============================] - 0s 1ms/step - loss: 0.2654 - mae: 0.3593\n",
            "Epoch 82/100\n",
            "94/94 [==============================] - 0s 1ms/step - loss: 0.2618 - mae: 0.3585\n",
            "Epoch 83/100\n",
            "94/94 [==============================] - 0s 2ms/step - loss: 0.2612 - mae: 0.3516\n",
            "Epoch 84/100\n",
            "94/94 [==============================] - 0s 1ms/step - loss: 0.2613 - mae: 0.3509\n",
            "Epoch 85/100\n",
            "94/94 [==============================] - 0s 2ms/step - loss: 0.2618 - mae: 0.3604\n",
            "Epoch 86/100\n",
            "94/94 [==============================] - 0s 1ms/step - loss: 0.2610 - mae: 0.3535\n",
            "Epoch 87/100\n",
            "94/94 [==============================] - 0s 1ms/step - loss: 0.2625 - mae: 0.3526\n",
            "Epoch 88/100\n",
            "94/94 [==============================] - 0s 1ms/step - loss: 0.2613 - mae: 0.3525\n",
            "Epoch 89/100\n",
            "94/94 [==============================] - 0s 2ms/step - loss: 0.2608 - mae: 0.3525\n",
            "Epoch 90/100\n",
            "94/94 [==============================] - 0s 2ms/step - loss: 0.2615 - mae: 0.3565\n",
            "Epoch 91/100\n",
            "94/94 [==============================] - 0s 1ms/step - loss: 0.2613 - mae: 0.3571\n",
            "Epoch 92/100\n",
            "94/94 [==============================] - 0s 2ms/step - loss: 0.2611 - mae: 0.3525\n",
            "Epoch 93/100\n",
            "94/94 [==============================] - 0s 2ms/step - loss: 0.2609 - mae: 0.3522\n",
            "Epoch 94/100\n",
            "94/94 [==============================] - 0s 1ms/step - loss: 0.2616 - mae: 0.3552\n",
            "Epoch 95/100\n",
            "94/94 [==============================] - 0s 2ms/step - loss: 0.2609 - mae: 0.3525\n",
            "Epoch 96/100\n",
            "94/94 [==============================] - 0s 2ms/step - loss: 0.2616 - mae: 0.3577\n",
            "Epoch 97/100\n",
            "94/94 [==============================] - 0s 1ms/step - loss: 0.2605 - mae: 0.3492\n",
            "Epoch 98/100\n",
            "94/94 [==============================] - 0s 2ms/step - loss: 0.2610 - mae: 0.3567\n",
            "Epoch 99/100\n",
            "94/94 [==============================] - 0s 1ms/step - loss: 0.2609 - mae: 0.3558\n",
            "Epoch 100/100\n",
            "94/94 [==============================] - 0s 1ms/step - loss: 0.2609 - mae: 0.3494\n"
          ]
        },
        {
          "output_type": "execute_result",
          "data": {
            "text/plain": [
              "<keras.callbacks.History at 0x7f3e90ab5210>"
            ]
          },
          "metadata": {},
          "execution_count": 28
        }
      ]
    },
    {
      "cell_type": "code",
      "source": [
        "reg.evaluate(X_test_t,y_test_t)"
      ],
      "metadata": {
        "colab": {
          "base_uri": "https://localhost:8080/"
        },
        "id": "1zP2e0sUnBDc",
        "outputId": "ecfe731d-b94d-4b3b-8304-c4710cfddcab"
      },
      "execution_count": 29,
      "outputs": [
        {
          "output_type": "stream",
          "name": "stdout",
          "text": [
            "13/13 [==============================] - 0s 2ms/step - loss: 0.2298 - mae: 0.3332\n"
          ]
        },
        {
          "output_type": "execute_result",
          "data": {
            "text/plain": [
              "[0.22978010773658752, 0.3331688344478607]"
            ]
          },
          "metadata": {},
          "execution_count": 29
        }
      ]
    },
    {
      "cell_type": "code",
      "source": [
        "reg.summary()"
      ],
      "metadata": {
        "colab": {
          "base_uri": "https://localhost:8080/"
        },
        "id": "n4GjyReZqif7",
        "outputId": "38a269fb-ce5d-4a5f-fd3b-dc4999cdba47"
      },
      "execution_count": 30,
      "outputs": [
        {
          "output_type": "stream",
          "name": "stdout",
          "text": [
            "Model: \"sequential\"\n",
            "_________________________________________________________________\n",
            " Layer (type)                Output Shape              Param #   \n",
            "=================================================================\n",
            " dense (Dense)               (None, 4)                 36        \n",
            "                                                                 \n",
            " dense_1 (Dense)             (None, 4)                 20        \n",
            "                                                                 \n",
            " dense_2 (Dense)             (None, 1)                 5         \n",
            "                                                                 \n",
            "=================================================================\n",
            "Total params: 61\n",
            "Trainable params: 61\n",
            "Non-trainable params: 0\n",
            "_________________________________________________________________\n"
          ]
        }
      ]
    },
    {
      "cell_type": "code",
      "source": [
        ""
      ],
      "metadata": {
        "id": "Zmf21ffT2-Eb"
      },
      "execution_count": 30,
      "outputs": []
    },
    {
      "cell_type": "markdown",
      "source": [
        "**Using Min Max scaler**"
      ],
      "metadata": {
        "id": "V9k0mvBS3A2E"
      }
    },
    {
      "cell_type": "code",
      "source": [
        "from sklearn.compose import make_column_transformer\n",
        "from sklearn.preprocessing import MinMaxScaler,OneHotEncoder"
      ],
      "metadata": {
        "id": "0V-NdayTMr2D"
      },
      "execution_count": 31,
      "outputs": []
    },
    {
      "cell_type": "code",
      "source": [
        "ct=make_column_transformer((MinMaxScaler(),['age','bmi','children']),\n",
        "                           (OneHotEncoder(handle_unknown='ignore'),['sex','smoker','region']))"
      ],
      "metadata": {
        "id": "qVr6FF43o1WD"
      },
      "execution_count": 32,
      "outputs": []
    },
    {
      "cell_type": "code",
      "source": [
        "cti=pd.read_csv('/content/drive/MyDrive/insurance.csv')"
      ],
      "metadata": {
        "id": "7LEvg1ekp2QA"
      },
      "execution_count": 33,
      "outputs": []
    },
    {
      "cell_type": "code",
      "source": [
        "cti.head()"
      ],
      "metadata": {
        "colab": {
          "base_uri": "https://localhost:8080/",
          "height": 206
        },
        "id": "hw-9E_0Q1qTe",
        "outputId": "90fdd8ba-b30e-4002-9bc8-b90463145116"
      },
      "execution_count": 34,
      "outputs": [
        {
          "output_type": "execute_result",
          "data": {
            "text/plain": [
              "   age     sex     bmi  children smoker     region      charges\n",
              "0   19  female  27.900         0    yes  southwest  16884.92400\n",
              "1   18    male  33.770         1     no  southeast   1725.55230\n",
              "2   28    male  33.000         3     no  southeast   4449.46200\n",
              "3   33    male  22.705         0     no  northwest  21984.47061\n",
              "4   32    male  28.880         0     no  northwest   3866.85520"
            ],
            "text/html": [
              "\n",
              "  <div id=\"df-ae95bab5-36e9-426b-9211-7508e5c37294\">\n",
              "    <div class=\"colab-df-container\">\n",
              "      <div>\n",
              "<style scoped>\n",
              "    .dataframe tbody tr th:only-of-type {\n",
              "        vertical-align: middle;\n",
              "    }\n",
              "\n",
              "    .dataframe tbody tr th {\n",
              "        vertical-align: top;\n",
              "    }\n",
              "\n",
              "    .dataframe thead th {\n",
              "        text-align: right;\n",
              "    }\n",
              "</style>\n",
              "<table border=\"1\" class=\"dataframe\">\n",
              "  <thead>\n",
              "    <tr style=\"text-align: right;\">\n",
              "      <th></th>\n",
              "      <th>age</th>\n",
              "      <th>sex</th>\n",
              "      <th>bmi</th>\n",
              "      <th>children</th>\n",
              "      <th>smoker</th>\n",
              "      <th>region</th>\n",
              "      <th>charges</th>\n",
              "    </tr>\n",
              "  </thead>\n",
              "  <tbody>\n",
              "    <tr>\n",
              "      <th>0</th>\n",
              "      <td>19</td>\n",
              "      <td>female</td>\n",
              "      <td>27.900</td>\n",
              "      <td>0</td>\n",
              "      <td>yes</td>\n",
              "      <td>southwest</td>\n",
              "      <td>16884.92400</td>\n",
              "    </tr>\n",
              "    <tr>\n",
              "      <th>1</th>\n",
              "      <td>18</td>\n",
              "      <td>male</td>\n",
              "      <td>33.770</td>\n",
              "      <td>1</td>\n",
              "      <td>no</td>\n",
              "      <td>southeast</td>\n",
              "      <td>1725.55230</td>\n",
              "    </tr>\n",
              "    <tr>\n",
              "      <th>2</th>\n",
              "      <td>28</td>\n",
              "      <td>male</td>\n",
              "      <td>33.000</td>\n",
              "      <td>3</td>\n",
              "      <td>no</td>\n",
              "      <td>southeast</td>\n",
              "      <td>4449.46200</td>\n",
              "    </tr>\n",
              "    <tr>\n",
              "      <th>3</th>\n",
              "      <td>33</td>\n",
              "      <td>male</td>\n",
              "      <td>22.705</td>\n",
              "      <td>0</td>\n",
              "      <td>no</td>\n",
              "      <td>northwest</td>\n",
              "      <td>21984.47061</td>\n",
              "    </tr>\n",
              "    <tr>\n",
              "      <th>4</th>\n",
              "      <td>32</td>\n",
              "      <td>male</td>\n",
              "      <td>28.880</td>\n",
              "      <td>0</td>\n",
              "      <td>no</td>\n",
              "      <td>northwest</td>\n",
              "      <td>3866.85520</td>\n",
              "    </tr>\n",
              "  </tbody>\n",
              "</table>\n",
              "</div>\n",
              "      <button class=\"colab-df-convert\" onclick=\"convertToInteractive('df-ae95bab5-36e9-426b-9211-7508e5c37294')\"\n",
              "              title=\"Convert this dataframe to an interactive table.\"\n",
              "              style=\"display:none;\">\n",
              "        \n",
              "  <svg xmlns=\"http://www.w3.org/2000/svg\" height=\"24px\"viewBox=\"0 0 24 24\"\n",
              "       width=\"24px\">\n",
              "    <path d=\"M0 0h24v24H0V0z\" fill=\"none\"/>\n",
              "    <path d=\"M18.56 5.44l.94 2.06.94-2.06 2.06-.94-2.06-.94-.94-2.06-.94 2.06-2.06.94zm-11 1L8.5 8.5l.94-2.06 2.06-.94-2.06-.94L8.5 2.5l-.94 2.06-2.06.94zm10 10l.94 2.06.94-2.06 2.06-.94-2.06-.94-.94-2.06-.94 2.06-2.06.94z\"/><path d=\"M17.41 7.96l-1.37-1.37c-.4-.4-.92-.59-1.43-.59-.52 0-1.04.2-1.43.59L10.3 9.45l-7.72 7.72c-.78.78-.78 2.05 0 2.83L4 21.41c.39.39.9.59 1.41.59.51 0 1.02-.2 1.41-.59l7.78-7.78 2.81-2.81c.8-.78.8-2.07 0-2.86zM5.41 20L4 18.59l7.72-7.72 1.47 1.35L5.41 20z\"/>\n",
              "  </svg>\n",
              "      </button>\n",
              "      \n",
              "  <style>\n",
              "    .colab-df-container {\n",
              "      display:flex;\n",
              "      flex-wrap:wrap;\n",
              "      gap: 12px;\n",
              "    }\n",
              "\n",
              "    .colab-df-convert {\n",
              "      background-color: #E8F0FE;\n",
              "      border: none;\n",
              "      border-radius: 50%;\n",
              "      cursor: pointer;\n",
              "      display: none;\n",
              "      fill: #1967D2;\n",
              "      height: 32px;\n",
              "      padding: 0 0 0 0;\n",
              "      width: 32px;\n",
              "    }\n",
              "\n",
              "    .colab-df-convert:hover {\n",
              "      background-color: #E2EBFA;\n",
              "      box-shadow: 0px 1px 2px rgba(60, 64, 67, 0.3), 0px 1px 3px 1px rgba(60, 64, 67, 0.15);\n",
              "      fill: #174EA6;\n",
              "    }\n",
              "\n",
              "    [theme=dark] .colab-df-convert {\n",
              "      background-color: #3B4455;\n",
              "      fill: #D2E3FC;\n",
              "    }\n",
              "\n",
              "    [theme=dark] .colab-df-convert:hover {\n",
              "      background-color: #434B5C;\n",
              "      box-shadow: 0px 1px 3px 1px rgba(0, 0, 0, 0.15);\n",
              "      filter: drop-shadow(0px 1px 2px rgba(0, 0, 0, 0.3));\n",
              "      fill: #FFFFFF;\n",
              "    }\n",
              "  </style>\n",
              "\n",
              "      <script>\n",
              "        const buttonEl =\n",
              "          document.querySelector('#df-ae95bab5-36e9-426b-9211-7508e5c37294 button.colab-df-convert');\n",
              "        buttonEl.style.display =\n",
              "          google.colab.kernel.accessAllowed ? 'block' : 'none';\n",
              "\n",
              "        async function convertToInteractive(key) {\n",
              "          const element = document.querySelector('#df-ae95bab5-36e9-426b-9211-7508e5c37294');\n",
              "          const dataTable =\n",
              "            await google.colab.kernel.invokeFunction('convertToInteractive',\n",
              "                                                     [key], {});\n",
              "          if (!dataTable) return;\n",
              "\n",
              "          const docLinkHtml = 'Like what you see? Visit the ' +\n",
              "            '<a target=\"_blank\" href=https://colab.research.google.com/notebooks/data_table.ipynb>data table notebook</a>'\n",
              "            + ' to learn more about interactive tables.';\n",
              "          element.innerHTML = '';\n",
              "          dataTable['output_type'] = 'display_data';\n",
              "          await google.colab.output.renderOutput(dataTable, element);\n",
              "          const docLink = document.createElement('div');\n",
              "          docLink.innerHTML = docLinkHtml;\n",
              "          element.appendChild(docLink);\n",
              "        }\n",
              "      </script>\n",
              "    </div>\n",
              "  </div>\n",
              "  "
            ]
          },
          "metadata": {},
          "execution_count": 34
        }
      ]
    },
    {
      "cell_type": "code",
      "source": [
        "X=cti.drop('charges',axis=1)\n",
        "y=cti['charges']"
      ],
      "metadata": {
        "id": "PFqoBMxI1tCp"
      },
      "execution_count": 35,
      "outputs": []
    },
    {
      "cell_type": "code",
      "source": [
        " X_train, X_test, y_train, y_test = train_test_split(X,y, test_size=0.30, random_state=39)"
      ],
      "metadata": {
        "id": "pb2zr7tl3XNV"
      },
      "execution_count": 36,
      "outputs": []
    },
    {
      "cell_type": "code",
      "source": [
        "X_train_i=ct.fit_transform(X_train)\n",
        "X_test_i=ct.transform(X_test)"
      ],
      "metadata": {
        "id": "n7hradxh30wV"
      },
      "execution_count": 37,
      "outputs": []
    },
    {
      "cell_type": "code",
      "source": [
        "ms=MinMaxScaler()"
      ],
      "metadata": {
        "id": "-CsKb6HTHwhg"
      },
      "execution_count": 48,
      "outputs": []
    },
    {
      "cell_type": "code",
      "source": [
        "y_train_i=ms.fit_transform(y_train_i)\n",
        "y_test_i=ms.fit_transform(y_test_i)"
      ],
      "metadata": {
        "id": "XPGgTznPHak4"
      },
      "execution_count": 60,
      "outputs": []
    },
    {
      "cell_type": "code",
      "source": [
        "X_train_i=pd.DataFrame(X_train_i)\n",
        "X_test_i=pd.DataFrame(X_test_i)"
      ],
      "metadata": {
        "id": "USQATwgj4clT"
      },
      "execution_count": 38,
      "outputs": []
    },
    {
      "cell_type": "code",
      "source": [
        "reg1=Sequential()"
      ],
      "metadata": {
        "id": "u9wyuKyA41eV"
      },
      "execution_count": 61,
      "outputs": []
    },
    {
      "cell_type": "code",
      "source": [
        "reg1.add(Dense(6,input_dim=11))\n",
        "reg1.add(Dense(5))\n",
        "reg1.add(Dense(5))\n",
        "reg1.add(Dense(1))"
      ],
      "metadata": {
        "id": "grvVedvi5Wr7"
      },
      "execution_count": 62,
      "outputs": []
    },
    {
      "cell_type": "code",
      "source": [
        "reg1.compile(loss='mae',optimizer='adam',metrics=['mae'])\n",
        "reg1.fit(X_train_i,y_train_i,epochs=100,batch_size=10)"
      ],
      "metadata": {
        "colab": {
          "base_uri": "https://localhost:8080/"
        },
        "id": "usrrj0QO6BrY",
        "outputId": "f70d9e6a-256b-4631-b710-6c4650038df7"
      },
      "execution_count": 63,
      "outputs": [
        {
          "output_type": "stream",
          "name": "stdout",
          "text": [
            "Epoch 1/100\n",
            "94/94 [==============================] - 1s 3ms/step - loss: 0.2071 - mae: 0.2071\n",
            "Epoch 2/100\n",
            "94/94 [==============================] - 0s 4ms/step - loss: 0.0967 - mae: 0.0967\n",
            "Epoch 3/100\n",
            "94/94 [==============================] - 0s 4ms/step - loss: 0.0616 - mae: 0.0616\n",
            "Epoch 4/100\n",
            "94/94 [==============================] - 0s 3ms/step - loss: 0.0607 - mae: 0.0607\n",
            "Epoch 5/100\n",
            "94/94 [==============================] - 0s 2ms/step - loss: 0.0599 - mae: 0.0599\n",
            "Epoch 6/100\n",
            "94/94 [==============================] - 0s 2ms/step - loss: 0.0596 - mae: 0.0596\n",
            "Epoch 7/100\n",
            "94/94 [==============================] - 0s 3ms/step - loss: 0.0593 - mae: 0.0593\n",
            "Epoch 8/100\n",
            "94/94 [==============================] - 0s 4ms/step - loss: 0.0589 - mae: 0.0589\n",
            "Epoch 9/100\n",
            "94/94 [==============================] - 0s 3ms/step - loss: 0.0593 - mae: 0.0593\n",
            "Epoch 10/100\n",
            "94/94 [==============================] - 0s 3ms/step - loss: 0.0592 - mae: 0.0592\n",
            "Epoch 11/100\n",
            "94/94 [==============================] - 0s 3ms/step - loss: 0.0588 - mae: 0.0588\n",
            "Epoch 12/100\n",
            "94/94 [==============================] - 0s 3ms/step - loss: 0.0589 - mae: 0.0589\n",
            "Epoch 13/100\n",
            "94/94 [==============================] - 0s 3ms/step - loss: 0.0583 - mae: 0.0583\n",
            "Epoch 14/100\n",
            "94/94 [==============================] - 0s 3ms/step - loss: 0.0591 - mae: 0.0591\n",
            "Epoch 15/100\n",
            "94/94 [==============================] - 0s 3ms/step - loss: 0.0580 - mae: 0.0580\n",
            "Epoch 16/100\n",
            "94/94 [==============================] - 0s 2ms/step - loss: 0.0590 - mae: 0.0590\n",
            "Epoch 17/100\n",
            "94/94 [==============================] - 0s 2ms/step - loss: 0.0588 - mae: 0.0588\n",
            "Epoch 18/100\n",
            "94/94 [==============================] - 0s 3ms/step - loss: 0.0582 - mae: 0.0582\n",
            "Epoch 19/100\n",
            "94/94 [==============================] - 0s 2ms/step - loss: 0.0584 - mae: 0.0584\n",
            "Epoch 20/100\n",
            "94/94 [==============================] - 0s 2ms/step - loss: 0.0580 - mae: 0.0580\n",
            "Epoch 21/100\n",
            "94/94 [==============================] - 0s 2ms/step - loss: 0.0578 - mae: 0.0578\n",
            "Epoch 22/100\n",
            "94/94 [==============================] - 0s 3ms/step - loss: 0.0581 - mae: 0.0581\n",
            "Epoch 23/100\n",
            "94/94 [==============================] - 0s 2ms/step - loss: 0.0585 - mae: 0.0585\n",
            "Epoch 24/100\n",
            "94/94 [==============================] - 0s 2ms/step - loss: 0.0579 - mae: 0.0579\n",
            "Epoch 25/100\n",
            "94/94 [==============================] - 0s 2ms/step - loss: 0.0584 - mae: 0.0584\n",
            "Epoch 26/100\n",
            "94/94 [==============================] - 0s 2ms/step - loss: 0.0579 - mae: 0.0579\n",
            "Epoch 27/100\n",
            "94/94 [==============================] - 0s 2ms/step - loss: 0.0586 - mae: 0.0586\n",
            "Epoch 28/100\n",
            "94/94 [==============================] - 0s 1ms/step - loss: 0.0585 - mae: 0.0585\n",
            "Epoch 29/100\n",
            "94/94 [==============================] - 0s 2ms/step - loss: 0.0582 - mae: 0.0582\n",
            "Epoch 30/100\n",
            "94/94 [==============================] - 0s 2ms/step - loss: 0.0579 - mae: 0.0579\n",
            "Epoch 31/100\n",
            "94/94 [==============================] - 0s 1ms/step - loss: 0.0580 - mae: 0.0580\n",
            "Epoch 32/100\n",
            "94/94 [==============================] - 0s 2ms/step - loss: 0.0581 - mae: 0.0581\n",
            "Epoch 33/100\n",
            "94/94 [==============================] - 0s 2ms/step - loss: 0.0591 - mae: 0.0591\n",
            "Epoch 34/100\n",
            "94/94 [==============================] - 0s 1ms/step - loss: 0.0588 - mae: 0.0588\n",
            "Epoch 35/100\n",
            "94/94 [==============================] - 0s 1ms/step - loss: 0.0576 - mae: 0.0576\n",
            "Epoch 36/100\n",
            "94/94 [==============================] - 0s 2ms/step - loss: 0.0579 - mae: 0.0579\n",
            "Epoch 37/100\n",
            "94/94 [==============================] - 0s 2ms/step - loss: 0.0583 - mae: 0.0583\n",
            "Epoch 38/100\n",
            "94/94 [==============================] - 0s 2ms/step - loss: 0.0582 - mae: 0.0582\n",
            "Epoch 39/100\n",
            "94/94 [==============================] - 0s 2ms/step - loss: 0.0583 - mae: 0.0583\n",
            "Epoch 40/100\n",
            "94/94 [==============================] - 0s 2ms/step - loss: 0.0579 - mae: 0.0579\n",
            "Epoch 41/100\n",
            "94/94 [==============================] - 0s 1ms/step - loss: 0.0582 - mae: 0.0582\n",
            "Epoch 42/100\n",
            "94/94 [==============================] - 0s 2ms/step - loss: 0.0583 - mae: 0.0583\n",
            "Epoch 43/100\n",
            "94/94 [==============================] - 0s 2ms/step - loss: 0.0581 - mae: 0.0581\n",
            "Epoch 44/100\n",
            "94/94 [==============================] - 0s 2ms/step - loss: 0.0585 - mae: 0.0585\n",
            "Epoch 45/100\n",
            "94/94 [==============================] - 0s 1ms/step - loss: 0.0583 - mae: 0.0583\n",
            "Epoch 46/100\n",
            "94/94 [==============================] - 0s 1ms/step - loss: 0.0582 - mae: 0.0582\n",
            "Epoch 47/100\n",
            "94/94 [==============================] - 0s 2ms/step - loss: 0.0588 - mae: 0.0588\n",
            "Epoch 48/100\n",
            "94/94 [==============================] - 0s 2ms/step - loss: 0.0578 - mae: 0.0578\n",
            "Epoch 49/100\n",
            "94/94 [==============================] - 0s 2ms/step - loss: 0.0589 - mae: 0.0589\n",
            "Epoch 50/100\n",
            "94/94 [==============================] - 0s 2ms/step - loss: 0.0582 - mae: 0.0582\n",
            "Epoch 51/100\n",
            "94/94 [==============================] - 0s 2ms/step - loss: 0.0580 - mae: 0.0580\n",
            "Epoch 52/100\n",
            "94/94 [==============================] - 0s 2ms/step - loss: 0.0580 - mae: 0.0580\n",
            "Epoch 53/100\n",
            "94/94 [==============================] - 0s 2ms/step - loss: 0.0583 - mae: 0.0583\n",
            "Epoch 54/100\n",
            "94/94 [==============================] - 0s 2ms/step - loss: 0.0581 - mae: 0.0581\n",
            "Epoch 55/100\n",
            "94/94 [==============================] - 0s 2ms/step - loss: 0.0581 - mae: 0.0581\n",
            "Epoch 56/100\n",
            "94/94 [==============================] - 0s 2ms/step - loss: 0.0581 - mae: 0.0581\n",
            "Epoch 57/100\n",
            "94/94 [==============================] - 0s 2ms/step - loss: 0.0579 - mae: 0.0579\n",
            "Epoch 58/100\n",
            "94/94 [==============================] - 0s 2ms/step - loss: 0.0579 - mae: 0.0579\n",
            "Epoch 59/100\n",
            "94/94 [==============================] - 0s 2ms/step - loss: 0.0581 - mae: 0.0581\n",
            "Epoch 60/100\n",
            "94/94 [==============================] - 0s 2ms/step - loss: 0.0580 - mae: 0.0580\n",
            "Epoch 61/100\n",
            "94/94 [==============================] - 0s 2ms/step - loss: 0.0579 - mae: 0.0579\n",
            "Epoch 62/100\n",
            "94/94 [==============================] - 0s 2ms/step - loss: 0.0582 - mae: 0.0582\n",
            "Epoch 63/100\n",
            "94/94 [==============================] - 0s 2ms/step - loss: 0.0584 - mae: 0.0584\n",
            "Epoch 64/100\n",
            "94/94 [==============================] - 0s 2ms/step - loss: 0.0577 - mae: 0.0577\n",
            "Epoch 65/100\n",
            "94/94 [==============================] - 0s 2ms/step - loss: 0.0576 - mae: 0.0576\n",
            "Epoch 66/100\n",
            "94/94 [==============================] - 0s 2ms/step - loss: 0.0578 - mae: 0.0578\n",
            "Epoch 67/100\n",
            "94/94 [==============================] - 0s 2ms/step - loss: 0.0576 - mae: 0.0576\n",
            "Epoch 68/100\n",
            "94/94 [==============================] - 0s 2ms/step - loss: 0.0576 - mae: 0.0576\n",
            "Epoch 69/100\n",
            "94/94 [==============================] - 0s 2ms/step - loss: 0.0578 - mae: 0.0578\n",
            "Epoch 70/100\n",
            "94/94 [==============================] - 0s 2ms/step - loss: 0.0582 - mae: 0.0582\n",
            "Epoch 71/100\n",
            "94/94 [==============================] - 0s 2ms/step - loss: 0.0585 - mae: 0.0585\n",
            "Epoch 72/100\n",
            "94/94 [==============================] - 0s 2ms/step - loss: 0.0580 - mae: 0.0580\n",
            "Epoch 73/100\n",
            "94/94 [==============================] - 0s 2ms/step - loss: 0.0579 - mae: 0.0579\n",
            "Epoch 74/100\n",
            "94/94 [==============================] - 0s 2ms/step - loss: 0.0578 - mae: 0.0578\n",
            "Epoch 75/100\n",
            "94/94 [==============================] - 0s 2ms/step - loss: 0.0574 - mae: 0.0574\n",
            "Epoch 76/100\n",
            "94/94 [==============================] - 0s 2ms/step - loss: 0.0580 - mae: 0.0580\n",
            "Epoch 77/100\n",
            "94/94 [==============================] - 0s 2ms/step - loss: 0.0579 - mae: 0.0579\n",
            "Epoch 78/100\n",
            "94/94 [==============================] - 0s 2ms/step - loss: 0.0586 - mae: 0.0586\n",
            "Epoch 79/100\n",
            "94/94 [==============================] - 0s 2ms/step - loss: 0.0579 - mae: 0.0579\n",
            "Epoch 80/100\n",
            "94/94 [==============================] - 0s 2ms/step - loss: 0.0576 - mae: 0.0576\n",
            "Epoch 81/100\n",
            "94/94 [==============================] - 0s 2ms/step - loss: 0.0580 - mae: 0.0580\n",
            "Epoch 82/100\n",
            "94/94 [==============================] - 0s 2ms/step - loss: 0.0580 - mae: 0.0580\n",
            "Epoch 83/100\n",
            "94/94 [==============================] - 0s 2ms/step - loss: 0.0578 - mae: 0.0578\n",
            "Epoch 84/100\n",
            "94/94 [==============================] - 0s 2ms/step - loss: 0.0582 - mae: 0.0582\n",
            "Epoch 85/100\n",
            "94/94 [==============================] - 0s 2ms/step - loss: 0.0578 - mae: 0.0578\n",
            "Epoch 86/100\n",
            "94/94 [==============================] - 0s 2ms/step - loss: 0.0585 - mae: 0.0585\n",
            "Epoch 87/100\n",
            "94/94 [==============================] - 0s 2ms/step - loss: 0.0581 - mae: 0.0581\n",
            "Epoch 88/100\n",
            "94/94 [==============================] - 0s 2ms/step - loss: 0.0585 - mae: 0.0585\n",
            "Epoch 89/100\n",
            "94/94 [==============================] - 0s 2ms/step - loss: 0.0584 - mae: 0.0584\n",
            "Epoch 90/100\n",
            "94/94 [==============================] - 0s 2ms/step - loss: 0.0583 - mae: 0.0583\n",
            "Epoch 91/100\n",
            "94/94 [==============================] - 0s 2ms/step - loss: 0.0579 - mae: 0.0579\n",
            "Epoch 92/100\n",
            "94/94 [==============================] - 0s 2ms/step - loss: 0.0577 - mae: 0.0577\n",
            "Epoch 93/100\n",
            "94/94 [==============================] - 0s 2ms/step - loss: 0.0588 - mae: 0.0588\n",
            "Epoch 94/100\n",
            "94/94 [==============================] - 0s 2ms/step - loss: 0.0579 - mae: 0.0579\n",
            "Epoch 95/100\n",
            "94/94 [==============================] - 0s 2ms/step - loss: 0.0580 - mae: 0.0580\n",
            "Epoch 96/100\n",
            "94/94 [==============================] - 0s 2ms/step - loss: 0.0580 - mae: 0.0580\n",
            "Epoch 97/100\n",
            "94/94 [==============================] - 0s 2ms/step - loss: 0.0585 - mae: 0.0585\n",
            "Epoch 98/100\n",
            "94/94 [==============================] - 0s 2ms/step - loss: 0.0581 - mae: 0.0581\n",
            "Epoch 99/100\n",
            "94/94 [==============================] - 0s 2ms/step - loss: 0.0575 - mae: 0.0575\n",
            "Epoch 100/100\n",
            "94/94 [==============================] - 0s 2ms/step - loss: 0.0573 - mae: 0.0573\n"
          ]
        },
        {
          "output_type": "execute_result",
          "data": {
            "text/plain": [
              "<keras.callbacks.History at 0x7f3e902b0150>"
            ]
          },
          "metadata": {},
          "execution_count": 63
        }
      ]
    },
    {
      "cell_type": "code",
      "source": [
        "reg1.evaluate(X_test_i,y_test_i)"
      ],
      "metadata": {
        "colab": {
          "base_uri": "https://localhost:8080/"
        },
        "id": "IGvQf0MPLmfd",
        "outputId": "a19d5d0f-7ff7-44f7-ff87-c14b35a197d9"
      },
      "execution_count": 64,
      "outputs": [
        {
          "output_type": "stream",
          "name": "stdout",
          "text": [
            "13/13 [==============================] - 0s 2ms/step - loss: 0.0546 - mae: 0.0546\n"
          ]
        },
        {
          "output_type": "execute_result",
          "data": {
            "text/plain": [
              "[0.05457662045955658, 0.05457662045955658]"
            ]
          },
          "metadata": {},
          "execution_count": 64
        }
      ]
    },
    {
      "cell_type": "code",
      "source": [
        ""
      ],
      "metadata": {
        "id": "n5mK8jz-KNf3"
      },
      "execution_count": null,
      "outputs": []
    }
  ]
}