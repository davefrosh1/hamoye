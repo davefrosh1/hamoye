{
 "cells": [
  {
   "cell_type": "code",
   "execution_count": 296,
   "id": "9733d145",
   "metadata": {},
   "outputs": [],
   "source": [
    "import pandas as pd\n",
    "import numpy as np\n",
    "import seaborn as sns"
   ]
  },
  {
   "cell_type": "code",
   "execution_count": 297,
   "id": "42412ab4",
   "metadata": {},
   "outputs": [],
   "source": [
    "tr1=pd.read_csv('trvhe.csv')"
   ]
  },
  {
   "cell_type": "code",
   "execution_count": 298,
   "id": "6457fa7d",
   "metadata": {},
   "outputs": [
    {
     "data": {
      "text/html": [
       "<div>\n",
       "<style scoped>\n",
       "    .dataframe tbody tr th:only-of-type {\n",
       "        vertical-align: middle;\n",
       "    }\n",
       "\n",
       "    .dataframe tbody tr th {\n",
       "        vertical-align: top;\n",
       "    }\n",
       "\n",
       "    .dataframe thead th {\n",
       "        text-align: right;\n",
       "    }\n",
       "</style>\n",
       "<table border=\"1\" class=\"dataframe\">\n",
       "  <thead>\n",
       "    <tr style=\"text-align: right;\">\n",
       "      <th></th>\n",
       "      <th>ID</th>\n",
       "      <th>Policy Start Date</th>\n",
       "      <th>Policy End Date</th>\n",
       "      <th>Gender</th>\n",
       "      <th>Age</th>\n",
       "      <th>First Transaction Date</th>\n",
       "      <th>No_Pol</th>\n",
       "      <th>Car_Category</th>\n",
       "      <th>Subject_Car_Colour</th>\n",
       "      <th>Subject_Car_Make</th>\n",
       "      <th>LGA_Name</th>\n",
       "      <th>State</th>\n",
       "      <th>ProductName</th>\n",
       "      <th>target</th>\n",
       "    </tr>\n",
       "  </thead>\n",
       "  <tbody>\n",
       "    <tr>\n",
       "      <th>0</th>\n",
       "      <td>ID_0040R73</td>\n",
       "      <td>2010-05-14</td>\n",
       "      <td>2011-05-13</td>\n",
       "      <td>Male</td>\n",
       "      <td>30</td>\n",
       "      <td>2010-05-14</td>\n",
       "      <td>1</td>\n",
       "      <td>Saloon</td>\n",
       "      <td>Black</td>\n",
       "      <td>TOYOTA</td>\n",
       "      <td>NaN</td>\n",
       "      <td>NaN</td>\n",
       "      <td>Car Classic</td>\n",
       "      <td>0</td>\n",
       "    </tr>\n",
       "    <tr>\n",
       "      <th>1</th>\n",
       "      <td>ID_0046BNK</td>\n",
       "      <td>2010-11-29</td>\n",
       "      <td>2011-11-28</td>\n",
       "      <td>Female</td>\n",
       "      <td>79</td>\n",
       "      <td>2010-11-29</td>\n",
       "      <td>1</td>\n",
       "      <td>JEEP</td>\n",
       "      <td>Grey</td>\n",
       "      <td>TOYOTA</td>\n",
       "      <td>NaN</td>\n",
       "      <td>NaN</td>\n",
       "      <td>Car Classic</td>\n",
       "      <td>1</td>\n",
       "    </tr>\n",
       "    <tr>\n",
       "      <th>2</th>\n",
       "      <td>ID_005QMC3</td>\n",
       "      <td>2010-03-21</td>\n",
       "      <td>2011-03-20</td>\n",
       "      <td>Male</td>\n",
       "      <td>43</td>\n",
       "      <td>2010-03-21</td>\n",
       "      <td>1</td>\n",
       "      <td>Saloon</td>\n",
       "      <td>Red</td>\n",
       "      <td>TOYOTA</td>\n",
       "      <td>NaN</td>\n",
       "      <td>NaN</td>\n",
       "      <td>Car Classic</td>\n",
       "      <td>0</td>\n",
       "    </tr>\n",
       "    <tr>\n",
       "      <th>3</th>\n",
       "      <td>ID_0079OHW</td>\n",
       "      <td>2010-08-21</td>\n",
       "      <td>2011-08-20</td>\n",
       "      <td>Male</td>\n",
       "      <td>2</td>\n",
       "      <td>2010-08-21</td>\n",
       "      <td>1</td>\n",
       "      <td>NaN</td>\n",
       "      <td>NaN</td>\n",
       "      <td>NaN</td>\n",
       "      <td>NaN</td>\n",
       "      <td>NaN</td>\n",
       "      <td>CarSafe</td>\n",
       "      <td>0</td>\n",
       "    </tr>\n",
       "    <tr>\n",
       "      <th>4</th>\n",
       "      <td>ID_00BRP63</td>\n",
       "      <td>2010-08-29</td>\n",
       "      <td>2010-12-31</td>\n",
       "      <td>Entity</td>\n",
       "      <td>20</td>\n",
       "      <td>2010-08-29</td>\n",
       "      <td>3</td>\n",
       "      <td>NaN</td>\n",
       "      <td>NaN</td>\n",
       "      <td>NaN</td>\n",
       "      <td>Lagos</td>\n",
       "      <td>Lagos</td>\n",
       "      <td>Muuve</td>\n",
       "      <td>1</td>\n",
       "    </tr>\n",
       "  </tbody>\n",
       "</table>\n",
       "</div>"
      ],
      "text/plain": [
       "           ID Policy Start Date Policy End Date  Gender  Age  \\\n",
       "0  ID_0040R73        2010-05-14      2011-05-13    Male   30   \n",
       "1  ID_0046BNK        2010-11-29      2011-11-28  Female   79   \n",
       "2  ID_005QMC3        2010-03-21      2011-03-20    Male   43   \n",
       "3  ID_0079OHW        2010-08-21      2011-08-20    Male    2   \n",
       "4  ID_00BRP63        2010-08-29      2010-12-31  Entity   20   \n",
       "\n",
       "  First Transaction Date  No_Pol Car_Category Subject_Car_Colour  \\\n",
       "0             2010-05-14       1       Saloon              Black   \n",
       "1             2010-11-29       1         JEEP               Grey   \n",
       "2             2010-03-21       1       Saloon                Red   \n",
       "3             2010-08-21       1          NaN                NaN   \n",
       "4             2010-08-29       3          NaN                NaN   \n",
       "\n",
       "  Subject_Car_Make LGA_Name  State  ProductName  target  \n",
       "0           TOYOTA      NaN    NaN  Car Classic       0  \n",
       "1           TOYOTA      NaN    NaN  Car Classic       1  \n",
       "2           TOYOTA      NaN    NaN  Car Classic       0  \n",
       "3              NaN      NaN    NaN      CarSafe       0  \n",
       "4              NaN    Lagos  Lagos        Muuve       1  "
      ]
     },
     "execution_count": 298,
     "metadata": {},
     "output_type": "execute_result"
    }
   ],
   "source": [
    "tr1.head()"
   ]
  },
  {
   "cell_type": "code",
   "execution_count": 299,
   "id": "b233e20c",
   "metadata": {},
   "outputs": [],
   "source": [
    "import datetime as dt"
   ]
  },
  {
   "cell_type": "code",
   "execution_count": 300,
   "id": "07467063",
   "metadata": {},
   "outputs": [],
   "source": [
    " yr=pd.to_datetime(tr1['Policy Start Date'])\n",
    " yr1=pd.to_datetime(tr1['Policy End Date'])"
   ]
  },
  {
   "cell_type": "code",
   "execution_count": 301,
   "id": "4c15631d",
   "metadata": {},
   "outputs": [],
   "source": [
    "tr1['Pol_start']= yr.dt.year\n",
    "tr1['Pol_end']= yr1.dt.year"
   ]
  },
  {
   "cell_type": "code",
   "execution_count": 302,
   "id": "8f739dc5",
   "metadata": {},
   "outputs": [],
   "source": [
    "Sub_time=yr1-yr\n",
    "tr1['Sub-time']=Sub_time"
   ]
  },
  {
   "cell_type": "code",
   "execution_count": 303,
   "id": "ac63e998",
   "metadata": {},
   "outputs": [],
   "source": [
    "X=tr1.drop(['Policy Start Date','Policy End Date','First Transaction Date','ID','target'],axis=1)\n",
    "y=tr1['target']"
   ]
  },
  {
   "cell_type": "code",
   "execution_count": 304,
   "id": "2fa6271e",
   "metadata": {},
   "outputs": [
    {
     "data": {
      "text/html": [
       "<div>\n",
       "<style scoped>\n",
       "    .dataframe tbody tr th:only-of-type {\n",
       "        vertical-align: middle;\n",
       "    }\n",
       "\n",
       "    .dataframe tbody tr th {\n",
       "        vertical-align: top;\n",
       "    }\n",
       "\n",
       "    .dataframe thead th {\n",
       "        text-align: right;\n",
       "    }\n",
       "</style>\n",
       "<table border=\"1\" class=\"dataframe\">\n",
       "  <thead>\n",
       "    <tr style=\"text-align: right;\">\n",
       "      <th></th>\n",
       "      <th>Gender</th>\n",
       "      <th>Age</th>\n",
       "      <th>No_Pol</th>\n",
       "      <th>Car_Category</th>\n",
       "      <th>Subject_Car_Colour</th>\n",
       "      <th>Subject_Car_Make</th>\n",
       "      <th>LGA_Name</th>\n",
       "      <th>State</th>\n",
       "      <th>ProductName</th>\n",
       "      <th>Pol_start</th>\n",
       "      <th>Pol_end</th>\n",
       "      <th>Sub-time</th>\n",
       "    </tr>\n",
       "  </thead>\n",
       "  <tbody>\n",
       "    <tr>\n",
       "      <th>0</th>\n",
       "      <td>Male</td>\n",
       "      <td>30</td>\n",
       "      <td>1</td>\n",
       "      <td>Saloon</td>\n",
       "      <td>Black</td>\n",
       "      <td>TOYOTA</td>\n",
       "      <td>NaN</td>\n",
       "      <td>NaN</td>\n",
       "      <td>Car Classic</td>\n",
       "      <td>2010</td>\n",
       "      <td>2011</td>\n",
       "      <td>364 days</td>\n",
       "    </tr>\n",
       "    <tr>\n",
       "      <th>1</th>\n",
       "      <td>Female</td>\n",
       "      <td>79</td>\n",
       "      <td>1</td>\n",
       "      <td>JEEP</td>\n",
       "      <td>Grey</td>\n",
       "      <td>TOYOTA</td>\n",
       "      <td>NaN</td>\n",
       "      <td>NaN</td>\n",
       "      <td>Car Classic</td>\n",
       "      <td>2010</td>\n",
       "      <td>2011</td>\n",
       "      <td>364 days</td>\n",
       "    </tr>\n",
       "    <tr>\n",
       "      <th>2</th>\n",
       "      <td>Male</td>\n",
       "      <td>43</td>\n",
       "      <td>1</td>\n",
       "      <td>Saloon</td>\n",
       "      <td>Red</td>\n",
       "      <td>TOYOTA</td>\n",
       "      <td>NaN</td>\n",
       "      <td>NaN</td>\n",
       "      <td>Car Classic</td>\n",
       "      <td>2010</td>\n",
       "      <td>2011</td>\n",
       "      <td>364 days</td>\n",
       "    </tr>\n",
       "    <tr>\n",
       "      <th>3</th>\n",
       "      <td>Male</td>\n",
       "      <td>2</td>\n",
       "      <td>1</td>\n",
       "      <td>NaN</td>\n",
       "      <td>NaN</td>\n",
       "      <td>NaN</td>\n",
       "      <td>NaN</td>\n",
       "      <td>NaN</td>\n",
       "      <td>CarSafe</td>\n",
       "      <td>2010</td>\n",
       "      <td>2011</td>\n",
       "      <td>364 days</td>\n",
       "    </tr>\n",
       "    <tr>\n",
       "      <th>4</th>\n",
       "      <td>Entity</td>\n",
       "      <td>20</td>\n",
       "      <td>3</td>\n",
       "      <td>NaN</td>\n",
       "      <td>NaN</td>\n",
       "      <td>NaN</td>\n",
       "      <td>Lagos</td>\n",
       "      <td>Lagos</td>\n",
       "      <td>Muuve</td>\n",
       "      <td>2010</td>\n",
       "      <td>2010</td>\n",
       "      <td>124 days</td>\n",
       "    </tr>\n",
       "  </tbody>\n",
       "</table>\n",
       "</div>"
      ],
      "text/plain": [
       "   Gender  Age  No_Pol Car_Category Subject_Car_Colour Subject_Car_Make  \\\n",
       "0    Male   30       1       Saloon              Black           TOYOTA   \n",
       "1  Female   79       1         JEEP               Grey           TOYOTA   \n",
       "2    Male   43       1       Saloon                Red           TOYOTA   \n",
       "3    Male    2       1          NaN                NaN              NaN   \n",
       "4  Entity   20       3          NaN                NaN              NaN   \n",
       "\n",
       "  LGA_Name  State  ProductName  Pol_start  Pol_end Sub-time  \n",
       "0      NaN    NaN  Car Classic       2010     2011 364 days  \n",
       "1      NaN    NaN  Car Classic       2010     2011 364 days  \n",
       "2      NaN    NaN  Car Classic       2010     2011 364 days  \n",
       "3      NaN    NaN      CarSafe       2010     2011 364 days  \n",
       "4    Lagos  Lagos        Muuve       2010     2010 124 days  "
      ]
     },
     "execution_count": 304,
     "metadata": {},
     "output_type": "execute_result"
    }
   ],
   "source": [
    "X.head()"
   ]
  },
  {
   "cell_type": "code",
   "execution_count": 305,
   "id": "d44ce8fa",
   "metadata": {},
   "outputs": [],
   "source": [
    "import dtale"
   ]
  },
  {
   "cell_type": "code",
   "execution_count": 306,
   "id": "4f28f2c7",
   "metadata": {},
   "outputs": [],
   "source": [
    "var=pd.read_csv('VariableDefinitions_-_Sheet1.csv')"
   ]
  },
  {
   "cell_type": "code",
   "execution_count": 307,
   "id": "ef35ea69",
   "metadata": {},
   "outputs": [
    {
     "data": {
      "text/html": [
       "<div>\n",
       "<style scoped>\n",
       "    .dataframe tbody tr th:only-of-type {\n",
       "        vertical-align: middle;\n",
       "    }\n",
       "\n",
       "    .dataframe tbody tr th {\n",
       "        vertical-align: top;\n",
       "    }\n",
       "\n",
       "    .dataframe thead th {\n",
       "        text-align: right;\n",
       "    }\n",
       "</style>\n",
       "<table border=\"1\" class=\"dataframe\">\n",
       "  <thead>\n",
       "    <tr style=\"text-align: right;\">\n",
       "      <th></th>\n",
       "      <th>ID</th>\n",
       "      <th>Unique ID for the customer</th>\n",
       "    </tr>\n",
       "  </thead>\n",
       "  <tbody>\n",
       "    <tr>\n",
       "      <th>0</th>\n",
       "      <td>Policy Start Date</td>\n",
       "      <td>Date policy started</td>\n",
       "    </tr>\n",
       "    <tr>\n",
       "      <th>1</th>\n",
       "      <td>Policy End Date</td>\n",
       "      <td>Date policy ended</td>\n",
       "    </tr>\n",
       "    <tr>\n",
       "      <th>2</th>\n",
       "      <td>Gender</td>\n",
       "      <td>Gender of the customer</td>\n",
       "    </tr>\n",
       "    <tr>\n",
       "      <th>3</th>\n",
       "      <td>Age</td>\n",
       "      <td>Age of the customer</td>\n",
       "    </tr>\n",
       "    <tr>\n",
       "      <th>4</th>\n",
       "      <td>ProductName</td>\n",
       "      <td>Name of Insurance policy</td>\n",
       "    </tr>\n",
       "    <tr>\n",
       "      <th>5</th>\n",
       "      <td>First Transaction Date</td>\n",
       "      <td>First date payment was made</td>\n",
       "    </tr>\n",
       "    <tr>\n",
       "      <th>6</th>\n",
       "      <td>No_Pol</td>\n",
       "      <td>Number of policies the customer has</td>\n",
       "    </tr>\n",
       "    <tr>\n",
       "      <th>7</th>\n",
       "      <td>Car_Category</td>\n",
       "      <td>Type of car</td>\n",
       "    </tr>\n",
       "    <tr>\n",
       "      <th>8</th>\n",
       "      <td>Subject_Car_Colour</td>\n",
       "      <td>Car colour</td>\n",
       "    </tr>\n",
       "    <tr>\n",
       "      <th>9</th>\n",
       "      <td>Subject_Car_Make</td>\n",
       "      <td>Car make</td>\n",
       "    </tr>\n",
       "    <tr>\n",
       "      <th>10</th>\n",
       "      <td>LGA_Name</td>\n",
       "      <td>City where policy was purchased</td>\n",
       "    </tr>\n",
       "    <tr>\n",
       "      <th>11</th>\n",
       "      <td>State</td>\n",
       "      <td>State where policy was purchased</td>\n",
       "    </tr>\n",
       "    <tr>\n",
       "      <th>12</th>\n",
       "      <td>No_of_claims_3_mon_period</td>\n",
       "      <td>Wether the customer claimed within a 3 month p...</td>\n",
       "    </tr>\n",
       "  </tbody>\n",
       "</table>\n",
       "</div>"
      ],
      "text/plain": [
       "                           ID  \\\n",
       "0           Policy Start Date   \n",
       "1             Policy End Date   \n",
       "2                      Gender   \n",
       "3                         Age   \n",
       "4                 ProductName   \n",
       "5      First Transaction Date   \n",
       "6                      No_Pol   \n",
       "7                Car_Category   \n",
       "8          Subject_Car_Colour   \n",
       "9            Subject_Car_Make   \n",
       "10                   LGA_Name   \n",
       "11                      State   \n",
       "12  No_of_claims_3_mon_period   \n",
       "\n",
       "                           Unique ID for the customer  \n",
       "0                                 Date policy started  \n",
       "1                                   Date policy ended  \n",
       "2                              Gender of the customer  \n",
       "3                                 Age of the customer  \n",
       "4                            Name of Insurance policy  \n",
       "5                         First date payment was made  \n",
       "6                 Number of policies the customer has  \n",
       "7                                         Type of car  \n",
       "8                                          Car colour  \n",
       "9                                            Car make  \n",
       "10                    City where policy was purchased  \n",
       "11                   State where policy was purchased  \n",
       "12  Wether the customer claimed within a 3 month p...  "
      ]
     },
     "execution_count": 307,
     "metadata": {},
     "output_type": "execute_result"
    }
   ],
   "source": [
    "var"
   ]
  },
  {
   "cell_type": "code",
   "execution_count": 308,
   "id": "e4055a67",
   "metadata": {},
   "outputs": [
    {
     "data": {
      "text/plain": [
       "Gender                 359\n",
       "Age                      0\n",
       "No_Pol                   0\n",
       "Car_Category          3738\n",
       "Subject_Car_Colour    6962\n",
       "Subject_Car_Make      2476\n",
       "LGA_Name              6476\n",
       "State                 6488\n",
       "ProductName              0\n",
       "Pol_start                0\n",
       "Pol_end                  0\n",
       "Sub-time                 0\n",
       "dtype: int64"
      ]
     },
     "execution_count": 308,
     "metadata": {},
     "output_type": "execute_result"
    }
   ],
   "source": [
    "X.isnull().sum()"
   ]
  },
  {
   "cell_type": "code",
   "execution_count": 476,
   "id": "a9b07b47",
   "metadata": {},
   "outputs": [],
   "source": [
    "from feature_engine import imputation"
   ]
  },
  {
   "cell_type": "code",
   "execution_count": 311,
   "id": "69d73274",
   "metadata": {},
   "outputs": [],
   "source": [
    "mdi=imputation.CategoricalImputer(imputation_method='frequent',variables='Gender')"
   ]
  },
  {
   "cell_type": "code",
   "execution_count": 312,
   "id": "3c0a1b0c",
   "metadata": {},
   "outputs": [],
   "source": [
    "X=mdi.fit_transform(X)"
   ]
  },
  {
   "cell_type": "markdown",
   "id": "08677bb9",
   "metadata": {},
   "source": [
    "MISSING DATA FOR CAR CATEGORY"
   ]
  },
  {
   "cell_type": "code",
   "execution_count": 313,
   "id": "128807d1",
   "metadata": {},
   "outputs": [
    {
     "data": {
      "text/plain": [
       "3738"
      ]
     },
     "execution_count": 313,
     "metadata": {},
     "output_type": "execute_result"
    }
   ],
   "source": [
    "X['Car_Category'].isnull().sum()"
   ]
  },
  {
   "cell_type": "code",
   "execution_count": 314,
   "id": "91f7b36b",
   "metadata": {},
   "outputs": [],
   "source": [
    "mdi2=imputation.CategoricalImputer(imputation_method='missing',variables='Car_Category')"
   ]
  },
  {
   "cell_type": "code",
   "execution_count": 315,
   "id": "d67137f7",
   "metadata": {},
   "outputs": [],
   "source": [
    "X=mdi2.fit_transform(X)"
   ]
  },
  {
   "cell_type": "markdown",
   "id": "3d2d9ade",
   "metadata": {},
   "source": [
    "MISSING DATA FOR CAR COLOUR"
   ]
  },
  {
   "cell_type": "code",
   "execution_count": 316,
   "id": "a8994a8f",
   "metadata": {},
   "outputs": [
    {
     "data": {
      "text/plain": [
       "0.5763722162430664"
      ]
     },
     "execution_count": 316,
     "metadata": {},
     "output_type": "execute_result"
    }
   ],
   "source": [
    "X['Subject_Car_Colour'].isnull().mean()"
   ]
  },
  {
   "cell_type": "code",
   "execution_count": 317,
   "id": "6878dfcc",
   "metadata": {},
   "outputs": [],
   "source": [
    "mdi3=imputation.CategoricalImputer(imputation_method='missing',variables='Subject_Car_Colour')"
   ]
  },
  {
   "cell_type": "code",
   "execution_count": 318,
   "id": "7470fda6",
   "metadata": {},
   "outputs": [],
   "source": [
    "X=mdi3.fit_transform(X)"
   ]
  },
  {
   "cell_type": "markdown",
   "id": "b400c165",
   "metadata": {},
   "source": [
    "MISSING DATA FOR CAR MAKE"
   ]
  },
  {
   "cell_type": "code",
   "execution_count": 319,
   "id": "fa498efb",
   "metadata": {},
   "outputs": [
    {
     "data": {
      "text/plain": [
       "0.20498385627949334"
      ]
     },
     "execution_count": 319,
     "metadata": {},
     "output_type": "execute_result"
    }
   ],
   "source": [
    "X['Subject_Car_Make'].isnull().mean()"
   ]
  },
  {
   "cell_type": "code",
   "execution_count": 320,
   "id": "8679847b",
   "metadata": {},
   "outputs": [],
   "source": [
    "mdi4=imputation.CategoricalImputer(imputation_method='missing',variables='Subject_Car_Make')\n",
    "X=mdi4.fit_transform(X)"
   ]
  },
  {
   "cell_type": "markdown",
   "id": "3bc520a1",
   "metadata": {},
   "source": [
    "MISSING DATA FOR LGA NAME"
   ]
  },
  {
   "cell_type": "code",
   "execution_count": 321,
   "id": "be57c5e2",
   "metadata": {},
   "outputs": [
    {
     "data": {
      "text/plain": [
       "0.5361370974418412"
      ]
     },
     "execution_count": 321,
     "metadata": {},
     "output_type": "execute_result"
    }
   ],
   "source": [
    "tr2['LGA_Name'].isnull().mean()"
   ]
  },
  {
   "cell_type": "code",
   "execution_count": 322,
   "id": "109e76d9",
   "metadata": {},
   "outputs": [],
   "source": [
    "mdi5=imputation.CategoricalImputer(imputation_method='missing',variables='LGA_Name')\n",
    "X=mdi5.fit_transform(X)"
   ]
  },
  {
   "cell_type": "markdown",
   "id": "6d5e720b",
   "metadata": {},
   "source": [
    "MISSING DATA FOR STATE"
   ]
  },
  {
   "cell_type": "code",
   "execution_count": 323,
   "id": "65a2413a",
   "metadata": {},
   "outputs": [
    {
     "data": {
      "text/plain": [
       "0.5371305571653282"
      ]
     },
     "execution_count": 323,
     "metadata": {},
     "output_type": "execute_result"
    }
   ],
   "source": [
    "tr2['State'].isnull().mean()"
   ]
  },
  {
   "cell_type": "code",
   "execution_count": 324,
   "id": "130f2cad",
   "metadata": {},
   "outputs": [],
   "source": [
    "mdi6=imputation.CategoricalImputer(imputation_method='missing',variables='State')\n",
    "X=mdi6.fit_transform(X)"
   ]
  },
  {
   "cell_type": "code",
   "execution_count": 325,
   "id": "e475c1e4",
   "metadata": {},
   "outputs": [
    {
     "data": {
      "text/plain": [
       "Gender                0\n",
       "Age                   0\n",
       "No_Pol                0\n",
       "Car_Category          0\n",
       "Subject_Car_Colour    0\n",
       "Subject_Car_Make      0\n",
       "LGA_Name              0\n",
       "State                 0\n",
       "ProductName           0\n",
       "Pol_start             0\n",
       "Pol_end               0\n",
       "Sub-time              0\n",
       "dtype: int64"
      ]
     },
     "execution_count": 325,
     "metadata": {},
     "output_type": "execute_result"
    }
   ],
   "source": [
    "X.isnull().sum()"
   ]
  },
  {
   "cell_type": "code",
   "execution_count": 326,
   "id": "dde519f3",
   "metadata": {},
   "outputs": [
    {
     "data": {
      "text/html": [
       "<div>\n",
       "<style scoped>\n",
       "    .dataframe tbody tr th:only-of-type {\n",
       "        vertical-align: middle;\n",
       "    }\n",
       "\n",
       "    .dataframe tbody tr th {\n",
       "        vertical-align: top;\n",
       "    }\n",
       "\n",
       "    .dataframe thead th {\n",
       "        text-align: right;\n",
       "    }\n",
       "</style>\n",
       "<table border=\"1\" class=\"dataframe\">\n",
       "  <thead>\n",
       "    <tr style=\"text-align: right;\">\n",
       "      <th></th>\n",
       "      <th>Gender</th>\n",
       "      <th>Age</th>\n",
       "      <th>No_Pol</th>\n",
       "      <th>Car_Category</th>\n",
       "      <th>Subject_Car_Colour</th>\n",
       "      <th>Subject_Car_Make</th>\n",
       "      <th>LGA_Name</th>\n",
       "      <th>State</th>\n",
       "      <th>ProductName</th>\n",
       "      <th>Pol_start</th>\n",
       "      <th>Pol_end</th>\n",
       "      <th>Sub-time</th>\n",
       "    </tr>\n",
       "  </thead>\n",
       "  <tbody>\n",
       "    <tr>\n",
       "      <th>0</th>\n",
       "      <td>Male</td>\n",
       "      <td>30</td>\n",
       "      <td>1</td>\n",
       "      <td>Saloon</td>\n",
       "      <td>Black</td>\n",
       "      <td>TOYOTA</td>\n",
       "      <td>Missing</td>\n",
       "      <td>Missing</td>\n",
       "      <td>Car Classic</td>\n",
       "      <td>2010</td>\n",
       "      <td>2011</td>\n",
       "      <td>364 days</td>\n",
       "    </tr>\n",
       "    <tr>\n",
       "      <th>1</th>\n",
       "      <td>Female</td>\n",
       "      <td>79</td>\n",
       "      <td>1</td>\n",
       "      <td>JEEP</td>\n",
       "      <td>Grey</td>\n",
       "      <td>TOYOTA</td>\n",
       "      <td>Missing</td>\n",
       "      <td>Missing</td>\n",
       "      <td>Car Classic</td>\n",
       "      <td>2010</td>\n",
       "      <td>2011</td>\n",
       "      <td>364 days</td>\n",
       "    </tr>\n",
       "    <tr>\n",
       "      <th>2</th>\n",
       "      <td>Male</td>\n",
       "      <td>43</td>\n",
       "      <td>1</td>\n",
       "      <td>Saloon</td>\n",
       "      <td>Red</td>\n",
       "      <td>TOYOTA</td>\n",
       "      <td>Missing</td>\n",
       "      <td>Missing</td>\n",
       "      <td>Car Classic</td>\n",
       "      <td>2010</td>\n",
       "      <td>2011</td>\n",
       "      <td>364 days</td>\n",
       "    </tr>\n",
       "    <tr>\n",
       "      <th>3</th>\n",
       "      <td>Male</td>\n",
       "      <td>2</td>\n",
       "      <td>1</td>\n",
       "      <td>Missing</td>\n",
       "      <td>Missing</td>\n",
       "      <td>Missing</td>\n",
       "      <td>Missing</td>\n",
       "      <td>Missing</td>\n",
       "      <td>CarSafe</td>\n",
       "      <td>2010</td>\n",
       "      <td>2011</td>\n",
       "      <td>364 days</td>\n",
       "    </tr>\n",
       "    <tr>\n",
       "      <th>4</th>\n",
       "      <td>Entity</td>\n",
       "      <td>20</td>\n",
       "      <td>3</td>\n",
       "      <td>Missing</td>\n",
       "      <td>Missing</td>\n",
       "      <td>Missing</td>\n",
       "      <td>Lagos</td>\n",
       "      <td>Lagos</td>\n",
       "      <td>Muuve</td>\n",
       "      <td>2010</td>\n",
       "      <td>2010</td>\n",
       "      <td>124 days</td>\n",
       "    </tr>\n",
       "  </tbody>\n",
       "</table>\n",
       "</div>"
      ],
      "text/plain": [
       "   Gender  Age  No_Pol Car_Category Subject_Car_Colour Subject_Car_Make  \\\n",
       "0    Male   30       1       Saloon              Black           TOYOTA   \n",
       "1  Female   79       1         JEEP               Grey           TOYOTA   \n",
       "2    Male   43       1       Saloon                Red           TOYOTA   \n",
       "3    Male    2       1      Missing            Missing          Missing   \n",
       "4  Entity   20       3      Missing            Missing          Missing   \n",
       "\n",
       "  LGA_Name    State  ProductName  Pol_start  Pol_end Sub-time  \n",
       "0  Missing  Missing  Car Classic       2010     2011 364 days  \n",
       "1  Missing  Missing  Car Classic       2010     2011 364 days  \n",
       "2  Missing  Missing  Car Classic       2010     2011 364 days  \n",
       "3  Missing  Missing      CarSafe       2010     2011 364 days  \n",
       "4    Lagos    Lagos        Muuve       2010     2010 124 days  "
      ]
     },
     "execution_count": 326,
     "metadata": {},
     "output_type": "execute_result"
    }
   ],
   "source": [
    "X.head()"
   ]
  },
  {
   "cell_type": "code",
   "execution_count": 327,
   "id": "b5383c8a",
   "metadata": {},
   "outputs": [],
   "source": [
    "X['Sub-time']=pd.to_numeric(X['Sub-time'].dt.days, downcast='integer')"
   ]
  },
  {
   "cell_type": "code",
   "execution_count": 328,
   "id": "31ac9730",
   "metadata": {},
   "outputs": [
    {
     "ename": "KeyError",
     "evalue": "'target'",
     "output_type": "error",
     "traceback": [
      "\u001b[1;31m---------------------------------------------------------------------------\u001b[0m",
      "\u001b[1;31mKeyError\u001b[0m                                  Traceback (most recent call last)",
      "\u001b[1;32m~\\anacondanew\\envs\\ikepy3Tf2\\lib\\site-packages\\pandas\\core\\indexes\\base.py\u001b[0m in \u001b[0;36mget_loc\u001b[1;34m(self, key, method, tolerance)\u001b[0m\n\u001b[0;32m   3079\u001b[0m             \u001b[1;32mtry\u001b[0m\u001b[1;33m:\u001b[0m\u001b[1;33m\u001b[0m\u001b[1;33m\u001b[0m\u001b[0m\n\u001b[1;32m-> 3080\u001b[1;33m                 \u001b[1;32mreturn\u001b[0m \u001b[0mself\u001b[0m\u001b[1;33m.\u001b[0m\u001b[0m_engine\u001b[0m\u001b[1;33m.\u001b[0m\u001b[0mget_loc\u001b[0m\u001b[1;33m(\u001b[0m\u001b[0mcasted_key\u001b[0m\u001b[1;33m)\u001b[0m\u001b[1;33m\u001b[0m\u001b[1;33m\u001b[0m\u001b[0m\n\u001b[0m\u001b[0;32m   3081\u001b[0m             \u001b[1;32mexcept\u001b[0m \u001b[0mKeyError\u001b[0m \u001b[1;32mas\u001b[0m \u001b[0merr\u001b[0m\u001b[1;33m:\u001b[0m\u001b[1;33m\u001b[0m\u001b[1;33m\u001b[0m\u001b[0m\n",
      "\u001b[1;32mpandas\\_libs\\index.pyx\u001b[0m in \u001b[0;36mpandas._libs.index.IndexEngine.get_loc\u001b[1;34m()\u001b[0m\n",
      "\u001b[1;32mpandas\\_libs\\index.pyx\u001b[0m in \u001b[0;36mpandas._libs.index.IndexEngine.get_loc\u001b[1;34m()\u001b[0m\n",
      "\u001b[1;32mpandas\\_libs\\hashtable_class_helper.pxi\u001b[0m in \u001b[0;36mpandas._libs.hashtable.PyObjectHashTable.get_item\u001b[1;34m()\u001b[0m\n",
      "\u001b[1;32mpandas\\_libs\\hashtable_class_helper.pxi\u001b[0m in \u001b[0;36mpandas._libs.hashtable.PyObjectHashTable.get_item\u001b[1;34m()\u001b[0m\n",
      "\u001b[1;31mKeyError\u001b[0m: 'target'",
      "\nThe above exception was the direct cause of the following exception:\n",
      "\u001b[1;31mKeyError\u001b[0m                                  Traceback (most recent call last)",
      "\u001b[1;32m<ipython-input-328-2724ff13d463>\u001b[0m in \u001b[0;36m<module>\u001b[1;34m\u001b[0m\n\u001b[1;32m----> 1\u001b[1;33m \u001b[0mX\u001b[0m\u001b[1;33m[\u001b[0m\u001b[1;34m'target'\u001b[0m\u001b[1;33m]\u001b[0m\u001b[1;33m.\u001b[0m\u001b[0mvalue_counts\u001b[0m\u001b[1;33m(\u001b[0m\u001b[1;33m)\u001b[0m\u001b[1;33m\u001b[0m\u001b[1;33m\u001b[0m\u001b[0m\n\u001b[0m",
      "\u001b[1;32m~\\anacondanew\\envs\\ikepy3Tf2\\lib\\site-packages\\pandas\\core\\frame.py\u001b[0m in \u001b[0;36m__getitem__\u001b[1;34m(self, key)\u001b[0m\n\u001b[0;32m   3022\u001b[0m             \u001b[1;32mif\u001b[0m \u001b[0mself\u001b[0m\u001b[1;33m.\u001b[0m\u001b[0mcolumns\u001b[0m\u001b[1;33m.\u001b[0m\u001b[0mnlevels\u001b[0m \u001b[1;33m>\u001b[0m \u001b[1;36m1\u001b[0m\u001b[1;33m:\u001b[0m\u001b[1;33m\u001b[0m\u001b[1;33m\u001b[0m\u001b[0m\n\u001b[0;32m   3023\u001b[0m                 \u001b[1;32mreturn\u001b[0m \u001b[0mself\u001b[0m\u001b[1;33m.\u001b[0m\u001b[0m_getitem_multilevel\u001b[0m\u001b[1;33m(\u001b[0m\u001b[0mkey\u001b[0m\u001b[1;33m)\u001b[0m\u001b[1;33m\u001b[0m\u001b[1;33m\u001b[0m\u001b[0m\n\u001b[1;32m-> 3024\u001b[1;33m             \u001b[0mindexer\u001b[0m \u001b[1;33m=\u001b[0m \u001b[0mself\u001b[0m\u001b[1;33m.\u001b[0m\u001b[0mcolumns\u001b[0m\u001b[1;33m.\u001b[0m\u001b[0mget_loc\u001b[0m\u001b[1;33m(\u001b[0m\u001b[0mkey\u001b[0m\u001b[1;33m)\u001b[0m\u001b[1;33m\u001b[0m\u001b[1;33m\u001b[0m\u001b[0m\n\u001b[0m\u001b[0;32m   3025\u001b[0m             \u001b[1;32mif\u001b[0m \u001b[0mis_integer\u001b[0m\u001b[1;33m(\u001b[0m\u001b[0mindexer\u001b[0m\u001b[1;33m)\u001b[0m\u001b[1;33m:\u001b[0m\u001b[1;33m\u001b[0m\u001b[1;33m\u001b[0m\u001b[0m\n\u001b[0;32m   3026\u001b[0m                 \u001b[0mindexer\u001b[0m \u001b[1;33m=\u001b[0m \u001b[1;33m[\u001b[0m\u001b[0mindexer\u001b[0m\u001b[1;33m]\u001b[0m\u001b[1;33m\u001b[0m\u001b[1;33m\u001b[0m\u001b[0m\n",
      "\u001b[1;32m~\\anacondanew\\envs\\ikepy3Tf2\\lib\\site-packages\\pandas\\core\\indexes\\base.py\u001b[0m in \u001b[0;36mget_loc\u001b[1;34m(self, key, method, tolerance)\u001b[0m\n\u001b[0;32m   3080\u001b[0m                 \u001b[1;32mreturn\u001b[0m \u001b[0mself\u001b[0m\u001b[1;33m.\u001b[0m\u001b[0m_engine\u001b[0m\u001b[1;33m.\u001b[0m\u001b[0mget_loc\u001b[0m\u001b[1;33m(\u001b[0m\u001b[0mcasted_key\u001b[0m\u001b[1;33m)\u001b[0m\u001b[1;33m\u001b[0m\u001b[1;33m\u001b[0m\u001b[0m\n\u001b[0;32m   3081\u001b[0m             \u001b[1;32mexcept\u001b[0m \u001b[0mKeyError\u001b[0m \u001b[1;32mas\u001b[0m \u001b[0merr\u001b[0m\u001b[1;33m:\u001b[0m\u001b[1;33m\u001b[0m\u001b[1;33m\u001b[0m\u001b[0m\n\u001b[1;32m-> 3082\u001b[1;33m                 \u001b[1;32mraise\u001b[0m \u001b[0mKeyError\u001b[0m\u001b[1;33m(\u001b[0m\u001b[0mkey\u001b[0m\u001b[1;33m)\u001b[0m \u001b[1;32mfrom\u001b[0m \u001b[0merr\u001b[0m\u001b[1;33m\u001b[0m\u001b[1;33m\u001b[0m\u001b[0m\n\u001b[0m\u001b[0;32m   3083\u001b[0m \u001b[1;33m\u001b[0m\u001b[0m\n\u001b[0;32m   3084\u001b[0m         \u001b[1;32mif\u001b[0m \u001b[0mtolerance\u001b[0m \u001b[1;32mis\u001b[0m \u001b[1;32mnot\u001b[0m \u001b[1;32mNone\u001b[0m\u001b[1;33m:\u001b[0m\u001b[1;33m\u001b[0m\u001b[1;33m\u001b[0m\u001b[0m\n",
      "\u001b[1;31mKeyError\u001b[0m: 'target'"
     ]
    }
   ],
   "source": [
    "X['target'].value_counts()"
   ]
  },
  {
   "cell_type": "markdown",
   "id": "8e1ff1de",
   "metadata": {},
   "source": [
    "## Feature Enginnering"
   ]
  },
  {
   "cell_type": "code",
   "execution_count": 329,
   "id": "271fb3d1",
   "metadata": {},
   "outputs": [
    {
     "name": "stdout",
     "output_type": "stream",
     "text": [
      "<class 'pandas.core.frame.DataFrame'>\n",
      "RangeIndex: 12079 entries, 0 to 12078\n",
      "Data columns (total 12 columns):\n",
      " #   Column              Non-Null Count  Dtype \n",
      "---  ------              --------------  ----- \n",
      " 0   Gender              12079 non-null  object\n",
      " 1   Age                 12079 non-null  int64 \n",
      " 2   No_Pol              12079 non-null  int64 \n",
      " 3   Car_Category        12079 non-null  object\n",
      " 4   Subject_Car_Colour  12079 non-null  object\n",
      " 5   Subject_Car_Make    12079 non-null  object\n",
      " 6   LGA_Name            12079 non-null  object\n",
      " 7   State               12079 non-null  object\n",
      " 8   ProductName         12079 non-null  object\n",
      " 9   Pol_start           12079 non-null  int64 \n",
      " 10  Pol_end             12079 non-null  int64 \n",
      " 11  Sub-time            12079 non-null  int16 \n",
      "dtypes: int16(1), int64(4), object(7)\n",
      "memory usage: 1.0+ MB\n"
     ]
    }
   ],
   "source": [
    "X.info()"
   ]
  },
  {
   "cell_type": "markdown",
   "id": "2f74e18c",
   "metadata": {},
   "source": [
    "# Feature engine for Gender column"
   ]
  },
  {
   "cell_type": "code",
   "execution_count": 330,
   "id": "777588a1",
   "metadata": {},
   "outputs": [
    {
     "data": {
      "text/plain": [
       "Male            7976\n",
       "Female          3327\n",
       "Entity           277\n",
       "Joint Gender     223\n",
       "NOT STATED       175\n",
       "NO GENDER         66\n",
       "SEX               35\n",
       "Name: Gender, dtype: int64"
      ]
     },
     "execution_count": 330,
     "metadata": {},
     "output_type": "execute_result"
    }
   ],
   "source": [
    "X['Gender'].value_counts()"
   ]
  },
  {
   "cell_type": "code",
   "execution_count": 331,
   "id": "6abe4649",
   "metadata": {},
   "outputs": [],
   "source": [
    "from feature_engine.encoding import RareLabelEncoder"
   ]
  },
  {
   "cell_type": "code",
   "execution_count": 332,
   "id": "0306fb76",
   "metadata": {},
   "outputs": [
    {
     "data": {
      "text/plain": [
       "Male            0.660320\n",
       "Female          0.275437\n",
       "Entity          0.022932\n",
       "Joint Gender    0.018462\n",
       "NOT STATED      0.014488\n",
       "NO GENDER       0.005464\n",
       "SEX             0.002898\n",
       "Name: Gender, dtype: float64"
      ]
     },
     "execution_count": 332,
     "metadata": {},
     "output_type": "execute_result"
    }
   ],
   "source": [
    "X['Gender'].value_counts()/len(X)"
   ]
  },
  {
   "cell_type": "code",
   "execution_count": 333,
   "id": "876592e5",
   "metadata": {},
   "outputs": [],
   "source": [
    "rare_enc1=RareLabelEncoder(tol=0.05,n_categories=4,variables=['Gender'])"
   ]
  },
  {
   "cell_type": "code",
   "execution_count": 334,
   "id": "303269b0",
   "metadata": {},
   "outputs": [
    {
     "data": {
      "text/plain": [
       "RareLabelEncoder(n_categories=4, variables=['Gender'])"
      ]
     },
     "execution_count": 334,
     "metadata": {},
     "output_type": "execute_result"
    }
   ],
   "source": [
    "rare_enc1.fit(X)"
   ]
  },
  {
   "cell_type": "code",
   "execution_count": 335,
   "id": "6a9bc890",
   "metadata": {},
   "outputs": [],
   "source": [
    "X=rare_enc1.transform(X)"
   ]
  },
  {
   "cell_type": "code",
   "execution_count": 336,
   "id": "c4fdf291",
   "metadata": {},
   "outputs": [
    {
     "data": {
      "text/plain": [
       "Male      7976\n",
       "Female    3327\n",
       "Rare       776\n",
       "Name: Gender, dtype: int64"
      ]
     },
     "execution_count": 336,
     "metadata": {},
     "output_type": "execute_result"
    }
   ],
   "source": [
    "X['Gender'].value_counts()"
   ]
  },
  {
   "cell_type": "code",
   "execution_count": 337,
   "id": "065c0022",
   "metadata": {},
   "outputs": [],
   "source": [
    "from feature_engine.encoding import OneHotEncoder"
   ]
  },
  {
   "cell_type": "code",
   "execution_count": 338,
   "id": "c0ce21c3",
   "metadata": {},
   "outputs": [],
   "source": [
    "ohe1=OneHotEncoder(top_categories=4,variables=['Gender'],drop_last=False)"
   ]
  },
  {
   "cell_type": "code",
   "execution_count": 339,
   "id": "c82123e5",
   "metadata": {},
   "outputs": [
    {
     "data": {
      "text/plain": [
       "OneHotEncoder(top_categories=4, variables=['Gender'])"
      ]
     },
     "execution_count": 339,
     "metadata": {},
     "output_type": "execute_result"
    }
   ],
   "source": [
    "ohe.fit(X)"
   ]
  },
  {
   "cell_type": "code",
   "execution_count": 340,
   "id": "a335ece8",
   "metadata": {},
   "outputs": [],
   "source": [
    "X=ohe.transform(X)"
   ]
  },
  {
   "cell_type": "code",
   "execution_count": 341,
   "id": "951108a6",
   "metadata": {},
   "outputs": [
    {
     "data": {
      "text/html": [
       "<div>\n",
       "<style scoped>\n",
       "    .dataframe tbody tr th:only-of-type {\n",
       "        vertical-align: middle;\n",
       "    }\n",
       "\n",
       "    .dataframe tbody tr th {\n",
       "        vertical-align: top;\n",
       "    }\n",
       "\n",
       "    .dataframe thead th {\n",
       "        text-align: right;\n",
       "    }\n",
       "</style>\n",
       "<table border=\"1\" class=\"dataframe\">\n",
       "  <thead>\n",
       "    <tr style=\"text-align: right;\">\n",
       "      <th></th>\n",
       "      <th>Age</th>\n",
       "      <th>No_Pol</th>\n",
       "      <th>Car_Category</th>\n",
       "      <th>Subject_Car_Colour</th>\n",
       "      <th>Subject_Car_Make</th>\n",
       "      <th>LGA_Name</th>\n",
       "      <th>State</th>\n",
       "      <th>ProductName</th>\n",
       "      <th>Pol_start</th>\n",
       "      <th>Pol_end</th>\n",
       "      <th>Sub-time</th>\n",
       "      <th>Gender_Male</th>\n",
       "      <th>Gender_Female</th>\n",
       "      <th>Gender_Rare</th>\n",
       "    </tr>\n",
       "  </thead>\n",
       "  <tbody>\n",
       "    <tr>\n",
       "      <th>12064</th>\n",
       "      <td>33</td>\n",
       "      <td>1</td>\n",
       "      <td>Saloon</td>\n",
       "      <td>Missing</td>\n",
       "      <td>Honda</td>\n",
       "      <td>Missing</td>\n",
       "      <td>Missing</td>\n",
       "      <td>CarSafe</td>\n",
       "      <td>2010</td>\n",
       "      <td>2011</td>\n",
       "      <td>364</td>\n",
       "      <td>1</td>\n",
       "      <td>0</td>\n",
       "      <td>0</td>\n",
       "    </tr>\n",
       "    <tr>\n",
       "      <th>12065</th>\n",
       "      <td>35</td>\n",
       "      <td>1</td>\n",
       "      <td>JEEP</td>\n",
       "      <td>Missing</td>\n",
       "      <td>TOYOTA</td>\n",
       "      <td>Missing</td>\n",
       "      <td>Missing</td>\n",
       "      <td>Car Classic</td>\n",
       "      <td>2010</td>\n",
       "      <td>2011</td>\n",
       "      <td>364</td>\n",
       "      <td>1</td>\n",
       "      <td>0</td>\n",
       "      <td>0</td>\n",
       "    </tr>\n",
       "    <tr>\n",
       "      <th>12066</th>\n",
       "      <td>48</td>\n",
       "      <td>2</td>\n",
       "      <td>Saloon</td>\n",
       "      <td>Missing</td>\n",
       "      <td>BMW</td>\n",
       "      <td>Missing</td>\n",
       "      <td>Missing</td>\n",
       "      <td>Car Vintage</td>\n",
       "      <td>2003</td>\n",
       "      <td>2034</td>\n",
       "      <td>11108</td>\n",
       "      <td>1</td>\n",
       "      <td>0</td>\n",
       "      <td>0</td>\n",
       "    </tr>\n",
       "    <tr>\n",
       "      <th>12067</th>\n",
       "      <td>54</td>\n",
       "      <td>1</td>\n",
       "      <td>Saloon</td>\n",
       "      <td>Missing</td>\n",
       "      <td>Nissan</td>\n",
       "      <td>Missing</td>\n",
       "      <td>Missing</td>\n",
       "      <td>CarSafe</td>\n",
       "      <td>2010</td>\n",
       "      <td>2011</td>\n",
       "      <td>364</td>\n",
       "      <td>0</td>\n",
       "      <td>1</td>\n",
       "      <td>0</td>\n",
       "    </tr>\n",
       "    <tr>\n",
       "      <th>12068</th>\n",
       "      <td>36</td>\n",
       "      <td>2</td>\n",
       "      <td>JEEP</td>\n",
       "      <td>As Attached</td>\n",
       "      <td>Lexus</td>\n",
       "      <td>Missing</td>\n",
       "      <td>Missing</td>\n",
       "      <td>Car Classic</td>\n",
       "      <td>2010</td>\n",
       "      <td>2011</td>\n",
       "      <td>364</td>\n",
       "      <td>1</td>\n",
       "      <td>0</td>\n",
       "      <td>0</td>\n",
       "    </tr>\n",
       "    <tr>\n",
       "      <th>12069</th>\n",
       "      <td>58</td>\n",
       "      <td>1</td>\n",
       "      <td>Saloon</td>\n",
       "      <td>Black</td>\n",
       "      <td>TOYOTA</td>\n",
       "      <td>Missing</td>\n",
       "      <td>Missing</td>\n",
       "      <td>Car Classic</td>\n",
       "      <td>2010</td>\n",
       "      <td>2011</td>\n",
       "      <td>364</td>\n",
       "      <td>1</td>\n",
       "      <td>0</td>\n",
       "      <td>0</td>\n",
       "    </tr>\n",
       "    <tr>\n",
       "      <th>12070</th>\n",
       "      <td>38</td>\n",
       "      <td>2</td>\n",
       "      <td>Saloon</td>\n",
       "      <td>Missing</td>\n",
       "      <td>TOYOTA</td>\n",
       "      <td>Missing</td>\n",
       "      <td>Missing</td>\n",
       "      <td>Car Classic</td>\n",
       "      <td>2010</td>\n",
       "      <td>2011</td>\n",
       "      <td>284</td>\n",
       "      <td>1</td>\n",
       "      <td>0</td>\n",
       "      <td>0</td>\n",
       "    </tr>\n",
       "    <tr>\n",
       "      <th>12071</th>\n",
       "      <td>70</td>\n",
       "      <td>3</td>\n",
       "      <td>Saloon</td>\n",
       "      <td>Missing</td>\n",
       "      <td>Kia</td>\n",
       "      <td>Port-Harcourt</td>\n",
       "      <td>Port-Harcourt</td>\n",
       "      <td>Car Classic</td>\n",
       "      <td>2010</td>\n",
       "      <td>2011</td>\n",
       "      <td>364</td>\n",
       "      <td>1</td>\n",
       "      <td>0</td>\n",
       "      <td>0</td>\n",
       "    </tr>\n",
       "    <tr>\n",
       "      <th>12072</th>\n",
       "      <td>38</td>\n",
       "      <td>1</td>\n",
       "      <td>Missing</td>\n",
       "      <td>Missing</td>\n",
       "      <td>Missing</td>\n",
       "      <td>Obia/Akpor</td>\n",
       "      <td>Obia-Akpor</td>\n",
       "      <td>Car Classic</td>\n",
       "      <td>2010</td>\n",
       "      <td>2011</td>\n",
       "      <td>364</td>\n",
       "      <td>1</td>\n",
       "      <td>0</td>\n",
       "      <td>0</td>\n",
       "    </tr>\n",
       "    <tr>\n",
       "      <th>12073</th>\n",
       "      <td>31</td>\n",
       "      <td>1</td>\n",
       "      <td>Saloon</td>\n",
       "      <td>Cream</td>\n",
       "      <td>Hyundai</td>\n",
       "      <td>Lagos Island</td>\n",
       "      <td>Lagos</td>\n",
       "      <td>Car Classic</td>\n",
       "      <td>2010</td>\n",
       "      <td>2011</td>\n",
       "      <td>364</td>\n",
       "      <td>0</td>\n",
       "      <td>1</td>\n",
       "      <td>0</td>\n",
       "    </tr>\n",
       "    <tr>\n",
       "      <th>12074</th>\n",
       "      <td>30</td>\n",
       "      <td>1</td>\n",
       "      <td>Missing</td>\n",
       "      <td>Black</td>\n",
       "      <td>Range Rover</td>\n",
       "      <td>Ibeju/Lekki</td>\n",
       "      <td>Ibeju-Lekki</td>\n",
       "      <td>Car Classic</td>\n",
       "      <td>2010</td>\n",
       "      <td>2011</td>\n",
       "      <td>364</td>\n",
       "      <td>0</td>\n",
       "      <td>1</td>\n",
       "      <td>0</td>\n",
       "    </tr>\n",
       "    <tr>\n",
       "      <th>12075</th>\n",
       "      <td>59</td>\n",
       "      <td>1</td>\n",
       "      <td>Missing</td>\n",
       "      <td>Missing</td>\n",
       "      <td>Missing</td>\n",
       "      <td>Missing</td>\n",
       "      <td>Missing</td>\n",
       "      <td>Car Classic</td>\n",
       "      <td>2010</td>\n",
       "      <td>2011</td>\n",
       "      <td>364</td>\n",
       "      <td>0</td>\n",
       "      <td>1</td>\n",
       "      <td>0</td>\n",
       "    </tr>\n",
       "    <tr>\n",
       "      <th>12076</th>\n",
       "      <td>34</td>\n",
       "      <td>1</td>\n",
       "      <td>Missing</td>\n",
       "      <td>Missing</td>\n",
       "      <td>Missing</td>\n",
       "      <td>Missing</td>\n",
       "      <td>Missing</td>\n",
       "      <td>CarSafe</td>\n",
       "      <td>2010</td>\n",
       "      <td>2011</td>\n",
       "      <td>363</td>\n",
       "      <td>1</td>\n",
       "      <td>0</td>\n",
       "      <td>0</td>\n",
       "    </tr>\n",
       "    <tr>\n",
       "      <th>12077</th>\n",
       "      <td>120</td>\n",
       "      <td>2</td>\n",
       "      <td>Missing</td>\n",
       "      <td>White</td>\n",
       "      <td>TOYOTA</td>\n",
       "      <td>Victoria Island</td>\n",
       "      <td>Lagos</td>\n",
       "      <td>CVTP</td>\n",
       "      <td>2010</td>\n",
       "      <td>2011</td>\n",
       "      <td>364</td>\n",
       "      <td>1</td>\n",
       "      <td>0</td>\n",
       "      <td>0</td>\n",
       "    </tr>\n",
       "    <tr>\n",
       "      <th>12078</th>\n",
       "      <td>46</td>\n",
       "      <td>2</td>\n",
       "      <td>JEEP</td>\n",
       "      <td>Black</td>\n",
       "      <td>Land Rover</td>\n",
       "      <td>Lagos Island</td>\n",
       "      <td>Lagos</td>\n",
       "      <td>Car Classic</td>\n",
       "      <td>2010</td>\n",
       "      <td>2011</td>\n",
       "      <td>364</td>\n",
       "      <td>0</td>\n",
       "      <td>1</td>\n",
       "      <td>0</td>\n",
       "    </tr>\n",
       "  </tbody>\n",
       "</table>\n",
       "</div>"
      ],
      "text/plain": [
       "       Age  No_Pol Car_Category Subject_Car_Colour Subject_Car_Make  \\\n",
       "12064   33       1       Saloon            Missing            Honda   \n",
       "12065   35       1         JEEP            Missing           TOYOTA   \n",
       "12066   48       2       Saloon            Missing              BMW   \n",
       "12067   54       1       Saloon            Missing           Nissan   \n",
       "12068   36       2         JEEP        As Attached            Lexus   \n",
       "12069   58       1       Saloon              Black           TOYOTA   \n",
       "12070   38       2       Saloon            Missing           TOYOTA   \n",
       "12071   70       3       Saloon            Missing              Kia   \n",
       "12072   38       1      Missing            Missing          Missing   \n",
       "12073   31       1       Saloon              Cream          Hyundai   \n",
       "12074   30       1      Missing              Black      Range Rover   \n",
       "12075   59       1      Missing            Missing          Missing   \n",
       "12076   34       1      Missing            Missing          Missing   \n",
       "12077  120       2      Missing              White           TOYOTA   \n",
       "12078   46       2         JEEP              Black       Land Rover   \n",
       "\n",
       "              LGA_Name          State  ProductName  Pol_start  Pol_end  \\\n",
       "12064          Missing        Missing      CarSafe       2010     2011   \n",
       "12065          Missing        Missing  Car Classic       2010     2011   \n",
       "12066          Missing        Missing  Car Vintage       2003     2034   \n",
       "12067          Missing        Missing      CarSafe       2010     2011   \n",
       "12068          Missing        Missing  Car Classic       2010     2011   \n",
       "12069          Missing        Missing  Car Classic       2010     2011   \n",
       "12070          Missing        Missing  Car Classic       2010     2011   \n",
       "12071    Port-Harcourt  Port-Harcourt  Car Classic       2010     2011   \n",
       "12072       Obia/Akpor     Obia-Akpor  Car Classic       2010     2011   \n",
       "12073     Lagos Island          Lagos  Car Classic       2010     2011   \n",
       "12074      Ibeju/Lekki    Ibeju-Lekki  Car Classic       2010     2011   \n",
       "12075          Missing        Missing  Car Classic       2010     2011   \n",
       "12076          Missing        Missing      CarSafe       2010     2011   \n",
       "12077  Victoria Island          Lagos         CVTP       2010     2011   \n",
       "12078     Lagos Island          Lagos  Car Classic       2010     2011   \n",
       "\n",
       "       Sub-time  Gender_Male  Gender_Female  Gender_Rare  \n",
       "12064       364            1              0            0  \n",
       "12065       364            1              0            0  \n",
       "12066     11108            1              0            0  \n",
       "12067       364            0              1            0  \n",
       "12068       364            1              0            0  \n",
       "12069       364            1              0            0  \n",
       "12070       284            1              0            0  \n",
       "12071       364            1              0            0  \n",
       "12072       364            1              0            0  \n",
       "12073       364            0              1            0  \n",
       "12074       364            0              1            0  \n",
       "12075       364            0              1            0  \n",
       "12076       363            1              0            0  \n",
       "12077       364            1              0            0  \n",
       "12078       364            0              1            0  "
      ]
     },
     "execution_count": 341,
     "metadata": {},
     "output_type": "execute_result"
    }
   ],
   "source": [
    "X.tail(15)"
   ]
  },
  {
   "cell_type": "markdown",
   "id": "5247a240",
   "metadata": {},
   "source": [
    "## Feature Eng for No Pol"
   ]
  },
  {
   "cell_type": "code",
   "execution_count": 342,
   "id": "fceb78a2",
   "metadata": {},
   "outputs": [
    {
     "data": {
      "text/plain": [
       "1     0.793112\n",
       "2     0.140409\n",
       "3     0.044623\n",
       "4     0.017054\n",
       "5     0.001987\n",
       "7     0.001407\n",
       "10    0.000745\n",
       "6     0.000662\n",
       "Name: No_Pol, dtype: float64"
      ]
     },
     "execution_count": 342,
     "metadata": {},
     "output_type": "execute_result"
    }
   ],
   "source": [
    "X['No_Pol'].value_counts()/len(X)"
   ]
  },
  {
   "cell_type": "code",
   "execution_count": 343,
   "id": "7da0ca70",
   "metadata": {},
   "outputs": [],
   "source": [
    "rare_enc2=RareLabelEncoder(tol=0.05,n_categories=4,variables=['No_Pol'])"
   ]
  },
  {
   "cell_type": "code",
   "execution_count": 344,
   "id": "49ba030b",
   "metadata": {},
   "outputs": [],
   "source": [
    "X['No_Pol']=X['No_Pol'].map({1:1,2:2,3:3,4:3,5:3,7:3,6:3,10:3})"
   ]
  },
  {
   "cell_type": "code",
   "execution_count": 345,
   "id": "4fd23961",
   "metadata": {},
   "outputs": [
    {
     "data": {
      "text/plain": [
       "1    9580\n",
       "2    1696\n",
       "3     803\n",
       "Name: No_Pol, dtype: int64"
      ]
     },
     "execution_count": 345,
     "metadata": {},
     "output_type": "execute_result"
    }
   ],
   "source": [
    "X['No_Pol'].value_counts()"
   ]
  },
  {
   "cell_type": "code",
   "execution_count": 346,
   "id": "eb2d8be2",
   "metadata": {},
   "outputs": [
    {
     "data": {
      "text/html": [
       "<div>\n",
       "<style scoped>\n",
       "    .dataframe tbody tr th:only-of-type {\n",
       "        vertical-align: middle;\n",
       "    }\n",
       "\n",
       "    .dataframe tbody tr th {\n",
       "        vertical-align: top;\n",
       "    }\n",
       "\n",
       "    .dataframe thead th {\n",
       "        text-align: right;\n",
       "    }\n",
       "</style>\n",
       "<table border=\"1\" class=\"dataframe\">\n",
       "  <thead>\n",
       "    <tr style=\"text-align: right;\">\n",
       "      <th></th>\n",
       "      <th>Age</th>\n",
       "      <th>No_Pol</th>\n",
       "      <th>Car_Category</th>\n",
       "      <th>Subject_Car_Colour</th>\n",
       "      <th>Subject_Car_Make</th>\n",
       "      <th>LGA_Name</th>\n",
       "      <th>State</th>\n",
       "      <th>ProductName</th>\n",
       "      <th>Pol_start</th>\n",
       "      <th>Pol_end</th>\n",
       "      <th>Sub-time</th>\n",
       "      <th>Gender_Male</th>\n",
       "      <th>Gender_Female</th>\n",
       "      <th>Gender_Rare</th>\n",
       "    </tr>\n",
       "  </thead>\n",
       "  <tbody>\n",
       "    <tr>\n",
       "      <th>0</th>\n",
       "      <td>30</td>\n",
       "      <td>1</td>\n",
       "      <td>Saloon</td>\n",
       "      <td>Black</td>\n",
       "      <td>TOYOTA</td>\n",
       "      <td>Missing</td>\n",
       "      <td>Missing</td>\n",
       "      <td>Car Classic</td>\n",
       "      <td>2010</td>\n",
       "      <td>2011</td>\n",
       "      <td>364</td>\n",
       "      <td>1</td>\n",
       "      <td>0</td>\n",
       "      <td>0</td>\n",
       "    </tr>\n",
       "    <tr>\n",
       "      <th>1</th>\n",
       "      <td>79</td>\n",
       "      <td>1</td>\n",
       "      <td>JEEP</td>\n",
       "      <td>Grey</td>\n",
       "      <td>TOYOTA</td>\n",
       "      <td>Missing</td>\n",
       "      <td>Missing</td>\n",
       "      <td>Car Classic</td>\n",
       "      <td>2010</td>\n",
       "      <td>2011</td>\n",
       "      <td>364</td>\n",
       "      <td>0</td>\n",
       "      <td>1</td>\n",
       "      <td>0</td>\n",
       "    </tr>\n",
       "    <tr>\n",
       "      <th>2</th>\n",
       "      <td>43</td>\n",
       "      <td>1</td>\n",
       "      <td>Saloon</td>\n",
       "      <td>Red</td>\n",
       "      <td>TOYOTA</td>\n",
       "      <td>Missing</td>\n",
       "      <td>Missing</td>\n",
       "      <td>Car Classic</td>\n",
       "      <td>2010</td>\n",
       "      <td>2011</td>\n",
       "      <td>364</td>\n",
       "      <td>1</td>\n",
       "      <td>0</td>\n",
       "      <td>0</td>\n",
       "    </tr>\n",
       "  </tbody>\n",
       "</table>\n",
       "</div>"
      ],
      "text/plain": [
       "   Age  No_Pol Car_Category Subject_Car_Colour Subject_Car_Make LGA_Name  \\\n",
       "0   30       1       Saloon              Black           TOYOTA  Missing   \n",
       "1   79       1         JEEP               Grey           TOYOTA  Missing   \n",
       "2   43       1       Saloon                Red           TOYOTA  Missing   \n",
       "\n",
       "     State  ProductName  Pol_start  Pol_end  Sub-time  Gender_Male  \\\n",
       "0  Missing  Car Classic       2010     2011       364            1   \n",
       "1  Missing  Car Classic       2010     2011       364            0   \n",
       "2  Missing  Car Classic       2010     2011       364            1   \n",
       "\n",
       "   Gender_Female  Gender_Rare  \n",
       "0              0            0  \n",
       "1              1            0  \n",
       "2              0            0  "
      ]
     },
     "execution_count": 346,
     "metadata": {},
     "output_type": "execute_result"
    }
   ],
   "source": [
    "X.head(3)"
   ]
  },
  {
   "cell_type": "markdown",
   "id": "0d30a1e1",
   "metadata": {},
   "source": [
    "# Car_Cate Feature eng"
   ]
  },
  {
   "cell_type": "code",
   "execution_count": 347,
   "id": "aeffa90d",
   "metadata": {},
   "outputs": [
    {
     "data": {
      "text/plain": [
       "Saloon                     0.499545\n",
       "Missing                    0.309463\n",
       "JEEP                       0.167315\n",
       "Truck                      0.008030\n",
       "Bus                        0.004471\n",
       "Mini Bus                   0.002980\n",
       "Pick Up                    0.002484\n",
       "Motorcycle                 0.001407\n",
       "Mini Van                   0.001076\n",
       "Sedan                      0.000993\n",
       "Wagon                      0.000828\n",
       "Shape Of Vehicle Chasis    0.000497\n",
       "Station 4 Wheel            0.000414\n",
       "Van                        0.000248\n",
       "Tipper Truck               0.000083\n",
       "Pick Up > 3 Tons           0.000083\n",
       "CAMRY CAR HIRE             0.000083\n",
       "Name: Car_Category, dtype: float64"
      ]
     },
     "execution_count": 347,
     "metadata": {},
     "output_type": "execute_result"
    }
   ],
   "source": [
    "X['Car_Category'].value_counts()/len(X)"
   ]
  },
  {
   "cell_type": "code",
   "execution_count": 348,
   "id": "00a125f2",
   "metadata": {},
   "outputs": [
    {
     "data": {
      "text/plain": [
       "Saloon                     6034\n",
       "Missing                    3738\n",
       "JEEP                       2021\n",
       "Truck                        97\n",
       "Bus                          54\n",
       "Mini Bus                     36\n",
       "Pick Up                      30\n",
       "Motorcycle                   17\n",
       "Mini Van                     13\n",
       "Sedan                        12\n",
       "Wagon                        10\n",
       "Shape Of Vehicle Chasis       6\n",
       "Station 4 Wheel               5\n",
       "Van                           3\n",
       "Tipper Truck                  1\n",
       "Pick Up > 3 Tons              1\n",
       "CAMRY CAR HIRE                1\n",
       "Name: Car_Category, dtype: int64"
      ]
     },
     "execution_count": 348,
     "metadata": {},
     "output_type": "execute_result"
    }
   ],
   "source": [
    "X['Car_Category'].value_counts()"
   ]
  },
  {
   "cell_type": "code",
   "execution_count": 349,
   "id": "c5d11430",
   "metadata": {},
   "outputs": [
    {
     "data": {
      "text/plain": [
       "Saloon                     0.499545\n",
       "Missing                    0.309463\n",
       "JEEP                       0.167315\n",
       "Truck                      0.008030\n",
       "Bus                        0.004471\n",
       "Mini Bus                   0.002980\n",
       "Pick Up                    0.002484\n",
       "Motorcycle                 0.001407\n",
       "Mini Van                   0.001076\n",
       "Sedan                      0.000993\n",
       "Wagon                      0.000828\n",
       "Shape Of Vehicle Chasis    0.000497\n",
       "Station 4 Wheel            0.000414\n",
       "Van                        0.000248\n",
       "Tipper Truck               0.000083\n",
       "Pick Up > 3 Tons           0.000083\n",
       "CAMRY CAR HIRE             0.000083\n",
       "Name: Car_Category, dtype: float64"
      ]
     },
     "execution_count": 349,
     "metadata": {},
     "output_type": "execute_result"
    }
   ],
   "source": [
    "X['Car_Category'].value_counts()/len(X)"
   ]
  },
  {
   "cell_type": "code",
   "execution_count": 350,
   "id": "ab0c86d6",
   "metadata": {},
   "outputs": [],
   "source": [
    "rare_enc2=RareLabelEncoder(tol=0.05,n_categories=4,variables=['Car_Category'])"
   ]
  },
  {
   "cell_type": "code",
   "execution_count": 351,
   "id": "f9d0e9de",
   "metadata": {},
   "outputs": [],
   "source": [
    "X=rare_enc2.fit_transform(X)"
   ]
  },
  {
   "cell_type": "code",
   "execution_count": 352,
   "id": "12e32ffb",
   "metadata": {},
   "outputs": [
    {
     "data": {
      "text/plain": [
       "Saloon     0.499545\n",
       "Missing    0.309463\n",
       "JEEP       0.167315\n",
       "Rare       0.023677\n",
       "Name: Car_Category, dtype: float64"
      ]
     },
     "execution_count": 352,
     "metadata": {},
     "output_type": "execute_result"
    }
   ],
   "source": [
    "X.Car_Category.value_counts()/len(X)"
   ]
  },
  {
   "cell_type": "code",
   "execution_count": 353,
   "id": "cc1ab71f",
   "metadata": {},
   "outputs": [
    {
     "data": {
      "text/plain": [
       "Saloon     6034\n",
       "Missing    3738\n",
       "JEEP       2021\n",
       "Rare        286\n",
       "Name: Car_Category, dtype: int64"
      ]
     },
     "execution_count": 353,
     "metadata": {},
     "output_type": "execute_result"
    }
   ],
   "source": [
    "X.Car_Category.value_counts()"
   ]
  },
  {
   "cell_type": "code",
   "execution_count": 354,
   "id": "cf7ae5fe",
   "metadata": {},
   "outputs": [
    {
     "data": {
      "text/html": [
       "<div>\n",
       "<style scoped>\n",
       "    .dataframe tbody tr th:only-of-type {\n",
       "        vertical-align: middle;\n",
       "    }\n",
       "\n",
       "    .dataframe tbody tr th {\n",
       "        vertical-align: top;\n",
       "    }\n",
       "\n",
       "    .dataframe thead th {\n",
       "        text-align: right;\n",
       "    }\n",
       "</style>\n",
       "<table border=\"1\" class=\"dataframe\">\n",
       "  <thead>\n",
       "    <tr style=\"text-align: right;\">\n",
       "      <th></th>\n",
       "      <th>Age</th>\n",
       "      <th>No_Pol</th>\n",
       "      <th>Car_Category</th>\n",
       "      <th>Subject_Car_Colour</th>\n",
       "      <th>Subject_Car_Make</th>\n",
       "      <th>LGA_Name</th>\n",
       "      <th>State</th>\n",
       "      <th>ProductName</th>\n",
       "      <th>Pol_start</th>\n",
       "      <th>Pol_end</th>\n",
       "      <th>Sub-time</th>\n",
       "      <th>Gender_Male</th>\n",
       "      <th>Gender_Female</th>\n",
       "      <th>Gender_Rare</th>\n",
       "    </tr>\n",
       "  </thead>\n",
       "  <tbody>\n",
       "    <tr>\n",
       "      <th>0</th>\n",
       "      <td>30</td>\n",
       "      <td>1</td>\n",
       "      <td>Saloon</td>\n",
       "      <td>Black</td>\n",
       "      <td>TOYOTA</td>\n",
       "      <td>Missing</td>\n",
       "      <td>Missing</td>\n",
       "      <td>Car Classic</td>\n",
       "      <td>2010</td>\n",
       "      <td>2011</td>\n",
       "      <td>364</td>\n",
       "      <td>1</td>\n",
       "      <td>0</td>\n",
       "      <td>0</td>\n",
       "    </tr>\n",
       "    <tr>\n",
       "      <th>1</th>\n",
       "      <td>79</td>\n",
       "      <td>1</td>\n",
       "      <td>JEEP</td>\n",
       "      <td>Grey</td>\n",
       "      <td>TOYOTA</td>\n",
       "      <td>Missing</td>\n",
       "      <td>Missing</td>\n",
       "      <td>Car Classic</td>\n",
       "      <td>2010</td>\n",
       "      <td>2011</td>\n",
       "      <td>364</td>\n",
       "      <td>0</td>\n",
       "      <td>1</td>\n",
       "      <td>0</td>\n",
       "    </tr>\n",
       "    <tr>\n",
       "      <th>2</th>\n",
       "      <td>43</td>\n",
       "      <td>1</td>\n",
       "      <td>Saloon</td>\n",
       "      <td>Red</td>\n",
       "      <td>TOYOTA</td>\n",
       "      <td>Missing</td>\n",
       "      <td>Missing</td>\n",
       "      <td>Car Classic</td>\n",
       "      <td>2010</td>\n",
       "      <td>2011</td>\n",
       "      <td>364</td>\n",
       "      <td>1</td>\n",
       "      <td>0</td>\n",
       "      <td>0</td>\n",
       "    </tr>\n",
       "    <tr>\n",
       "      <th>3</th>\n",
       "      <td>2</td>\n",
       "      <td>1</td>\n",
       "      <td>Missing</td>\n",
       "      <td>Missing</td>\n",
       "      <td>Missing</td>\n",
       "      <td>Missing</td>\n",
       "      <td>Missing</td>\n",
       "      <td>CarSafe</td>\n",
       "      <td>2010</td>\n",
       "      <td>2011</td>\n",
       "      <td>364</td>\n",
       "      <td>1</td>\n",
       "      <td>0</td>\n",
       "      <td>0</td>\n",
       "    </tr>\n",
       "    <tr>\n",
       "      <th>4</th>\n",
       "      <td>20</td>\n",
       "      <td>3</td>\n",
       "      <td>Missing</td>\n",
       "      <td>Missing</td>\n",
       "      <td>Missing</td>\n",
       "      <td>Lagos</td>\n",
       "      <td>Lagos</td>\n",
       "      <td>Muuve</td>\n",
       "      <td>2010</td>\n",
       "      <td>2010</td>\n",
       "      <td>124</td>\n",
       "      <td>0</td>\n",
       "      <td>0</td>\n",
       "      <td>1</td>\n",
       "    </tr>\n",
       "  </tbody>\n",
       "</table>\n",
       "</div>"
      ],
      "text/plain": [
       "   Age  No_Pol Car_Category Subject_Car_Colour Subject_Car_Make LGA_Name  \\\n",
       "0   30       1       Saloon              Black           TOYOTA  Missing   \n",
       "1   79       1         JEEP               Grey           TOYOTA  Missing   \n",
       "2   43       1       Saloon                Red           TOYOTA  Missing   \n",
       "3    2       1      Missing            Missing          Missing  Missing   \n",
       "4   20       3      Missing            Missing          Missing    Lagos   \n",
       "\n",
       "     State  ProductName  Pol_start  Pol_end  Sub-time  Gender_Male  \\\n",
       "0  Missing  Car Classic       2010     2011       364            1   \n",
       "1  Missing  Car Classic       2010     2011       364            0   \n",
       "2  Missing  Car Classic       2010     2011       364            1   \n",
       "3  Missing      CarSafe       2010     2011       364            1   \n",
       "4    Lagos        Muuve       2010     2010       124            0   \n",
       "\n",
       "   Gender_Female  Gender_Rare  \n",
       "0              0            0  \n",
       "1              1            0  \n",
       "2              0            0  \n",
       "3              0            0  \n",
       "4              0            1  "
      ]
     },
     "execution_count": 354,
     "metadata": {},
     "output_type": "execute_result"
    }
   ],
   "source": [
    "X.head(5)"
   ]
  },
  {
   "cell_type": "code",
   "execution_count": 355,
   "id": "93e52b34",
   "metadata": {},
   "outputs": [],
   "source": [
    "ohe2=OneHotEncoder(top_categories=4,variables=['Car_Category'],drop_last=False)"
   ]
  },
  {
   "cell_type": "code",
   "execution_count": 356,
   "id": "626215e2",
   "metadata": {},
   "outputs": [],
   "source": [
    "X=ohe2.fit_transform(X)"
   ]
  },
  {
   "cell_type": "code",
   "execution_count": 357,
   "id": "3d83b64b",
   "metadata": {},
   "outputs": [
    {
     "data": {
      "text/html": [
       "<div>\n",
       "<style scoped>\n",
       "    .dataframe tbody tr th:only-of-type {\n",
       "        vertical-align: middle;\n",
       "    }\n",
       "\n",
       "    .dataframe tbody tr th {\n",
       "        vertical-align: top;\n",
       "    }\n",
       "\n",
       "    .dataframe thead th {\n",
       "        text-align: right;\n",
       "    }\n",
       "</style>\n",
       "<table border=\"1\" class=\"dataframe\">\n",
       "  <thead>\n",
       "    <tr style=\"text-align: right;\">\n",
       "      <th></th>\n",
       "      <th>Age</th>\n",
       "      <th>No_Pol</th>\n",
       "      <th>Subject_Car_Colour</th>\n",
       "      <th>Subject_Car_Make</th>\n",
       "      <th>LGA_Name</th>\n",
       "      <th>State</th>\n",
       "      <th>ProductName</th>\n",
       "      <th>Pol_start</th>\n",
       "      <th>Pol_end</th>\n",
       "      <th>Sub-time</th>\n",
       "      <th>Gender_Male</th>\n",
       "      <th>Gender_Female</th>\n",
       "      <th>Gender_Rare</th>\n",
       "      <th>Car_Category_Saloon</th>\n",
       "      <th>Car_Category_Missing</th>\n",
       "      <th>Car_Category_JEEP</th>\n",
       "      <th>Car_Category_Rare</th>\n",
       "    </tr>\n",
       "  </thead>\n",
       "  <tbody>\n",
       "    <tr>\n",
       "      <th>0</th>\n",
       "      <td>30</td>\n",
       "      <td>1</td>\n",
       "      <td>Black</td>\n",
       "      <td>TOYOTA</td>\n",
       "      <td>Missing</td>\n",
       "      <td>Missing</td>\n",
       "      <td>Car Classic</td>\n",
       "      <td>2010</td>\n",
       "      <td>2011</td>\n",
       "      <td>364</td>\n",
       "      <td>1</td>\n",
       "      <td>0</td>\n",
       "      <td>0</td>\n",
       "      <td>1</td>\n",
       "      <td>0</td>\n",
       "      <td>0</td>\n",
       "      <td>0</td>\n",
       "    </tr>\n",
       "    <tr>\n",
       "      <th>1</th>\n",
       "      <td>79</td>\n",
       "      <td>1</td>\n",
       "      <td>Grey</td>\n",
       "      <td>TOYOTA</td>\n",
       "      <td>Missing</td>\n",
       "      <td>Missing</td>\n",
       "      <td>Car Classic</td>\n",
       "      <td>2010</td>\n",
       "      <td>2011</td>\n",
       "      <td>364</td>\n",
       "      <td>0</td>\n",
       "      <td>1</td>\n",
       "      <td>0</td>\n",
       "      <td>0</td>\n",
       "      <td>0</td>\n",
       "      <td>1</td>\n",
       "      <td>0</td>\n",
       "    </tr>\n",
       "    <tr>\n",
       "      <th>2</th>\n",
       "      <td>43</td>\n",
       "      <td>1</td>\n",
       "      <td>Red</td>\n",
       "      <td>TOYOTA</td>\n",
       "      <td>Missing</td>\n",
       "      <td>Missing</td>\n",
       "      <td>Car Classic</td>\n",
       "      <td>2010</td>\n",
       "      <td>2011</td>\n",
       "      <td>364</td>\n",
       "      <td>1</td>\n",
       "      <td>0</td>\n",
       "      <td>0</td>\n",
       "      <td>1</td>\n",
       "      <td>0</td>\n",
       "      <td>0</td>\n",
       "      <td>0</td>\n",
       "    </tr>\n",
       "    <tr>\n",
       "      <th>3</th>\n",
       "      <td>2</td>\n",
       "      <td>1</td>\n",
       "      <td>Missing</td>\n",
       "      <td>Missing</td>\n",
       "      <td>Missing</td>\n",
       "      <td>Missing</td>\n",
       "      <td>CarSafe</td>\n",
       "      <td>2010</td>\n",
       "      <td>2011</td>\n",
       "      <td>364</td>\n",
       "      <td>1</td>\n",
       "      <td>0</td>\n",
       "      <td>0</td>\n",
       "      <td>0</td>\n",
       "      <td>1</td>\n",
       "      <td>0</td>\n",
       "      <td>0</td>\n",
       "    </tr>\n",
       "    <tr>\n",
       "      <th>4</th>\n",
       "      <td>20</td>\n",
       "      <td>3</td>\n",
       "      <td>Missing</td>\n",
       "      <td>Missing</td>\n",
       "      <td>Lagos</td>\n",
       "      <td>Lagos</td>\n",
       "      <td>Muuve</td>\n",
       "      <td>2010</td>\n",
       "      <td>2010</td>\n",
       "      <td>124</td>\n",
       "      <td>0</td>\n",
       "      <td>0</td>\n",
       "      <td>1</td>\n",
       "      <td>0</td>\n",
       "      <td>1</td>\n",
       "      <td>0</td>\n",
       "      <td>0</td>\n",
       "    </tr>\n",
       "  </tbody>\n",
       "</table>\n",
       "</div>"
      ],
      "text/plain": [
       "   Age  No_Pol Subject_Car_Colour Subject_Car_Make LGA_Name    State  \\\n",
       "0   30       1              Black           TOYOTA  Missing  Missing   \n",
       "1   79       1               Grey           TOYOTA  Missing  Missing   \n",
       "2   43       1                Red           TOYOTA  Missing  Missing   \n",
       "3    2       1            Missing          Missing  Missing  Missing   \n",
       "4   20       3            Missing          Missing    Lagos    Lagos   \n",
       "\n",
       "   ProductName  Pol_start  Pol_end  Sub-time  Gender_Male  Gender_Female  \\\n",
       "0  Car Classic       2010     2011       364            1              0   \n",
       "1  Car Classic       2010     2011       364            0              1   \n",
       "2  Car Classic       2010     2011       364            1              0   \n",
       "3      CarSafe       2010     2011       364            1              0   \n",
       "4        Muuve       2010     2010       124            0              0   \n",
       "\n",
       "   Gender_Rare  Car_Category_Saloon  Car_Category_Missing  Car_Category_JEEP  \\\n",
       "0            0                    1                     0                  0   \n",
       "1            0                    0                     0                  1   \n",
       "2            0                    1                     0                  0   \n",
       "3            0                    0                     1                  0   \n",
       "4            1                    0                     1                  0   \n",
       "\n",
       "   Car_Category_Rare  \n",
       "0                  0  \n",
       "1                  0  \n",
       "2                  0  \n",
       "3                  0  \n",
       "4                  0  "
      ]
     },
     "execution_count": 357,
     "metadata": {},
     "output_type": "execute_result"
    }
   ],
   "source": [
    "X.head()"
   ]
  },
  {
   "cell_type": "markdown",
   "id": "afb971bf",
   "metadata": {},
   "source": [
    "## Subject Car Col Feat_Eng"
   ]
  },
  {
   "cell_type": "code",
   "execution_count": 358,
   "id": "11bb90ca",
   "metadata": {},
   "outputs": [
    {
     "data": {
      "text/plain": [
       "Missing           6962\n",
       "Black             1880\n",
       "Silver             554\n",
       "Grey               514\n",
       "As Attached        498\n",
       "Blue               361\n",
       "White              293\n",
       "Red                251\n",
       "Green              233\n",
       "Gold               173\n",
       "Ash                133\n",
       "Wine                89\n",
       "Brown               58\n",
       "Yellow               8\n",
       "Cream                8\n",
       "Orange               5\n",
       "White & Blue         5\n",
       "Dark Gray            5\n",
       "Purple               4\n",
       "Red & White          4\n",
       "Blue & Red           3\n",
       "D. Red               3\n",
       "Light Green          3\n",
       "Dark Grey            2\n",
       "Dark Blue            2\n",
       "Gray & Silver        2\n",
       "Black & Orange       2\n",
       "Red & Black          2\n",
       "White & Red          2\n",
       "Black & White        2\n",
       "Gray & Gray          2\n",
       "B.Silver             2\n",
       "Light Gray           1\n",
       "White & Yellow       1\n",
       "D. Gold              1\n",
       "Burgundy             1\n",
       "Beige Mitalic        1\n",
       "Red & Yellow         1\n",
       "Dark Green           1\n",
       "Dark Red             1\n",
       "Blue Sky             1\n",
       "Red & Blue           1\n",
       "Blue&White&Red       1\n",
       "Champagne            1\n",
       "Light Blue           1\n",
       "Yellow & White       1\n",
       "Name: Subject_Car_Colour, dtype: int64"
      ]
     },
     "execution_count": 358,
     "metadata": {},
     "output_type": "execute_result"
    }
   ],
   "source": [
    "X.Subject_Car_Colour.value_counts()"
   ]
  },
  {
   "cell_type": "code",
   "execution_count": 359,
   "id": "8c6767d0",
   "metadata": {},
   "outputs": [
    {
     "data": {
      "text/plain": [
       "Missing           0.576372\n",
       "Black             0.155642\n",
       "Silver            0.045865\n",
       "Grey              0.042553\n",
       "As Attached       0.041229\n",
       "Blue              0.029887\n",
       "White             0.024257\n",
       "Red               0.020780\n",
       "Green             0.019290\n",
       "Gold              0.014322\n",
       "Ash               0.011011\n",
       "Wine              0.007368\n",
       "Brown             0.004802\n",
       "Yellow            0.000662\n",
       "Cream             0.000662\n",
       "Orange            0.000414\n",
       "White & Blue      0.000414\n",
       "Dark Gray         0.000414\n",
       "Purple            0.000331\n",
       "Red & White       0.000331\n",
       "Blue & Red        0.000248\n",
       "D. Red            0.000248\n",
       "Light Green       0.000248\n",
       "Dark Grey         0.000166\n",
       "Dark Blue         0.000166\n",
       "Gray & Silver     0.000166\n",
       "Black & Orange    0.000166\n",
       "Red & Black       0.000166\n",
       "White & Red       0.000166\n",
       "Black & White     0.000166\n",
       "Gray & Gray       0.000166\n",
       "B.Silver          0.000166\n",
       "Light Gray        0.000083\n",
       "White & Yellow    0.000083\n",
       "D. Gold           0.000083\n",
       "Burgundy          0.000083\n",
       "Beige Mitalic     0.000083\n",
       "Red & Yellow      0.000083\n",
       "Dark Green        0.000083\n",
       "Dark Red          0.000083\n",
       "Blue Sky          0.000083\n",
       "Red & Blue        0.000083\n",
       "Blue&White&Red    0.000083\n",
       "Champagne         0.000083\n",
       "Light Blue        0.000083\n",
       "Yellow & White    0.000083\n",
       "Name: Subject_Car_Colour, dtype: float64"
      ]
     },
     "execution_count": 359,
     "metadata": {},
     "output_type": "execute_result"
    }
   ],
   "source": [
    "X.Subject_Car_Colour.value_counts()/len(X)"
   ]
  },
  {
   "cell_type": "code",
   "execution_count": 360,
   "id": "15c57142",
   "metadata": {},
   "outputs": [],
   "source": [
    "rare_enc3=RareLabelEncoder(tol=0.05,n_categories=4,variables=['Subject_Car_Colour'])"
   ]
  },
  {
   "cell_type": "code",
   "execution_count": 361,
   "id": "92cb8e35",
   "metadata": {},
   "outputs": [],
   "source": [
    "X=rare_enc3.fit_transform(X)"
   ]
  },
  {
   "cell_type": "code",
   "execution_count": 362,
   "id": "3d15c32b",
   "metadata": {},
   "outputs": [
    {
     "data": {
      "text/plain": [
       "Missing    6962\n",
       "Rare       3237\n",
       "Black      1880\n",
       "Name: Subject_Car_Colour, dtype: int64"
      ]
     },
     "execution_count": 362,
     "metadata": {},
     "output_type": "execute_result"
    }
   ],
   "source": [
    "X.Subject_Car_Colour.value_counts()"
   ]
  },
  {
   "cell_type": "code",
   "execution_count": 363,
   "id": "2965cf73",
   "metadata": {},
   "outputs": [
    {
     "data": {
      "text/html": [
       "<div>\n",
       "<style scoped>\n",
       "    .dataframe tbody tr th:only-of-type {\n",
       "        vertical-align: middle;\n",
       "    }\n",
       "\n",
       "    .dataframe tbody tr th {\n",
       "        vertical-align: top;\n",
       "    }\n",
       "\n",
       "    .dataframe thead th {\n",
       "        text-align: right;\n",
       "    }\n",
       "</style>\n",
       "<table border=\"1\" class=\"dataframe\">\n",
       "  <thead>\n",
       "    <tr style=\"text-align: right;\">\n",
       "      <th></th>\n",
       "      <th>Age</th>\n",
       "      <th>No_Pol</th>\n",
       "      <th>Subject_Car_Colour</th>\n",
       "      <th>Subject_Car_Make</th>\n",
       "      <th>LGA_Name</th>\n",
       "      <th>State</th>\n",
       "      <th>ProductName</th>\n",
       "      <th>Pol_start</th>\n",
       "      <th>Pol_end</th>\n",
       "      <th>Sub-time</th>\n",
       "      <th>Gender_Male</th>\n",
       "      <th>Gender_Female</th>\n",
       "      <th>Gender_Rare</th>\n",
       "      <th>Car_Category_Saloon</th>\n",
       "      <th>Car_Category_Missing</th>\n",
       "      <th>Car_Category_JEEP</th>\n",
       "      <th>Car_Category_Rare</th>\n",
       "    </tr>\n",
       "  </thead>\n",
       "  <tbody>\n",
       "    <tr>\n",
       "      <th>0</th>\n",
       "      <td>30</td>\n",
       "      <td>1</td>\n",
       "      <td>Black</td>\n",
       "      <td>TOYOTA</td>\n",
       "      <td>Missing</td>\n",
       "      <td>Missing</td>\n",
       "      <td>Car Classic</td>\n",
       "      <td>2010</td>\n",
       "      <td>2011</td>\n",
       "      <td>364</td>\n",
       "      <td>1</td>\n",
       "      <td>0</td>\n",
       "      <td>0</td>\n",
       "      <td>1</td>\n",
       "      <td>0</td>\n",
       "      <td>0</td>\n",
       "      <td>0</td>\n",
       "    </tr>\n",
       "    <tr>\n",
       "      <th>1</th>\n",
       "      <td>79</td>\n",
       "      <td>1</td>\n",
       "      <td>Rare</td>\n",
       "      <td>TOYOTA</td>\n",
       "      <td>Missing</td>\n",
       "      <td>Missing</td>\n",
       "      <td>Car Classic</td>\n",
       "      <td>2010</td>\n",
       "      <td>2011</td>\n",
       "      <td>364</td>\n",
       "      <td>0</td>\n",
       "      <td>1</td>\n",
       "      <td>0</td>\n",
       "      <td>0</td>\n",
       "      <td>0</td>\n",
       "      <td>1</td>\n",
       "      <td>0</td>\n",
       "    </tr>\n",
       "    <tr>\n",
       "      <th>2</th>\n",
       "      <td>43</td>\n",
       "      <td>1</td>\n",
       "      <td>Rare</td>\n",
       "      <td>TOYOTA</td>\n",
       "      <td>Missing</td>\n",
       "      <td>Missing</td>\n",
       "      <td>Car Classic</td>\n",
       "      <td>2010</td>\n",
       "      <td>2011</td>\n",
       "      <td>364</td>\n",
       "      <td>1</td>\n",
       "      <td>0</td>\n",
       "      <td>0</td>\n",
       "      <td>1</td>\n",
       "      <td>0</td>\n",
       "      <td>0</td>\n",
       "      <td>0</td>\n",
       "    </tr>\n",
       "    <tr>\n",
       "      <th>3</th>\n",
       "      <td>2</td>\n",
       "      <td>1</td>\n",
       "      <td>Missing</td>\n",
       "      <td>Missing</td>\n",
       "      <td>Missing</td>\n",
       "      <td>Missing</td>\n",
       "      <td>CarSafe</td>\n",
       "      <td>2010</td>\n",
       "      <td>2011</td>\n",
       "      <td>364</td>\n",
       "      <td>1</td>\n",
       "      <td>0</td>\n",
       "      <td>0</td>\n",
       "      <td>0</td>\n",
       "      <td>1</td>\n",
       "      <td>0</td>\n",
       "      <td>0</td>\n",
       "    </tr>\n",
       "    <tr>\n",
       "      <th>4</th>\n",
       "      <td>20</td>\n",
       "      <td>3</td>\n",
       "      <td>Missing</td>\n",
       "      <td>Missing</td>\n",
       "      <td>Lagos</td>\n",
       "      <td>Lagos</td>\n",
       "      <td>Muuve</td>\n",
       "      <td>2010</td>\n",
       "      <td>2010</td>\n",
       "      <td>124</td>\n",
       "      <td>0</td>\n",
       "      <td>0</td>\n",
       "      <td>1</td>\n",
       "      <td>0</td>\n",
       "      <td>1</td>\n",
       "      <td>0</td>\n",
       "      <td>0</td>\n",
       "    </tr>\n",
       "  </tbody>\n",
       "</table>\n",
       "</div>"
      ],
      "text/plain": [
       "   Age  No_Pol Subject_Car_Colour Subject_Car_Make LGA_Name    State  \\\n",
       "0   30       1              Black           TOYOTA  Missing  Missing   \n",
       "1   79       1               Rare           TOYOTA  Missing  Missing   \n",
       "2   43       1               Rare           TOYOTA  Missing  Missing   \n",
       "3    2       1            Missing          Missing  Missing  Missing   \n",
       "4   20       3            Missing          Missing    Lagos    Lagos   \n",
       "\n",
       "   ProductName  Pol_start  Pol_end  Sub-time  Gender_Male  Gender_Female  \\\n",
       "0  Car Classic       2010     2011       364            1              0   \n",
       "1  Car Classic       2010     2011       364            0              1   \n",
       "2  Car Classic       2010     2011       364            1              0   \n",
       "3      CarSafe       2010     2011       364            1              0   \n",
       "4        Muuve       2010     2010       124            0              0   \n",
       "\n",
       "   Gender_Rare  Car_Category_Saloon  Car_Category_Missing  Car_Category_JEEP  \\\n",
       "0            0                    1                     0                  0   \n",
       "1            0                    0                     0                  1   \n",
       "2            0                    1                     0                  0   \n",
       "3            0                    0                     1                  0   \n",
       "4            1                    0                     1                  0   \n",
       "\n",
       "   Car_Category_Rare  \n",
       "0                  0  \n",
       "1                  0  \n",
       "2                  0  \n",
       "3                  0  \n",
       "4                  0  "
      ]
     },
     "execution_count": 363,
     "metadata": {},
     "output_type": "execute_result"
    }
   ],
   "source": [
    "X.head()"
   ]
  },
  {
   "cell_type": "code",
   "execution_count": 364,
   "id": "dc72baa1",
   "metadata": {},
   "outputs": [],
   "source": [
    "ohe3=OneHotEncoder(top_categories=4,variables=['Subject_Car_Colour'],drop_last=False)"
   ]
  },
  {
   "cell_type": "code",
   "execution_count": 365,
   "id": "16c5091b",
   "metadata": {},
   "outputs": [],
   "source": [
    "X=ohe3.fit_transform(X)"
   ]
  },
  {
   "cell_type": "markdown",
   "id": "5017dd5d",
   "metadata": {},
   "source": [
    "## Subject Car make"
   ]
  },
  {
   "cell_type": "code",
   "execution_count": 366,
   "id": "eb6abfb8",
   "metadata": {},
   "outputs": [
    {
     "data": {
      "text/plain": [
       "array(['TOYOTA', 'Missing', 'REXTON', 'Lexus', 'Hyundai', 'Iveco', 'DAF',\n",
       "       'Honda', 'Mercedes', 'Jincheng', 'ACURA', 'Ford', 'Volkswagen',\n",
       "       'Nissan', '.', 'Pontiac', 'Range Rover', 'Kia', 'Mitsubishi',\n",
       "       'Scania', 'BMW', 'Infiniti', 'Renault', 'Volvo', 'Hummer', 'Mack',\n",
       "       'Grand Cherokee', 'Porsche', 'Peugeot', 'Land Rover', 'Chevrolet',\n",
       "       'Mazda', 'Man', 'Jeep', 'Audi', 'Suzuki', 'MINI COOPER', 'KA',\n",
       "       'As Attached', 'Innson', 'Isuzu', 'Skoda', 'Jaguar', 'Chrysler',\n",
       "       'Dodge', 'GMC', 'Land Rover.', 'Subaru', 'GAC', 'Fiat', 'Opel',\n",
       "       'Astra', 'Motorcycle', 'ZOYTE', 'Seat', 'FOTON', 'Howo', 'Lincoln',\n",
       "       'Rols Royce', 'CHANGAN', 'LIBERTY', 'ABG', 'Yamaha', 'Black',\n",
       "       'Tata', 'Ashok Leyland', 'Geely', 'Caddillac', 'Wrangler Jeep',\n",
       "       'Raston', 'MG', 'BRILLIANCE', 'Buik', 'COMMANDER', 'Bajaj'],\n",
       "      dtype=object)"
      ]
     },
     "execution_count": 366,
     "metadata": {},
     "output_type": "execute_result"
    }
   ],
   "source": [
    "X['Subject_Car_Make'].unique()"
   ]
  },
  {
   "cell_type": "code",
   "execution_count": 367,
   "id": "4bcb42eb",
   "metadata": {},
   "outputs": [
    {
     "data": {
      "text/plain": [
       "TOYOTA            4975\n",
       "Missing           2476\n",
       "Honda             1043\n",
       "Lexus              604\n",
       "Mercedes           521\n",
       "Hyundai            457\n",
       "Kia                341\n",
       "Ford               283\n",
       "Nissan             249\n",
       "Volkswagen         122\n",
       "Iveco              120\n",
       "Range Rover        109\n",
       "Mitsubishi          90\n",
       "ACURA               65\n",
       "BMW                 63\n",
       "Land Rover          57\n",
       "Mazda               45\n",
       ".                   44\n",
       "Peugeot             43\n",
       "Volvo               37\n",
       "Mack                32\n",
       "Audi                30\n",
       "Infiniti            27\n",
       "Pontiac             24\n",
       "Chevrolet           23\n",
       "DAF                 20\n",
       "Jeep                17\n",
       "Skoda               17\n",
       "Porsche             13\n",
       "Scania              12\n",
       "As Attached         11\n",
       "Isuzu                8\n",
       "Suzuki               8\n",
       "Opel                 7\n",
       "Land Rover.          6\n",
       "Dodge                6\n",
       "GMC                  5\n",
       "GAC                  5\n",
       "Man                  5\n",
       "Subaru               4\n",
       "Jaguar               4\n",
       "Renault              4\n",
       "MINI COOPER          3\n",
       "LIBERTY              3\n",
       "FOTON                2\n",
       "Hummer               2\n",
       "Wrangler Jeep        2\n",
       "Grand Cherokee       2\n",
       "Seat                 2\n",
       "Black                2\n",
       "Fiat                 2\n",
       "Astra                2\n",
       "Chrysler             2\n",
       "Innson               2\n",
       "Howo                 1\n",
       "REXTON               1\n",
       "Bajaj                1\n",
       "MG                   1\n",
       "COMMANDER            1\n",
       "Yamaha               1\n",
       "Caddillac            1\n",
       "Lincoln              1\n",
       "Geely                1\n",
       "Ashok Leyland        1\n",
       "Rols Royce           1\n",
       "ABG                  1\n",
       "Jincheng             1\n",
       "ZOYTE                1\n",
       "CHANGAN              1\n",
       "Motorcycle           1\n",
       "BRILLIANCE           1\n",
       "KA                   1\n",
       "Raston               1\n",
       "Tata                 1\n",
       "Buik                 1\n",
       "Name: Subject_Car_Make, dtype: int64"
      ]
     },
     "execution_count": 367,
     "metadata": {},
     "output_type": "execute_result"
    }
   ],
   "source": [
    "X['Subject_Car_Make'].value_counts()"
   ]
  },
  {
   "cell_type": "code",
   "execution_count": 368,
   "id": "0882cbc2",
   "metadata": {},
   "outputs": [],
   "source": [
    "scm=X['Subject_Car_Make'].value_counts()"
   ]
  },
  {
   "cell_type": "code",
   "execution_count": 369,
   "id": "8d967eb5",
   "metadata": {},
   "outputs": [],
   "source": [
    "scm=pd.DataFrame(scm)"
   ]
  },
  {
   "cell_type": "code",
   "execution_count": 370,
   "id": "c5abf815",
   "metadata": {},
   "outputs": [],
   "source": [
    "pandas.set_option('display.max_rows',scm.shape[0]+1)"
   ]
  },
  {
   "cell_type": "code",
   "execution_count": 371,
   "id": "25ecf899",
   "metadata": {},
   "outputs": [],
   "source": [
    "import pandas"
   ]
  },
  {
   "cell_type": "code",
   "execution_count": 372,
   "id": "24d7661a",
   "metadata": {},
   "outputs": [
    {
     "name": "stdout",
     "output_type": "stream",
     "text": [
      "                Subject_Car_Make\n",
      "TOYOTA                      4975\n",
      "Missing                     2476\n",
      "Honda                       1043\n",
      "Lexus                        604\n",
      "Mercedes                     521\n",
      "Hyundai                      457\n",
      "Kia                          341\n",
      "Ford                         283\n",
      "Nissan                       249\n",
      "Volkswagen                   122\n",
      "Iveco                        120\n",
      "Range Rover                  109\n",
      "Mitsubishi                    90\n",
      "ACURA                         65\n",
      "BMW                           63\n",
      "Land Rover                    57\n",
      "Mazda                         45\n",
      ".                             44\n",
      "Peugeot                       43\n",
      "Volvo                         37\n",
      "Mack                          32\n",
      "Audi                          30\n",
      "Infiniti                      27\n",
      "Pontiac                       24\n",
      "Chevrolet                     23\n",
      "DAF                           20\n",
      "Jeep                          17\n",
      "Skoda                         17\n",
      "Porsche                       13\n",
      "Scania                        12\n",
      "As Attached                   11\n",
      "Isuzu                          8\n",
      "Suzuki                         8\n",
      "Opel                           7\n",
      "Land Rover.                    6\n",
      "Dodge                          6\n",
      "GMC                            5\n",
      "GAC                            5\n",
      "Man                            5\n",
      "Subaru                         4\n",
      "Jaguar                         4\n",
      "Renault                        4\n",
      "MINI COOPER                    3\n",
      "LIBERTY                        3\n",
      "FOTON                          2\n",
      "Hummer                         2\n",
      "Wrangler Jeep                  2\n",
      "Grand Cherokee                 2\n",
      "Seat                           2\n",
      "Black                          2\n",
      "Fiat                           2\n",
      "Astra                          2\n",
      "Chrysler                       2\n",
      "Innson                         2\n",
      "Howo                           1\n",
      "REXTON                         1\n",
      "Bajaj                          1\n",
      "MG                             1\n",
      "COMMANDER                      1\n",
      "Yamaha                         1\n",
      "Caddillac                      1\n",
      "Lincoln                        1\n",
      "Geely                          1\n",
      "Ashok Leyland                  1\n",
      "Rols Royce                     1\n",
      "ABG                            1\n",
      "Jincheng                       1\n",
      "ZOYTE                          1\n",
      "CHANGAN                        1\n",
      "Motorcycle                     1\n",
      "BRILLIANCE                     1\n",
      "KA                             1\n",
      "Raston                         1\n",
      "Tata                           1\n",
      "Buik                           1\n"
     ]
    }
   ],
   "source": [
    "print(scm)"
   ]
  },
  {
   "cell_type": "code",
   "execution_count": 373,
   "id": "ee5c0044",
   "metadata": {},
   "outputs": [],
   "source": [
    "rare_enc4=RareLabelEncoder(tol=0.039,n_categories=4,variables=['Subject_Car_Make'])"
   ]
  },
  {
   "cell_type": "code",
   "execution_count": 374,
   "id": "257d6195",
   "metadata": {},
   "outputs": [],
   "source": [
    "X=rare_enc4.fit_transform(X)"
   ]
  },
  {
   "cell_type": "code",
   "execution_count": 375,
   "id": "909e4770",
   "metadata": {},
   "outputs": [
    {
     "data": {
      "text/plain": [
       "TOYOTA      4975\n",
       "Missing     2476\n",
       "Rare        2460\n",
       "Honda       1043\n",
       "Lexus        604\n",
       "Mercedes     521\n",
       "Name: Subject_Car_Make, dtype: int64"
      ]
     },
     "execution_count": 375,
     "metadata": {},
     "output_type": "execute_result"
    }
   ],
   "source": [
    "X['Subject_Car_Make'].value_counts()"
   ]
  },
  {
   "cell_type": "code",
   "execution_count": 376,
   "id": "f8e2d119",
   "metadata": {},
   "outputs": [
    {
     "data": {
      "text/plain": [
       "TOYOTA      4975\n",
       "Missing     2476\n",
       "Rare        2460\n",
       "Honda       1043\n",
       "Lexus        604\n",
       "Mercedes     521\n",
       "Name: Subject_Car_Make, dtype: int64"
      ]
     },
     "execution_count": 376,
     "metadata": {},
     "output_type": "execute_result"
    }
   ],
   "source": [
    "X['Subject_Car_Make'].value_counts()"
   ]
  },
  {
   "cell_type": "code",
   "execution_count": 377,
   "id": "9a579f91",
   "metadata": {},
   "outputs": [],
   "source": [
    "ohe4=OneHotEncoder(top_categories=6,variables=['Subject_Car_Make'],drop_last=False)"
   ]
  },
  {
   "cell_type": "code",
   "execution_count": 378,
   "id": "c28b1ff9",
   "metadata": {},
   "outputs": [],
   "source": [
    "X=ohe4.fit_transform(X)"
   ]
  },
  {
   "cell_type": "code",
   "execution_count": 379,
   "id": "49d09e4a",
   "metadata": {},
   "outputs": [
    {
     "data": {
      "text/html": [
       "<div>\n",
       "<style scoped>\n",
       "    .dataframe tbody tr th:only-of-type {\n",
       "        vertical-align: middle;\n",
       "    }\n",
       "\n",
       "    .dataframe tbody tr th {\n",
       "        vertical-align: top;\n",
       "    }\n",
       "\n",
       "    .dataframe thead th {\n",
       "        text-align: right;\n",
       "    }\n",
       "</style>\n",
       "<table border=\"1\" class=\"dataframe\">\n",
       "  <thead>\n",
       "    <tr style=\"text-align: right;\">\n",
       "      <th></th>\n",
       "      <th>Age</th>\n",
       "      <th>No_Pol</th>\n",
       "      <th>LGA_Name</th>\n",
       "      <th>State</th>\n",
       "      <th>ProductName</th>\n",
       "      <th>Pol_start</th>\n",
       "      <th>Pol_end</th>\n",
       "      <th>Sub-time</th>\n",
       "      <th>Gender_Male</th>\n",
       "      <th>Gender_Female</th>\n",
       "      <th>...</th>\n",
       "      <th>Car_Category_Rare</th>\n",
       "      <th>Subject_Car_Colour_Missing</th>\n",
       "      <th>Subject_Car_Colour_Rare</th>\n",
       "      <th>Subject_Car_Colour_Black</th>\n",
       "      <th>Subject_Car_Make_TOYOTA</th>\n",
       "      <th>Subject_Car_Make_Missing</th>\n",
       "      <th>Subject_Car_Make_Rare</th>\n",
       "      <th>Subject_Car_Make_Honda</th>\n",
       "      <th>Subject_Car_Make_Lexus</th>\n",
       "      <th>Subject_Car_Make_Mercedes</th>\n",
       "    </tr>\n",
       "  </thead>\n",
       "  <tbody>\n",
       "    <tr>\n",
       "      <th>0</th>\n",
       "      <td>30</td>\n",
       "      <td>1</td>\n",
       "      <td>Missing</td>\n",
       "      <td>Missing</td>\n",
       "      <td>Car Classic</td>\n",
       "      <td>2010</td>\n",
       "      <td>2011</td>\n",
       "      <td>364</td>\n",
       "      <td>1</td>\n",
       "      <td>0</td>\n",
       "      <td>...</td>\n",
       "      <td>0</td>\n",
       "      <td>0</td>\n",
       "      <td>0</td>\n",
       "      <td>1</td>\n",
       "      <td>1</td>\n",
       "      <td>0</td>\n",
       "      <td>0</td>\n",
       "      <td>0</td>\n",
       "      <td>0</td>\n",
       "      <td>0</td>\n",
       "    </tr>\n",
       "    <tr>\n",
       "      <th>1</th>\n",
       "      <td>79</td>\n",
       "      <td>1</td>\n",
       "      <td>Missing</td>\n",
       "      <td>Missing</td>\n",
       "      <td>Car Classic</td>\n",
       "      <td>2010</td>\n",
       "      <td>2011</td>\n",
       "      <td>364</td>\n",
       "      <td>0</td>\n",
       "      <td>1</td>\n",
       "      <td>...</td>\n",
       "      <td>0</td>\n",
       "      <td>0</td>\n",
       "      <td>1</td>\n",
       "      <td>0</td>\n",
       "      <td>1</td>\n",
       "      <td>0</td>\n",
       "      <td>0</td>\n",
       "      <td>0</td>\n",
       "      <td>0</td>\n",
       "      <td>0</td>\n",
       "    </tr>\n",
       "    <tr>\n",
       "      <th>2</th>\n",
       "      <td>43</td>\n",
       "      <td>1</td>\n",
       "      <td>Missing</td>\n",
       "      <td>Missing</td>\n",
       "      <td>Car Classic</td>\n",
       "      <td>2010</td>\n",
       "      <td>2011</td>\n",
       "      <td>364</td>\n",
       "      <td>1</td>\n",
       "      <td>0</td>\n",
       "      <td>...</td>\n",
       "      <td>0</td>\n",
       "      <td>0</td>\n",
       "      <td>1</td>\n",
       "      <td>0</td>\n",
       "      <td>1</td>\n",
       "      <td>0</td>\n",
       "      <td>0</td>\n",
       "      <td>0</td>\n",
       "      <td>0</td>\n",
       "      <td>0</td>\n",
       "    </tr>\n",
       "    <tr>\n",
       "      <th>3</th>\n",
       "      <td>2</td>\n",
       "      <td>1</td>\n",
       "      <td>Missing</td>\n",
       "      <td>Missing</td>\n",
       "      <td>CarSafe</td>\n",
       "      <td>2010</td>\n",
       "      <td>2011</td>\n",
       "      <td>364</td>\n",
       "      <td>1</td>\n",
       "      <td>0</td>\n",
       "      <td>...</td>\n",
       "      <td>0</td>\n",
       "      <td>1</td>\n",
       "      <td>0</td>\n",
       "      <td>0</td>\n",
       "      <td>0</td>\n",
       "      <td>1</td>\n",
       "      <td>0</td>\n",
       "      <td>0</td>\n",
       "      <td>0</td>\n",
       "      <td>0</td>\n",
       "    </tr>\n",
       "    <tr>\n",
       "      <th>4</th>\n",
       "      <td>20</td>\n",
       "      <td>3</td>\n",
       "      <td>Lagos</td>\n",
       "      <td>Lagos</td>\n",
       "      <td>Muuve</td>\n",
       "      <td>2010</td>\n",
       "      <td>2010</td>\n",
       "      <td>124</td>\n",
       "      <td>0</td>\n",
       "      <td>0</td>\n",
       "      <td>...</td>\n",
       "      <td>0</td>\n",
       "      <td>1</td>\n",
       "      <td>0</td>\n",
       "      <td>0</td>\n",
       "      <td>0</td>\n",
       "      <td>1</td>\n",
       "      <td>0</td>\n",
       "      <td>0</td>\n",
       "      <td>0</td>\n",
       "      <td>0</td>\n",
       "    </tr>\n",
       "  </tbody>\n",
       "</table>\n",
       "<p>5 rows × 24 columns</p>\n",
       "</div>"
      ],
      "text/plain": [
       "   Age  No_Pol LGA_Name    State  ProductName  Pol_start  Pol_end  Sub-time  \\\n",
       "0   30       1  Missing  Missing  Car Classic       2010     2011       364   \n",
       "1   79       1  Missing  Missing  Car Classic       2010     2011       364   \n",
       "2   43       1  Missing  Missing  Car Classic       2010     2011       364   \n",
       "3    2       1  Missing  Missing      CarSafe       2010     2011       364   \n",
       "4   20       3    Lagos    Lagos        Muuve       2010     2010       124   \n",
       "\n",
       "   Gender_Male  Gender_Female  ...  Car_Category_Rare  \\\n",
       "0            1              0  ...                  0   \n",
       "1            0              1  ...                  0   \n",
       "2            1              0  ...                  0   \n",
       "3            1              0  ...                  0   \n",
       "4            0              0  ...                  0   \n",
       "\n",
       "   Subject_Car_Colour_Missing  Subject_Car_Colour_Rare  \\\n",
       "0                           0                        0   \n",
       "1                           0                        1   \n",
       "2                           0                        1   \n",
       "3                           1                        0   \n",
       "4                           1                        0   \n",
       "\n",
       "   Subject_Car_Colour_Black  Subject_Car_Make_TOYOTA  \\\n",
       "0                         1                        1   \n",
       "1                         0                        1   \n",
       "2                         0                        1   \n",
       "3                         0                        0   \n",
       "4                         0                        0   \n",
       "\n",
       "   Subject_Car_Make_Missing  Subject_Car_Make_Rare  Subject_Car_Make_Honda  \\\n",
       "0                         0                      0                       0   \n",
       "1                         0                      0                       0   \n",
       "2                         0                      0                       0   \n",
       "3                         1                      0                       0   \n",
       "4                         1                      0                       0   \n",
       "\n",
       "   Subject_Car_Make_Lexus  Subject_Car_Make_Mercedes  \n",
       "0                       0                          0  \n",
       "1                       0                          0  \n",
       "2                       0                          0  \n",
       "3                       0                          0  \n",
       "4                       0                          0  \n",
       "\n",
       "[5 rows x 24 columns]"
      ]
     },
     "execution_count": 379,
     "metadata": {},
     "output_type": "execute_result"
    }
   ],
   "source": [
    "X.head()"
   ]
  },
  {
   "cell_type": "markdown",
   "id": "2df0266c",
   "metadata": {},
   "source": [
    "## LGA name feat_eng"
   ]
  },
  {
   "cell_type": "code",
   "execution_count": 380,
   "id": "0930bb80",
   "metadata": {},
   "outputs": [],
   "source": [
    "lga=X['LGA_Name'].value_counts()\n",
    "lgap=X['LGA_Name'].value_counts()/len(X)\n",
    "lga=pd.DataFrame(lga)\n",
    "lgap=pd.DataFrame(lgap)"
   ]
  },
  {
   "cell_type": "code",
   "execution_count": 381,
   "id": "e30384c2",
   "metadata": {},
   "outputs": [],
   "source": [
    "pandas.set_option('display.max_rows',lga.shape[0]+1)\n",
    "pandas.set_option('display.max_rows',lgap.shape[0]+1)"
   ]
  },
  {
   "cell_type": "code",
   "execution_count": 382,
   "id": "8e3e34f1",
   "metadata": {},
   "outputs": [
    {
     "name": "stdout",
     "output_type": "stream",
     "text": [
      "                        LGA_Name\n",
      "Missing                 0.536137\n",
      "Victoria Island         0.096200\n",
      "Ikeja                   0.033198\n",
      "Surulere                0.023843\n",
      "Abuja Municipal         0.019207\n",
      "Lagos Mainland          0.018379\n",
      "Lagos Island            0.018296\n",
      "Eti-Osa                 0.017965\n",
      "Lekki                   0.017137\n",
      "Lagos                   0.013908\n",
      "Ibeju/Lekki             0.010183\n",
      "Oshodi-Isolo            0.007368\n",
      "Obia/Akpor              0.007037\n",
      "Kosofe                  0.006292\n",
      "Alimosho                0.005381\n",
      "Abuja                   0.005298\n",
      "Benin                   0.005133\n",
      "Apapa                   0.005133\n",
      "Ikoyi                   0.004553\n",
      "Amuwo-Odofin            0.004305\n",
      "Shomolu                 0.004222\n",
      "Ikorodu                 0.003974\n",
      "Port Harcourt           0.003891\n",
      "Agege                   0.003808\n",
      "Ajah                    0.003560\n",
      "Warri                   0.003477\n",
      "GBAGADA                 0.003229\n",
      "Yaba                    0.003146\n",
      "OGUN                    0.002980\n",
      "Ifako-Ijaye             0.002898\n",
      "Festac                  0.002815\n",
      "Port-Harcourt           0.002815\n",
      "Abeokuta                0.002649\n",
      "ENUGU EAST              0.002649\n",
      "OGBA                    0.002401\n",
      "ISHERI                  0.002318\n",
      "Ibadan North West       0.002318\n",
      "Isolo                   0.002318\n",
      "Warri Central           0.002235\n",
      "Central                 0.002152\n",
      "Asaba                   0.002070\n",
      "Kaduna North            0.001904\n",
      "Ketu                    0.001904\n",
      "Ilupeju                 0.001821\n",
      "Ifo                     0.001739\n",
      "Oredo                   0.001739\n",
      "OGUDU                   0.001573\n",
      "Ibadan South West       0.001573\n",
      "Oguta                   0.001490\n",
      "Egbeda                  0.001490\n",
      "Ipaja                   0.001490\n",
      "Mushin                  0.001490\n",
      "IBADAN NORTH EAST       0.001407\n",
      "Ojodu                   0.001325\n",
      "IbadanCentral           0.001325\n",
      "Osogbo                  0.001325\n",
      "Oshodi                  0.001159\n",
      "Ife Central             0.001159\n",
      "LGA                     0.001076\n",
      "Owerri-Municipal        0.001076\n",
      "Maryland                0.000993\n",
      "Shagamu                 0.000993\n",
      "Ojo                     0.000993\n",
      "Jos North               0.000993\n",
      "Kaduna                  0.000911\n",
      "Uyo                     0.000911\n",
      "Jos South               0.000828\n",
      "Anambra East            0.000828\n",
      "Kaduna South            0.000828\n",
      "MAGODO                  0.000828\n",
      "RIVERS                  0.000828\n",
      "Minna                   0.000745\n",
      "Sapele                  0.000745\n",
      "Nnewi                   0.000745\n",
      "Owerri                  0.000745\n",
      "Ijebu Ode               0.000745\n",
      "OKOTA                   0.000745\n",
      "Ebute-Metta             0.000745\n",
      "Biase                   0.000662\n",
      "Anthony Village         0.000662\n",
      "Oyo                     0.000662\n",
      "Ibadan South East       0.000662\n",
      "Badagry                 0.000662\n",
      "OJOTA                   0.000662\n",
      "Ogbmosho South          0.000662\n",
      "Okpe, Delta State       0.000662\n",
      "Uvwie                   0.000662\n",
      "Enugu North             0.000662\n",
      "Awka                    0.000580\n",
      "Akure                   0.000580\n",
      "Somolu                  0.000497\n",
      "Alagbado                0.000497\n",
      "Irepodun                0.000497\n",
      "Ajeromi-Ifelodun        0.000497\n",
      "Olorunsogo              0.000497\n",
      "Akoka                   0.000497\n",
      "Lagelu Ogbomosho North  0.000497\n",
      "ABULE EGBA              0.000497\n",
      "Bwari                   0.000497\n",
      "Etsako West             0.000497\n",
      "Epe                     0.000497\n",
      "Aguda                   0.000414\n",
      "Ikeja G.R.A             0.000414\n",
      "Kano Municipal          0.000414\n",
      "Marina                  0.000414\n",
      "Ejigbo                  0.000414\n",
      "Awka South              0.000414\n",
      "AKUTE                   0.000414\n",
      "Nnewi North             0.000414\n",
      "Nsit Ubium              0.000331\n",
      "Goronyo                 0.000331\n",
      "Ogun Waterside          0.000331\n",
      "AREPO                   0.000331\n",
      "Akwa Ibom               0.000331\n",
      "Okpe                    0.000331\n",
      "Asokoro District        0.000331\n",
      "Aniocha South           0.000331\n",
      "Niger State             0.000331\n",
      "Ibadan North            0.000331\n",
      "Ado-Odo/Ota             0.000331\n",
      "Bonny                   0.000331\n",
      "Obafemi-Owode           0.000331\n",
      "Calabar                 0.000331\n",
      "Ukpoba                  0.000331\n",
      "Abeokuta South          0.000331\n",
      "Ilasamaja               0.000331\n",
      "Ile-Ife                 0.000248\n",
      "Orolu                   0.000248\n",
      "Ilesha West             0.000248\n",
      "SANGO OTTA              0.000248\n",
      "Ife North               0.000248\n",
      "Ikotun                  0.000248\n",
      "ALAPERE                 0.000248\n",
      "SANGOTEDO               0.000248\n",
      "Aba North               0.000248\n",
      "Onitsha North           0.000248\n",
      "Katagum                 0.000248\n",
      "Karu                    0.000248\n",
      "Akure South             0.000248\n",
      "Udi Agwu                0.000248\n",
      "Ilorin                  0.000248\n",
      "Warri North             0.000248\n",
      "Esan West               0.000248\n",
      "Wuse 11                 0.000248\n",
      "Dopemu                  0.000248\n",
      "Chanchaga               0.000248\n",
      "AJAO ESTATE             0.000166\n",
      "OBANIKORO               0.000166\n",
      "Umuahia South           0.000166\n",
      "Oyo East                0.000166\n",
      "Udu                     0.000166\n",
      "Ondo West               0.000166\n",
      "Ikenne                  0.000166\n",
      "Esan Central            0.000166\n",
      "Ilorin East             0.000166\n",
      "Lokoja                  0.000166\n",
      " IFAKO                  0.000166\n",
      "Orile-Iganmu            0.000166\n",
      "Gombe                   0.000166\n",
      "Asa                     0.000166\n",
      "Ekiti                   0.000166\n",
      "Abeokuta North          0.000166\n",
      "Ado-Ekiti               0.000166\n",
      "Onitsha                 0.000166\n",
      "Warri South             0.000166\n",
      "Ekiti-East              0.000166\n",
      "Ile-Oluji               0.000166\n",
      "Calabar Municipality    0.000166\n",
      "Ibarapa Central         0.000166\n",
      "Zaria                   0.000166\n",
      "Idemili North           0.000166\n",
      "Jibia                   0.000166\n",
      "ONIRU                   0.000166\n",
      "Olamabolo               0.000166\n",
      "Ikot Ekpene             0.000166\n",
      "ONDO                    0.000166\n",
      "Aboh-Mbaise             0.000166\n",
      "Owerri West             0.000166\n",
      "Abakaliki               0.000166\n",
      "Ilorin West             0.000166\n",
      "Ido                     0.000166\n",
      "Oyi                     0.000166\n",
      "Umuahia                 0.000166\n",
      "Akinyele                0.000166\n",
      "Egor                    0.000166\n",
      "Kajola                  0.000166\n",
      "Central Area, Abuja     0.000166\n",
      "Awka North              0.000083\n",
      "Ikwerre                 0.000083\n",
      "Obalende                0.000083\n",
      "Garko                   0.000083\n",
      "Ndokwa East             0.000083\n",
      "IJAIYE                  0.000083\n",
      "Ughelli North           0.000083\n",
      "Ilesha                  0.000083\n",
      "Argungu                 0.000083\n",
      "Oyo West                0.000083\n",
      "Katcha                  0.000083\n",
      "Nwangele                0.000083\n",
      "Kano                    0.000083\n",
      "Asari-Toru              0.000083\n",
      "Eket                    0.000083\n",
      "AKOKO-EDO               0.000083\n",
      "QuaAn Pan               0.000083\n",
      "Orsu                    0.000083\n",
      "Yenagoa                 0.000083\n",
      "OWODE                   0.000083\n",
      "Eleme                   0.000083\n",
      "AWOYAYA                 0.000083\n",
      "ENUGU SOUTH             0.000083\n",
      "Owerri North            0.000083\n",
      "BARIGA                  0.000083\n",
      "Bosso                   0.000083\n",
      "Aba South               0.000083\n",
      "Tai                     0.000083\n",
      "EFFURUN                 0.000083\n",
      "IBA                     0.000083\n",
      "Kuje                    0.000083\n",
      "Ijebu North             0.000083\n",
      "Bauchi                  0.000083\n",
      "Idanre                  0.000083\n",
      "Akure North             0.000083\n",
      "kumbotso                0.000083\n",
      "Oshimili North          0.000083\n",
      "Isoko North             0.000083\n",
      "Akuku Toru              0.000083\n",
      "Bekwara                 0.000083\n",
      "Akoko North West        0.000083\n",
      "Onitsha South           0.000083\n",
      "MAGBORO                 0.000083\n",
      "Agbor                   0.000083\n",
      "Ilesha East             0.000083\n",
      "Garki                   0.000083\n",
      "Rogo                    0.000083\n",
      "Ohaukwu                 0.000083\n",
      "Ethiope East            0.000083\n",
      "Ogba/Egbema/Ndoni       0.000083\n",
      "Ajegunle,Lagos  State   0.000083\n",
      "Ijebu East              0.000083\n",
      "Ogbomoso                0.000083\n",
      "Ovia SouthWest          0.000083\n",
      "ISHAGA                  0.000083\n",
      "EMENE                   0.000083\n",
      "Oluyole                 0.000083\n",
      "Ekeremor                0.000083\n",
      "Oshimili                0.000083\n",
      "Nnewi South             0.000083\n",
      "Iwo                     0.000083\n",
      "Essien Udim             0.000083\n",
      "Bida                    0.000083\n",
      "Palm Groove             0.000083\n",
      "Yorro                   0.000083\n",
      "Isoko south             0.000083\n",
      "Ekiti South-West        0.000083\n",
      "Keffi                   0.000083\n",
      "Okrika                  0.000083\n",
      "Njaba                   0.000083\n",
      "Oturkpo                 0.000083\n",
      "Ijora                   0.000083\n"
     ]
    }
   ],
   "source": [
    "print(lgap)"
   ]
  },
  {
   "cell_type": "code",
   "execution_count": 383,
   "id": "3bc9ed18",
   "metadata": {},
   "outputs": [
    {
     "data": {
      "text/plain": [
       "259"
      ]
     },
     "execution_count": 383,
     "metadata": {},
     "output_type": "execute_result"
    }
   ],
   "source": [
    "X['LGA_Name'].nunique()"
   ]
  },
  {
   "cell_type": "code",
   "execution_count": 384,
   "id": "c0287a91",
   "metadata": {},
   "outputs": [],
   "source": [
    "rare_enc5=RareLabelEncoder(tol=0.0160,n_categories=5,variables=['LGA_Name'])"
   ]
  },
  {
   "cell_type": "code",
   "execution_count": 385,
   "id": "c141a6d5",
   "metadata": {},
   "outputs": [],
   "source": [
    "X=rare_enc5.fit_transform(X)"
   ]
  },
  {
   "cell_type": "code",
   "execution_count": 386,
   "id": "7af7cfe0",
   "metadata": {},
   "outputs": [
    {
     "data": {
      "text/plain": [
       "Missing            6476\n",
       "Rare               2653\n",
       "Victoria Island    1162\n",
       "Ikeja               401\n",
       "Surulere            288\n",
       "Abuja Municipal     232\n",
       "Lagos Mainland      222\n",
       "Lagos Island        221\n",
       "Eti-Osa             217\n",
       "Lekki               207\n",
       "Name: LGA_Name, dtype: int64"
      ]
     },
     "execution_count": 386,
     "metadata": {},
     "output_type": "execute_result"
    }
   ],
   "source": [
    "X['LGA_Name'].value_counts()"
   ]
  },
  {
   "cell_type": "code",
   "execution_count": 387,
   "id": "0a10ba6b",
   "metadata": {},
   "outputs": [],
   "source": [
    "ohe5=OneHotEncoder(top_categories=10,variables=['LGA_Name'],drop_last=False)"
   ]
  },
  {
   "cell_type": "code",
   "execution_count": 388,
   "id": "966a8fba",
   "metadata": {},
   "outputs": [],
   "source": [
    "X=ohe5.fit_transform(X)"
   ]
  },
  {
   "cell_type": "code",
   "execution_count": 389,
   "id": "67c8d943",
   "metadata": {},
   "outputs": [
    {
     "data": {
      "text/html": [
       "<div>\n",
       "<style scoped>\n",
       "    .dataframe tbody tr th:only-of-type {\n",
       "        vertical-align: middle;\n",
       "    }\n",
       "\n",
       "    .dataframe tbody tr th {\n",
       "        vertical-align: top;\n",
       "    }\n",
       "\n",
       "    .dataframe thead th {\n",
       "        text-align: right;\n",
       "    }\n",
       "</style>\n",
       "<table border=\"1\" class=\"dataframe\">\n",
       "  <thead>\n",
       "    <tr style=\"text-align: right;\">\n",
       "      <th></th>\n",
       "      <th>Age</th>\n",
       "      <th>No_Pol</th>\n",
       "      <th>State</th>\n",
       "      <th>ProductName</th>\n",
       "      <th>Pol_start</th>\n",
       "      <th>Pol_end</th>\n",
       "      <th>Sub-time</th>\n",
       "      <th>Gender_Male</th>\n",
       "      <th>Gender_Female</th>\n",
       "      <th>Gender_Rare</th>\n",
       "      <th>...</th>\n",
       "      <th>LGA_Name_Missing</th>\n",
       "      <th>LGA_Name_Rare</th>\n",
       "      <th>LGA_Name_Victoria Island</th>\n",
       "      <th>LGA_Name_Ikeja</th>\n",
       "      <th>LGA_Name_Surulere</th>\n",
       "      <th>LGA_Name_Abuja Municipal</th>\n",
       "      <th>LGA_Name_Lagos Mainland</th>\n",
       "      <th>LGA_Name_Lagos Island</th>\n",
       "      <th>LGA_Name_Eti-Osa</th>\n",
       "      <th>LGA_Name_Lekki</th>\n",
       "    </tr>\n",
       "  </thead>\n",
       "  <tbody>\n",
       "    <tr>\n",
       "      <th>0</th>\n",
       "      <td>30</td>\n",
       "      <td>1</td>\n",
       "      <td>Missing</td>\n",
       "      <td>Car Classic</td>\n",
       "      <td>2010</td>\n",
       "      <td>2011</td>\n",
       "      <td>364</td>\n",
       "      <td>1</td>\n",
       "      <td>0</td>\n",
       "      <td>0</td>\n",
       "      <td>...</td>\n",
       "      <td>1</td>\n",
       "      <td>0</td>\n",
       "      <td>0</td>\n",
       "      <td>0</td>\n",
       "      <td>0</td>\n",
       "      <td>0</td>\n",
       "      <td>0</td>\n",
       "      <td>0</td>\n",
       "      <td>0</td>\n",
       "      <td>0</td>\n",
       "    </tr>\n",
       "    <tr>\n",
       "      <th>1</th>\n",
       "      <td>79</td>\n",
       "      <td>1</td>\n",
       "      <td>Missing</td>\n",
       "      <td>Car Classic</td>\n",
       "      <td>2010</td>\n",
       "      <td>2011</td>\n",
       "      <td>364</td>\n",
       "      <td>0</td>\n",
       "      <td>1</td>\n",
       "      <td>0</td>\n",
       "      <td>...</td>\n",
       "      <td>1</td>\n",
       "      <td>0</td>\n",
       "      <td>0</td>\n",
       "      <td>0</td>\n",
       "      <td>0</td>\n",
       "      <td>0</td>\n",
       "      <td>0</td>\n",
       "      <td>0</td>\n",
       "      <td>0</td>\n",
       "      <td>0</td>\n",
       "    </tr>\n",
       "    <tr>\n",
       "      <th>2</th>\n",
       "      <td>43</td>\n",
       "      <td>1</td>\n",
       "      <td>Missing</td>\n",
       "      <td>Car Classic</td>\n",
       "      <td>2010</td>\n",
       "      <td>2011</td>\n",
       "      <td>364</td>\n",
       "      <td>1</td>\n",
       "      <td>0</td>\n",
       "      <td>0</td>\n",
       "      <td>...</td>\n",
       "      <td>1</td>\n",
       "      <td>0</td>\n",
       "      <td>0</td>\n",
       "      <td>0</td>\n",
       "      <td>0</td>\n",
       "      <td>0</td>\n",
       "      <td>0</td>\n",
       "      <td>0</td>\n",
       "      <td>0</td>\n",
       "      <td>0</td>\n",
       "    </tr>\n",
       "    <tr>\n",
       "      <th>3</th>\n",
       "      <td>2</td>\n",
       "      <td>1</td>\n",
       "      <td>Missing</td>\n",
       "      <td>CarSafe</td>\n",
       "      <td>2010</td>\n",
       "      <td>2011</td>\n",
       "      <td>364</td>\n",
       "      <td>1</td>\n",
       "      <td>0</td>\n",
       "      <td>0</td>\n",
       "      <td>...</td>\n",
       "      <td>1</td>\n",
       "      <td>0</td>\n",
       "      <td>0</td>\n",
       "      <td>0</td>\n",
       "      <td>0</td>\n",
       "      <td>0</td>\n",
       "      <td>0</td>\n",
       "      <td>0</td>\n",
       "      <td>0</td>\n",
       "      <td>0</td>\n",
       "    </tr>\n",
       "    <tr>\n",
       "      <th>4</th>\n",
       "      <td>20</td>\n",
       "      <td>3</td>\n",
       "      <td>Lagos</td>\n",
       "      <td>Muuve</td>\n",
       "      <td>2010</td>\n",
       "      <td>2010</td>\n",
       "      <td>124</td>\n",
       "      <td>0</td>\n",
       "      <td>0</td>\n",
       "      <td>1</td>\n",
       "      <td>...</td>\n",
       "      <td>0</td>\n",
       "      <td>1</td>\n",
       "      <td>0</td>\n",
       "      <td>0</td>\n",
       "      <td>0</td>\n",
       "      <td>0</td>\n",
       "      <td>0</td>\n",
       "      <td>0</td>\n",
       "      <td>0</td>\n",
       "      <td>0</td>\n",
       "    </tr>\n",
       "  </tbody>\n",
       "</table>\n",
       "<p>5 rows × 33 columns</p>\n",
       "</div>"
      ],
      "text/plain": [
       "   Age  No_Pol    State  ProductName  Pol_start  Pol_end  Sub-time  \\\n",
       "0   30       1  Missing  Car Classic       2010     2011       364   \n",
       "1   79       1  Missing  Car Classic       2010     2011       364   \n",
       "2   43       1  Missing  Car Classic       2010     2011       364   \n",
       "3    2       1  Missing      CarSafe       2010     2011       364   \n",
       "4   20       3    Lagos        Muuve       2010     2010       124   \n",
       "\n",
       "   Gender_Male  Gender_Female  Gender_Rare  ...  LGA_Name_Missing  \\\n",
       "0            1              0            0  ...                 1   \n",
       "1            0              1            0  ...                 1   \n",
       "2            1              0            0  ...                 1   \n",
       "3            1              0            0  ...                 1   \n",
       "4            0              0            1  ...                 0   \n",
       "\n",
       "   LGA_Name_Rare  LGA_Name_Victoria Island  LGA_Name_Ikeja  LGA_Name_Surulere  \\\n",
       "0              0                         0               0                  0   \n",
       "1              0                         0               0                  0   \n",
       "2              0                         0               0                  0   \n",
       "3              0                         0               0                  0   \n",
       "4              1                         0               0                  0   \n",
       "\n",
       "   LGA_Name_Abuja Municipal  LGA_Name_Lagos Mainland  LGA_Name_Lagos Island  \\\n",
       "0                         0                        0                      0   \n",
       "1                         0                        0                      0   \n",
       "2                         0                        0                      0   \n",
       "3                         0                        0                      0   \n",
       "4                         0                        0                      0   \n",
       "\n",
       "   LGA_Name_Eti-Osa  LGA_Name_Lekki  \n",
       "0                 0               0  \n",
       "1                 0               0  \n",
       "2                 0               0  \n",
       "3                 0               0  \n",
       "4                 0               0  \n",
       "\n",
       "[5 rows x 33 columns]"
      ]
     },
     "execution_count": 389,
     "metadata": {},
     "output_type": "execute_result"
    }
   ],
   "source": [
    "X.head()"
   ]
  },
  {
   "cell_type": "markdown",
   "id": "a2346a01",
   "metadata": {},
   "source": [
    "## State Feat_eng"
   ]
  },
  {
   "cell_type": "code",
   "execution_count": 390,
   "id": "201e3768",
   "metadata": {},
   "outputs": [
    {
     "data": {
      "text/plain": [
       "Missing                 6488\n",
       "Lagos                   3186\n",
       "Benue                    626\n",
       "Abuja-Municipal          232\n",
       "Eti-Osa                  217\n",
       "Ibeju-Lekki              123\n",
       "Oshodi-Isolo              89\n",
       "Ogun                      89\n",
       "Delta                     86\n",
       "Obia-Akpor                85\n",
       "Abuja                     72\n",
       "Edo                       63\n",
       "Rivers                    58\n",
       "Amuwo-Odofin              52\n",
       "Ibadan-West               47\n",
       "Ifako-Ijaye               35\n",
       "Port-Harcourt             34\n",
       "ENUGU-EAST                32\n",
       "Imo                       27\n",
       "Warri-Central             27\n",
       "Oyo                       26\n",
       "Kaduna-North              23\n",
       "Osun                      20\n",
       "Anambra                   18\n",
       "Akwa-Ibom                 17\n",
       "Ife-Central               14\n",
       "Niger-State               14\n",
       "Ondo                      13\n",
       "Kaduna                    13\n",
       "Owerri-Municipal          13\n",
       "Jos-North                 12\n",
       "Anambra-East              10\n",
       "Jos-South                 10\n",
       "Kaduna-South              10\n",
       "Ijebu-Ode                  9\n",
       "Ogbmosho-South             8\n",
       "Enugu-North                8\n",
       "Ibadan-East                8\n",
       "Etsako-West                6\n",
       "Lagelu-North               6\n",
       "ABULE-EGBA                 6\n",
       "Ajeromi-Ifelodun           6\n",
       "Kano-Municipal             5\n",
       "Awka-South                 5\n",
       "Nnewi-North                5\n",
       "Obafemi-Owode              4\n",
       "Nsit-Ubium                 4\n",
       "Ado-Ota                    4\n",
       "Ogun-Waterside             4\n",
       "Cross-River                4\n",
       "Aniocha-South              4\n",
       "Ibadan-North               4\n",
       "Udi-Agwu                   3\n",
       "Esan-West                  3\n",
       "Kwara                      3\n",
       "Ife-North                  3\n",
       "Ilesha-West                3\n",
       "Aba-North                  3\n",
       "Onitsha-North              3\n",
       "Warri-North                3\n",
       "Orile-Iganmu               2\n",
       "Ado-Ekiti                  2\n",
       "Oyo-East                   2\n",
       "Idemili-North              2\n",
       "Central-Abuja              2\n",
       "Owerri-West                2\n",
       "Ile-Oluji                  2\n",
       "Gombe                      2\n",
       "AJAO-ESTATE                2\n",
       "Ilorin-East                2\n",
       "Abia                       2\n",
       "Ebonyi                     2\n",
       "Calabar-Municipality       2\n",
       "Ibarapa-Central            2\n",
       "Ekiti-East                 2\n",
       "Kogi                       2\n",
       "Esan-Central               2\n",
       "Aboh-Mbaise                2\n",
       "Ondo-West                  2\n",
       "Ilorin-West                2\n",
       "Warri-South                2\n",
       "Umuahia-South              2\n",
       "Ethiope-East               1\n",
       "Asari-Toru                 1\n",
       "Ijebu-East                 1\n",
       "Ovia-SouthWest             1\n",
       "ENUGU-SOUTH                1\n",
       "Bauchi                     1\n",
       "Aba-South                  1\n",
       "Akoko-West                 1\n",
       "Nnewi-South                1\n",
       "Bayelsa                    1\n",
       "Kano                       1\n",
       "Ekiti-West                 1\n",
       "Ndokwa-East                1\n",
       "Isoko-North                1\n",
       "Ilesha-East                1\n",
       "Kebbi                      1\n",
       "Ijebu-North                1\n",
       "Owerri-North               1\n",
       "Ogba-Ndoni                 1\n",
       "Nasarawa                   1\n",
       "Ajegunle-State             1\n",
       "Isoko-south                1\n",
       "N-A                        1\n",
       "Onitsha-South              1\n",
       "Ughelli-North              1\n",
       "QuaAn-Pan                  1\n",
       "Essien-Udim                1\n",
       "Awka-North                 1\n",
       "Oyo-West                   1\n",
       "Oshimili-North             1\n",
       "Name: State, dtype: int64"
      ]
     },
     "execution_count": 390,
     "metadata": {},
     "output_type": "execute_result"
    }
   ],
   "source": [
    "X['State'].value_counts()"
   ]
  },
  {
   "cell_type": "code",
   "execution_count": 391,
   "id": "f4a0b823",
   "metadata": {},
   "outputs": [],
   "source": [
    "rare_enc6=RareLabelEncoder(tol=0.0160,n_categories=4,variables=['State'])"
   ]
  },
  {
   "cell_type": "code",
   "execution_count": 392,
   "id": "670e32a5",
   "metadata": {},
   "outputs": [],
   "source": [
    "X=rare_enc6.fit_transform(X)"
   ]
  },
  {
   "cell_type": "code",
   "execution_count": 393,
   "id": "908bea75",
   "metadata": {},
   "outputs": [
    {
     "data": {
      "text/plain": [
       "Missing            6488\n",
       "Lagos              3186\n",
       "Rare               1330\n",
       "Benue               626\n",
       "Abuja-Municipal     232\n",
       "Eti-Osa             217\n",
       "Name: State, dtype: int64"
      ]
     },
     "execution_count": 393,
     "metadata": {},
     "output_type": "execute_result"
    }
   ],
   "source": [
    "X['State'].value_counts()"
   ]
  },
  {
   "cell_type": "code",
   "execution_count": 394,
   "id": "e517e01c",
   "metadata": {},
   "outputs": [],
   "source": [
    "ohe6=OneHotEncoder(top_categories=6,variables=['State'],drop_last=False)"
   ]
  },
  {
   "cell_type": "code",
   "execution_count": 395,
   "id": "2f65448e",
   "metadata": {},
   "outputs": [],
   "source": [
    "X=ohe6.fit_transform(X)"
   ]
  },
  {
   "cell_type": "code",
   "execution_count": 396,
   "id": "f5ab4b36",
   "metadata": {},
   "outputs": [
    {
     "data": {
      "text/html": [
       "<div>\n",
       "<style scoped>\n",
       "    .dataframe tbody tr th:only-of-type {\n",
       "        vertical-align: middle;\n",
       "    }\n",
       "\n",
       "    .dataframe tbody tr th {\n",
       "        vertical-align: top;\n",
       "    }\n",
       "\n",
       "    .dataframe thead th {\n",
       "        text-align: right;\n",
       "    }\n",
       "</style>\n",
       "<table border=\"1\" class=\"dataframe\">\n",
       "  <thead>\n",
       "    <tr style=\"text-align: right;\">\n",
       "      <th></th>\n",
       "      <th>Age</th>\n",
       "      <th>No_Pol</th>\n",
       "      <th>ProductName</th>\n",
       "      <th>Pol_start</th>\n",
       "      <th>Pol_end</th>\n",
       "      <th>Sub-time</th>\n",
       "      <th>Gender_Male</th>\n",
       "      <th>Gender_Female</th>\n",
       "      <th>Gender_Rare</th>\n",
       "      <th>Car_Category_Saloon</th>\n",
       "      <th>...</th>\n",
       "      <th>LGA_Name_Lagos Mainland</th>\n",
       "      <th>LGA_Name_Lagos Island</th>\n",
       "      <th>LGA_Name_Eti-Osa</th>\n",
       "      <th>LGA_Name_Lekki</th>\n",
       "      <th>State_Missing</th>\n",
       "      <th>State_Lagos</th>\n",
       "      <th>State_Rare</th>\n",
       "      <th>State_Benue</th>\n",
       "      <th>State_Abuja-Municipal</th>\n",
       "      <th>State_Eti-Osa</th>\n",
       "    </tr>\n",
       "  </thead>\n",
       "  <tbody>\n",
       "    <tr>\n",
       "      <th>0</th>\n",
       "      <td>30</td>\n",
       "      <td>1</td>\n",
       "      <td>Car Classic</td>\n",
       "      <td>2010</td>\n",
       "      <td>2011</td>\n",
       "      <td>364</td>\n",
       "      <td>1</td>\n",
       "      <td>0</td>\n",
       "      <td>0</td>\n",
       "      <td>1</td>\n",
       "      <td>...</td>\n",
       "      <td>0</td>\n",
       "      <td>0</td>\n",
       "      <td>0</td>\n",
       "      <td>0</td>\n",
       "      <td>1</td>\n",
       "      <td>0</td>\n",
       "      <td>0</td>\n",
       "      <td>0</td>\n",
       "      <td>0</td>\n",
       "      <td>0</td>\n",
       "    </tr>\n",
       "    <tr>\n",
       "      <th>1</th>\n",
       "      <td>79</td>\n",
       "      <td>1</td>\n",
       "      <td>Car Classic</td>\n",
       "      <td>2010</td>\n",
       "      <td>2011</td>\n",
       "      <td>364</td>\n",
       "      <td>0</td>\n",
       "      <td>1</td>\n",
       "      <td>0</td>\n",
       "      <td>0</td>\n",
       "      <td>...</td>\n",
       "      <td>0</td>\n",
       "      <td>0</td>\n",
       "      <td>0</td>\n",
       "      <td>0</td>\n",
       "      <td>1</td>\n",
       "      <td>0</td>\n",
       "      <td>0</td>\n",
       "      <td>0</td>\n",
       "      <td>0</td>\n",
       "      <td>0</td>\n",
       "    </tr>\n",
       "    <tr>\n",
       "      <th>2</th>\n",
       "      <td>43</td>\n",
       "      <td>1</td>\n",
       "      <td>Car Classic</td>\n",
       "      <td>2010</td>\n",
       "      <td>2011</td>\n",
       "      <td>364</td>\n",
       "      <td>1</td>\n",
       "      <td>0</td>\n",
       "      <td>0</td>\n",
       "      <td>1</td>\n",
       "      <td>...</td>\n",
       "      <td>0</td>\n",
       "      <td>0</td>\n",
       "      <td>0</td>\n",
       "      <td>0</td>\n",
       "      <td>1</td>\n",
       "      <td>0</td>\n",
       "      <td>0</td>\n",
       "      <td>0</td>\n",
       "      <td>0</td>\n",
       "      <td>0</td>\n",
       "    </tr>\n",
       "    <tr>\n",
       "      <th>3</th>\n",
       "      <td>2</td>\n",
       "      <td>1</td>\n",
       "      <td>CarSafe</td>\n",
       "      <td>2010</td>\n",
       "      <td>2011</td>\n",
       "      <td>364</td>\n",
       "      <td>1</td>\n",
       "      <td>0</td>\n",
       "      <td>0</td>\n",
       "      <td>0</td>\n",
       "      <td>...</td>\n",
       "      <td>0</td>\n",
       "      <td>0</td>\n",
       "      <td>0</td>\n",
       "      <td>0</td>\n",
       "      <td>1</td>\n",
       "      <td>0</td>\n",
       "      <td>0</td>\n",
       "      <td>0</td>\n",
       "      <td>0</td>\n",
       "      <td>0</td>\n",
       "    </tr>\n",
       "    <tr>\n",
       "      <th>4</th>\n",
       "      <td>20</td>\n",
       "      <td>3</td>\n",
       "      <td>Muuve</td>\n",
       "      <td>2010</td>\n",
       "      <td>2010</td>\n",
       "      <td>124</td>\n",
       "      <td>0</td>\n",
       "      <td>0</td>\n",
       "      <td>1</td>\n",
       "      <td>0</td>\n",
       "      <td>...</td>\n",
       "      <td>0</td>\n",
       "      <td>0</td>\n",
       "      <td>0</td>\n",
       "      <td>0</td>\n",
       "      <td>0</td>\n",
       "      <td>1</td>\n",
       "      <td>0</td>\n",
       "      <td>0</td>\n",
       "      <td>0</td>\n",
       "      <td>0</td>\n",
       "    </tr>\n",
       "  </tbody>\n",
       "</table>\n",
       "<p>5 rows × 38 columns</p>\n",
       "</div>"
      ],
      "text/plain": [
       "   Age  No_Pol  ProductName  Pol_start  Pol_end  Sub-time  Gender_Male  \\\n",
       "0   30       1  Car Classic       2010     2011       364            1   \n",
       "1   79       1  Car Classic       2010     2011       364            0   \n",
       "2   43       1  Car Classic       2010     2011       364            1   \n",
       "3    2       1      CarSafe       2010     2011       364            1   \n",
       "4   20       3        Muuve       2010     2010       124            0   \n",
       "\n",
       "   Gender_Female  Gender_Rare  Car_Category_Saloon  ...  \\\n",
       "0              0            0                    1  ...   \n",
       "1              1            0                    0  ...   \n",
       "2              0            0                    1  ...   \n",
       "3              0            0                    0  ...   \n",
       "4              0            1                    0  ...   \n",
       "\n",
       "   LGA_Name_Lagos Mainland  LGA_Name_Lagos Island  LGA_Name_Eti-Osa  \\\n",
       "0                        0                      0                 0   \n",
       "1                        0                      0                 0   \n",
       "2                        0                      0                 0   \n",
       "3                        0                      0                 0   \n",
       "4                        0                      0                 0   \n",
       "\n",
       "   LGA_Name_Lekki  State_Missing  State_Lagos  State_Rare  State_Benue  \\\n",
       "0               0              1            0           0            0   \n",
       "1               0              1            0           0            0   \n",
       "2               0              1            0           0            0   \n",
       "3               0              1            0           0            0   \n",
       "4               0              0            1           0            0   \n",
       "\n",
       "   State_Abuja-Municipal  State_Eti-Osa  \n",
       "0                      0              0  \n",
       "1                      0              0  \n",
       "2                      0              0  \n",
       "3                      0              0  \n",
       "4                      0              0  \n",
       "\n",
       "[5 rows x 38 columns]"
      ]
     },
     "execution_count": 396,
     "metadata": {},
     "output_type": "execute_result"
    }
   ],
   "source": [
    "X.head()"
   ]
  },
  {
   "cell_type": "markdown",
   "id": "8d3453c7",
   "metadata": {},
   "source": [
    "## Prod Name Feat_eng"
   ]
  },
  {
   "cell_type": "code",
   "execution_count": 397,
   "id": "3d8c7249",
   "metadata": {},
   "outputs": [
    {
     "data": {
      "text/plain": [
       "Car Classic         6485\n",
       "CarSafe             3774\n",
       "Customized Motor     545\n",
       "Car Plus             486\n",
       "CVTP                 469\n",
       "CarFlex              176\n",
       "Muuve                 93\n",
       "Motor Cycle           46\n",
       "Car Vintage            5\n",
       "Name: ProductName, dtype: int64"
      ]
     },
     "execution_count": 397,
     "metadata": {},
     "output_type": "execute_result"
    }
   ],
   "source": [
    "X['ProductName'].value_counts()"
   ]
  },
  {
   "cell_type": "code",
   "execution_count": 398,
   "id": "7bd2314e",
   "metadata": {},
   "outputs": [
    {
     "data": {
      "text/plain": [
       "Car Classic         0.536882\n",
       "CarSafe             0.312443\n",
       "Customized Motor    0.045120\n",
       "Car Plus            0.040235\n",
       "CVTP                0.038828\n",
       "CarFlex             0.014571\n",
       "Muuve               0.007699\n",
       "Motor Cycle         0.003808\n",
       "Car Vintage         0.000414\n",
       "Name: ProductName, dtype: float64"
      ]
     },
     "execution_count": 398,
     "metadata": {},
     "output_type": "execute_result"
    }
   ],
   "source": [
    "X['ProductName'].value_counts()/len(X)"
   ]
  },
  {
   "cell_type": "code",
   "execution_count": 399,
   "id": "c745cac6",
   "metadata": {},
   "outputs": [],
   "source": [
    "rare_enc7=RareLabelEncoder(tol=0.05,n_categories=4,variables=['ProductName'])"
   ]
  },
  {
   "cell_type": "code",
   "execution_count": 400,
   "id": "9164e154",
   "metadata": {},
   "outputs": [],
   "source": [
    "X=rare_enc7.fit_transform(X)"
   ]
  },
  {
   "cell_type": "code",
   "execution_count": 401,
   "id": "c6350bc7",
   "metadata": {},
   "outputs": [],
   "source": [
    "ohe7=OneHotEncoder(top_categories=4,variables=['ProductName'],drop_last=False)"
   ]
  },
  {
   "cell_type": "code",
   "execution_count": 402,
   "id": "136d9976",
   "metadata": {},
   "outputs": [],
   "source": [
    "X=ohe7.fit_transform(X)"
   ]
  },
  {
   "cell_type": "code",
   "execution_count": 403,
   "id": "69169033",
   "metadata": {},
   "outputs": [
    {
     "data": {
      "text/html": [
       "<div>\n",
       "<style scoped>\n",
       "    .dataframe tbody tr th:only-of-type {\n",
       "        vertical-align: middle;\n",
       "    }\n",
       "\n",
       "    .dataframe tbody tr th {\n",
       "        vertical-align: top;\n",
       "    }\n",
       "\n",
       "    .dataframe thead th {\n",
       "        text-align: right;\n",
       "    }\n",
       "</style>\n",
       "<table border=\"1\" class=\"dataframe\">\n",
       "  <thead>\n",
       "    <tr style=\"text-align: right;\">\n",
       "      <th></th>\n",
       "      <th>Age</th>\n",
       "      <th>No_Pol</th>\n",
       "      <th>Pol_start</th>\n",
       "      <th>Pol_end</th>\n",
       "      <th>Sub-time</th>\n",
       "      <th>Gender_Male</th>\n",
       "      <th>Gender_Female</th>\n",
       "      <th>Gender_Rare</th>\n",
       "      <th>Car_Category_Saloon</th>\n",
       "      <th>Car_Category_Missing</th>\n",
       "      <th>...</th>\n",
       "      <th>LGA_Name_Lekki</th>\n",
       "      <th>State_Missing</th>\n",
       "      <th>State_Lagos</th>\n",
       "      <th>State_Rare</th>\n",
       "      <th>State_Benue</th>\n",
       "      <th>State_Abuja-Municipal</th>\n",
       "      <th>State_Eti-Osa</th>\n",
       "      <th>ProductName_Car Classic</th>\n",
       "      <th>ProductName_CarSafe</th>\n",
       "      <th>ProductName_Rare</th>\n",
       "    </tr>\n",
       "  </thead>\n",
       "  <tbody>\n",
       "    <tr>\n",
       "      <th>0</th>\n",
       "      <td>30</td>\n",
       "      <td>1</td>\n",
       "      <td>2010</td>\n",
       "      <td>2011</td>\n",
       "      <td>364</td>\n",
       "      <td>1</td>\n",
       "      <td>0</td>\n",
       "      <td>0</td>\n",
       "      <td>1</td>\n",
       "      <td>0</td>\n",
       "      <td>...</td>\n",
       "      <td>0</td>\n",
       "      <td>1</td>\n",
       "      <td>0</td>\n",
       "      <td>0</td>\n",
       "      <td>0</td>\n",
       "      <td>0</td>\n",
       "      <td>0</td>\n",
       "      <td>1</td>\n",
       "      <td>0</td>\n",
       "      <td>0</td>\n",
       "    </tr>\n",
       "    <tr>\n",
       "      <th>1</th>\n",
       "      <td>79</td>\n",
       "      <td>1</td>\n",
       "      <td>2010</td>\n",
       "      <td>2011</td>\n",
       "      <td>364</td>\n",
       "      <td>0</td>\n",
       "      <td>1</td>\n",
       "      <td>0</td>\n",
       "      <td>0</td>\n",
       "      <td>0</td>\n",
       "      <td>...</td>\n",
       "      <td>0</td>\n",
       "      <td>1</td>\n",
       "      <td>0</td>\n",
       "      <td>0</td>\n",
       "      <td>0</td>\n",
       "      <td>0</td>\n",
       "      <td>0</td>\n",
       "      <td>1</td>\n",
       "      <td>0</td>\n",
       "      <td>0</td>\n",
       "    </tr>\n",
       "    <tr>\n",
       "      <th>2</th>\n",
       "      <td>43</td>\n",
       "      <td>1</td>\n",
       "      <td>2010</td>\n",
       "      <td>2011</td>\n",
       "      <td>364</td>\n",
       "      <td>1</td>\n",
       "      <td>0</td>\n",
       "      <td>0</td>\n",
       "      <td>1</td>\n",
       "      <td>0</td>\n",
       "      <td>...</td>\n",
       "      <td>0</td>\n",
       "      <td>1</td>\n",
       "      <td>0</td>\n",
       "      <td>0</td>\n",
       "      <td>0</td>\n",
       "      <td>0</td>\n",
       "      <td>0</td>\n",
       "      <td>1</td>\n",
       "      <td>0</td>\n",
       "      <td>0</td>\n",
       "    </tr>\n",
       "    <tr>\n",
       "      <th>3</th>\n",
       "      <td>2</td>\n",
       "      <td>1</td>\n",
       "      <td>2010</td>\n",
       "      <td>2011</td>\n",
       "      <td>364</td>\n",
       "      <td>1</td>\n",
       "      <td>0</td>\n",
       "      <td>0</td>\n",
       "      <td>0</td>\n",
       "      <td>1</td>\n",
       "      <td>...</td>\n",
       "      <td>0</td>\n",
       "      <td>1</td>\n",
       "      <td>0</td>\n",
       "      <td>0</td>\n",
       "      <td>0</td>\n",
       "      <td>0</td>\n",
       "      <td>0</td>\n",
       "      <td>0</td>\n",
       "      <td>1</td>\n",
       "      <td>0</td>\n",
       "    </tr>\n",
       "    <tr>\n",
       "      <th>4</th>\n",
       "      <td>20</td>\n",
       "      <td>3</td>\n",
       "      <td>2010</td>\n",
       "      <td>2010</td>\n",
       "      <td>124</td>\n",
       "      <td>0</td>\n",
       "      <td>0</td>\n",
       "      <td>1</td>\n",
       "      <td>0</td>\n",
       "      <td>1</td>\n",
       "      <td>...</td>\n",
       "      <td>0</td>\n",
       "      <td>0</td>\n",
       "      <td>1</td>\n",
       "      <td>0</td>\n",
       "      <td>0</td>\n",
       "      <td>0</td>\n",
       "      <td>0</td>\n",
       "      <td>0</td>\n",
       "      <td>0</td>\n",
       "      <td>1</td>\n",
       "    </tr>\n",
       "  </tbody>\n",
       "</table>\n",
       "<p>5 rows × 40 columns</p>\n",
       "</div>"
      ],
      "text/plain": [
       "   Age  No_Pol  Pol_start  Pol_end  Sub-time  Gender_Male  Gender_Female  \\\n",
       "0   30       1       2010     2011       364            1              0   \n",
       "1   79       1       2010     2011       364            0              1   \n",
       "2   43       1       2010     2011       364            1              0   \n",
       "3    2       1       2010     2011       364            1              0   \n",
       "4   20       3       2010     2010       124            0              0   \n",
       "\n",
       "   Gender_Rare  Car_Category_Saloon  Car_Category_Missing  ...  \\\n",
       "0            0                    1                     0  ...   \n",
       "1            0                    0                     0  ...   \n",
       "2            0                    1                     0  ...   \n",
       "3            0                    0                     1  ...   \n",
       "4            1                    0                     1  ...   \n",
       "\n",
       "   LGA_Name_Lekki  State_Missing  State_Lagos  State_Rare  State_Benue  \\\n",
       "0               0              1            0           0            0   \n",
       "1               0              1            0           0            0   \n",
       "2               0              1            0           0            0   \n",
       "3               0              1            0           0            0   \n",
       "4               0              0            1           0            0   \n",
       "\n",
       "   State_Abuja-Municipal  State_Eti-Osa  ProductName_Car Classic  \\\n",
       "0                      0              0                        1   \n",
       "1                      0              0                        1   \n",
       "2                      0              0                        1   \n",
       "3                      0              0                        0   \n",
       "4                      0              0                        0   \n",
       "\n",
       "   ProductName_CarSafe  ProductName_Rare  \n",
       "0                    0                 0  \n",
       "1                    0                 0  \n",
       "2                    0                 0  \n",
       "3                    1                 0  \n",
       "4                    0                 1  \n",
       "\n",
       "[5 rows x 40 columns]"
      ]
     },
     "execution_count": 403,
     "metadata": {},
     "output_type": "execute_result"
    }
   ],
   "source": [
    "X.head()"
   ]
  },
  {
   "cell_type": "code",
   "execution_count": 404,
   "id": "02dcd9a1",
   "metadata": {},
   "outputs": [
    {
     "data": {
      "text/plain": [
       "0    10624\n",
       "1     1455\n",
       "Name: target, dtype: int64"
      ]
     },
     "execution_count": 404,
     "metadata": {},
     "output_type": "execute_result"
    }
   ],
   "source": [
    "y.value_counts()"
   ]
  },
  {
   "cell_type": "markdown",
   "id": "64f21bf4",
   "metadata": {},
   "source": [
    "## Imbal fixing"
   ]
  },
  {
   "cell_type": "code",
   "execution_count": 405,
   "id": "6b4a776f",
   "metadata": {},
   "outputs": [],
   "source": [
    "from sklearn import svm\n",
    "\n",
    "from imblearn.over_sampling import SVMSMOTE"
   ]
  },
  {
   "cell_type": "code",
   "execution_count": 406,
   "id": "33524a41",
   "metadata": {
    "scrolled": true
   },
   "outputs": [],
   "source": [
    "sm = SVMSMOTE(\n",
    "    sampling_strategy='auto',  # samples only the minority class\n",
    "    random_state=0,  # for reproducibility\n",
    "    k_neighbors=5,\n",
    "    m_neighbors=10,\n",
    "    n_jobs=-1,\n",
    "    svm_estimator = svm.SVC(kernel='rbf')\n",
    ")"
   ]
  },
  {
   "cell_type": "code",
   "execution_count": 407,
   "id": "f5d4b0d1",
   "metadata": {},
   "outputs": [],
   "source": [
    "X_res, y_res = sm.fit_resample(X, y)"
   ]
  },
  {
   "cell_type": "code",
   "execution_count": 408,
   "id": "50b37264",
   "metadata": {},
   "outputs": [
    {
     "data": {
      "text/plain": [
       "0    10624\n",
       "1    10624\n",
       "Name: target, dtype: int64"
      ]
     },
     "execution_count": 408,
     "metadata": {},
     "output_type": "execute_result"
    }
   ],
   "source": [
    "y_res.value_counts()"
   ]
  },
  {
   "cell_type": "code",
   "execution_count": 436,
   "id": "2ed393f6",
   "metadata": {},
   "outputs": [
    {
     "data": {
      "text/plain": [
       "array([   30,    79,    43,     2,    20,    37,    40,    71,    58,\n",
       "          45,    51,   120,    38,    81,    69,    31,    70,    34,\n",
       "           1,    41,    47,    36,    46,    48,    39,    63,    42,\n",
       "          27,    64,    50,    53,    33,    23,    32,    59,    60,\n",
       "          52,    54,    44,    11,    78,    28,    29,    57,    12,\n",
       "          65,    35,    73,    56,    55,    26,    49,    18,    14,\n",
       "          62,    25,    61,    72,    82,    67,     7,    10,    68,\n",
       "          21,    76,    24,    66,     3,    93,    22,    77,    19,\n",
       "          80,     9,     6,   -76,    -2,    89,    74,    75,    84,\n",
       "          16,    90,   140,     8,     5,    13,    86,    15,   320,\n",
       "         -12,    83,    85, -6099, -5939,     4,   -22,   144,   112,\n",
       "          17,     0,    88,   -27,    87,   133,   102,   -51,   128,\n",
       "         -26,   100, -2379, -4128, -2430, -2780, -3711, -5222, -4059],\n",
       "      dtype=int64)"
      ]
     },
     "execution_count": 436,
     "metadata": {},
     "output_type": "execute_result"
    }
   ],
   "source": [
    "X_res['Age'].unique()"
   ]
  },
  {
   "cell_type": "code",
   "execution_count": 437,
   "id": "cfd0e85d",
   "metadata": {},
   "outputs": [
    {
     "data": {
      "text/plain": [
       "<AxesSubplot:ylabel='Age'>"
      ]
     },
     "execution_count": 437,
     "metadata": {},
     "output_type": "execute_result"
    },
    {
     "data": {
      "image/png": "[encoded data removed]",
      "text/plain": [
       "<Figure size 432x288 with 1 Axes>"
      ]
     },
     "metadata": {
      "needs_background": "light"
     },
     "output_type": "display_data"
    }
   ],
   "source": [
    "sns.boxplot(y=X_res['Age'])"
   ]
  },
  {
   "cell_type": "code",
   "execution_count": 438,
   "id": "6ae68974",
   "metadata": {},
   "outputs": [],
   "source": [
    "from feature_engine.outliers import Winsorizer"
   ]
  },
  {
   "cell_type": "code",
   "execution_count": 439,
   "id": "3a33111b",
   "metadata": {},
   "outputs": [],
   "source": [
    "windsoriser = Winsorizer(capping_method='iqr', # choose iqr for skewed or gaussian\n",
    "                          tail='both', # cap left, right or both tails \n",
    "                          fold=1.5,\n",
    "                          variables=['Age'])"
   ]
  },
  {
   "cell_type": "code",
   "execution_count": 440,
   "id": "fd254afd",
   "metadata": {},
   "outputs": [],
   "source": [
    "X_res=windsoriser.fit_transform(X_res)"
   ]
  },
  {
   "cell_type": "code",
   "execution_count": 441,
   "id": "dc638962",
   "metadata": {},
   "outputs": [
    {
     "name": "stderr",
     "output_type": "stream",
     "text": [
      "C:\\Users\\GTDNL\\anacondanew\\envs\\ikepy3Tf2\\lib\\site-packages\\seaborn\\distributions.py:2557: FutureWarning:\n",
      "\n",
      "`distplot` is a deprecated function and will be removed in a future version. Please adapt your code to use either `displot` (a figure-level function with similar flexibility) or `histplot` (an axes-level function for histograms).\n",
      "\n"
     ]
    },
    {
     "data": {
      "text/plain": [
       "<AxesSubplot:xlabel='Sub-time', ylabel='Density'>"
      ]
     },
     "execution_count": 441,
     "metadata": {},
     "output_type": "execute_result"
    },
    {
     "data": {
      "image/png": "[encoded data removed]",
      "text/plain": [
       "<Figure size 432x288 with 1 Axes>"
      ]
     },
     "metadata": {
      "needs_background": "light"
     },
     "output_type": "display_data"
    }
   ],
   "source": [
    "sns.distplot(X_res['Sub-time'])"
   ]
  },
  {
   "cell_type": "code",
   "execution_count": 442,
   "id": "8ed84ab3",
   "metadata": {},
   "outputs": [
    {
     "data": {
      "text/plain": [
       "364    16025\n",
       "363      856\n",
       "106      302\n",
       "179      269\n",
       "181      254\n",
       "       ...  \n",
       "29         1\n",
       "40         1\n",
       "168        1\n",
       "216        1\n",
       "16         1\n",
       "Name: Sub-time, Length: 321, dtype: int64"
      ]
     },
     "execution_count": 442,
     "metadata": {},
     "output_type": "execute_result"
    }
   ],
   "source": [
    "X_res['Sub-time'].value_counts()"
   ]
  },
  {
   "cell_type": "code",
   "execution_count": 443,
   "id": "4256a084",
   "metadata": {},
   "outputs": [
    {
     "name": "stdout",
     "output_type": "stream",
     "text": [
      "<class 'pandas.core.frame.DataFrame'>\n",
      "RangeIndex: 21248 entries, 0 to 21247\n",
      "Data columns (total 40 columns):\n",
      " #   Column                      Non-Null Count  Dtype  \n",
      "---  ------                      --------------  -----  \n",
      " 0   Age                         21248 non-null  float64\n",
      " 1   No_Pol                      21248 non-null  int64  \n",
      " 2   Pol_start                   21248 non-null  int64  \n",
      " 3   Pol_end                     21248 non-null  int64  \n",
      " 4   Sub-time                    21248 non-null  int16  \n",
      " 5   Gender_Male                 21248 non-null  int32  \n",
      " 6   Gender_Female               21248 non-null  int32  \n",
      " 7   Gender_Rare                 21248 non-null  int32  \n",
      " 8   Car_Category_Saloon         21248 non-null  int32  \n",
      " 9   Car_Category_Missing        21248 non-null  int32  \n",
      " 10  Car_Category_JEEP           21248 non-null  int32  \n",
      " 11  Car_Category_Rare           21248 non-null  int32  \n",
      " 12  Subject_Car_Colour_Missing  21248 non-null  int32  \n",
      " 13  Subject_Car_Colour_Rare     21248 non-null  int32  \n",
      " 14  Subject_Car_Colour_Black    21248 non-null  int32  \n",
      " 15  Subject_Car_Make_TOYOTA     21248 non-null  int32  \n",
      " 16  Subject_Car_Make_Missing    21248 non-null  int32  \n",
      " 17  Subject_Car_Make_Rare       21248 non-null  int32  \n",
      " 18  Subject_Car_Make_Honda      21248 non-null  int32  \n",
      " 19  Subject_Car_Make_Lexus      21248 non-null  int32  \n",
      " 20  Subject_Car_Make_Mercedes   21248 non-null  int32  \n",
      " 21  LGA_Name_Missing            21248 non-null  int32  \n",
      " 22  LGA_Name_Rare               21248 non-null  int32  \n",
      " 23  LGA_Name_Victoria Island    21248 non-null  int32  \n",
      " 24  LGA_Name_Ikeja              21248 non-null  int32  \n",
      " 25  LGA_Name_Surulere           21248 non-null  int32  \n",
      " 26  LGA_Name_Abuja Municipal    21248 non-null  int32  \n",
      " 27  LGA_Name_Lagos Mainland     21248 non-null  int32  \n",
      " 28  LGA_Name_Lagos Island       21248 non-null  int32  \n",
      " 29  LGA_Name_Eti-Osa            21248 non-null  int32  \n",
      " 30  LGA_Name_Lekki              21248 non-null  int32  \n",
      " 31  State_Missing               21248 non-null  int32  \n",
      " 32  State_Lagos                 21248 non-null  int32  \n",
      " 33  State_Rare                  21248 non-null  int32  \n",
      " 34  State_Benue                 21248 non-null  int32  \n",
      " 35  State_Abuja-Municipal       21248 non-null  int32  \n",
      " 36  State_Eti-Osa               21248 non-null  int32  \n",
      " 37  ProductName_Car Classic     21248 non-null  int32  \n",
      " 38  ProductName_CarSafe         21248 non-null  int32  \n",
      " 39  ProductName_Rare            21248 non-null  int32  \n",
      "dtypes: float64(1), int16(1), int32(35), int64(3)\n",
      "memory usage: 3.5 MB\n"
     ]
    }
   ],
   "source": [
    "X_res.info()"
   ]
  },
  {
   "cell_type": "markdown",
   "id": "c2a967c7",
   "metadata": {},
   "source": [
    "## Feature_Selection"
   ]
  },
  {
   "cell_type": "code",
   "execution_count": 444,
   "id": "d237546c",
   "metadata": {},
   "outputs": [],
   "source": [
    "from sklearn.feature_selection import mutual_info_classif\n",
    "from sklearn.feature_selection import SelectKBest"
   ]
  },
  {
   "cell_type": "code",
   "execution_count": 445,
   "id": "14284703",
   "metadata": {},
   "outputs": [
    {
     "data": {
      "text/plain": [
       "0    10624\n",
       "1     1455\n",
       "Name: target, dtype: int64"
      ]
     },
     "execution_count": 445,
     "metadata": {},
     "output_type": "execute_result"
    }
   ],
   "source": [
    "y.value_counts()"
   ]
  },
  {
   "cell_type": "code",
   "execution_count": 446,
   "id": "204f28f3",
   "metadata": {},
   "outputs": [
    {
     "data": {
      "text/plain": [
       "array([0.08967137, 0.04053558, 0.00245207, 0.04868152, 0.05153292,\n",
       "       0.00413796, 0.01334926, 0.00989793, 0.        , 0.        ,\n",
       "       0.01082978, 0.00102972, 0.06095471, 0.02672166, 0.00055975,\n",
       "       0.0038795 , 0.01467614, 0.00081194, 0.00363107, 0.        ,\n",
       "       0.        , 0.05025662, 0.00283132, 0.01663337, 0.0023512 ,\n",
       "       0.00062884, 0.00320521, 0.00739121, 0.00604824, 0.00561468,\n",
       "       0.00015589, 0.05045229, 0.01943971, 0.        , 0.        ,\n",
       "       0.00077305, 0.00928231, 0.00131275, 0.14212938, 0.02850637])"
      ]
     },
     "execution_count": 446,
     "metadata": {},
     "output_type": "execute_result"
    }
   ],
   "source": [
    "mutual_info=mutual_info_classif(X_res,y_res)\n",
    "mutual_info"
   ]
  },
  {
   "cell_type": "code",
   "execution_count": 448,
   "id": "d46c4b2d",
   "metadata": {},
   "outputs": [
    {
     "data": {
      "text/plain": [
       "ProductName_CarSafe           0.142129\n",
       "Age                           0.089671\n",
       "Subject_Car_Colour_Missing    0.060955\n",
       "Sub-time                      0.051533\n",
       "State_Missing                 0.050452\n",
       "LGA_Name_Missing              0.050257\n",
       "Pol_end                       0.048682\n",
       "No_Pol                        0.040536\n",
       "ProductName_Rare              0.028506\n",
       "Subject_Car_Colour_Rare       0.026722\n",
       "State_Lagos                   0.019440\n",
       "LGA_Name_Victoria Island      0.016633\n",
       "Subject_Car_Make_Missing      0.014676\n",
       "Gender_Female                 0.013349\n",
       "Car_Category_JEEP             0.010830\n",
       "Gender_Rare                   0.009898\n",
       "State_Eti-Osa                 0.009282\n",
       "LGA_Name_Lagos Mainland       0.007391\n",
       "LGA_Name_Lagos Island         0.006048\n",
       "LGA_Name_Eti-Osa              0.005615\n",
       "Gender_Male                   0.004138\n",
       "Subject_Car_Make_TOYOTA       0.003879\n",
       "Subject_Car_Make_Honda        0.003631\n",
       "LGA_Name_Abuja Municipal      0.003205\n",
       "LGA_Name_Rare                 0.002831\n",
       "Pol_start                     0.002452\n",
       "LGA_Name_Ikeja                0.002351\n",
       "ProductName_Car Classic       0.001313\n",
       "Car_Category_Rare             0.001030\n",
       "Subject_Car_Make_Rare         0.000812\n",
       "State_Abuja-Municipal         0.000773\n",
       "LGA_Name_Surulere             0.000629\n",
       "Subject_Car_Colour_Black      0.000560\n",
       "LGA_Name_Lekki                0.000156\n",
       "Car_Category_Missing          0.000000\n",
       "State_Benue                   0.000000\n",
       "State_Rare                    0.000000\n",
       "Subject_Car_Make_Lexus        0.000000\n",
       "Car_Category_Saloon           0.000000\n",
       "Subject_Car_Make_Mercedes     0.000000\n",
       "dtype: float64"
      ]
     },
     "execution_count": 448,
     "metadata": {},
     "output_type": "execute_result"
    }
   ],
   "source": [
    "mutual_info=pd.Series(mutual_info)\n",
    "mutual_info.index=X_res.columns\n",
    "mutual_info.sort_values(ascending=False)"
   ]
  },
  {
   "cell_type": "code",
   "execution_count": 449,
   "id": "6b8cf5b3",
   "metadata": {},
   "outputs": [
    {
     "data": {
      "text/plain": [
       "Index(['Age', 'No_Pol', 'Pol_end', 'Sub-time', 'Subject_Car_Colour_Missing',\n",
       "       'Subject_Car_Colour_Rare', 'LGA_Name_Missing', 'State_Missing',\n",
       "       'ProductName_CarSafe', 'ProductName_Rare'],\n",
       "      dtype='object')"
      ]
     },
     "execution_count": 449,
     "metadata": {},
     "output_type": "execute_result"
    }
   ],
   "source": [
    "sel_ten_cols=SelectKBest(mutual_info_classif,k=10)\n",
    "sel_ten_cols.fit(X_res,y_res)\n",
    "X.columns[sel_ten_cols.get_support()]"
   ]
  },
  {
   "cell_type": "code",
   "execution_count": null,
   "id": "39b0d549",
   "metadata": {},
   "outputs": [],
   "source": [
    "from sklearn.model_selection import StratifiedKFold\n",
    "from sklearn.model_selection import cross_val_score \n",
    "skfold=StratifiedKFold(n_splits=10)\n",
    "model=DecisionTree()\n",
    "scores=cross_val_score(model,X,y,cv=skfold)\n",
    "np.mean(scores)"
   ]
  },
  {
   "cell_type": "code",
   "execution_count": 450,
   "id": "3c5b9e21",
   "metadata": {},
   "outputs": [],
   "source": [
    "resamp=pd.concat([X_res,y_res],axis=1)"
   ]
  },
  {
   "cell_type": "code",
   "execution_count": 459,
   "id": "697e38e7",
   "metadata": {},
   "outputs": [],
   "source": [
    "resamp.to_csv('resamp.csv',index=False)"
   ]
  },
  {
   "cell_type": "code",
   "execution_count": 460,
   "id": "905ddd56",
   "metadata": {},
   "outputs": [
    {
     "data": {
      "text/html": [
       "<div>\n",
       "<style scoped>\n",
       "    .dataframe tbody tr th:only-of-type {\n",
       "        vertical-align: middle;\n",
       "    }\n",
       "\n",
       "    .dataframe tbody tr th {\n",
       "        vertical-align: top;\n",
       "    }\n",
       "\n",
       "    .dataframe thead th {\n",
       "        text-align: right;\n",
       "    }\n",
       "</style>\n",
       "<table border=\"1\" class=\"dataframe\">\n",
       "  <thead>\n",
       "    <tr style=\"text-align: right;\">\n",
       "      <th></th>\n",
       "      <th>Age</th>\n",
       "      <th>No_Pol</th>\n",
       "      <th>Pol_start</th>\n",
       "      <th>Pol_end</th>\n",
       "      <th>Sub-time</th>\n",
       "      <th>Gender_Male</th>\n",
       "      <th>Gender_Female</th>\n",
       "      <th>Gender_Rare</th>\n",
       "      <th>Car_Category_Saloon</th>\n",
       "      <th>Car_Category_Missing</th>\n",
       "      <th>...</th>\n",
       "      <th>State_Missing</th>\n",
       "      <th>State_Lagos</th>\n",
       "      <th>State_Rare</th>\n",
       "      <th>State_Benue</th>\n",
       "      <th>State_Abuja-Municipal</th>\n",
       "      <th>State_Eti-Osa</th>\n",
       "      <th>ProductName_Car Classic</th>\n",
       "      <th>ProductName_CarSafe</th>\n",
       "      <th>ProductName_Rare</th>\n",
       "      <th>target</th>\n",
       "    </tr>\n",
       "  </thead>\n",
       "  <tbody>\n",
       "    <tr>\n",
       "      <th>0</th>\n",
       "      <td>30.0</td>\n",
       "      <td>1</td>\n",
       "      <td>2010</td>\n",
       "      <td>2011</td>\n",
       "      <td>364</td>\n",
       "      <td>1</td>\n",
       "      <td>0</td>\n",
       "      <td>0</td>\n",
       "      <td>1</td>\n",
       "      <td>0</td>\n",
       "      <td>...</td>\n",
       "      <td>1</td>\n",
       "      <td>0</td>\n",
       "      <td>0</td>\n",
       "      <td>0</td>\n",
       "      <td>0</td>\n",
       "      <td>0</td>\n",
       "      <td>1</td>\n",
       "      <td>0</td>\n",
       "      <td>0</td>\n",
       "      <td>0</td>\n",
       "    </tr>\n",
       "    <tr>\n",
       "      <th>1</th>\n",
       "      <td>75.5</td>\n",
       "      <td>1</td>\n",
       "      <td>2010</td>\n",
       "      <td>2011</td>\n",
       "      <td>364</td>\n",
       "      <td>0</td>\n",
       "      <td>1</td>\n",
       "      <td>0</td>\n",
       "      <td>0</td>\n",
       "      <td>0</td>\n",
       "      <td>...</td>\n",
       "      <td>1</td>\n",
       "      <td>0</td>\n",
       "      <td>0</td>\n",
       "      <td>0</td>\n",
       "      <td>0</td>\n",
       "      <td>0</td>\n",
       "      <td>1</td>\n",
       "      <td>0</td>\n",
       "      <td>0</td>\n",
       "      <td>1</td>\n",
       "    </tr>\n",
       "    <tr>\n",
       "      <th>2</th>\n",
       "      <td>43.0</td>\n",
       "      <td>1</td>\n",
       "      <td>2010</td>\n",
       "      <td>2011</td>\n",
       "      <td>364</td>\n",
       "      <td>1</td>\n",
       "      <td>0</td>\n",
       "      <td>0</td>\n",
       "      <td>1</td>\n",
       "      <td>0</td>\n",
       "      <td>...</td>\n",
       "      <td>1</td>\n",
       "      <td>0</td>\n",
       "      <td>0</td>\n",
       "      <td>0</td>\n",
       "      <td>0</td>\n",
       "      <td>0</td>\n",
       "      <td>1</td>\n",
       "      <td>0</td>\n",
       "      <td>0</td>\n",
       "      <td>0</td>\n",
       "    </tr>\n",
       "    <tr>\n",
       "      <th>3</th>\n",
       "      <td>7.5</td>\n",
       "      <td>1</td>\n",
       "      <td>2010</td>\n",
       "      <td>2011</td>\n",
       "      <td>364</td>\n",
       "      <td>1</td>\n",
       "      <td>0</td>\n",
       "      <td>0</td>\n",
       "      <td>0</td>\n",
       "      <td>1</td>\n",
       "      <td>...</td>\n",
       "      <td>1</td>\n",
       "      <td>0</td>\n",
       "      <td>0</td>\n",
       "      <td>0</td>\n",
       "      <td>0</td>\n",
       "      <td>0</td>\n",
       "      <td>0</td>\n",
       "      <td>1</td>\n",
       "      <td>0</td>\n",
       "      <td>0</td>\n",
       "    </tr>\n",
       "    <tr>\n",
       "      <th>4</th>\n",
       "      <td>20.0</td>\n",
       "      <td>3</td>\n",
       "      <td>2010</td>\n",
       "      <td>2010</td>\n",
       "      <td>124</td>\n",
       "      <td>0</td>\n",
       "      <td>0</td>\n",
       "      <td>1</td>\n",
       "      <td>0</td>\n",
       "      <td>1</td>\n",
       "      <td>...</td>\n",
       "      <td>0</td>\n",
       "      <td>1</td>\n",
       "      <td>0</td>\n",
       "      <td>0</td>\n",
       "      <td>0</td>\n",
       "      <td>0</td>\n",
       "      <td>0</td>\n",
       "      <td>0</td>\n",
       "      <td>1</td>\n",
       "      <td>1</td>\n",
       "    </tr>\n",
       "  </tbody>\n",
       "</table>\n",
       "<p>5 rows × 41 columns</p>\n",
       "</div>"
      ],
      "text/plain": [
       "    Age  No_Pol  Pol_start  Pol_end  Sub-time  Gender_Male  Gender_Female  \\\n",
       "0  30.0       1       2010     2011       364            1              0   \n",
       "1  75.5       1       2010     2011       364            0              1   \n",
       "2  43.0       1       2010     2011       364            1              0   \n",
       "3   7.5       1       2010     2011       364            1              0   \n",
       "4  20.0       3       2010     2010       124            0              0   \n",
       "\n",
       "   Gender_Rare  Car_Category_Saloon  Car_Category_Missing  ...  State_Missing  \\\n",
       "0            0                    1                     0  ...              1   \n",
       "1            0                    0                     0  ...              1   \n",
       "2            0                    1                     0  ...              1   \n",
       "3            0                    0                     1  ...              1   \n",
       "4            1                    0                     1  ...              0   \n",
       "\n",
       "   State_Lagos  State_Rare  State_Benue  State_Abuja-Municipal  State_Eti-Osa  \\\n",
       "0            0           0            0                      0              0   \n",
       "1            0           0            0                      0              0   \n",
       "2            0           0            0                      0              0   \n",
       "3            0           0            0                      0              0   \n",
       "4            1           0            0                      0              0   \n",
       "\n",
       "   ProductName_Car Classic  ProductName_CarSafe  ProductName_Rare  target  \n",
       "0                        1                    0                 0       0  \n",
       "1                        1                    0                 0       1  \n",
       "2                        1                    0                 0       0  \n",
       "3                        0                    1                 0       0  \n",
       "4                        0                    0                 1       1  \n",
       "\n",
       "[5 rows x 41 columns]"
      ]
     },
     "execution_count": 460,
     "metadata": {},
     "output_type": "execute_result"
    }
   ],
   "source": [
    "resamp.head()"
   ]
  },
  {
   "cell_type": "code",
   "execution_count": 477,
   "id": "2eac26b1",
   "metadata": {},
   "outputs": [
    {
     "data": {
      "text/plain": [
       "0    16138\n",
       "1     5110\n",
       "Name: ProductName_Rare, dtype: int64"
      ]
     },
     "execution_count": 477,
     "metadata": {},
     "output_type": "execute_result"
    }
   ],
   "source": [
    "resamp['ProductName_Rare'].value_counts()"
   ]
  },
  {
   "cell_type": "code",
   "execution_count": null,
   "id": "17fa5daf",
   "metadata": {},
   "outputs": [],
   "source": []
  }
 ],
 "metadata": {
  "kernelspec": {
   "display_name": "Python 3 (ipykernel)",
   "language": "python",
   "name": "python3"
  },
  "language_info": {
   "codemirror_mode": {
    "name": "ipython",
    "version": 3
   },
   "file_extension": ".py",
   "mimetype": "text/x-python",
   "name": "python",
   "nbconvert_exporter": "python",
   "pygments_lexer": "ipython3",
   "version": "3.7.16"
  }
 },
 "nbformat": 4,
 "nbformat_minor": 5
}
